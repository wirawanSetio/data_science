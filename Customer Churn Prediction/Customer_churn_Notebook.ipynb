{
 "cells": [
  {
   "cell_type": "markdown",
   "metadata": {},
   "source": [
    "# I. Introduction "
   ]
  },
  {
   "cell_type": "markdown",
   "metadata": {},
   "source": [
    "**Identity**\n",
    "\n",
    "Wirawan Setio Aji <br>\n",
    "BATCH-14 "
   ]
  },
  {
   "cell_type": "markdown",
   "metadata": {},
   "source": [
    "**Dataset**\n",
    "\n",
    "Dataset Ini diperoleh dari [kaggle](https://www.kaggle.com/datasets/blastchar/telco-customer-churn)\n",
    "\n",
    "\n",
    "This is a  Telco Company Customer dataset those customer who use Telco Phone, Internet service and Online Securities service.\n",
    "\n",
    "data description :\n",
    "\n",
    "- `customerID`, id of each customer\n",
    "- `gender` : whether customer is Male or Female.\n",
    "- `SeniorCitizen` : is customer age is > 65 years old ? (1:yes,0:no).\n",
    "- `Prtner` : is customer married ? (yes,no)\n",
    "- `Dependant` : is costumer financially independent? (yes,no).\n",
    "- `tenure` : how long customer being a Telco's customer in months\n",
    "- `PhoneServices` : is customer using phone service.\n",
    "- `MultipleLines` : is customer has multiple phone line from Telco ? (Yes, No, No phone service)\n",
    "- `InternetService` : what service customer using for internet service ? (DSL, Fiber optic, No)\n",
    "- `OnlineSecurity` : is customer using online security service (Yes, No, No internet service)\n",
    "- `OnlineBackup` : is customer subscribe to online backup service ?(yes,no)\n",
    "- `DeviceProtection` : is customer subscribe to device protection\n",
    "- `TechSupport` : is customer subscribe to tech support plan  \n",
    "- `StreamingTV` : is customer subscribe to TV streaming\n",
    "- `StreamingMovies` : is customer subscribe to movies streaming\n",
    "- `PaperlessBilling` : is customer choose to paperless bill ?\n",
    "- `PaymentMethod` : method that customer use to paid the bills\n",
    "- `MonthlyCharges` : current monthly customer bill\n",
    "- `TotalCharges` : total customer bills.\n",
    "- `Churn` : is customer leaving the Telco Service (yes:leave, no:stay)"
   ]
  },
  {
   "cell_type": "markdown",
   "metadata": {},
   "source": [
    "**Objective**\n",
    "\n",
    "make prediction of customer `churn` status using **ANN** deep learning algorithm.\n",
    "\n",
    "churn status is a status for customer who stop using Telco service, or generally stop being Telco's customer.\n"
   ]
  },
  {
   "cell_type": "markdown",
   "metadata": {},
   "source": [
    "# II. Import Libraries\n",
    "\n",
    "all libraries that use in this project."
   ]
  },
  {
   "cell_type": "code",
   "execution_count": 1,
   "metadata": {},
   "outputs": [
    {
     "ename": "ImportError",
     "evalue": "cannot import name 'multi_worker_mirrored_2x1_gpu_noshare' from 'tensorflow.python.distribute.strategy_combinations' (c:\\Users\\ajies\\anaconda3\\lib\\site-packages\\tensorflow\\python\\distribute\\strategy_combinations.py)",
     "output_type": "error",
     "traceback": [
      "\u001b[1;31m---------------------------------------------------------------------------\u001b[0m",
      "\u001b[1;31mImportError\u001b[0m                               Traceback (most recent call last)",
      "\u001b[1;32mc:\\Users\\ajies\\OneDrive\\Documents\\Bootcamp\\Programming_Python\\Assignment\\phase_2\\p2---ftds014---m1-wirawanSetio\\h8dsft_Milestone1P2_wirawan_setio_aji.ipynb Cell 6\u001b[0m in \u001b[0;36m<cell line: 26>\u001b[1;34m()\u001b[0m\n\u001b[0;32m     <a href='vscode-notebook-cell:/c%3A/Users/ajies/OneDrive/Documents/Bootcamp/Programming_Python/Assignment/phase_2/p2---ftds014---m1-wirawanSetio/h8dsft_Milestone1P2_wirawan_setio_aji.ipynb#W5sZmlsZQ%3D%3D?line=23'>24</a>\u001b[0m \u001b[39mfrom\u001b[39;00m \u001b[39mimblearn\u001b[39;00m\u001b[39m.\u001b[39;00m\u001b[39mover_sampling\u001b[39;00m \u001b[39mimport\u001b[39;00m SMOTE,SMOTENC\n\u001b[0;32m     <a href='vscode-notebook-cell:/c%3A/Users/ajies/OneDrive/Documents/Bootcamp/Programming_Python/Assignment/phase_2/p2---ftds014---m1-wirawanSetio/h8dsft_Milestone1P2_wirawan_setio_aji.ipynb#W5sZmlsZQ%3D%3D?line=24'>25</a>\u001b[0m \u001b[39m# Modelling \u001b[39;00m\n\u001b[1;32m---> <a href='vscode-notebook-cell:/c%3A/Users/ajies/OneDrive/Documents/Bootcamp/Programming_Python/Assignment/phase_2/p2---ftds014---m1-wirawanSetio/h8dsft_Milestone1P2_wirawan_setio_aji.ipynb#W5sZmlsZQ%3D%3D?line=25'>26</a>\u001b[0m \u001b[39mimport\u001b[39;00m \u001b[39mtensorflow\u001b[39;00m \u001b[39mas\u001b[39;00m \u001b[39mtf\u001b[39;00m\n\u001b[0;32m     <a href='vscode-notebook-cell:/c%3A/Users/ajies/OneDrive/Documents/Bootcamp/Programming_Python/Assignment/phase_2/p2---ftds014---m1-wirawanSetio/h8dsft_Milestone1P2_wirawan_setio_aji.ipynb#W5sZmlsZQ%3D%3D?line=26'>27</a>\u001b[0m \u001b[39mfrom\u001b[39;00m \u001b[39mtensorflow\u001b[39;00m \u001b[39mimport\u001b[39;00m keras\n\u001b[0;32m     <a href='vscode-notebook-cell:/c%3A/Users/ajies/OneDrive/Documents/Bootcamp/Programming_Python/Assignment/phase_2/p2---ftds014---m1-wirawanSetio/h8dsft_Milestone1P2_wirawan_setio_aji.ipynb#W5sZmlsZQ%3D%3D?line=28'>29</a>\u001b[0m \u001b[39m# Model Evaluation\u001b[39;00m\n",
      "File \u001b[1;32mc:\\Users\\ajies\\anaconda3\\lib\\site-packages\\tensorflow\\__init__.py:45\u001b[0m, in \u001b[0;36m<module>\u001b[1;34m\u001b[0m\n\u001b[0;32m     42\u001b[0m \u001b[39mfrom\u001b[39;00m \u001b[39mtensorflow\u001b[39;00m\u001b[39m.\u001b[39;00m\u001b[39mpython\u001b[39;00m \u001b[39mimport\u001b[39;00m tf2 \u001b[39mas\u001b[39;00m _tf2\n\u001b[0;32m     43\u001b[0m _tf2\u001b[39m.\u001b[39menable()\n\u001b[1;32m---> 45\u001b[0m \u001b[39mfrom\u001b[39;00m \u001b[39m.\u001b[39;00m\u001b[39m_api\u001b[39;00m\u001b[39m.\u001b[39;00m\u001b[39mv2\u001b[39;00m \u001b[39mimport\u001b[39;00m __internal__\n\u001b[0;32m     46\u001b[0m \u001b[39mfrom\u001b[39;00m \u001b[39m.\u001b[39;00m\u001b[39m_api\u001b[39;00m\u001b[39m.\u001b[39;00m\u001b[39mv2\u001b[39;00m \u001b[39mimport\u001b[39;00m __operators__\n\u001b[0;32m     47\u001b[0m \u001b[39mfrom\u001b[39;00m \u001b[39m.\u001b[39;00m\u001b[39m_api\u001b[39;00m\u001b[39m.\u001b[39;00m\u001b[39mv2\u001b[39;00m \u001b[39mimport\u001b[39;00m audio\n",
      "File \u001b[1;32mc:\\Users\\ajies\\anaconda3\\lib\\site-packages\\tensorflow\\_api\\v2\\__internal__\\__init__.py:11\u001b[0m, in \u001b[0;36m<module>\u001b[1;34m\u001b[0m\n\u001b[0;32m      9\u001b[0m \u001b[39mfrom\u001b[39;00m \u001b[39m.\u001b[39;00m \u001b[39mimport\u001b[39;00m decorator\n\u001b[0;32m     10\u001b[0m \u001b[39mfrom\u001b[39;00m \u001b[39m.\u001b[39;00m \u001b[39mimport\u001b[39;00m dispatch\n\u001b[1;32m---> 11\u001b[0m \u001b[39mfrom\u001b[39;00m \u001b[39m.\u001b[39;00m \u001b[39mimport\u001b[39;00m distribute\n\u001b[0;32m     12\u001b[0m \u001b[39mfrom\u001b[39;00m \u001b[39m.\u001b[39;00m \u001b[39mimport\u001b[39;00m eager_context\n\u001b[0;32m     13\u001b[0m \u001b[39mfrom\u001b[39;00m \u001b[39m.\u001b[39;00m \u001b[39mimport\u001b[39;00m feature_column\n",
      "File \u001b[1;32mc:\\Users\\ajies\\anaconda3\\lib\\site-packages\\tensorflow\\_api\\v2\\__internal__\\distribute\\__init__.py:8\u001b[0m, in \u001b[0;36m<module>\u001b[1;34m\u001b[0m\n\u001b[0;32m      3\u001b[0m \u001b[39m\"\"\"Public API for tf.__internal__.distribute namespace.\u001b[39;00m\n\u001b[0;32m      4\u001b[0m \u001b[39m\"\"\"\u001b[39;00m\n\u001b[0;32m      6\u001b[0m \u001b[39mimport\u001b[39;00m \u001b[39msys\u001b[39;00m \u001b[39mas\u001b[39;00m \u001b[39m_sys\u001b[39;00m\n\u001b[1;32m----> 8\u001b[0m \u001b[39mfrom\u001b[39;00m \u001b[39m.\u001b[39;00m \u001b[39mimport\u001b[39;00m combinations\n\u001b[0;32m      9\u001b[0m \u001b[39mfrom\u001b[39;00m \u001b[39m.\u001b[39;00m \u001b[39mimport\u001b[39;00m interim\n\u001b[0;32m     10\u001b[0m \u001b[39mfrom\u001b[39;00m \u001b[39m.\u001b[39;00m \u001b[39mimport\u001b[39;00m multi_process_runner\n",
      "File \u001b[1;32mc:\\Users\\ajies\\anaconda3\\lib\\site-packages\\tensorflow\\_api\\v2\\__internal__\\distribute\\combinations\\__init__.py:23\u001b[0m, in \u001b[0;36m<module>\u001b[1;34m\u001b[0m\n\u001b[0;32m     21\u001b[0m \u001b[39mfrom\u001b[39;00m \u001b[39mtensorflow\u001b[39;00m\u001b[39m.\u001b[39;00m\u001b[39mpython\u001b[39;00m\u001b[39m.\u001b[39;00m\u001b[39mdistribute\u001b[39;00m\u001b[39m.\u001b[39;00m\u001b[39mstrategy_combinations\u001b[39;00m \u001b[39mimport\u001b[39;00m multi_worker_mirrored_2x1_cpu\n\u001b[0;32m     22\u001b[0m \u001b[39mfrom\u001b[39;00m \u001b[39mtensorflow\u001b[39;00m\u001b[39m.\u001b[39;00m\u001b[39mpython\u001b[39;00m\u001b[39m.\u001b[39;00m\u001b[39mdistribute\u001b[39;00m\u001b[39m.\u001b[39;00m\u001b[39mstrategy_combinations\u001b[39;00m \u001b[39mimport\u001b[39;00m multi_worker_mirrored_2x1_gpu\n\u001b[1;32m---> 23\u001b[0m \u001b[39mfrom\u001b[39;00m \u001b[39mtensorflow\u001b[39;00m\u001b[39m.\u001b[39;00m\u001b[39mpython\u001b[39;00m\u001b[39m.\u001b[39;00m\u001b[39mdistribute\u001b[39;00m\u001b[39m.\u001b[39;00m\u001b[39mstrategy_combinations\u001b[39;00m \u001b[39mimport\u001b[39;00m multi_worker_mirrored_2x1_gpu_noshare\n\u001b[0;32m     24\u001b[0m \u001b[39mfrom\u001b[39;00m \u001b[39mtensorflow\u001b[39;00m\u001b[39m.\u001b[39;00m\u001b[39mpython\u001b[39;00m\u001b[39m.\u001b[39;00m\u001b[39mdistribute\u001b[39;00m\u001b[39m.\u001b[39;00m\u001b[39mstrategy_combinations\u001b[39;00m \u001b[39mimport\u001b[39;00m multi_worker_mirrored_2x2_gpu\n\u001b[0;32m     25\u001b[0m \u001b[39mfrom\u001b[39;00m \u001b[39mtensorflow\u001b[39;00m\u001b[39m.\u001b[39;00m\u001b[39mpython\u001b[39;00m\u001b[39m.\u001b[39;00m\u001b[39mdistribute\u001b[39;00m\u001b[39m.\u001b[39;00m\u001b[39mstrategy_combinations\u001b[39;00m \u001b[39mimport\u001b[39;00m multi_worker_mirrored_2x2_gpu_no_merge_call\n",
      "\u001b[1;31mImportError\u001b[0m: cannot import name 'multi_worker_mirrored_2x1_gpu_noshare' from 'tensorflow.python.distribute.strategy_combinations' (c:\\Users\\ajies\\anaconda3\\lib\\site-packages\\tensorflow\\python\\distribute\\strategy_combinations.py)"
     ]
    }
   ],
   "source": [
    "import pandas as pd # Data flow\n",
    "pd.set_option(\"display.max.columns\",None) # display all columns\n",
    "import numpy as np # algebra linear\n",
    "%load_ext autoreload\n",
    "\n",
    "%autoreload 2\n",
    "# Data Visual\n",
    "import seaborn as sns\n",
    "import matplotlib.pyplot as plt\n",
    "from matplotlib import rcParams\n",
    "import matplotlib as mpl\n",
    "from sklearn.metrics import silhouette_samples\n",
    "from matplotlib.ticker import FixedLocator, FixedFormatter\n",
    "\n",
    " # outliers sencoring\n",
    "from outliermod import skewness,outliersCheck,outlier_graph,censoring_outliers\n",
    "\n",
    "# Preprocessing\n",
    "from sklearn.model_selection import train_test_split\n",
    "from sklearn.preprocessing import StandardScaler,OneHotEncoder,OrdinalEncoder\n",
    "from sklearn.pipeline import make_pipeline\n",
    "from sklearn.compose import ColumnTransformer\n",
    "\n",
    "from imblearn.over_sampling import SMOTE,SMOTENC\n",
    "# Modelling \n",
    "import tensorflow as tf\n",
    "from tensorflow import keras\n",
    "\n",
    "# Model Evaluation\n",
    "from sklearn.metrics import ConfusionMatrixDisplay,confusion_matrix,classification_report\n",
    "\n",
    "#saving model\n",
    "import pickle\n",
    "import json\n",
    "import requests"
   ]
  },
  {
   "cell_type": "markdown",
   "metadata": {},
   "source": [
    "# III. Data Loading\n",
    "This is the Data loading section where data will be **load** and **saved in memory as dataframe** "
   ]
  },
  {
   "cell_type": "code",
   "execution_count": null,
   "metadata": {},
   "outputs": [
    {
     "data": {
      "text/html": [
       "<div>\n",
       "<style scoped>\n",
       "    .dataframe tbody tr th:only-of-type {\n",
       "        vertical-align: middle;\n",
       "    }\n",
       "\n",
       "    .dataframe tbody tr th {\n",
       "        vertical-align: top;\n",
       "    }\n",
       "\n",
       "    .dataframe thead th {\n",
       "        text-align: right;\n",
       "    }\n",
       "</style>\n",
       "<table border=\"1\" class=\"dataframe\">\n",
       "  <thead>\n",
       "    <tr style=\"text-align: right;\">\n",
       "      <th></th>\n",
       "      <th>customerID</th>\n",
       "      <th>gender</th>\n",
       "      <th>SeniorCitizen</th>\n",
       "      <th>Partner</th>\n",
       "      <th>Dependents</th>\n",
       "      <th>tenure</th>\n",
       "      <th>PhoneService</th>\n",
       "      <th>MultipleLines</th>\n",
       "      <th>InternetService</th>\n",
       "      <th>OnlineSecurity</th>\n",
       "      <th>OnlineBackup</th>\n",
       "      <th>DeviceProtection</th>\n",
       "      <th>TechSupport</th>\n",
       "      <th>StreamingTV</th>\n",
       "      <th>StreamingMovies</th>\n",
       "      <th>Contract</th>\n",
       "      <th>PaperlessBilling</th>\n",
       "      <th>PaymentMethod</th>\n",
       "      <th>MonthlyCharges</th>\n",
       "      <th>TotalCharges</th>\n",
       "      <th>Churn</th>\n",
       "    </tr>\n",
       "  </thead>\n",
       "  <tbody>\n",
       "    <tr>\n",
       "      <th>0</th>\n",
       "      <td>7590-VHVEG</td>\n",
       "      <td>Female</td>\n",
       "      <td>0</td>\n",
       "      <td>Yes</td>\n",
       "      <td>No</td>\n",
       "      <td>1</td>\n",
       "      <td>No</td>\n",
       "      <td>No phone service</td>\n",
       "      <td>DSL</td>\n",
       "      <td>No</td>\n",
       "      <td>Yes</td>\n",
       "      <td>No</td>\n",
       "      <td>No</td>\n",
       "      <td>No</td>\n",
       "      <td>No</td>\n",
       "      <td>Month-to-month</td>\n",
       "      <td>Yes</td>\n",
       "      <td>Electronic check</td>\n",
       "      <td>29.85</td>\n",
       "      <td>29.85</td>\n",
       "      <td>No</td>\n",
       "    </tr>\n",
       "    <tr>\n",
       "      <th>1</th>\n",
       "      <td>5575-GNVDE</td>\n",
       "      <td>Male</td>\n",
       "      <td>0</td>\n",
       "      <td>No</td>\n",
       "      <td>No</td>\n",
       "      <td>34</td>\n",
       "      <td>Yes</td>\n",
       "      <td>No</td>\n",
       "      <td>DSL</td>\n",
       "      <td>Yes</td>\n",
       "      <td>No</td>\n",
       "      <td>Yes</td>\n",
       "      <td>No</td>\n",
       "      <td>No</td>\n",
       "      <td>No</td>\n",
       "      <td>One year</td>\n",
       "      <td>No</td>\n",
       "      <td>Mailed check</td>\n",
       "      <td>56.95</td>\n",
       "      <td>1889.50</td>\n",
       "      <td>No</td>\n",
       "    </tr>\n",
       "    <tr>\n",
       "      <th>2</th>\n",
       "      <td>3668-QPYBK</td>\n",
       "      <td>Male</td>\n",
       "      <td>0</td>\n",
       "      <td>No</td>\n",
       "      <td>No</td>\n",
       "      <td>2</td>\n",
       "      <td>Yes</td>\n",
       "      <td>No</td>\n",
       "      <td>DSL</td>\n",
       "      <td>Yes</td>\n",
       "      <td>Yes</td>\n",
       "      <td>No</td>\n",
       "      <td>No</td>\n",
       "      <td>No</td>\n",
       "      <td>No</td>\n",
       "      <td>Month-to-month</td>\n",
       "      <td>Yes</td>\n",
       "      <td>Mailed check</td>\n",
       "      <td>53.85</td>\n",
       "      <td>108.15</td>\n",
       "      <td>Yes</td>\n",
       "    </tr>\n",
       "    <tr>\n",
       "      <th>3</th>\n",
       "      <td>7795-CFOCW</td>\n",
       "      <td>Male</td>\n",
       "      <td>0</td>\n",
       "      <td>No</td>\n",
       "      <td>No</td>\n",
       "      <td>45</td>\n",
       "      <td>No</td>\n",
       "      <td>No phone service</td>\n",
       "      <td>DSL</td>\n",
       "      <td>Yes</td>\n",
       "      <td>No</td>\n",
       "      <td>Yes</td>\n",
       "      <td>Yes</td>\n",
       "      <td>No</td>\n",
       "      <td>No</td>\n",
       "      <td>One year</td>\n",
       "      <td>No</td>\n",
       "      <td>Bank transfer (automatic)</td>\n",
       "      <td>42.30</td>\n",
       "      <td>1840.75</td>\n",
       "      <td>No</td>\n",
       "    </tr>\n",
       "    <tr>\n",
       "      <th>4</th>\n",
       "      <td>9237-HQITU</td>\n",
       "      <td>Female</td>\n",
       "      <td>0</td>\n",
       "      <td>No</td>\n",
       "      <td>No</td>\n",
       "      <td>2</td>\n",
       "      <td>Yes</td>\n",
       "      <td>No</td>\n",
       "      <td>Fiber optic</td>\n",
       "      <td>No</td>\n",
       "      <td>No</td>\n",
       "      <td>No</td>\n",
       "      <td>No</td>\n",
       "      <td>No</td>\n",
       "      <td>No</td>\n",
       "      <td>Month-to-month</td>\n",
       "      <td>Yes</td>\n",
       "      <td>Electronic check</td>\n",
       "      <td>70.70</td>\n",
       "      <td>151.65</td>\n",
       "      <td>Yes</td>\n",
       "    </tr>\n",
       "  </tbody>\n",
       "</table>\n",
       "</div>"
      ],
      "text/plain": [
       "   customerID  gender  SeniorCitizen Partner Dependents  tenure PhoneService  \\\n",
       "0  7590-VHVEG  Female              0     Yes         No       1           No   \n",
       "1  5575-GNVDE    Male              0      No         No      34          Yes   \n",
       "2  3668-QPYBK    Male              0      No         No       2          Yes   \n",
       "3  7795-CFOCW    Male              0      No         No      45           No   \n",
       "4  9237-HQITU  Female              0      No         No       2          Yes   \n",
       "\n",
       "      MultipleLines InternetService OnlineSecurity OnlineBackup  \\\n",
       "0  No phone service             DSL             No          Yes   \n",
       "1                No             DSL            Yes           No   \n",
       "2                No             DSL            Yes          Yes   \n",
       "3  No phone service             DSL            Yes           No   \n",
       "4                No     Fiber optic             No           No   \n",
       "\n",
       "  DeviceProtection TechSupport StreamingTV StreamingMovies        Contract  \\\n",
       "0               No          No          No              No  Month-to-month   \n",
       "1              Yes          No          No              No        One year   \n",
       "2               No          No          No              No  Month-to-month   \n",
       "3              Yes         Yes          No              No        One year   \n",
       "4               No          No          No              No  Month-to-month   \n",
       "\n",
       "  PaperlessBilling              PaymentMethod  MonthlyCharges  TotalCharges  \\\n",
       "0              Yes           Electronic check           29.85         29.85   \n",
       "1               No               Mailed check           56.95       1889.50   \n",
       "2              Yes               Mailed check           53.85        108.15   \n",
       "3               No  Bank transfer (automatic)           42.30       1840.75   \n",
       "4              Yes           Electronic check           70.70        151.65   \n",
       "\n",
       "  Churn  \n",
       "0    No  \n",
       "1    No  \n",
       "2   Yes  \n",
       "3    No  \n",
       "4   Yes  "
      ]
     },
     "execution_count": 127,
     "metadata": {},
     "output_type": "execute_result"
    }
   ],
   "source": [
    "df_telco = pd.read_csv(\"./WA_Fn-UseC_-Telco-Customer-Churn.csv\", na_values=[\" \"])\n",
    "df_telco.head()"
   ]
  },
  {
   "cell_type": "markdown",
   "metadata": {},
   "source": [
    "use **pandas** library to load **.csv** data into **dataframe**"
   ]
  },
  {
   "cell_type": "markdown",
   "metadata": {},
   "source": [
    "## Dataframe Info "
   ]
  },
  {
   "cell_type": "markdown",
   "metadata": {},
   "source": [
    "see the dimension of the dataframe"
   ]
  },
  {
   "cell_type": "code",
   "execution_count": null,
   "metadata": {},
   "outputs": [
    {
     "name": "stdout",
     "output_type": "stream",
     "text": [
      "<class 'pandas.core.frame.DataFrame'>\n",
      "RangeIndex: 7043 entries, 0 to 7042\n",
      "Data columns (total 21 columns):\n",
      " #   Column            Non-Null Count  Dtype  \n",
      "---  ------            --------------  -----  \n",
      " 0   customerID        7043 non-null   object \n",
      " 1   gender            7043 non-null   object \n",
      " 2   SeniorCitizen     7043 non-null   int64  \n",
      " 3   Partner           7043 non-null   object \n",
      " 4   Dependents        7043 non-null   object \n",
      " 5   tenure            7043 non-null   int64  \n",
      " 6   PhoneService      7043 non-null   object \n",
      " 7   MultipleLines     7043 non-null   object \n",
      " 8   InternetService   7043 non-null   object \n",
      " 9   OnlineSecurity    7043 non-null   object \n",
      " 10  OnlineBackup      7043 non-null   object \n",
      " 11  DeviceProtection  7043 non-null   object \n",
      " 12  TechSupport       7043 non-null   object \n",
      " 13  StreamingTV       7043 non-null   object \n",
      " 14  StreamingMovies   7043 non-null   object \n",
      " 15  Contract          7043 non-null   object \n",
      " 16  PaperlessBilling  7043 non-null   object \n",
      " 17  PaymentMethod     7043 non-null   object \n",
      " 18  MonthlyCharges    7043 non-null   float64\n",
      " 19  TotalCharges      7032 non-null   float64\n",
      " 20  Churn             7043 non-null   object \n",
      "dtypes: float64(2), int64(2), object(17)\n",
      "memory usage: 1.1+ MB\n"
     ]
    }
   ],
   "source": [
    "df_telco.info()"
   ]
  },
  {
   "cell_type": "markdown",
   "metadata": {},
   "source": [
    "dataframe have **7043 rows** and **21 column**.\n",
    "\n",
    "and there is **missing values** at `TotalCharge` columns. if we read carefully `TotalCharge` is might a **numeric** data (not a string/object data)\n",
    "\n"
   ]
  },
  {
   "cell_type": "code",
   "execution_count": null,
   "metadata": {},
   "outputs": [
    {
     "name": "stdout",
     "output_type": "stream",
     "text": [
      "Total Missing value at Total Charge is 11\n"
     ]
    }
   ],
   "source": [
    "print(\"Total Missing value at Total Charge is\",df_telco['TotalCharges'].isna().sum())"
   ]
  },
  {
   "cell_type": "markdown",
   "metadata": {},
   "source": [
    "`TotalCharge` has 11 missing values"
   ]
  },
  {
   "cell_type": "markdown",
   "metadata": {},
   "source": [
    "## Check Data Unique Values"
   ]
  },
  {
   "cell_type": "markdown",
   "metadata": {},
   "source": [
    "evaluate if there is an uncomon **numeric data type** from its unique values, or numeric that has categorical form."
   ]
  },
  {
   "cell_type": "code",
   "execution_count": null,
   "metadata": {},
   "outputs": [
    {
     "name": "stdout",
     "output_type": "stream",
     "text": [
      "unique ratio customerID : 1.0\n",
      "unique ratio gender : 0.0002839698991906858\n",
      "unique ratio SeniorCitizen : 0.0002839698991906858\n",
      "unique ratio Partner : 0.0002839698991906858\n",
      "unique ratio Dependents : 0.0002839698991906858\n",
      "unique ratio tenure : 0.010364901320460031\n",
      "unique ratio PhoneService : 0.0002839698991906858\n",
      "unique ratio MultipleLines : 0.0004259548487860287\n",
      "unique ratio InternetService : 0.0004259548487860287\n",
      "unique ratio OnlineSecurity : 0.0004259548487860287\n",
      "unique ratio OnlineBackup : 0.0004259548487860287\n",
      "unique ratio DeviceProtection : 0.0004259548487860287\n",
      "unique ratio TechSupport : 0.0004259548487860287\n",
      "unique ratio StreamingTV : 0.0004259548487860287\n",
      "unique ratio StreamingMovies : 0.0004259548487860287\n",
      "unique ratio Contract : 0.0004259548487860287\n",
      "unique ratio PaperlessBilling : 0.0002839698991906858\n",
      "unique ratio PaymentMethod : 0.0005679397983813716\n",
      "unique ratio MonthlyCharges : 0.22504614510861848\n",
      "unique ratio TotalCharges : 0.9273037058071845\n",
      "unique ratio Churn : 0.0002839698991906858\n"
     ]
    }
   ],
   "source": [
    "length = len(df_telco)\n",
    "list_col = list(df_telco.columns)\n",
    "list_disc = []\n",
    "def unique_ratio(df,col,length):\n",
    "    return len(df[col].unique()) / length\n",
    "\n",
    "for col in list_col:\n",
    "    rate = unique_ratio(df_telco,col,length)\n",
    "    if rate > 0.01:\n",
    "        list_disc.append(col)\n",
    "    print(\"unique ratio \" + col +\" :\",rate)"
   ]
  },
  {
   "cell_type": "markdown",
   "metadata": {},
   "source": [
    "**mostly** data are **categorical** with nominal characteristics, except for `'customerID', 'tenure', 'MonthlyCharges', 'TotalCharges' `"
   ]
  },
  {
   "cell_type": "code",
   "execution_count": null,
   "metadata": {},
   "outputs": [
    {
     "name": "stdout",
     "output_type": "stream",
     "text": [
      "Column that have wide unique values :  ['customerID', 'tenure', 'MonthlyCharges', 'TotalCharges']\n",
      "['7590-VHVEG' '5575-GNVDE' '3668-QPYBK' ... '4801-JZAZL' '8361-LTMKD'\n",
      " '3186-AJIEK']\n",
      "[ 1 34  2 45  8 22 10 28 62 13 16 58 49 25 69 52 71 21 12 30 47 72 17 27\n",
      "  5 46 11 70 63 43 15 60 18 66  9  3 31 50 64 56  7 42 35 48 29 65 38 68\n",
      " 32 55 37 36 41  6  4 33 67 23 57 61 14 20 53 40 59 24 44 19 54 51 26  0\n",
      " 39]\n",
      "[29.85 56.95 53.85 ... 63.1  44.2  78.7 ]\n",
      "[  29.85 1889.5   108.15 ...  346.45  306.6  6844.5 ]\n"
     ]
    }
   ],
   "source": [
    "print(\"Column that have wide unique values : \",list_disc)\n",
    "for col in list_disc:\n",
    "    print(df_telco[col].unique())"
   ]
  },
  {
   "cell_type": "markdown",
   "metadata": {},
   "source": [
    "`TotalCharges` could be a **numeric** with **float** datatype"
   ]
  },
  {
   "cell_type": "markdown",
   "metadata": {},
   "source": [
    "## Change Column Values"
   ]
  },
  {
   "cell_type": "markdown",
   "metadata": {},
   "source": [
    "in this case convert column of **Total Charge** into float."
   ]
  },
  {
   "cell_type": "code",
   "execution_count": null,
   "metadata": {},
   "outputs": [],
   "source": [
    "df_telco['TotalCharges'] = df_telco['TotalCharges'].astype(float)"
   ]
  },
  {
   "cell_type": "markdown",
   "metadata": {},
   "source": [
    "## Change Column Name\n",
    "\n",
    "in this case **change column name into lower case** of its original columns name, just to make the work less obstacle with typing string mixed upper and lower case inside the columns name."
   ]
  },
  {
   "cell_type": "code",
   "execution_count": null,
   "metadata": {},
   "outputs": [
    {
     "name": "stdout",
     "output_type": "stream",
     "text": [
      "new columns : Index(['customerid', 'gender', 'seniorcitizen', 'partner', 'dependents',\n",
      "       'tenure', 'phoneservice', 'multiplelines', 'internetservice',\n",
      "       'onlinesecurity', 'onlinebackup', 'deviceprotection', 'techsupport',\n",
      "       'streamingtv', 'streamingmovies', 'contract', 'paperlessbilling',\n",
      "       'paymentmethod', 'monthlycharges', 'totalcharges', 'churn'],\n",
      "      dtype='object')\n"
     ]
    }
   ],
   "source": [
    "# list columns name and convert them into lower case\n",
    "# put the result into variable new_column\n",
    "new_columns = [x.lower() for x in df_telco.columns]\n",
    "\n",
    "# set new column into  dataframes column\n",
    "df_telco.columns = new_columns\n",
    "\n",
    "print(\"new columns :\",df_telco.columns)\n"
   ]
  },
  {
   "cell_type": "markdown",
   "metadata": {},
   "source": [
    "# IV. Exploratory Data Analysis (EDA)\n",
    "\n",
    "EDA conducted to **learn the data** deeper, and extracting **Insight** from it"
   ]
  },
  {
   "cell_type": "markdown",
   "metadata": {},
   "source": [
    "## Data Balance"
   ]
  },
  {
   "cell_type": "markdown",
   "metadata": {},
   "source": [
    "see if target data imbalance or not"
   ]
  },
  {
   "cell_type": "code",
   "execution_count": null,
   "metadata": {},
   "outputs": [
    {
     "data": {
      "text/plain": [
       "<AxesSubplot:xlabel='churn', ylabel='count'>"
      ]
     },
     "execution_count": 137,
     "metadata": {},
     "output_type": "execute_result"
    },
    {
     "data": {
      "image/png": "[encoded data removed]",
      "text/plain": [
       "<Figure size 432x288 with 1 Axes>"
      ]
     },
     "metadata": {
      "needs_background": "light"
     },
     "output_type": "display_data"
    }
   ],
   "source": [
    "sns.countplot(data=df_telco,x='churn')"
   ]
  },
  {
   "cell_type": "markdown",
   "metadata": {},
   "source": [
    "Data seems like has not a balance amount of target, `churn` yes has less amount of data.  "
   ]
  },
  {
   "cell_type": "markdown",
   "metadata": {},
   "source": [
    "## Heatmap Correlation"
   ]
  },
  {
   "cell_type": "markdown",
   "metadata": {},
   "source": [
    "look at the numeric data correlation on these columns\n",
    "\n",
    "`'tenure', 'monthlycharges', 'totalcharges'`\n"
   ]
  },
  {
   "cell_type": "code",
   "execution_count": null,
   "metadata": {},
   "outputs": [
    {
     "data": {
      "image/png": "[encoded data removed]",
      "text/plain": [
       "<Figure size 1080x1080 with 2 Axes>"
      ]
     },
     "metadata": {
      "needs_background": "light"
     },
     "output_type": "display_data"
    }
   ],
   "source": [
    "numeric_col = ['tenure', 'monthlycharges', 'totalcharges']\n",
    "\n",
    "fig,ax = plt.subplots(figsize=(15, 15))\n",
    "sns.heatmap(df_telco[numeric_col].corr(),linecolor = \"black\",annot=True, \n",
    "            linewidths=0.5, fmt = '.2f')\n",
    "plt.title(\"Correlations\",fontsize = 18)\n",
    "plt.show()"
   ]
  },
  {
   "cell_type": "markdown",
   "metadata": {},
   "source": [
    "**monthly charge** does gave the **lowest correlation** to the how long the customer been using the Telco services or **tenure** with, but still 0.25 correlation is a good correlation.\n",
    "\n",
    "other than that, the columns are having **correlation** **above .65**"
   ]
  },
  {
   "cell_type": "markdown",
   "metadata": {},
   "source": [
    "## Customer Churn and Customer Tenure"
   ]
  },
  {
   "cell_type": "markdown",
   "metadata": {},
   "source": [
    "see how **loyal** the customer who **leave** the service and **stay** to use the service"
   ]
  },
  {
   "cell_type": "code",
   "execution_count": null,
   "metadata": {},
   "outputs": [],
   "source": [
    "churn_y = df_telco.query(\"churn == 'Yes'\")\n",
    "churn_n = df_telco.query(\"churn == 'No'\")"
   ]
  },
  {
   "cell_type": "code",
   "execution_count": null,
   "metadata": {},
   "outputs": [
    {
     "name": "stderr",
     "output_type": "stream",
     "text": [
      "c:\\Users\\ajies\\anaconda3\\lib\\site-packages\\seaborn\\distributions.py:2619: FutureWarning: `distplot` is a deprecated function and will be removed in a future version. Please adapt your code to use either `displot` (a figure-level function with similar flexibility) or `kdeplot` (an axes-level function for kernel density plots).\n",
      "  warnings.warn(msg, FutureWarning)\n",
      "c:\\Users\\ajies\\anaconda3\\lib\\site-packages\\seaborn\\distributions.py:2103: FutureWarning: The `axis` variable is no longer used and will be removed. Instead, assign variables directly to `x` or `y`.\n",
      "  warnings.warn(msg, FutureWarning)\n",
      "c:\\Users\\ajies\\anaconda3\\lib\\site-packages\\seaborn\\distributions.py:2619: FutureWarning: `distplot` is a deprecated function and will be removed in a future version. Please adapt your code to use either `displot` (a figure-level function with similar flexibility) or `kdeplot` (an axes-level function for kernel density plots).\n",
      "  warnings.warn(msg, FutureWarning)\n",
      "c:\\Users\\ajies\\anaconda3\\lib\\site-packages\\seaborn\\distributions.py:2103: FutureWarning: The `axis` variable is no longer used and will be removed. Instead, assign variables directly to `x` or `y`.\n",
      "  warnings.warn(msg, FutureWarning)\n"
     ]
    },
    {
     "data": {
      "image/png": "[encoded data removed]",
      "text/plain": [
       "<Figure size 432x288 with 1 Axes>"
      ]
     },
     "metadata": {
      "needs_background": "light"
     },
     "output_type": "display_data"
    }
   ],
   "source": [
    "g = sns.distplot(churn_y[['tenure']],label=\"Customer Leaves\", hist=False, rug=True)\n",
    "g = sns.distplot(churn_n[['tenure']],label=\"Customer Stay\", hist=False, rug=True)\n",
    "# plt.setp(g._legend().get_texts(), fontsize=16)\n",
    "plt.legend(fontsize='x-large', title_fontsize='40')\n",
    "plt.show()"
   ]
  },
  {
   "cell_type": "code",
   "execution_count": null,
   "metadata": {},
   "outputs": [
    {
     "data": {
      "text/html": [
       "<div>\n",
       "<style scoped>\n",
       "    .dataframe tbody tr th:only-of-type {\n",
       "        vertical-align: middle;\n",
       "    }\n",
       "\n",
       "    .dataframe tbody tr th {\n",
       "        vertical-align: top;\n",
       "    }\n",
       "\n",
       "    .dataframe thead th {\n",
       "        text-align: right;\n",
       "    }\n",
       "</style>\n",
       "<table border=\"1\" class=\"dataframe\">\n",
       "  <thead>\n",
       "    <tr style=\"text-align: right;\">\n",
       "      <th></th>\n",
       "      <th>seniorcitizen</th>\n",
       "      <th>tenure</th>\n",
       "      <th>monthlycharges</th>\n",
       "      <th>totalcharges</th>\n",
       "    </tr>\n",
       "  </thead>\n",
       "  <tbody>\n",
       "    <tr>\n",
       "      <th>count</th>\n",
       "      <td>1869.000000</td>\n",
       "      <td>1869.000000</td>\n",
       "      <td>1869.000000</td>\n",
       "      <td>1869.000000</td>\n",
       "    </tr>\n",
       "    <tr>\n",
       "      <th>mean</th>\n",
       "      <td>0.254682</td>\n",
       "      <td>17.979133</td>\n",
       "      <td>74.441332</td>\n",
       "      <td>1531.796094</td>\n",
       "    </tr>\n",
       "    <tr>\n",
       "      <th>std</th>\n",
       "      <td>0.435799</td>\n",
       "      <td>19.531123</td>\n",
       "      <td>24.666053</td>\n",
       "      <td>1890.822994</td>\n",
       "    </tr>\n",
       "    <tr>\n",
       "      <th>min</th>\n",
       "      <td>0.000000</td>\n",
       "      <td>1.000000</td>\n",
       "      <td>18.850000</td>\n",
       "      <td>18.850000</td>\n",
       "    </tr>\n",
       "    <tr>\n",
       "      <th>25%</th>\n",
       "      <td>0.000000</td>\n",
       "      <td>2.000000</td>\n",
       "      <td>56.150000</td>\n",
       "      <td>134.500000</td>\n",
       "    </tr>\n",
       "    <tr>\n",
       "      <th>50%</th>\n",
       "      <td>0.000000</td>\n",
       "      <td>10.000000</td>\n",
       "      <td>79.650000</td>\n",
       "      <td>703.550000</td>\n",
       "    </tr>\n",
       "    <tr>\n",
       "      <th>75%</th>\n",
       "      <td>1.000000</td>\n",
       "      <td>29.000000</td>\n",
       "      <td>94.200000</td>\n",
       "      <td>2331.300000</td>\n",
       "    </tr>\n",
       "    <tr>\n",
       "      <th>max</th>\n",
       "      <td>1.000000</td>\n",
       "      <td>72.000000</td>\n",
       "      <td>118.350000</td>\n",
       "      <td>8684.800000</td>\n",
       "    </tr>\n",
       "  </tbody>\n",
       "</table>\n",
       "</div>"
      ],
      "text/plain": [
       "       seniorcitizen       tenure  monthlycharges  totalcharges\n",
       "count    1869.000000  1869.000000     1869.000000   1869.000000\n",
       "mean        0.254682    17.979133       74.441332   1531.796094\n",
       "std         0.435799    19.531123       24.666053   1890.822994\n",
       "min         0.000000     1.000000       18.850000     18.850000\n",
       "25%         0.000000     2.000000       56.150000    134.500000\n",
       "50%         0.000000    10.000000       79.650000    703.550000\n",
       "75%         1.000000    29.000000       94.200000   2331.300000\n",
       "max         1.000000    72.000000      118.350000   8684.800000"
      ]
     },
     "execution_count": 13,
     "metadata": {},
     "output_type": "execute_result"
    }
   ],
   "source": [
    "churn_y.describe()"
   ]
  },
  {
   "cell_type": "markdown",
   "metadata": {},
   "source": [
    "**mostly** customer **leaves the service**, after they are subscribed for **10 months**, but still there are **some customer** with around **60 month** subscribed also leaves the service.\n",
    "\n",
    "and for those who **stay** they had more **equally spread tenure** from the first month until around 70 months"
   ]
  },
  {
   "cell_type": "markdown",
   "metadata": {},
   "source": [
    "## Customer Churn and Customer Tenure with Seniority Factor"
   ]
  },
  {
   "cell_type": "markdown",
   "metadata": {},
   "source": [
    "next is to show how the tenure and seniority of the customer related to the churn"
   ]
  },
  {
   "cell_type": "code",
   "execution_count": null,
   "metadata": {},
   "outputs": [
    {
     "name": "stderr",
     "output_type": "stream",
     "text": [
      "c:\\Users\\ajies\\anaconda3\\lib\\site-packages\\seaborn\\distributions.py:2619: FutureWarning: `distplot` is a deprecated function and will be removed in a future version. Please adapt your code to use either `displot` (a figure-level function with similar flexibility) or `kdeplot` (an axes-level function for kernel density plots).\n",
      "  warnings.warn(msg, FutureWarning)\n",
      "c:\\Users\\ajies\\anaconda3\\lib\\site-packages\\seaborn\\distributions.py:2103: FutureWarning: The `axis` variable is no longer used and will be removed. Instead, assign variables directly to `x` or `y`.\n",
      "  warnings.warn(msg, FutureWarning)\n",
      "c:\\Users\\ajies\\anaconda3\\lib\\site-packages\\seaborn\\distributions.py:2619: FutureWarning: `distplot` is a deprecated function and will be removed in a future version. Please adapt your code to use either `displot` (a figure-level function with similar flexibility) or `kdeplot` (an axes-level function for kernel density plots).\n",
      "  warnings.warn(msg, FutureWarning)\n",
      "c:\\Users\\ajies\\anaconda3\\lib\\site-packages\\seaborn\\distributions.py:2103: FutureWarning: The `axis` variable is no longer used and will be removed. Instead, assign variables directly to `x` or `y`.\n",
      "  warnings.warn(msg, FutureWarning)\n",
      "c:\\Users\\ajies\\anaconda3\\lib\\site-packages\\seaborn\\distributions.py:2619: FutureWarning: `distplot` is a deprecated function and will be removed in a future version. Please adapt your code to use either `displot` (a figure-level function with similar flexibility) or `kdeplot` (an axes-level function for kernel density plots).\n",
      "  warnings.warn(msg, FutureWarning)\n",
      "c:\\Users\\ajies\\anaconda3\\lib\\site-packages\\seaborn\\distributions.py:2103: FutureWarning: The `axis` variable is no longer used and will be removed. Instead, assign variables directly to `x` or `y`.\n",
      "  warnings.warn(msg, FutureWarning)\n",
      "c:\\Users\\ajies\\anaconda3\\lib\\site-packages\\seaborn\\distributions.py:2619: FutureWarning: `distplot` is a deprecated function and will be removed in a future version. Please adapt your code to use either `displot` (a figure-level function with similar flexibility) or `kdeplot` (an axes-level function for kernel density plots).\n",
      "  warnings.warn(msg, FutureWarning)\n",
      "c:\\Users\\ajies\\anaconda3\\lib\\site-packages\\seaborn\\distributions.py:2103: FutureWarning: The `axis` variable is no longer used and will be removed. Instead, assign variables directly to `x` or `y`.\n",
      "  warnings.warn(msg, FutureWarning)\n"
     ]
    },
    {
     "data": {
      "text/plain": [
       "<matplotlib.legend.Legend at 0x1b9a7c26400>"
      ]
     },
     "execution_count": 14,
     "metadata": {},
     "output_type": "execute_result"
    },
    {
     "data": {
      "image/png": "[encoded data removed]",
      "text/plain": [
       "<Figure size 1656x504 with 2 Axes>"
      ]
     },
     "metadata": {
      "needs_background": "light"
     },
     "output_type": "display_data"
    }
   ],
   "source": [
    "# customer < 65 years old\n",
    "churn_y_young = churn_y.query(\"seniorcitizen == 0\")\n",
    "churn_n_young = churn_n.query(\"seniorcitizen == 0\")\n",
    "# customer > 65 years old\n",
    "churn_y_senior = churn_y.query(\"seniorcitizen == 1\")\n",
    "churn_n_senior = churn_n.query(\"seniorcitizen == 1\")\n",
    "\n",
    "fig,ax = plt.subplots(ncols=2,figsize=(23,7))\n",
    "sns.distplot(churn_y_senior['tenure'], hist=False,label=\"Customer Leaves\", rug=True, ax=ax[0])\n",
    "ax[0].set_title('customer age > 65',fontsize= 16)\n",
    "\n",
    "sns.distplot(churn_n_senior[['tenure']],label=\"Customer Stay\", hist=False, rug=True,ax=ax[0])\n",
    "\n",
    "\n",
    "sns.distplot(churn_y_young[['tenure']], hist=False,rug=True,ax=ax[1])\n",
    "ax[1].set_title('customer age < 65',fontsize= 16)\n",
    "\n",
    "sns.distplot(churn_n_young[['tenure']], hist=False, rug=True,ax=ax[1])\n",
    "\n",
    "fig.legend(fontsize='x-large', title_fontsize='40')\n",
    "# c_y_y = churn_y.query(\"seniorcitizen == 1\")\n",
    "# c_n_o = churn_n.query(\"seniorcitizen == 1\")\n",
    "# g = sns.distplot(c_y_y[['tenure']],label=\"Customer Leaves\", hist=False, rug=True)\n",
    "# g = sns.distplot(c_n_o[['tenure']],label=\"Customer Stay\", hist=False, rug=True)\n",
    "# plt.setp(g._legend().get_texts(), fontsize=16)\n",
    "\n"
   ]
  },
  {
   "cell_type": "markdown",
   "metadata": {},
   "source": [
    "senior customer does has more loyal to use Telco services, as you can see, customer who has age above 65 years old, has better tenure count, indicator the senior customer has been a customer for morethan 5 years"
   ]
  },
  {
   "cell_type": "markdown",
   "metadata": {},
   "source": [
    "## Customer Churn and Service Bill (Monthly)"
   ]
  },
  {
   "cell_type": "markdown",
   "metadata": {},
   "source": [
    "how the **services Bill monthly** will impact the customer to stay or leave."
   ]
  },
  {
   "cell_type": "code",
   "execution_count": null,
   "metadata": {},
   "outputs": [
    {
     "name": "stderr",
     "output_type": "stream",
     "text": [
      "c:\\Users\\ajies\\anaconda3\\lib\\site-packages\\seaborn\\distributions.py:2619: FutureWarning: `distplot` is a deprecated function and will be removed in a future version. Please adapt your code to use either `displot` (a figure-level function with similar flexibility) or `kdeplot` (an axes-level function for kernel density plots).\n",
      "  warnings.warn(msg, FutureWarning)\n",
      "c:\\Users\\ajies\\anaconda3\\lib\\site-packages\\seaborn\\distributions.py:2103: FutureWarning: The `axis` variable is no longer used and will be removed. Instead, assign variables directly to `x` or `y`.\n",
      "  warnings.warn(msg, FutureWarning)\n",
      "c:\\Users\\ajies\\anaconda3\\lib\\site-packages\\seaborn\\distributions.py:2619: FutureWarning: `distplot` is a deprecated function and will be removed in a future version. Please adapt your code to use either `displot` (a figure-level function with similar flexibility) or `kdeplot` (an axes-level function for kernel density plots).\n",
      "  warnings.warn(msg, FutureWarning)\n",
      "c:\\Users\\ajies\\anaconda3\\lib\\site-packages\\seaborn\\distributions.py:2103: FutureWarning: The `axis` variable is no longer used and will be removed. Instead, assign variables directly to `x` or `y`.\n",
      "  warnings.warn(msg, FutureWarning)\n"
     ]
    },
    {
     "data": {
      "image/png": "[encoded data removed]",
      "text/plain": [
       "<Figure size 432x288 with 1 Axes>"
      ]
     },
     "metadata": {
      "needs_background": "light"
     },
     "output_type": "display_data"
    }
   ],
   "source": [
    "g = sns.distplot(churn_y[['monthlycharges']],label=\"Customer Leaves\", hist=False, rug=True)\n",
    "g = sns.distplot(churn_n[['monthlycharges']],label=\"Customer Stay\", hist=False, rug=True)\n",
    "# plt.setp(g._legend().get_texts(), fontsize=16)\n",
    "plt.legend(fontsize='x-large', title_fontsize='40')\n",
    "plt.show()"
   ]
  },
  {
   "cell_type": "markdown",
   "metadata": {},
   "source": [
    "surely there are a **lot of customer** will stay on bill **cost at 20**, and **fall around 40's**, and started to **rise at > 50 and < 85**.\n",
    "\n",
    "and **customer will leaves** the services when  the **bill cost around 60 until 100**."
   ]
  },
  {
   "cell_type": "markdown",
   "metadata": {},
   "source": [
    "## Services"
   ]
  },
  {
   "cell_type": "markdown",
   "metadata": {},
   "source": [
    "there are **multiple services** at Telco corp, and those services are :  \n",
    "- phone service\n",
    "- internet service\n",
    "- online security\n",
    "- online backup\n",
    "- device protection\n",
    "- tech support\n",
    "- streaming tv\n",
    "- streaming movies\n",
    "\n",
    "we will see the **relationship** between **customers curn** and with the **Telco's services**"
   ]
  },
  {
   "cell_type": "code",
   "execution_count": null,
   "metadata": {},
   "outputs": [
    {
     "data": {
      "image/png": "[encoded data removed]",
      "text/plain": [
       "<Figure size 1152x1296 with 9 Axes>"
      ]
     },
     "metadata": {
      "needs_background": "light"
     },
     "output_type": "display_data"
    }
   ],
   "source": [
    "service_list = ['phoneservice', 'internetservice',\n",
    "       'onlinesecurity', 'onlinebackup', 'deviceprotection', 'techsupport',\n",
    "       'streamingtv', 'streamingmovies','multiplelines']\n",
    "\n",
    "n_col = 3\n",
    "n_row = 3\n",
    "\n",
    "fig,ax = plt.subplots(nrows=n_row,ncols= n_col,figsize=(16,18))\n",
    "col_count = 0\n",
    "row_count = 0\n",
    "for service in service_list:\n",
    "       sns.countplot(data=df_telco ,x=service,ax=ax[row_count,col_count],hue='churn')\n",
    "       ax[row_count,col_count].set_title(service,fontsize= 16)\n",
    "       \n",
    "       col_count += 1\n",
    "       if col_count >= n_col:\n",
    "              col_count = 0\n",
    "              row_count += 1"
   ]
  },
  {
   "cell_type": "code",
   "execution_count": null,
   "metadata": {},
   "outputs": [
    {
     "data": {
      "text/html": [
       "<div>\n",
       "<style scoped>\n",
       "    .dataframe tbody tr th:only-of-type {\n",
       "        vertical-align: middle;\n",
       "    }\n",
       "\n",
       "    .dataframe tbody tr th {\n",
       "        vertical-align: top;\n",
       "    }\n",
       "\n",
       "    .dataframe thead th {\n",
       "        text-align: right;\n",
       "    }\n",
       "</style>\n",
       "<table border=\"1\" class=\"dataframe\">\n",
       "  <thead>\n",
       "    <tr style=\"text-align: right;\">\n",
       "      <th></th>\n",
       "      <th>seniorcitizen</th>\n",
       "      <th>tenure</th>\n",
       "      <th>monthlycharges</th>\n",
       "      <th>totalcharges</th>\n",
       "    </tr>\n",
       "  </thead>\n",
       "  <tbody>\n",
       "    <tr>\n",
       "      <th>count</th>\n",
       "      <td>1869.000000</td>\n",
       "      <td>1869.000000</td>\n",
       "      <td>1869.000000</td>\n",
       "      <td>1869.000000</td>\n",
       "    </tr>\n",
       "    <tr>\n",
       "      <th>mean</th>\n",
       "      <td>0.254682</td>\n",
       "      <td>17.979133</td>\n",
       "      <td>74.441332</td>\n",
       "      <td>1531.796094</td>\n",
       "    </tr>\n",
       "    <tr>\n",
       "      <th>std</th>\n",
       "      <td>0.435799</td>\n",
       "      <td>19.531123</td>\n",
       "      <td>24.666053</td>\n",
       "      <td>1890.822994</td>\n",
       "    </tr>\n",
       "    <tr>\n",
       "      <th>min</th>\n",
       "      <td>0.000000</td>\n",
       "      <td>1.000000</td>\n",
       "      <td>18.850000</td>\n",
       "      <td>18.850000</td>\n",
       "    </tr>\n",
       "    <tr>\n",
       "      <th>25%</th>\n",
       "      <td>0.000000</td>\n",
       "      <td>2.000000</td>\n",
       "      <td>56.150000</td>\n",
       "      <td>134.500000</td>\n",
       "    </tr>\n",
       "    <tr>\n",
       "      <th>50%</th>\n",
       "      <td>0.000000</td>\n",
       "      <td>10.000000</td>\n",
       "      <td>79.650000</td>\n",
       "      <td>703.550000</td>\n",
       "    </tr>\n",
       "    <tr>\n",
       "      <th>75%</th>\n",
       "      <td>1.000000</td>\n",
       "      <td>29.000000</td>\n",
       "      <td>94.200000</td>\n",
       "      <td>2331.300000</td>\n",
       "    </tr>\n",
       "    <tr>\n",
       "      <th>max</th>\n",
       "      <td>1.000000</td>\n",
       "      <td>72.000000</td>\n",
       "      <td>118.350000</td>\n",
       "      <td>8684.800000</td>\n",
       "    </tr>\n",
       "  </tbody>\n",
       "</table>\n",
       "</div>"
      ],
      "text/plain": [
       "       seniorcitizen       tenure  monthlycharges  totalcharges\n",
       "count    1869.000000  1869.000000     1869.000000   1869.000000\n",
       "mean        0.254682    17.979133       74.441332   1531.796094\n",
       "std         0.435799    19.531123       24.666053   1890.822994\n",
       "min         0.000000     1.000000       18.850000     18.850000\n",
       "25%         0.000000     2.000000       56.150000    134.500000\n",
       "50%         0.000000    10.000000       79.650000    703.550000\n",
       "75%         1.000000    29.000000       94.200000   2331.300000\n",
       "max         1.000000    72.000000      118.350000   8684.800000"
      ]
     },
     "execution_count": 148,
     "metadata": {},
     "output_type": "execute_result"
    }
   ],
   "source": [
    "churn_y.describe()"
   ]
  },
  {
   "cell_type": "markdown",
   "metadata": {},
   "source": [
    "most of the people leaves the services as Telco customer are people that only use Internet service **without online security, online backup, device protection, tech support**\n",
    "\n",
    "but for the **entertainment service** like streaming movies and TV are having same ratio with or without the entertainment service between customer churn, this might indicates almost half of people who leave as customer already tried the entertainment service."
   ]
  },
  {
   "cell_type": "code",
   "execution_count": null,
   "metadata": {},
   "outputs": [
    {
     "name": "stdout",
     "output_type": "stream",
     "text": [
      "Ratio :  0.37185660781166396\n",
      "Ratio total :  0.2653698707936959\n",
      "selected count 695\n"
     ]
    }
   ],
   "source": [
    "# selected_cn = churn_n.query(\"internetservice == 'Fiber optic' | \\\n",
    "#                             deviceprotection == 'No' | \\\n",
    "#                             onlinesecurity == 'No' | \\\n",
    "#                             onlinebackup == 'No' | \\\n",
    "#                             techsupport == 'No'\")\n",
    "\n",
    "\n",
    "# selected_cy = churn_y.query(\"internetservice == 'Fiber optic' &\\\n",
    "#                             deviceprotection == 'No' & \\\n",
    "#                             onlinesecurity == 'No' & \\\n",
    "#                             onlinebackup == 'No' & \\\n",
    "#                             techsupport == 'No'\")\n",
    "# selected_cy = churn_y.query(\"internetservice == 'Fiber optic' & contract == 'Month-to-month'\")\n",
    "\n",
    "selected_cy = churn_y.query(\"streamingmovies == 'No'& streamingtv == 'No' \")\n",
    "print(\"Ratio : \",len(selected_cy)/len(churn_y))\n",
    "print(\"Ratio total : \",len(churn_y)/len(df_telco))\n",
    "print(\"selected count\",len(selected_cy))"
   ]
  },
  {
   "cell_type": "markdown",
   "metadata": {},
   "source": [
    "## Social Status"
   ]
  },
  {
   "cell_type": "markdown",
   "metadata": {},
   "source": [
    "see the **relationship** between **Gender, partner, and financial dependency** for customer **curhn status**"
   ]
  },
  {
   "cell_type": "code",
   "execution_count": null,
   "metadata": {},
   "outputs": [
    {
     "data": {
      "image/png": "[encoded data removed]",
      "text/plain": [
       "<Figure size 1440x432 with 4 Axes>"
      ]
     },
     "metadata": {
      "needs_background": "light"
     },
     "output_type": "display_data"
    }
   ],
   "source": [
    "social_status = ['gender', 'partner',\n",
    "       'dependents',\"seniorcitizen\"]\n",
    "\n",
    "n_col = 4\n",
    "\n",
    "fig,ax = plt.subplots(ncols= n_col,figsize=(20,6))\n",
    "col_count = 0\n",
    "for service in social_status:\n",
    "       sns.countplot(data=df_telco ,x=service,ax=ax[col_count],hue='churn')\n",
    "       ax[col_count].set_title(service,fontsize= 16)\n",
    "       \n",
    "       col_count += 1"
   ]
  },
  {
   "cell_type": "markdown",
   "metadata": {},
   "source": [
    "seems like gender is **not effecting directly** for people leaving as a Telco's Customer.\n",
    "\n",
    "for customer that have **married status** or `partner`, those who is not married have customer churn status ratio slightly more than those who were married. \n",
    "\n",
    "and for customer who **financially independent** are less having the service but have **less chance to leave** as a customer.\n",
    "\n",
    "and for the `senior citizen` or customer who had age > 65 years old. The customer who is not senior yet, are the majority at Telco company. "
   ]
  },
  {
   "cell_type": "markdown",
   "metadata": {},
   "source": [
    "## Financial Solution"
   ]
  },
  {
   "cell_type": "markdown",
   "metadata": {},
   "source": [
    "financial solution is how **customer solve the payment problem**, from the status of `contract`,`payment methods`, and `paperless bill`. those status will be compared to the customer **churn status**"
   ]
  },
  {
   "cell_type": "code",
   "execution_count": null,
   "metadata": {},
   "outputs": [
    {
     "data": {
      "text/plain": [
       "<AxesSubplot:xlabel='paymentmethod', ylabel='count'>"
      ]
     },
     "execution_count": 18,
     "metadata": {},
     "output_type": "execute_result"
    },
    {
     "data": {
      "image/png": "[encoded data removed]",
      "text/plain": [
       "<Figure size 1152x432 with 2 Axes>"
      ]
     },
     "metadata": {
      "needs_background": "light"
     },
     "output_type": "display_data"
    },
    {
     "data": {
      "image/png": "[encoded data removed]",
      "text/plain": [
       "<Figure size 1152x432 with 1 Axes>"
      ]
     },
     "metadata": {
      "needs_background": "light"
     },
     "output_type": "display_data"
    }
   ],
   "source": [
    "list_solution = ['contract', 'paperlessbilling']\n",
    "\n",
    "n_col = 2\n",
    "\n",
    "fig,ax = plt.subplots(ncols= n_col,figsize=(16,6))\n",
    "col_count = 0\n",
    "for service in list_solution:\n",
    "       sns.countplot(data=df_telco ,x=service,ax=ax[col_count],hue='churn')\n",
    "       ax[col_count].set_title(service,fontsize= 16)\n",
    "       \n",
    "       col_count += 1\n",
    "       \n",
    "fig,ax = plt.subplots(figsize=(16,6))    \n",
    "sns.countplot(data=df_telco ,x='paymentmethod',ax=ax,hue='churn')"
   ]
  },
  {
   "cell_type": "markdown",
   "metadata": {},
   "source": [
    "customer with **contract payment month to month** and **pay with Electronic Check** have big chance to leave as customer.\n",
    "\n",
    "customer who had **paperless billing** also have more chance to **leave** as customer."
   ]
  },
  {
   "cell_type": "markdown",
   "metadata": {},
   "source": [
    "# V. Data Preprocessing "
   ]
  },
  {
   "cell_type": "markdown",
   "metadata": {},
   "source": [
    "give some samples for data inference\n",
    "\n",
    "and use non-inference data for data training and data test"
   ]
  },
  {
   "cell_type": "markdown",
   "metadata": {},
   "source": [
    "## Inference Data"
   ]
  },
  {
   "cell_type": "markdown",
   "metadata": {},
   "source": [
    "**Data Inference**\n",
    "take 10 samples for inference model"
   ]
  },
  {
   "cell_type": "code",
   "execution_count": null,
   "metadata": {},
   "outputs": [
    {
     "name": "stdout",
     "output_type": "stream",
     "text": [
      "<class 'pandas.core.frame.DataFrame'>\n",
      "Int64Index: 10 entries, 6235 to 6368\n",
      "Data columns (total 21 columns):\n",
      " #   Column            Non-Null Count  Dtype  \n",
      "---  ------            --------------  -----  \n",
      " 0   customerid        10 non-null     object \n",
      " 1   gender            10 non-null     object \n",
      " 2   seniorcitizen     10 non-null     int64  \n",
      " 3   partner           10 non-null     object \n",
      " 4   dependents        10 non-null     object \n",
      " 5   tenure            10 non-null     int64  \n",
      " 6   phoneservice      10 non-null     object \n",
      " 7   multiplelines     10 non-null     object \n",
      " 8   internetservice   10 non-null     object \n",
      " 9   onlinesecurity    10 non-null     object \n",
      " 10  onlinebackup      10 non-null     object \n",
      " 11  deviceprotection  10 non-null     object \n",
      " 12  techsupport       10 non-null     object \n",
      " 13  streamingtv       10 non-null     object \n",
      " 14  streamingmovies   10 non-null     object \n",
      " 15  contract          10 non-null     object \n",
      " 16  paperlessbilling  10 non-null     object \n",
      " 17  paymentmethod     10 non-null     object \n",
      " 18  monthlycharges    10 non-null     float64\n",
      " 19  totalcharges      10 non-null     float64\n",
      " 20  churn             10 non-null     object \n",
      "dtypes: float64(2), int64(2), object(17)\n",
      "memory usage: 1.7+ KB\n"
     ]
    }
   ],
   "source": [
    "# take 10 sample of random data\n",
    "pickup_inf = df_telco.sample(10,random_state=12)\n",
    "\n",
    "pickup_inf.info()"
   ]
  },
  {
   "cell_type": "markdown",
   "metadata": {},
   "source": [
    "**Set Non-Inference** "
   ]
  },
  {
   "cell_type": "code",
   "execution_count": null,
   "metadata": {},
   "outputs": [
    {
     "name": "stdout",
     "output_type": "stream",
     "text": [
      "<class 'pandas.core.frame.DataFrame'>\n",
      "Int64Index: 7033 entries, 0 to 7042\n",
      "Data columns (total 21 columns):\n",
      " #   Column            Non-Null Count  Dtype  \n",
      "---  ------            --------------  -----  \n",
      " 0   customerid        7033 non-null   object \n",
      " 1   gender            7033 non-null   object \n",
      " 2   seniorcitizen     7033 non-null   int64  \n",
      " 3   partner           7033 non-null   object \n",
      " 4   dependents        7033 non-null   object \n",
      " 5   tenure            7033 non-null   int64  \n",
      " 6   phoneservice      7033 non-null   object \n",
      " 7   multiplelines     7033 non-null   object \n",
      " 8   internetservice   7033 non-null   object \n",
      " 9   onlinesecurity    7033 non-null   object \n",
      " 10  onlinebackup      7033 non-null   object \n",
      " 11  deviceprotection  7033 non-null   object \n",
      " 12  techsupport       7033 non-null   object \n",
      " 13  streamingtv       7033 non-null   object \n",
      " 14  streamingmovies   7033 non-null   object \n",
      " 15  contract          7033 non-null   object \n",
      " 16  paperlessbilling  7033 non-null   object \n",
      " 17  paymentmethod     7033 non-null   object \n",
      " 18  monthlycharges    7033 non-null   float64\n",
      " 19  totalcharges      7022 non-null   float64\n",
      " 20  churn             7033 non-null   object \n",
      "dtypes: float64(2), int64(2), object(17)\n",
      "memory usage: 1.2+ MB\n"
     ]
    }
   ],
   "source": [
    "# REMOVE INFERENCE SET FROM DATA SET for non inference data\n",
    "non_inference = df_telco.drop(pickup_inf.index)\n",
    "non_inference.info()"
   ]
  },
  {
   "cell_type": "markdown",
   "metadata": {},
   "source": [
    "reset index, for preventing the error in the future"
   ]
  },
  {
   "cell_type": "code",
   "execution_count": null,
   "metadata": {},
   "outputs": [],
   "source": [
    "# reset index for safety measure\n",
    "non_inference.reset_index(drop=True,inplace=True)"
   ]
  },
  {
   "cell_type": "markdown",
   "metadata": {},
   "source": [
    "## Features and Target\n",
    "\n",
    "split non-inference data into features and target"
   ]
  },
  {
   "cell_type": "markdown",
   "metadata": {},
   "source": [
    "in this case our target is `churn`, so set features all columns except `churn`"
   ]
  },
  {
   "cell_type": "code",
   "execution_count": null,
   "metadata": {},
   "outputs": [
    {
     "data": {
      "text/plain": [
       "0        No\n",
       "1        No\n",
       "2       Yes\n",
       "3        No\n",
       "4       Yes\n",
       "       ... \n",
       "7028     No\n",
       "7029     No\n",
       "7030     No\n",
       "7031    Yes\n",
       "7032     No\n",
       "Name: churn, Length: 7033, dtype: object"
      ]
     },
     "execution_count": 22,
     "metadata": {},
     "output_type": "execute_result"
    }
   ],
   "source": [
    "# set X or Features  and y or Target\n",
    "X = non_inference.drop('churn',axis=1)\n",
    "y = non_inference['churn']\n",
    "y"
   ]
  },
  {
   "cell_type": "markdown",
   "metadata": {},
   "source": [
    "## Split Train And Test"
   ]
  },
  {
   "cell_type": "markdown",
   "metadata": {},
   "source": [
    "after selecting feature and target, split them into Train, Test data, and validation for model evaluation"
   ]
  },
  {
   "cell_type": "code",
   "execution_count": null,
   "metadata": {},
   "outputs": [
    {
     "name": "stdout",
     "output_type": "stream",
     "text": [
      "(3955, 20)\n"
     ]
    },
    {
     "data": {
      "text/plain": [
       "<function print>"
      ]
     },
     "execution_count": 23,
     "metadata": {},
     "output_type": "execute_result"
    }
   ],
   "source": [
    "X_train_full, X_test, y_train_full, y_test = train_test_split(X, y, random_state=42)\n",
    "X_train, X_valid, y_train, y_valid = train_test_split(X_train_full, y_train_full, random_state=42)\n",
    "print(X_train.shape)\n",
    "print"
   ]
  },
  {
   "cell_type": "markdown",
   "metadata": {},
   "source": [
    "## Feature Selection"
   ]
  },
  {
   "cell_type": "markdown",
   "metadata": {},
   "source": [
    "from the EDA section before, found that some feature might be dropped, those features are :\n",
    "\n",
    "- `customerid` because ID doesn't provide information that support for determining the target\n",
    "- `totalcharges` total charge gave huge multicollinearity for `tenure` and `monthlycharge` from the **Correlation** Heatmap.\n",
    "- `gender`, it hasn't been related to the churn status based on the EDA section.\n",
    "- `phone service `, because **almost all** customer has phone service.\n",
    "- `senior citizen`, same story like phone service, **most customer** **are not a senior citizen**\n",
    "- `paperless bill`, this feature might be redundant to the payments methods, because **electronic check** probably had paperless bill.\n"
   ]
  },
  {
   "cell_type": "code",
   "execution_count": null,
   "metadata": {},
   "outputs": [],
   "source": [
    "# list of features that will be dropped\n",
    "drop_list =['customerid','totalcharges','phoneservice','gender','seniorcitizen','paperlessbilling'] \n",
    "X_train = X_train.drop(drop_list,axis=1)\n",
    "X_valid = X_valid.drop(drop_list,axis=1)\n",
    "X_test = X_test.drop(drop_list,axis=1)"
   ]
  },
  {
   "cell_type": "markdown",
   "metadata": {},
   "source": [
    "## Missing Values"
   ]
  },
  {
   "cell_type": "markdown",
   "metadata": {},
   "source": [
    "Check if the features or the target has missing values"
   ]
  },
  {
   "cell_type": "markdown",
   "metadata": {},
   "source": [
    "Check Missing values on **feature train** "
   ]
  },
  {
   "cell_type": "code",
   "execution_count": null,
   "metadata": {},
   "outputs": [
    {
     "data": {
      "text/plain": [
       "partner             0\n",
       "dependents          0\n",
       "tenure              0\n",
       "multiplelines       0\n",
       "internetservice     0\n",
       "onlinesecurity      0\n",
       "onlinebackup        0\n",
       "deviceprotection    0\n",
       "techsupport         0\n",
       "streamingtv         0\n",
       "streamingmovies     0\n",
       "contract            0\n",
       "paymentmethod       0\n",
       "monthlycharges      0\n",
       "dtype: int64"
      ]
     },
     "execution_count": 25,
     "metadata": {},
     "output_type": "execute_result"
    }
   ],
   "source": [
    "X_train.isna().sum()"
   ]
  },
  {
   "cell_type": "markdown",
   "metadata": {},
   "source": [
    "feature train have **no missing values**"
   ]
  },
  {
   "cell_type": "markdown",
   "metadata": {},
   "source": [
    "Check Missing values on **feature train validation** "
   ]
  },
  {
   "cell_type": "code",
   "execution_count": null,
   "metadata": {},
   "outputs": [
    {
     "data": {
      "text/plain": [
       "partner             0\n",
       "dependents          0\n",
       "tenure              0\n",
       "multiplelines       0\n",
       "internetservice     0\n",
       "onlinesecurity      0\n",
       "onlinebackup        0\n",
       "deviceprotection    0\n",
       "techsupport         0\n",
       "streamingtv         0\n",
       "streamingmovies     0\n",
       "contract            0\n",
       "paymentmethod       0\n",
       "monthlycharges      0\n",
       "dtype: int64"
      ]
     },
     "execution_count": 26,
     "metadata": {},
     "output_type": "execute_result"
    }
   ],
   "source": [
    "X_valid.isna().sum()"
   ]
  },
  {
   "cell_type": "markdown",
   "metadata": {},
   "source": [
    "feature validaftion have **no missing values**"
   ]
  },
  {
   "cell_type": "markdown",
   "metadata": {},
   "source": [
    "Check Missing values on **feature test validation** "
   ]
  },
  {
   "cell_type": "code",
   "execution_count": null,
   "metadata": {},
   "outputs": [
    {
     "data": {
      "text/plain": [
       "partner             0\n",
       "dependents          0\n",
       "tenure              0\n",
       "multiplelines       0\n",
       "internetservice     0\n",
       "onlinesecurity      0\n",
       "onlinebackup        0\n",
       "deviceprotection    0\n",
       "techsupport         0\n",
       "streamingtv         0\n",
       "streamingmovies     0\n",
       "contract            0\n",
       "paymentmethod       0\n",
       "monthlycharges      0\n",
       "dtype: int64"
      ]
     },
     "execution_count": 27,
     "metadata": {},
     "output_type": "execute_result"
    }
   ],
   "source": [
    "X_test.isna().sum()"
   ]
  },
  {
   "cell_type": "markdown",
   "metadata": {},
   "source": [
    "feature test have **no missing values**"
   ]
  },
  {
   "cell_type": "markdown",
   "metadata": {},
   "source": [
    "Check if **target train ,validation ,and test** have missing values"
   ]
  },
  {
   "cell_type": "code",
   "execution_count": null,
   "metadata": {},
   "outputs": [
    {
     "name": "stdout",
     "output_type": "stream",
     "text": [
      "target train count missing values :  0\n",
      "target validation count missing values :  0\n",
      "target test count missing values :  0\n"
     ]
    }
   ],
   "source": [
    "print(\"target train count missing values : \",y_train.isna().sum())\n",
    "print(\"target validation count missing values : \",y_valid.isna().sum())\n",
    "print(\"target test count missing values : \",y_test.isna().sum())"
   ]
  },
  {
   "cell_type": "markdown",
   "metadata": {},
   "source": [
    "all target have no missing values"
   ]
  },
  {
   "cell_type": "markdown",
   "metadata": {},
   "source": [
    "## Split Numeric And Categorical"
   ]
  },
  {
   "cell_type": "code",
   "execution_count": null,
   "metadata": {},
   "outputs": [
    {
     "name": "stdout",
     "output_type": "stream",
     "text": [
      "numeric features : ['tenure', 'monthlycharges']\n",
      "categorical features : ['partner', 'dependents', 'multiplelines', 'internetservice', 'onlinesecurity', 'onlinebackup', 'deviceprotection', 'techsupport', 'streamingtv', 'streamingmovies', 'contract', 'paymentmethod']\n"
     ]
    }
   ],
   "source": [
    "# identify numeric - categoric columns from the features\n",
    "num_columns = X_train.select_dtypes(include=np.number).columns.tolist()\n",
    "cat_columns = X_train.select_dtypes(include=['object']).columns.tolist()\n",
    "print(\"numeric features :\", num_columns)\n",
    "print(\"categorical features :\", cat_columns)"
   ]
  },
  {
   "cell_type": "markdown",
   "metadata": {},
   "source": [
    "split all numeric and categoric from feature train ,test and validation"
   ]
  },
  {
   "cell_type": "code",
   "execution_count": null,
   "metadata": {},
   "outputs": [],
   "source": [
    "x_train_num = X_train[num_columns]\n",
    "x_train_cat = X_train[cat_columns]\n",
    "\n",
    "x_test_num = X_test[num_columns]\n",
    "x_test_cat = X_test[cat_columns]\n",
    "\n",
    "x_val_num = X_valid[num_columns]\n",
    "x_val_cat = X_valid[cat_columns]"
   ]
  },
  {
   "cell_type": "markdown",
   "metadata": {},
   "source": [
    "## Outliers"
   ]
  },
  {
   "cell_type": "markdown",
   "metadata": {},
   "source": [
    "Handling outliers applied only for **X train adn X validation numeric**  feature, for this case I choose Censorring or Capping method to handling the outliers. **if there are outliers detected**"
   ]
  },
  {
   "cell_type": "markdown",
   "metadata": {},
   "source": [
    "check if there are outliers on numeric feature Train "
   ]
  },
  {
   "cell_type": "code",
   "execution_count": null,
   "metadata": {},
   "outputs": [
    {
     "name": "stdout",
     "output_type": "stream",
     "text": [
      "feature name :  tenure\n",
      "outliers percentage : 0.0%\n",
      "distribution normal\n",
      "upper : 82.16346440402779 lower : -16.431479574697832\n",
      "****************************************************\n",
      "feature name :  monthlycharges\n",
      "outliers percentage : 0.0%\n",
      "distribution normal\n",
      "upper : 124.85058285506291 lower : 4.5616042498673295\n",
      "****************************************************\n"
     ]
    }
   ],
   "source": [
    "col_skews = skewness(x_train_num)\n",
    "outliers = outliersCheck(x_train_num,col_skews)"
   ]
  },
  {
   "cell_type": "markdown",
   "metadata": {},
   "source": [
    "numeric feature train have no outliers"
   ]
  },
  {
   "cell_type": "markdown",
   "metadata": {},
   "source": [
    "check if there are outliers on numeric feature validation"
   ]
  },
  {
   "cell_type": "code",
   "execution_count": null,
   "metadata": {},
   "outputs": [
    {
     "name": "stdout",
     "output_type": "stream",
     "text": [
      "feature name :  tenure\n",
      "outliers percentage : 0.0%\n",
      "distribution normal\n",
      "upper : 80.28303306790787 lower : -17.309568321888143\n",
      "****************************************************\n",
      "feature name :  monthlycharges\n",
      "outliers percentage : 0.0%\n",
      "distribution normal\n",
      "upper : 125.48126297434217 lower : 4.8646809225494465\n",
      "****************************************************\n"
     ]
    }
   ],
   "source": [
    "col_skews = skewness(x_val_num)\n",
    "outliers = outliersCheck(x_val_num,col_skews)"
   ]
  },
  {
   "cell_type": "markdown",
   "metadata": {},
   "source": [
    "numeric feature validation have no outliers"
   ]
  },
  {
   "cell_type": "markdown",
   "metadata": {},
   "source": [
    "both train and validation have no outliers, so **handling outliers is not necessary**"
   ]
  },
  {
   "cell_type": "markdown",
   "metadata": {},
   "source": [
    "## Unbalance data Handling"
   ]
  },
  {
   "cell_type": "markdown",
   "metadata": {},
   "source": [
    "From the EDA section, the target has been found as **un-balanced target** quantity, between yes and no\n",
    "\n",
    "in this case **SMOTENC** resampling is performed to handle multiple category data."
   ]
  },
  {
   "cell_type": "code",
   "execution_count": null,
   "metadata": {},
   "outputs": [
    {
     "data": {
      "text/plain": [
       "Yes    2926\n",
       "No     2926\n",
       "Name: churn, dtype: int64"
      ]
     },
     "execution_count": 33,
     "metadata": {},
     "output_type": "execute_result"
    }
   ],
   "source": [
    "smotenc = SMOTENC([0,1,3,4,5,6,7,8,9,10,11,12], random_state = 42)\n",
    "X_train, y_train = smotenc.fit_resample(X_train, y_train)\n",
    "X_valid, y_valid = smotenc.fit_resample(X_valid, y_valid)\n",
    "y_train.value_counts()\n",
    "\n",
    "# smotess = SMOTE(k_neighbors=5, random_state=42)\n",
    "# X_train_balanced, y_train_balanced = smotess.fit_resample(x_train_trans, y_train_final)\n",
    "# X_val_balanced, y_train_balanced = smotess.fit_resample(x_train_trans, y_train_final)"
   ]
  },
  {
   "cell_type": "code",
   "execution_count": null,
   "metadata": {},
   "outputs": [
    {
     "data": {
      "text/plain": [
       "0       Yes\n",
       "1        No\n",
       "2        No\n",
       "3       Yes\n",
       "4       Yes\n",
       "       ... \n",
       "5847    Yes\n",
       "5848    Yes\n",
       "5849    Yes\n",
       "5850    Yes\n",
       "5851    Yes\n",
       "Name: churn, Length: 5852, dtype: object"
      ]
     },
     "execution_count": 34,
     "metadata": {},
     "output_type": "execute_result"
    }
   ],
   "source": [
    "y_train "
   ]
  },
  {
   "cell_type": "markdown",
   "metadata": {},
   "source": [
    "## Feature Scalling\n",
    "scale all numeric data"
   ]
  },
  {
   "cell_type": "markdown",
   "metadata": {},
   "source": [
    "features will be scalled with **standard scaling**."
   ]
  },
  {
   "cell_type": "code",
   "execution_count": null,
   "metadata": {},
   "outputs": [],
   "source": [
    "#  define scaler using standard scaler\n",
    "\n",
    "num_pipeline = make_pipeline(StandardScaler())"
   ]
  },
  {
   "cell_type": "markdown",
   "metadata": {},
   "source": [
    "## Feature Encoding "
   ]
  },
  {
   "cell_type": "markdown",
   "metadata": {},
   "source": [
    "feature that categorical are very important to be encoded therefore model to be able to process the data."
   ]
  },
  {
   "cell_type": "markdown",
   "metadata": {},
   "source": [
    "use one **hot encoder** to encode categorical data, because all of them are **nominal** data"
   ]
  },
  {
   "cell_type": "code",
   "execution_count": null,
   "metadata": {},
   "outputs": [],
   "source": [
    "# define pipeline onehot encoder \n",
    "\n",
    "cat_pipeline = make_pipeline(OneHotEncoder())\n"
   ]
  },
  {
   "cell_type": "markdown",
   "metadata": {},
   "source": [
    "## Convert target into Integer Categoric"
   ]
  },
  {
   "cell_type": "markdown",
   "metadata": {},
   "source": [
    "ANN can't handle string categorical target, so we convert it with integer"
   ]
  },
  {
   "cell_type": "code",
   "execution_count": null,
   "metadata": {},
   "outputs": [],
   "source": [
    "y_train_final = pd.DataFrame(pd.Categorical(y_train).codes)[0]\n",
    "y_test_final = pd.DataFrame(pd.Categorical(y_test).codes)[0]\n",
    "y_valid_final = pd.DataFrame(pd.Categorical(y_valid).codes)[0]\n",
    "\n",
    "y_train_final = np.asarray(y_train_final).astype('float32').reshape((-1,1))\n",
    "y_test_final = np.asarray(y_test_final).astype('float32').reshape((-1,1))\n",
    "y_valid_final = np.asarray(y_valid_final).astype('float32').reshape((-1,1))"
   ]
  },
  {
   "cell_type": "markdown",
   "metadata": {},
   "source": [
    "## Merge Data Numeric and Categoric"
   ]
  },
  {
   "cell_type": "markdown",
   "metadata": {},
   "source": [
    "after data numerical and categorical were scaled and encoded, merge them based on train, test, or validation features"
   ]
  },
  {
   "cell_type": "code",
   "execution_count": null,
   "metadata": {},
   "outputs": [],
   "source": [
    "# # use numpy concenate\n",
    "# x_train_final = np.concatenate([x_train_scaled,x_train_encoded],axis=1)\n",
    "# x_test_final = np.concatenate([x_test_scaled,x_test_encoded],axis=1)\n",
    "# x_val_final = np.concatenate([x_val_scaled,x_val_encoded],axis=1)\n",
    "# gabungkan hasil pipeline menjadi fitur\n",
    "data_pipeline = ColumnTransformer([\n",
    "    ('pipeline_numeric', num_pipeline, num_columns),\n",
    "    ('pipeline_categoric', cat_pipeline, cat_columns)\n",
    "])\n",
    "\n",
    "x_train_trans = data_pipeline.fit_transform(X_train)\n",
    "x_test_trans = data_pipeline.transform(X_test)\n",
    "x_val_trans = data_pipeline.transform(X_valid)"
   ]
  },
  {
   "cell_type": "markdown",
   "metadata": {},
   "source": [
    "## Tensorflow Pipeline"
   ]
  },
  {
   "cell_type": "code",
   "execution_count": null,
   "metadata": {},
   "outputs": [],
   "source": [
    "AUTOTUNE = tf.data.AUTOTUNE # auto tune prefetch\n",
    "batch_size = 140\n",
    "\n",
    "# data_batches = tf.data.Dataset.from_tensor_slices((x_train_trans, y_train_final)).shuffled_data = preprocessed_data.shuffle(shuffle_buffer_size)\n",
    "\n",
    "\n",
    "train_final = tf.data.Dataset.from_tensor_slices((x_train_trans, y_train_final)).batch(batch_size).cache().prefetch(AUTOTUNE)\n",
    "test_final = tf.data.Dataset.from_tensor_slices((x_test_trans, y_test_final)).batch(batch_size).cache().prefetch(AUTOTUNE)\n",
    "val_final = tf.data.Dataset.from_tensor_slices((x_val_trans, y_valid_final)).batch(batch_size).cache().prefetch(AUTOTUNE)\n"
   ]
  },
  {
   "cell_type": "code",
   "execution_count": null,
   "metadata": {},
   "outputs": [
    {
     "data": {
      "text/plain": [
       "(1759, 37)"
      ]
     },
     "execution_count": 40,
     "metadata": {},
     "output_type": "execute_result"
    }
   ],
   "source": [
    "x_test_trans.shape"
   ]
  },
  {
   "cell_type": "code",
   "execution_count": null,
   "metadata": {},
   "outputs": [
    {
     "data": {
      "text/plain": [
       "<PrefetchDataset element_spec=(TensorSpec(shape=(None, 37), dtype=tf.float64, name=None), TensorSpec(shape=(None, 1), dtype=tf.float32, name=None))>"
      ]
     },
     "execution_count": 41,
     "metadata": {},
     "output_type": "execute_result"
    }
   ],
   "source": [
    "test_final"
   ]
  },
  {
   "cell_type": "markdown",
   "metadata": {},
   "source": [
    "# VI. Model Definition "
   ]
  },
  {
   "cell_type": "markdown",
   "metadata": {},
   "source": [
    "in this model definition we use **ANN Deep learning algorithm** make 2 type of model solving, \n",
    "1. Sequential API\n",
    "2. Functional API"
   ]
  },
  {
   "cell_type": "code",
   "execution_count": null,
   "metadata": {},
   "outputs": [],
   "source": [
    "# define random seed\n",
    "keras.backend.clear_session()\n",
    "np.random.seed(12)\n",
    "tf.random.set_seed(12)"
   ]
  },
  {
   "cell_type": "markdown",
   "metadata": {},
   "source": [
    "## Sequential API\n",
    "\n",
    "ANN model using sequence API"
   ]
  },
  {
   "cell_type": "markdown",
   "metadata": {},
   "source": [
    "### **Base Model**"
   ]
  },
  {
   "cell_type": "markdown",
   "metadata": {},
   "source": [
    "base model for a simple basic model of sequence api of ANN"
   ]
  },
  {
   "cell_type": "code",
   "execution_count": null,
   "metadata": {},
   "outputs": [],
   "source": [
    "# Model definition\n",
    "model_sq = keras.models.Sequential()\n",
    "model_sq.add(keras.layers.Dense(32,input_shape=(37,),name=\"Input\"))   \n",
    "model_sq.add(keras.layers.Dense(16, activation=\"relu\",name=\"hidden_1\"))\n",
    "model_sq.add(keras.layers.Dense(1,activation=\"sigmoid\",name=\"output\"))\n",
    "\n",
    "# base Model compile\n",
    "model_sq.compile(loss=\"binary_crossentropy\",\n",
    "              optimizer= keras.optimizers.Adam(learning_rate=0.0015),\n",
    "              metrics=[keras.metrics.Recall()])\n",
    "\n",
    "# callback for stopping early epochs with restore_best_weights\n",
    "early_stopping_cb = keras.callbacks.EarlyStopping(patience=10,\n",
    "                                                  restore_best_weights=True)"
   ]
  },
  {
   "cell_type": "markdown",
   "metadata": {},
   "source": [
    "#### Model Summary"
   ]
  },
  {
   "cell_type": "markdown",
   "metadata": {},
   "source": [
    "base model summary"
   ]
  },
  {
   "cell_type": "code",
   "execution_count": null,
   "metadata": {},
   "outputs": [
    {
     "name": "stdout",
     "output_type": "stream",
     "text": [
      "Model: \"sequential\"\n",
      "_________________________________________________________________\n",
      " Layer (type)                Output Shape              Param #   \n",
      "=================================================================\n",
      " Input (Dense)               (None, 32)                1216      \n",
      "                                                                 \n",
      " hidden_1 (Dense)            (None, 16)                528       \n",
      "                                                                 \n",
      " output (Dense)              (None, 1)                 17        \n",
      "                                                                 \n",
      "=================================================================\n",
      "Total params: 1,761\n",
      "Trainable params: 1,761\n",
      "Non-trainable params: 0\n",
      "_________________________________________________________________\n"
     ]
    }
   ],
   "source": [
    "model_sq.summary()"
   ]
  },
  {
   "cell_type": "code",
   "execution_count": null,
   "metadata": {},
   "outputs": [
    {
     "data": {
      "image/png": "[encoded data removed]",
      "text/plain": [
       "<IPython.core.display.Image object>"
      ]
     },
     "execution_count": 216,
     "metadata": {},
     "output_type": "execute_result"
    }
   ],
   "source": [
    "keras.utils.plot_model(model_sq, \"my_fashion_mnist_model.png\", show_shapes=True)"
   ]
  },
  {
   "cell_type": "markdown",
   "metadata": {},
   "source": [
    "### **Improved Model**"
   ]
  },
  {
   "cell_type": "markdown",
   "metadata": {},
   "source": [
    "Experiment for sequential API \n",
    "Experiment model consist with \n",
    "- more **Neuron** \n",
    "- 3 hidden layer \n",
    "- and **dropout**\n",
    "- regularization\n",
    "- adamax optimizer"
   ]
  },
  {
   "cell_type": "code",
   "execution_count": null,
   "metadata": {},
   "outputs": [],
   "source": [
    "# define model \n",
    "\n",
    "\n",
    "model_sq_imp = keras.models.Sequential()\n",
    "\n",
    "model_sq_imp.add(keras.layers.Dense(240,input_shape=(37,),kernel_initializer=keras.initializers.he_normal(seed=12),name=\"Input\"))  \n",
    "\n",
    "model_sq_imp.add(tf.keras.layers.Dense(120,kernel_regularizer=tf.keras.regularizers.l2(),kernel_initializer=keras.initializers.he_normal(seed=12),name=\"hidden_1\"))\n",
    "model_sq_imp.add(tf.keras.layers.Activation('relu'))\n",
    "# model_sq_imp.add(tf.keras.layers.BatchNormalization())\n",
    "model_sq_imp.add(tf.keras.layers.Dropout(rate=0.1))\n",
    "\n",
    "model_sq_imp.add(tf.keras.layers.Dense(60,kernel_regularizer=tf.keras.regularizers.l2(),kernel_initializer=keras.initializers.he_normal(seed=12),name=\"hidden_2\"))\n",
    "model_sq_imp.add(tf.keras.layers.Activation('relu'))\n",
    "# model_sq_imp.add(tf.keras.layers.BatchNormalization())\n",
    "model_sq_imp.add(tf.keras.layers.Dropout(rate=0.1))\n",
    "\n",
    "model_sq_imp.add(tf.keras.layers.Dense(30,kernel_regularizer=tf.keras.regularizers.l2(),kernel_initializer=keras.initializers.he_normal(seed=12),name=\"hidden_3\"))\n",
    "model_sq_imp.add(tf.keras.layers.Activation('relu'))\n",
    "# model_sq_imp.add(tf.keras.layers.BatchNormalization())\n",
    "model_sq_imp.add(tf.keras.layers.Dropout(rate=0.1))\n",
    "\n",
    "model_sq_imp.add(keras.layers.Dense(1,activation=\"sigmoid\",name=\"output\"))\n",
    "\n",
    "# Improved Model compile\n",
    "model_sq_imp.compile(loss=\"binary_crossentropy\",\n",
    "              optimizer= keras.optimizers.Adamax(),\n",
    "              metrics=[keras.metrics.Recall()])\n",
    "\n"
   ]
  },
  {
   "cell_type": "markdown",
   "metadata": {},
   "source": [
    "#### Model Summary\n",
    "Experiment sequence model Summary"
   ]
  },
  {
   "cell_type": "code",
   "execution_count": null,
   "metadata": {},
   "outputs": [
    {
     "name": "stdout",
     "output_type": "stream",
     "text": [
      "Model: \"sequential_1\"\n",
      "_________________________________________________________________\n",
      " Layer (type)                Output Shape              Param #   \n",
      "=================================================================\n",
      " Input (Dense)               (None, 240)               9120      \n",
      "                                                                 \n",
      " hidden_1 (Dense)            (None, 120)               28920     \n",
      "                                                                 \n",
      " activation (Activation)     (None, 120)               0         \n",
      "                                                                 \n",
      " dropout (Dropout)           (None, 120)               0         \n",
      "                                                                 \n",
      " hidden_2 (Dense)            (None, 60)                7260      \n",
      "                                                                 \n",
      " activation_1 (Activation)   (None, 60)                0         \n",
      "                                                                 \n",
      " dropout_1 (Dropout)         (None, 60)                0         \n",
      "                                                                 \n",
      " hidden_3 (Dense)            (None, 30)                1830      \n",
      "                                                                 \n",
      " activation_2 (Activation)   (None, 30)                0         \n",
      "                                                                 \n",
      " dropout_2 (Dropout)         (None, 30)                0         \n",
      "                                                                 \n",
      " output (Dense)              (None, 1)                 31        \n",
      "                                                                 \n",
      "=================================================================\n",
      "Total params: 47,161\n",
      "Trainable params: 47,161\n",
      "Non-trainable params: 0\n",
      "_________________________________________________________________\n"
     ]
    }
   ],
   "source": [
    "model_sq_imp.summary()"
   ]
  },
  {
   "cell_type": "code",
   "execution_count": null,
   "metadata": {},
   "outputs": [
    {
     "data": {
      "image/png": "[encoded data removed]",
      "text/plain": [
       "<IPython.core.display.Image object>"
      ]
     },
     "execution_count": 219,
     "metadata": {},
     "output_type": "execute_result"
    }
   ],
   "source": [
    "keras.utils.plot_model(model_sq_imp, \"my_fashion_mnist_model.png\", show_shapes=True)"
   ]
  },
  {
   "cell_type": "markdown",
   "metadata": {},
   "source": [
    "## Functional API"
   ]
  },
  {
   "cell_type": "markdown",
   "metadata": {},
   "source": [
    "ANN Model wit functional API"
   ]
  },
  {
   "cell_type": "markdown",
   "metadata": {},
   "source": [
    "### Base Model"
   ]
  },
  {
   "cell_type": "markdown",
   "metadata": {},
   "source": [
    "Simple ANN Model"
   ]
  },
  {
   "cell_type": "code",
   "execution_count": null,
   "metadata": {},
   "outputs": [],
   "source": [
    "# define model functional\n",
    "input_ = keras.layers.Input(shape=(37,),name=\"Input\")\n",
    "hidden2 = keras.layers.Dense(16, activation=\"sigmoid\",name='hidden_2')(input_)\n",
    "output = keras.layers.Dense(1, activation=\"sigmoid\",name=\"output\")(hidden2)\n",
    "model_func = keras.models.Model(inputs=[input_], outputs=[output])\n",
    "# Complie Model\n",
    "model_func.compile(loss=\"binary_crossentropy\",\n",
    "              optimizer=keras.optimizers.SGD(learning_rate=0.005),\n",
    "              metrics=[keras.metrics.Recall()])\n"
   ]
  },
  {
   "cell_type": "markdown",
   "metadata": {},
   "source": [
    "#### Model Summary"
   ]
  },
  {
   "cell_type": "code",
   "execution_count": null,
   "metadata": {},
   "outputs": [
    {
     "name": "stdout",
     "output_type": "stream",
     "text": [
      "Model: \"model\"\n",
      "_________________________________________________________________\n",
      " Layer (type)                Output Shape              Param #   \n",
      "=================================================================\n",
      " Input (InputLayer)          [(None, 37)]              0         \n",
      "                                                                 \n",
      " hidden_2 (Dense)            (None, 16)                608       \n",
      "                                                                 \n",
      " output (Dense)              (None, 1)                 17        \n",
      "                                                                 \n",
      "=================================================================\n",
      "Total params: 625\n",
      "Trainable params: 625\n",
      "Non-trainable params: 0\n",
      "_________________________________________________________________\n"
     ]
    }
   ],
   "source": [
    "model_func.summary()"
   ]
  },
  {
   "cell_type": "code",
   "execution_count": null,
   "metadata": {},
   "outputs": [
    {
     "data": {
      "image/png": "[encoded data removed]",
      "text/plain": [
       "<IPython.core.display.Image object>"
      ]
     },
     "execution_count": 222,
     "metadata": {},
     "output_type": "execute_result"
    }
   ],
   "source": [
    "keras.utils.plot_model(model_func, \"my_fashion_mnist_model.png\", show_shapes=True)"
   ]
  },
  {
   "cell_type": "markdown",
   "metadata": {},
   "source": [
    "### Improvement Model"
   ]
  },
  {
   "cell_type": "markdown",
   "metadata": {},
   "source": [
    "Experiment with ANN Model Functional API\n",
    "Improved model consist with \n",
    "- more **Neuron** \n",
    "- 1 Concate with 3 hidden layers\n",
    "- kernel initializer\n",
    "- reguarization\n",
    "- SGD optimizer with learning rate 0.001"
   ]
  },
  {
   "cell_type": "code",
   "execution_count": null,
   "metadata": {},
   "outputs": [],
   "source": [
    "# define model functional\n",
    "input_ = keras.layers.Input(shape=(37,),name=\"Input\")\n",
    "hidden1 = keras.layers.Dense(90,kernel_regularizer=tf.keras.regularizers.l2(), kernel_initializer=keras.initializers.he_normal(seed=12),activation=\"relu\",name='hidden_1')(input_)\n",
    "hidden2 = keras.layers.Dense(30,kernel_regularizer=tf.keras.regularizers.l2(), kernel_initializer=keras.initializers.he_normal(seed=12),activation=\"relu\",name='hidden_2')(hidden1)\n",
    "hidden3 = keras.layers.Dense(10,kernel_regularizer=tf.keras.regularizers.l2(), kernel_initializer=keras.initializers.he_normal(seed=12),activation=\"relu\",name='hidden_3')(hidden2)\n",
    "concat_0 = keras.layers.concatenate([input_, hidden3])\n",
    "output = keras.layers.Dense(1, activation=\"sigmoid\",name=\"output\")(concat_0)\n",
    "model_func_imp = keras.models.Model(inputs=[input_], outputs=[output])\n",
    "# Complie Model loss binary_crossentropy and recall\n",
    "model_func_imp.compile(loss=\"binary_crossentropy\",\n",
    "              optimizer=keras.optimizers.SGD(learning_rate=0.001),\n",
    "              metrics=[keras.metrics.Recall()])"
   ]
  },
  {
   "cell_type": "markdown",
   "metadata": {},
   "source": [
    "#### Model Summary\n",
    "\n"
   ]
  },
  {
   "cell_type": "markdown",
   "metadata": {},
   "source": [
    "model summary for experimental ANN Functional API"
   ]
  },
  {
   "cell_type": "code",
   "execution_count": null,
   "metadata": {},
   "outputs": [
    {
     "name": "stdout",
     "output_type": "stream",
     "text": [
      "Model: \"model_1\"\n",
      "__________________________________________________________________________________________________\n",
      " Layer (type)                   Output Shape         Param #     Connected to                     \n",
      "==================================================================================================\n",
      " Input (InputLayer)             [(None, 37)]         0           []                               \n",
      "                                                                                                  \n",
      " hidden_1 (Dense)               (None, 90)           3420        ['Input[0][0]']                  \n",
      "                                                                                                  \n",
      " hidden_2 (Dense)               (None, 30)           2730        ['hidden_1[0][0]']               \n",
      "                                                                                                  \n",
      " hidden_3 (Dense)               (None, 10)           310         ['hidden_2[0][0]']               \n",
      "                                                                                                  \n",
      " concatenate (Concatenate)      (None, 47)           0           ['Input[0][0]',                  \n",
      "                                                                  'hidden_3[0][0]']               \n",
      "                                                                                                  \n",
      " output (Dense)                 (None, 1)            48          ['concatenate[0][0]']            \n",
      "                                                                                                  \n",
      "==================================================================================================\n",
      "Total params: 6,508\n",
      "Trainable params: 6,508\n",
      "Non-trainable params: 0\n",
      "__________________________________________________________________________________________________\n"
     ]
    }
   ],
   "source": [
    "model_func_imp.summary()"
   ]
  },
  {
   "cell_type": "code",
   "execution_count": null,
   "metadata": {},
   "outputs": [
    {
     "data": {
      "image/png": "[encoded data removed]",
      "text/plain": [
       "<IPython.core.display.Image object>"
      ]
     },
     "execution_count": 225,
     "metadata": {},
     "output_type": "execute_result"
    }
   ],
   "source": [
    "keras.utils.plot_model(model_func_imp, \"my_fashion_mnist_model.png\", show_shapes=True)"
   ]
  },
  {
   "cell_type": "markdown",
   "metadata": {},
   "source": [
    "# VII. Model Training"
   ]
  },
  {
   "cell_type": "markdown",
   "metadata": {},
   "source": [
    "For evaluating the result, here using the **Recall** metrics"
   ]
  },
  {
   "cell_type": "markdown",
   "metadata": {},
   "source": [
    "## Sequential API"
   ]
  },
  {
   "cell_type": "markdown",
   "metadata": {},
   "source": [
    "Train and Evaluate model on Sequentiial Model"
   ]
  },
  {
   "cell_type": "markdown",
   "metadata": {},
   "source": [
    "**Base Model**"
   ]
  },
  {
   "cell_type": "markdown",
   "metadata": {},
   "source": [
    "Train with **104 epochs** and **early stopping callback**"
   ]
  },
  {
   "cell_type": "code",
   "execution_count": null,
   "metadata": {},
   "outputs": [
    {
     "name": "stdout",
     "output_type": "stream",
     "text": [
      "Epoch 1/104\n",
      "42/42 [==============================] - 0s 3ms/step - loss: 0.4632 - recall: 0.7973 - val_loss: 0.4616 - val_recall: 0.8534\n",
      "Epoch 2/104\n",
      "42/42 [==============================] - 0s 3ms/step - loss: 0.4662 - recall: 0.8052 - val_loss: 0.4664 - val_recall: 0.8586\n",
      "Epoch 3/104\n",
      "42/42 [==============================] - 0s 3ms/step - loss: 0.4689 - recall: 0.8072 - val_loss: 0.4616 - val_recall: 0.8607\n",
      "Epoch 4/104\n",
      "42/42 [==============================] - 0s 3ms/step - loss: 0.4659 - recall: 0.8113 - val_loss: 0.4615 - val_recall: 0.8513\n",
      "Epoch 5/104\n",
      "42/42 [==============================] - 0s 3ms/step - loss: 0.4607 - recall: 0.8117 - val_loss: 0.4593 - val_recall: 0.8503\n",
      "Epoch 6/104\n",
      "42/42 [==============================] - 0s 3ms/step - loss: 0.4558 - recall: 0.8100 - val_loss: 0.4612 - val_recall: 0.8429\n",
      "Epoch 7/104\n",
      "42/42 [==============================] - 0s 3ms/step - loss: 0.4553 - recall: 0.8090 - val_loss: 0.4606 - val_recall: 0.8429\n",
      "Epoch 8/104\n",
      "42/42 [==============================] - 0s 3ms/step - loss: 0.4545 - recall: 0.8093 - val_loss: 0.4631 - val_recall: 0.8450\n",
      "Epoch 9/104\n",
      "42/42 [==============================] - 0s 3ms/step - loss: 0.4539 - recall: 0.8096 - val_loss: 0.4601 - val_recall: 0.8440\n",
      "Epoch 10/104\n",
      "42/42 [==============================] - 0s 3ms/step - loss: 0.4525 - recall: 0.8090 - val_loss: 0.4626 - val_recall: 0.8429\n",
      "Epoch 11/104\n",
      "42/42 [==============================] - 0s 3ms/step - loss: 0.4532 - recall: 0.8144 - val_loss: 0.4611 - val_recall: 0.8461\n",
      "Epoch 12/104\n",
      "42/42 [==============================] - 0s 3ms/step - loss: 0.4532 - recall: 0.8131 - val_loss: 0.4662 - val_recall: 0.8461\n",
      "Epoch 13/104\n",
      "42/42 [==============================] - 0s 3ms/step - loss: 0.4565 - recall: 0.8120 - val_loss: 0.4616 - val_recall: 0.8513\n",
      "Epoch 14/104\n",
      "42/42 [==============================] - 0s 3ms/step - loss: 0.4533 - recall: 0.8134 - val_loss: 0.4637 - val_recall: 0.8440\n",
      "Epoch 15/104\n",
      "42/42 [==============================] - 0s 3ms/step - loss: 0.4525 - recall: 0.8103 - val_loss: 0.4622 - val_recall: 0.8471\n"
     ]
    }
   ],
   "source": [
    "history_sq = model_sq.fit(train_final, epochs=104,\n",
    "                    validation_data=val_final,\n",
    "                    callbacks=[early_stopping_cb])"
   ]
  },
  {
   "cell_type": "markdown",
   "metadata": {},
   "source": [
    "**Improvement Model**"
   ]
  },
  {
   "cell_type": "code",
   "execution_count": null,
   "metadata": {},
   "outputs": [
    {
     "name": "stdout",
     "output_type": "stream",
     "text": [
      "Epoch 1/104\n",
      "42/42 [==============================] - 0s 5ms/step - loss: 0.5265 - recall_4: 0.9077 - val_loss: 0.5181 - val_recall_4: 0.9246\n",
      "Epoch 2/104\n",
      "42/42 [==============================] - 0s 5ms/step - loss: 0.4853 - recall_4: 0.9125 - val_loss: 0.5141 - val_recall_4: 0.9236\n",
      "Epoch 3/104\n",
      "42/42 [==============================] - 0s 5ms/step - loss: 0.4823 - recall_4: 0.9053 - val_loss: 0.5124 - val_recall_4: 0.9204\n",
      "Epoch 4/104\n",
      "42/42 [==============================] - 0s 5ms/step - loss: 0.4822 - recall_4: 0.9094 - val_loss: 0.5133 - val_recall_4: 0.9194\n",
      "Epoch 5/104\n",
      "42/42 [==============================] - 0s 5ms/step - loss: 0.4829 - recall_4: 0.8982 - val_loss: 0.5118 - val_recall_4: 0.9079\n",
      "Epoch 6/104\n",
      "42/42 [==============================] - 0s 5ms/step - loss: 0.4809 - recall_4: 0.8896 - val_loss: 0.5120 - val_recall_4: 0.9089\n",
      "Epoch 7/104\n",
      "42/42 [==============================] - 0s 5ms/step - loss: 0.4804 - recall_4: 0.8958 - val_loss: 0.5110 - val_recall_4: 0.9068\n",
      "Epoch 8/104\n",
      "42/42 [==============================] - 0s 5ms/step - loss: 0.4796 - recall_4: 0.8903 - val_loss: 0.5119 - val_recall_4: 0.9047\n",
      "Epoch 9/104\n",
      "42/42 [==============================] - 0s 5ms/step - loss: 0.4842 - recall_4: 0.8995 - val_loss: 0.5106 - val_recall_4: 0.9037\n",
      "Epoch 10/104\n",
      "42/42 [==============================] - 0s 5ms/step - loss: 0.4825 - recall_4: 0.8831 - val_loss: 0.5097 - val_recall_4: 0.9026\n",
      "Epoch 11/104\n",
      "42/42 [==============================] - 0s 5ms/step - loss: 0.4817 - recall_4: 0.8958 - val_loss: 0.5104 - val_recall_4: 0.9016\n",
      "Epoch 12/104\n",
      "42/42 [==============================] - 0s 5ms/step - loss: 0.4799 - recall_4: 0.8852 - val_loss: 0.5100 - val_recall_4: 0.9005\n",
      "Epoch 13/104\n",
      "42/42 [==============================] - 0s 5ms/step - loss: 0.4789 - recall_4: 0.9005 - val_loss: 0.5102 - val_recall_4: 0.8995\n",
      "Epoch 14/104\n",
      "42/42 [==============================] - 0s 5ms/step - loss: 0.4810 - recall_4: 0.8787 - val_loss: 0.5089 - val_recall_4: 0.8995\n",
      "Epoch 15/104\n",
      "42/42 [==============================] - 0s 5ms/step - loss: 0.4805 - recall_4: 0.8954 - val_loss: 0.5094 - val_recall_4: 0.9005\n",
      "Epoch 16/104\n",
      "42/42 [==============================] - 0s 5ms/step - loss: 0.4833 - recall_4: 0.8807 - val_loss: 0.5085 - val_recall_4: 0.8995\n",
      "Epoch 17/104\n",
      "42/42 [==============================] - 0s 5ms/step - loss: 0.4783 - recall_4: 0.8944 - val_loss: 0.5092 - val_recall_4: 0.8995\n",
      "Epoch 18/104\n",
      "42/42 [==============================] - 0s 5ms/step - loss: 0.4799 - recall_4: 0.8780 - val_loss: 0.5089 - val_recall_4: 0.8995\n",
      "Epoch 19/104\n",
      "42/42 [==============================] - 0s 5ms/step - loss: 0.4786 - recall_4: 0.8923 - val_loss: 0.5093 - val_recall_4: 0.8984\n",
      "Epoch 20/104\n",
      "42/42 [==============================] - 0s 5ms/step - loss: 0.4819 - recall_4: 0.8797 - val_loss: 0.5079 - val_recall_4: 0.8984\n",
      "Epoch 21/104\n",
      "42/42 [==============================] - 0s 5ms/step - loss: 0.4773 - recall_4: 0.8944 - val_loss: 0.5088 - val_recall_4: 0.8995\n",
      "Epoch 22/104\n",
      "42/42 [==============================] - 0s 5ms/step - loss: 0.4820 - recall_4: 0.8804 - val_loss: 0.5069 - val_recall_4: 0.8953\n",
      "Epoch 23/104\n",
      "42/42 [==============================] - 0s 5ms/step - loss: 0.4757 - recall_4: 0.8947 - val_loss: 0.5095 - val_recall_4: 0.8984\n",
      "Epoch 24/104\n",
      "42/42 [==============================] - 0s 5ms/step - loss: 0.4767 - recall_4: 0.8838 - val_loss: 0.5094 - val_recall_4: 0.8974\n",
      "Epoch 25/104\n",
      "42/42 [==============================] - 0s 5ms/step - loss: 0.4792 - recall_4: 0.8886 - val_loss: 0.5086 - val_recall_4: 0.8984\n",
      "Epoch 26/104\n",
      "42/42 [==============================] - 0s 5ms/step - loss: 0.4795 - recall_4: 0.8783 - val_loss: 0.5071 - val_recall_4: 0.8953\n",
      "Epoch 27/104\n",
      "42/42 [==============================] - 0s 5ms/step - loss: 0.4740 - recall_4: 0.8944 - val_loss: 0.5082 - val_recall_4: 0.8974\n",
      "Epoch 28/104\n",
      "42/42 [==============================] - 0s 5ms/step - loss: 0.4803 - recall_4: 0.8814 - val_loss: 0.5076 - val_recall_4: 0.8963\n",
      "Epoch 29/104\n",
      "42/42 [==============================] - 0s 5ms/step - loss: 0.4759 - recall_4: 0.8900 - val_loss: 0.5080 - val_recall_4: 0.8953\n",
      "Epoch 30/104\n",
      "42/42 [==============================] - 0s 5ms/step - loss: 0.4773 - recall_4: 0.8845 - val_loss: 0.5076 - val_recall_4: 0.8953\n",
      "Epoch 31/104\n",
      "42/42 [==============================] - 0s 5ms/step - loss: 0.4775 - recall_4: 0.8927 - val_loss: 0.5074 - val_recall_4: 0.8974\n",
      "Epoch 32/104\n",
      "42/42 [==============================] - 0s 5ms/step - loss: 0.4778 - recall_4: 0.8828 - val_loss: 0.5079 - val_recall_4: 0.8953\n"
     ]
    }
   ],
   "source": [
    "history_sq_imp = model_sq_imp.fit(train_final, epochs=104,\n",
    "                    validation_data=val_final,class_weight = { 0.0 : 0.8 , 1.0 : 1.2 },\n",
    "                    callbacks=[early_stopping_cb]) #class_weight = { 0.0 : 0.7 , 1.0 : 1.4 }"
   ]
  },
  {
   "cell_type": "markdown",
   "metadata": {},
   "source": [
    "### Compare Result"
   ]
  },
  {
   "cell_type": "code",
   "execution_count": null,
   "metadata": {},
   "outputs": [
    {
     "data": {
      "text/plain": [
       "Text(0.5, 1.0, 'Improved Model Sequential')"
      ]
     },
     "execution_count": 294,
     "metadata": {},
     "output_type": "execute_result"
    },
    {
     "data": {
      "image/png": "[encoded data removed]",
      "text/plain": [
       "<Figure size 1440x576 with 2 Axes>"
      ]
     },
     "metadata": {
      "needs_background": "light"
     },
     "output_type": "display_data"
    }
   ],
   "source": [
    "fig,ax = plt.subplots(ncols= 2,figsize=(20,8))\n",
    "\n",
    "sns.lineplot(data=pd.DataFrame(history_sq.history),ax=ax[0])\n",
    "ax[0].set_title(\"Base Model Sequential\",fontsize= 16)\n",
    "\n",
    "sns.lineplot(data=pd.DataFrame(history_sq_imp.history),ax=ax[1])\n",
    "ax[1].set_title(\"Improved Model Sequential\",fontsize= 16)"
   ]
  },
  {
   "cell_type": "markdown",
   "metadata": {},
   "source": [
    "compare the train and validation **loss and recall score**\n",
    "model sequential improved has **slow step to reduce loss** but has **consistency on Recall score**"
   ]
  },
  {
   "cell_type": "markdown",
   "metadata": {},
   "source": [
    "## Functional API"
   ]
  },
  {
   "cell_type": "markdown",
   "metadata": {},
   "source": [
    "train and evaluate model on Functional API"
   ]
  },
  {
   "cell_type": "markdown",
   "metadata": {},
   "source": [
    "**Base Model**"
   ]
  },
  {
   "cell_type": "code",
   "execution_count": null,
   "metadata": {},
   "outputs": [
    {
     "name": "stdout",
     "output_type": "stream",
     "text": [
      "Epoch 1/104\n",
      "42/42 [==============================] - 1s 9ms/step - loss: 0.7260 - recall_2: 0.0889 - val_loss: 0.7148 - val_recall_2: 0.2325\n",
      "Epoch 2/104\n",
      "42/42 [==============================] - 0s 2ms/step - loss: 0.7160 - recall_2: 0.1596 - val_loss: 0.7065 - val_recall_2: 0.3319\n",
      "Epoch 3/104\n",
      "42/42 [==============================] - 0s 2ms/step - loss: 0.7084 - recall_2: 0.2437 - val_loss: 0.7000 - val_recall_2: 0.4000\n",
      "Epoch 4/104\n",
      "42/42 [==============================] - 0s 3ms/step - loss: 0.7022 - recall_2: 0.3250 - val_loss: 0.6946 - val_recall_2: 0.5780\n",
      "Epoch 5/104\n",
      "42/42 [==============================] - 0s 2ms/step - loss: 0.6968 - recall_2: 0.4016 - val_loss: 0.6896 - val_recall_2: 0.6230\n",
      "Epoch 6/104\n",
      "42/42 [==============================] - 0s 2ms/step - loss: 0.6918 - recall_2: 0.4610 - val_loss: 0.6850 - val_recall_2: 0.6471\n",
      "Epoch 7/104\n",
      "42/42 [==============================] - 0s 2ms/step - loss: 0.6870 - recall_2: 0.5062 - val_loss: 0.6806 - val_recall_2: 0.6796\n",
      "Epoch 8/104\n",
      "42/42 [==============================] - 0s 3ms/step - loss: 0.6825 - recall_2: 0.5451 - val_loss: 0.6763 - val_recall_2: 0.7665\n",
      "Epoch 9/104\n",
      "42/42 [==============================] - 0s 2ms/step - loss: 0.6780 - recall_2: 0.5789 - val_loss: 0.6721 - val_recall_2: 0.8105\n",
      "Epoch 10/104\n",
      "42/42 [==============================] - 0s 2ms/step - loss: 0.6737 - recall_2: 0.6114 - val_loss: 0.6680 - val_recall_2: 0.8524\n",
      "Epoch 11/104\n",
      "42/42 [==============================] - 0s 3ms/step - loss: 0.6694 - recall_2: 0.6408 - val_loss: 0.6640 - val_recall_2: 0.8691\n",
      "Epoch 12/104\n",
      "42/42 [==============================] - 0s 2ms/step - loss: 0.6653 - recall_2: 0.6651 - val_loss: 0.6601 - val_recall_2: 0.8974\n",
      "Epoch 13/104\n",
      "42/42 [==============================] - 0s 3ms/step - loss: 0.6612 - recall_2: 0.6917 - val_loss: 0.6563 - val_recall_2: 0.9099\n",
      "Epoch 14/104\n",
      "42/42 [==============================] - 0s 2ms/step - loss: 0.6572 - recall_2: 0.7160 - val_loss: 0.6525 - val_recall_2: 0.9152\n",
      "Epoch 15/104\n",
      "42/42 [==============================] - 0s 2ms/step - loss: 0.6533 - recall_2: 0.7327 - val_loss: 0.6488 - val_recall_2: 0.9298\n",
      "Epoch 16/104\n",
      "42/42 [==============================] - 0s 3ms/step - loss: 0.6495 - recall_2: 0.7430 - val_loss: 0.6452 - val_recall_2: 0.9330\n",
      "Epoch 17/104\n",
      "42/42 [==============================] - 0s 2ms/step - loss: 0.6458 - recall_2: 0.7573 - val_loss: 0.6417 - val_recall_2: 0.9319\n",
      "Epoch 18/104\n",
      "42/42 [==============================] - 0s 3ms/step - loss: 0.6421 - recall_2: 0.7700 - val_loss: 0.6383 - val_recall_2: 0.9351\n",
      "Epoch 19/104\n",
      "42/42 [==============================] - 0s 2ms/step - loss: 0.6385 - recall_2: 0.7823 - val_loss: 0.6349 - val_recall_2: 0.9351\n",
      "Epoch 20/104\n",
      "42/42 [==============================] - 0s 3ms/step - loss: 0.6350 - recall_2: 0.7891 - val_loss: 0.6316 - val_recall_2: 0.9351\n",
      "Epoch 21/104\n",
      "42/42 [==============================] - 0s 3ms/step - loss: 0.6316 - recall_2: 0.7977 - val_loss: 0.6284 - val_recall_2: 0.9246\n",
      "Epoch 22/104\n",
      "42/42 [==============================] - 0s 2ms/step - loss: 0.6282 - recall_2: 0.7990 - val_loss: 0.6252 - val_recall_2: 0.8984\n",
      "Epoch 23/104\n",
      "42/42 [==============================] - 0s 2ms/step - loss: 0.6249 - recall_2: 0.8083 - val_loss: 0.6221 - val_recall_2: 0.8974\n",
      "Epoch 24/104\n",
      "42/42 [==============================] - 0s 2ms/step - loss: 0.6217 - recall_2: 0.8141 - val_loss: 0.6190 - val_recall_2: 0.8953\n",
      "Epoch 25/104\n",
      "42/42 [==============================] - 0s 2ms/step - loss: 0.6185 - recall_2: 0.8189 - val_loss: 0.6161 - val_recall_2: 0.8942\n",
      "Epoch 26/104\n",
      "42/42 [==============================] - 0s 2ms/step - loss: 0.6154 - recall_2: 0.8223 - val_loss: 0.6131 - val_recall_2: 0.8911\n",
      "Epoch 27/104\n",
      "42/42 [==============================] - 0s 2ms/step - loss: 0.6123 - recall_2: 0.8264 - val_loss: 0.6103 - val_recall_2: 0.8921\n",
      "Epoch 28/104\n",
      "42/42 [==============================] - 0s 2ms/step - loss: 0.6093 - recall_2: 0.8291 - val_loss: 0.6075 - val_recall_2: 0.8880\n",
      "Epoch 29/104\n",
      "42/42 [==============================] - 0s 3ms/step - loss: 0.6064 - recall_2: 0.8312 - val_loss: 0.6047 - val_recall_2: 0.8880\n",
      "Epoch 30/104\n",
      "42/42 [==============================] - 0s 3ms/step - loss: 0.6035 - recall_2: 0.8325 - val_loss: 0.6020 - val_recall_2: 0.8869\n",
      "Epoch 31/104\n",
      "42/42 [==============================] - 0s 2ms/step - loss: 0.6007 - recall_2: 0.8346 - val_loss: 0.5993 - val_recall_2: 0.8869\n",
      "Epoch 32/104\n",
      "42/42 [==============================] - 0s 2ms/step - loss: 0.5979 - recall_2: 0.8349 - val_loss: 0.5967 - val_recall_2: 0.8848\n",
      "Epoch 33/104\n",
      "42/42 [==============================] - 0s 2ms/step - loss: 0.5952 - recall_2: 0.8325 - val_loss: 0.5942 - val_recall_2: 0.8827\n",
      "Epoch 34/104\n",
      "42/42 [==============================] - 0s 2ms/step - loss: 0.5925 - recall_2: 0.8332 - val_loss: 0.5917 - val_recall_2: 0.8817\n",
      "Epoch 35/104\n",
      "42/42 [==============================] - 0s 2ms/step - loss: 0.5899 - recall_2: 0.8346 - val_loss: 0.5892 - val_recall_2: 0.8817\n",
      "Epoch 36/104\n",
      "42/42 [==============================] - 0s 2ms/step - loss: 0.5873 - recall_2: 0.8349 - val_loss: 0.5868 - val_recall_2: 0.8806\n",
      "Epoch 37/104\n",
      "42/42 [==============================] - 0s 3ms/step - loss: 0.5848 - recall_2: 0.8353 - val_loss: 0.5845 - val_recall_2: 0.8806\n",
      "Epoch 38/104\n",
      "42/42 [==============================] - 0s 3ms/step - loss: 0.5823 - recall_2: 0.8360 - val_loss: 0.5822 - val_recall_2: 0.8806\n",
      "Epoch 39/104\n",
      "42/42 [==============================] - 0s 2ms/step - loss: 0.5799 - recall_2: 0.8353 - val_loss: 0.5799 - val_recall_2: 0.8785\n",
      "Epoch 40/104\n",
      "42/42 [==============================] - 0s 3ms/step - loss: 0.5775 - recall_2: 0.8356 - val_loss: 0.5777 - val_recall_2: 0.8785\n",
      "Epoch 41/104\n",
      "42/42 [==============================] - 0s 3ms/step - loss: 0.5752 - recall_2: 0.8360 - val_loss: 0.5755 - val_recall_2: 0.8785\n",
      "Epoch 42/104\n",
      "42/42 [==============================] - 0s 3ms/step - loss: 0.5729 - recall_2: 0.8370 - val_loss: 0.5734 - val_recall_2: 0.8775\n",
      "Epoch 43/104\n",
      "42/42 [==============================] - 0s 2ms/step - loss: 0.5706 - recall_2: 0.8370 - val_loss: 0.5713 - val_recall_2: 0.8785\n",
      "Epoch 44/104\n",
      "42/42 [==============================] - 0s 2ms/step - loss: 0.5684 - recall_2: 0.8370 - val_loss: 0.5692 - val_recall_2: 0.8775\n",
      "Epoch 45/104\n",
      "42/42 [==============================] - 0s 3ms/step - loss: 0.5663 - recall_2: 0.8383 - val_loss: 0.5672 - val_recall_2: 0.8775\n",
      "Epoch 46/104\n",
      "42/42 [==============================] - 0s 2ms/step - loss: 0.5641 - recall_2: 0.8383 - val_loss: 0.5652 - val_recall_2: 0.8775\n",
      "Epoch 47/104\n",
      "42/42 [==============================] - 0s 3ms/step - loss: 0.5621 - recall_2: 0.8383 - val_loss: 0.5633 - val_recall_2: 0.8743\n",
      "Epoch 48/104\n",
      "42/42 [==============================] - 0s 3ms/step - loss: 0.5600 - recall_2: 0.8377 - val_loss: 0.5614 - val_recall_2: 0.8743\n",
      "Epoch 49/104\n",
      "42/42 [==============================] - 0s 3ms/step - loss: 0.5580 - recall_2: 0.8370 - val_loss: 0.5595 - val_recall_2: 0.8733\n",
      "Epoch 50/104\n",
      "42/42 [==============================] - 0s 3ms/step - loss: 0.5561 - recall_2: 0.8373 - val_loss: 0.5577 - val_recall_2: 0.8733\n",
      "Epoch 51/104\n",
      "42/42 [==============================] - 0s 3ms/step - loss: 0.5542 - recall_2: 0.8363 - val_loss: 0.5559 - val_recall_2: 0.8733\n",
      "Epoch 52/104\n",
      "42/42 [==============================] - 0s 3ms/step - loss: 0.5523 - recall_2: 0.8363 - val_loss: 0.5542 - val_recall_2: 0.8733\n",
      "Epoch 53/104\n",
      "42/42 [==============================] - 0s 3ms/step - loss: 0.5504 - recall_2: 0.8360 - val_loss: 0.5525 - val_recall_2: 0.8723\n",
      "Epoch 54/104\n",
      "42/42 [==============================] - 0s 3ms/step - loss: 0.5486 - recall_2: 0.8356 - val_loss: 0.5508 - val_recall_2: 0.8702\n",
      "Epoch 55/104\n",
      "42/42 [==============================] - 0s 3ms/step - loss: 0.5469 - recall_2: 0.8353 - val_loss: 0.5492 - val_recall_2: 0.8712\n",
      "Epoch 56/104\n",
      "42/42 [==============================] - 0s 3ms/step - loss: 0.5451 - recall_2: 0.8346 - val_loss: 0.5476 - val_recall_2: 0.8712\n",
      "Epoch 57/104\n",
      "42/42 [==============================] - 0s 3ms/step - loss: 0.5435 - recall_2: 0.8346 - val_loss: 0.5460 - val_recall_2: 0.8712\n",
      "Epoch 58/104\n",
      "42/42 [==============================] - 0s 3ms/step - loss: 0.5418 - recall_2: 0.8342 - val_loss: 0.5445 - val_recall_2: 0.8702\n",
      "Epoch 59/104\n",
      "42/42 [==============================] - 0s 3ms/step - loss: 0.5402 - recall_2: 0.8336 - val_loss: 0.5430 - val_recall_2: 0.8691\n",
      "Epoch 60/104\n",
      "42/42 [==============================] - 0s 3ms/step - loss: 0.5386 - recall_2: 0.8336 - val_loss: 0.5415 - val_recall_2: 0.8681\n",
      "Epoch 61/104\n",
      "42/42 [==============================] - 0s 3ms/step - loss: 0.5370 - recall_2: 0.8332 - val_loss: 0.5401 - val_recall_2: 0.8681\n",
      "Epoch 62/104\n",
      "42/42 [==============================] - 0s 3ms/step - loss: 0.5355 - recall_2: 0.8332 - val_loss: 0.5387 - val_recall_2: 0.8670\n",
      "Epoch 63/104\n",
      "42/42 [==============================] - 0s 3ms/step - loss: 0.5340 - recall_2: 0.8322 - val_loss: 0.5373 - val_recall_2: 0.8670\n",
      "Epoch 64/104\n",
      "42/42 [==============================] - 0s 3ms/step - loss: 0.5326 - recall_2: 0.8325 - val_loss: 0.5360 - val_recall_2: 0.8670\n",
      "Epoch 65/104\n",
      "42/42 [==============================] - 0s 3ms/step - loss: 0.5312 - recall_2: 0.8325 - val_loss: 0.5347 - val_recall_2: 0.8660\n",
      "Epoch 66/104\n",
      "42/42 [==============================] - 0s 2ms/step - loss: 0.5298 - recall_2: 0.8322 - val_loss: 0.5334 - val_recall_2: 0.8649\n",
      "Epoch 67/104\n",
      "42/42 [==============================] - 0s 2ms/step - loss: 0.5284 - recall_2: 0.8312 - val_loss: 0.5321 - val_recall_2: 0.8628\n",
      "Epoch 68/104\n",
      "42/42 [==============================] - 0s 3ms/step - loss: 0.5271 - recall_2: 0.8305 - val_loss: 0.5309 - val_recall_2: 0.8628\n",
      "Epoch 69/104\n",
      "42/42 [==============================] - 0s 3ms/step - loss: 0.5258 - recall_2: 0.8305 - val_loss: 0.5297 - val_recall_2: 0.8628\n",
      "Epoch 70/104\n",
      "42/42 [==============================] - 0s 3ms/step - loss: 0.5245 - recall_2: 0.8301 - val_loss: 0.5285 - val_recall_2: 0.8597\n",
      "Epoch 71/104\n",
      "42/42 [==============================] - 0s 3ms/step - loss: 0.5232 - recall_2: 0.8301 - val_loss: 0.5274 - val_recall_2: 0.8586\n",
      "Epoch 72/104\n",
      "42/42 [==============================] - 0s 3ms/step - loss: 0.5220 - recall_2: 0.8298 - val_loss: 0.5263 - val_recall_2: 0.8586\n",
      "Epoch 73/104\n",
      "42/42 [==============================] - 0s 3ms/step - loss: 0.5208 - recall_2: 0.8295 - val_loss: 0.5252 - val_recall_2: 0.8565\n",
      "Epoch 74/104\n",
      "42/42 [==============================] - 0s 3ms/step - loss: 0.5197 - recall_2: 0.8291 - val_loss: 0.5241 - val_recall_2: 0.8565\n",
      "Epoch 75/104\n",
      "42/42 [==============================] - 0s 3ms/step - loss: 0.5185 - recall_2: 0.8295 - val_loss: 0.5231 - val_recall_2: 0.8565\n",
      "Epoch 76/104\n",
      "42/42 [==============================] - 0s 2ms/step - loss: 0.5174 - recall_2: 0.8291 - val_loss: 0.5220 - val_recall_2: 0.8565\n",
      "Epoch 77/104\n",
      "42/42 [==============================] - 0s 3ms/step - loss: 0.5163 - recall_2: 0.8291 - val_loss: 0.5210 - val_recall_2: 0.8555\n",
      "Epoch 78/104\n",
      "42/42 [==============================] - 0s 2ms/step - loss: 0.5153 - recall_2: 0.8288 - val_loss: 0.5201 - val_recall_2: 0.8555\n",
      "Epoch 79/104\n",
      "42/42 [==============================] - 0s 2ms/step - loss: 0.5142 - recall_2: 0.8281 - val_loss: 0.5191 - val_recall_2: 0.8555\n",
      "Epoch 80/104\n",
      "42/42 [==============================] - 0s 2ms/step - loss: 0.5132 - recall_2: 0.8278 - val_loss: 0.5182 - val_recall_2: 0.8545\n",
      "Epoch 81/104\n",
      "42/42 [==============================] - 0s 2ms/step - loss: 0.5122 - recall_2: 0.8278 - val_loss: 0.5173 - val_recall_2: 0.8534\n",
      "Epoch 82/104\n",
      "42/42 [==============================] - 0s 3ms/step - loss: 0.5113 - recall_2: 0.8274 - val_loss: 0.5164 - val_recall_2: 0.8524\n",
      "Epoch 83/104\n",
      "42/42 [==============================] - 0s 3ms/step - loss: 0.5103 - recall_2: 0.8274 - val_loss: 0.5155 - val_recall_2: 0.8524\n",
      "Epoch 84/104\n",
      "42/42 [==============================] - 0s 3ms/step - loss: 0.5094 - recall_2: 0.8271 - val_loss: 0.5147 - val_recall_2: 0.8513\n",
      "Epoch 85/104\n",
      "42/42 [==============================] - 0s 3ms/step - loss: 0.5085 - recall_2: 0.8271 - val_loss: 0.5138 - val_recall_2: 0.8513\n",
      "Epoch 86/104\n",
      "42/42 [==============================] - 0s 3ms/step - loss: 0.5076 - recall_2: 0.8267 - val_loss: 0.5130 - val_recall_2: 0.8513\n",
      "Epoch 87/104\n",
      "42/42 [==============================] - 0s 2ms/step - loss: 0.5068 - recall_2: 0.8264 - val_loss: 0.5122 - val_recall_2: 0.8513\n",
      "Epoch 88/104\n",
      "42/42 [==============================] - 0s 3ms/step - loss: 0.5059 - recall_2: 0.8264 - val_loss: 0.5115 - val_recall_2: 0.8503\n",
      "Epoch 89/104\n",
      "42/42 [==============================] - 0s 3ms/step - loss: 0.5051 - recall_2: 0.8271 - val_loss: 0.5107 - val_recall_2: 0.8503\n",
      "Epoch 90/104\n",
      "42/42 [==============================] - 0s 2ms/step - loss: 0.5043 - recall_2: 0.8271 - val_loss: 0.5100 - val_recall_2: 0.8492\n",
      "Epoch 91/104\n",
      "42/42 [==============================] - 0s 3ms/step - loss: 0.5035 - recall_2: 0.8264 - val_loss: 0.5092 - val_recall_2: 0.8492\n",
      "Epoch 92/104\n",
      "42/42 [==============================] - 0s 3ms/step - loss: 0.5027 - recall_2: 0.8264 - val_loss: 0.5085 - val_recall_2: 0.8482\n",
      "Epoch 93/104\n",
      "42/42 [==============================] - 0s 2ms/step - loss: 0.5020 - recall_2: 0.8264 - val_loss: 0.5078 - val_recall_2: 0.8482\n",
      "Epoch 94/104\n",
      "42/42 [==============================] - 0s 2ms/step - loss: 0.5013 - recall_2: 0.8257 - val_loss: 0.5072 - val_recall_2: 0.8482\n",
      "Epoch 95/104\n",
      "42/42 [==============================] - 0s 2ms/step - loss: 0.5005 - recall_2: 0.8257 - val_loss: 0.5065 - val_recall_2: 0.8461\n",
      "Epoch 96/104\n",
      "42/42 [==============================] - 0s 3ms/step - loss: 0.4998 - recall_2: 0.8257 - val_loss: 0.5059 - val_recall_2: 0.8461\n",
      "Epoch 97/104\n",
      "42/42 [==============================] - 0s 3ms/step - loss: 0.4991 - recall_2: 0.8257 - val_loss: 0.5052 - val_recall_2: 0.8461\n",
      "Epoch 98/104\n",
      "42/42 [==============================] - 0s 3ms/step - loss: 0.4985 - recall_2: 0.8254 - val_loss: 0.5046 - val_recall_2: 0.8450\n",
      "Epoch 99/104\n",
      "42/42 [==============================] - 0s 2ms/step - loss: 0.4978 - recall_2: 0.8254 - val_loss: 0.5040 - val_recall_2: 0.8450\n",
      "Epoch 100/104\n",
      "42/42 [==============================] - 0s 2ms/step - loss: 0.4972 - recall_2: 0.8250 - val_loss: 0.5034 - val_recall_2: 0.8450\n",
      "Epoch 101/104\n",
      "42/42 [==============================] - 0s 3ms/step - loss: 0.4966 - recall_2: 0.8247 - val_loss: 0.5028 - val_recall_2: 0.8450\n",
      "Epoch 102/104\n",
      "42/42 [==============================] - 0s 2ms/step - loss: 0.4960 - recall_2: 0.8247 - val_loss: 0.5023 - val_recall_2: 0.8440\n",
      "Epoch 103/104\n",
      "42/42 [==============================] - 0s 2ms/step - loss: 0.4954 - recall_2: 0.8243 - val_loss: 0.5017 - val_recall_2: 0.8440\n",
      "Epoch 104/104\n",
      "42/42 [==============================] - 0s 3ms/step - loss: 0.4948 - recall_2: 0.8237 - val_loss: 0.5012 - val_recall_2: 0.8419\n"
     ]
    }
   ],
   "source": [
    "\n",
    "history_fn = model_func.fit(train_final, epochs=104,\n",
    "                    validation_data=val_final,\n",
    "                    callbacks=[early_stopping_cb])"
   ]
  },
  {
   "cell_type": "markdown",
   "metadata": {},
   "source": [
    "**Improvement Model**"
   ]
  },
  {
   "cell_type": "code",
   "execution_count": null,
   "metadata": {},
   "outputs": [
    {
     "name": "stdout",
     "output_type": "stream",
     "text": [
      "Epoch 1/104\n",
      "42/42 [==============================] - 2s 10ms/step - loss: 3.4398 - recall_3: 0.1340 - val_loss: 3.4168 - val_recall_3: 0.1686\n",
      "Epoch 2/104\n",
      "42/42 [==============================] - 0s 3ms/step - loss: 3.4069 - recall_3: 0.2109 - val_loss: 3.3875 - val_recall_3: 0.2754\n",
      "Epoch 3/104\n",
      "42/42 [==============================] - 0s 3ms/step - loss: 3.3795 - recall_3: 0.2676 - val_loss: 3.3628 - val_recall_3: 0.3403\n",
      "Epoch 4/104\n",
      "42/42 [==============================] - 0s 3ms/step - loss: 3.3559 - recall_3: 0.3154 - val_loss: 3.3414 - val_recall_3: 0.4419\n",
      "Epoch 5/104\n",
      "42/42 [==============================] - 0s 3ms/step - loss: 3.3352 - recall_3: 0.4033 - val_loss: 3.3227 - val_recall_3: 0.5602\n",
      "Epoch 6/104\n",
      "42/42 [==============================] - 0s 3ms/step - loss: 3.3169 - recall_3: 0.4850 - val_loss: 3.3060 - val_recall_3: 0.6031\n",
      "Epoch 7/104\n",
      "42/42 [==============================] - 0s 3ms/step - loss: 3.3003 - recall_3: 0.5393 - val_loss: 3.2907 - val_recall_3: 0.6283\n",
      "Epoch 8/104\n",
      "42/42 [==============================] - 0s 3ms/step - loss: 3.2850 - recall_3: 0.5830 - val_loss: 3.2764 - val_recall_3: 0.6869\n",
      "Epoch 9/104\n",
      "42/42 [==============================] - 0s 3ms/step - loss: 3.2706 - recall_3: 0.6302 - val_loss: 3.2629 - val_recall_3: 0.7026\n",
      "Epoch 10/104\n",
      "42/42 [==============================] - 0s 3ms/step - loss: 3.2571 - recall_3: 0.6705 - val_loss: 3.2501 - val_recall_3: 0.7466\n",
      "Epoch 11/104\n",
      "42/42 [==============================] - 0s 3ms/step - loss: 3.2441 - recall_3: 0.6986 - val_loss: 3.2378 - val_recall_3: 0.7759\n",
      "Epoch 12/104\n",
      "42/42 [==============================] - 0s 3ms/step - loss: 3.2318 - recall_3: 0.7283 - val_loss: 3.2261 - val_recall_3: 0.7853\n",
      "Epoch 13/104\n",
      "42/42 [==============================] - 0s 3ms/step - loss: 3.2199 - recall_3: 0.7478 - val_loss: 3.2148 - val_recall_3: 0.7885\n",
      "Epoch 14/104\n",
      "42/42 [==============================] - 0s 3ms/step - loss: 3.2085 - recall_3: 0.7515 - val_loss: 3.2039 - val_recall_3: 0.8052\n",
      "Epoch 15/104\n",
      "42/42 [==============================] - 0s 3ms/step - loss: 3.1975 - recall_3: 0.7584 - val_loss: 3.1934 - val_recall_3: 0.8073\n",
      "Epoch 16/104\n",
      "42/42 [==============================] - 0s 3ms/step - loss: 3.1869 - recall_3: 0.7703 - val_loss: 3.1832 - val_recall_3: 0.8084\n",
      "Epoch 17/104\n",
      "42/42 [==============================] - 0s 3ms/step - loss: 3.1767 - recall_3: 0.7751 - val_loss: 3.1734 - val_recall_3: 0.8168\n",
      "Epoch 18/104\n",
      "42/42 [==============================] - 0s 3ms/step - loss: 3.1669 - recall_3: 0.7813 - val_loss: 3.1639 - val_recall_3: 0.8230\n",
      "Epoch 19/104\n",
      "42/42 [==============================] - 0s 3ms/step - loss: 3.1574 - recall_3: 0.7874 - val_loss: 3.1548 - val_recall_3: 0.8283\n",
      "Epoch 20/104\n",
      "42/42 [==============================] - 0s 3ms/step - loss: 3.1482 - recall_3: 0.7922 - val_loss: 3.1459 - val_recall_3: 0.8304\n",
      "Epoch 21/104\n",
      "42/42 [==============================] - 0s 3ms/step - loss: 3.1392 - recall_3: 0.7936 - val_loss: 3.1373 - val_recall_3: 0.8304\n",
      "Epoch 22/104\n",
      "42/42 [==============================] - 0s 3ms/step - loss: 3.1306 - recall_3: 0.7967 - val_loss: 3.1289 - val_recall_3: 0.8325\n",
      "Epoch 23/104\n",
      "42/42 [==============================] - 0s 3ms/step - loss: 3.1222 - recall_3: 0.8001 - val_loss: 3.1207 - val_recall_3: 0.8335\n",
      "Epoch 24/104\n",
      "42/42 [==============================] - 0s 3ms/step - loss: 3.1140 - recall_3: 0.8025 - val_loss: 3.1128 - val_recall_3: 0.8325\n",
      "Epoch 25/104\n",
      "42/42 [==============================] - 0s 3ms/step - loss: 3.1060 - recall_3: 0.8028 - val_loss: 3.1051 - val_recall_3: 0.8335\n",
      "Epoch 26/104\n",
      "42/42 [==============================] - 0s 3ms/step - loss: 3.0982 - recall_3: 0.8038 - val_loss: 3.0976 - val_recall_3: 0.8346\n",
      "Epoch 27/104\n",
      "42/42 [==============================] - 0s 3ms/step - loss: 3.0907 - recall_3: 0.8066 - val_loss: 3.0902 - val_recall_3: 0.8356\n",
      "Epoch 28/104\n",
      "42/42 [==============================] - 0s 3ms/step - loss: 3.0833 - recall_3: 0.8072 - val_loss: 3.0831 - val_recall_3: 0.8346\n",
      "Epoch 29/104\n",
      "42/42 [==============================] - 0s 3ms/step - loss: 3.0761 - recall_3: 0.8049 - val_loss: 3.0761 - val_recall_3: 0.8335\n",
      "Epoch 30/104\n",
      "42/42 [==============================] - 0s 3ms/step - loss: 3.0691 - recall_3: 0.8035 - val_loss: 3.0692 - val_recall_3: 0.8335\n",
      "Epoch 31/104\n",
      "42/42 [==============================] - 0s 3ms/step - loss: 3.0622 - recall_3: 0.8035 - val_loss: 3.0625 - val_recall_3: 0.8335\n",
      "Epoch 32/104\n",
      "42/42 [==============================] - 0s 3ms/step - loss: 3.0555 - recall_3: 0.8018 - val_loss: 3.0559 - val_recall_3: 0.8335\n",
      "Epoch 33/104\n",
      "42/42 [==============================] - 0s 3ms/step - loss: 3.0489 - recall_3: 0.8011 - val_loss: 3.0495 - val_recall_3: 0.8346\n",
      "Epoch 34/104\n",
      "42/42 [==============================] - 0s 3ms/step - loss: 3.0424 - recall_3: 0.8014 - val_loss: 3.0431 - val_recall_3: 0.8346\n",
      "Epoch 35/104\n",
      "42/42 [==============================] - 0s 3ms/step - loss: 3.0361 - recall_3: 0.8011 - val_loss: 3.0369 - val_recall_3: 0.8346\n",
      "Epoch 36/104\n",
      "42/42 [==============================] - 0s 3ms/step - loss: 3.0298 - recall_3: 0.8008 - val_loss: 3.0308 - val_recall_3: 0.8346\n",
      "Epoch 37/104\n",
      "42/42 [==============================] - 0s 3ms/step - loss: 3.0237 - recall_3: 0.8001 - val_loss: 3.0247 - val_recall_3: 0.8346\n",
      "Epoch 38/104\n",
      "42/42 [==============================] - 0s 3ms/step - loss: 3.0177 - recall_3: 0.8004 - val_loss: 3.0188 - val_recall_3: 0.8346\n",
      "Epoch 39/104\n",
      "42/42 [==============================] - 0s 3ms/step - loss: 3.0118 - recall_3: 0.8011 - val_loss: 3.0129 - val_recall_3: 0.8346\n",
      "Epoch 40/104\n",
      "42/42 [==============================] - 0s 3ms/step - loss: 3.0059 - recall_3: 0.8018 - val_loss: 3.0072 - val_recall_3: 0.8346\n",
      "Epoch 41/104\n",
      "42/42 [==============================] - 0s 3ms/step - loss: 3.0002 - recall_3: 0.8021 - val_loss: 3.0015 - val_recall_3: 0.8356\n",
      "Epoch 42/104\n",
      "42/42 [==============================] - 0s 3ms/step - loss: 2.9945 - recall_3: 0.8028 - val_loss: 2.9959 - val_recall_3: 0.8356\n",
      "Epoch 43/104\n",
      "42/42 [==============================] - 0s 3ms/step - loss: 2.9889 - recall_3: 0.8028 - val_loss: 2.9903 - val_recall_3: 0.8346\n",
      "Epoch 44/104\n",
      "42/42 [==============================] - 0s 3ms/step - loss: 2.9833 - recall_3: 0.8031 - val_loss: 2.9848 - val_recall_3: 0.8356\n",
      "Epoch 45/104\n",
      "42/42 [==============================] - 0s 3ms/step - loss: 2.9779 - recall_3: 0.8028 - val_loss: 2.9794 - val_recall_3: 0.8366\n",
      "Epoch 46/104\n",
      "42/42 [==============================] - 0s 3ms/step - loss: 2.9725 - recall_3: 0.8031 - val_loss: 2.9740 - val_recall_3: 0.8366\n",
      "Epoch 47/104\n",
      "42/42 [==============================] - 0s 3ms/step - loss: 2.9671 - recall_3: 0.8038 - val_loss: 2.9687 - val_recall_3: 0.8366\n",
      "Epoch 48/104\n",
      "42/42 [==============================] - 0s 3ms/step - loss: 2.9618 - recall_3: 0.8035 - val_loss: 2.9634 - val_recall_3: 0.8366\n",
      "Epoch 49/104\n",
      "42/42 [==============================] - 0s 3ms/step - loss: 2.9566 - recall_3: 0.8049 - val_loss: 2.9582 - val_recall_3: 0.8356\n",
      "Epoch 50/104\n",
      "42/42 [==============================] - 0s 3ms/step - loss: 2.9514 - recall_3: 0.8045 - val_loss: 2.9531 - val_recall_3: 0.8346\n",
      "Epoch 51/104\n",
      "42/42 [==============================] - 0s 3ms/step - loss: 2.9463 - recall_3: 0.8045 - val_loss: 2.9480 - val_recall_3: 0.8346\n",
      "Epoch 52/104\n",
      "42/42 [==============================] - 0s 3ms/step - loss: 2.9412 - recall_3: 0.8045 - val_loss: 2.9429 - val_recall_3: 0.8346\n",
      "Epoch 53/104\n",
      "42/42 [==============================] - 0s 3ms/step - loss: 2.9361 - recall_3: 0.8042 - val_loss: 2.9379 - val_recall_3: 0.8346\n",
      "Epoch 54/104\n",
      "42/42 [==============================] - 0s 3ms/step - loss: 2.9311 - recall_3: 0.8038 - val_loss: 2.9329 - val_recall_3: 0.8346\n",
      "Epoch 55/104\n",
      "42/42 [==============================] - 0s 3ms/step - loss: 2.9262 - recall_3: 0.8038 - val_loss: 2.9279 - val_recall_3: 0.8356\n",
      "Epoch 56/104\n",
      "42/42 [==============================] - 0s 3ms/step - loss: 2.9213 - recall_3: 0.8038 - val_loss: 2.9230 - val_recall_3: 0.8356\n",
      "Epoch 57/104\n",
      "42/42 [==============================] - 0s 3ms/step - loss: 2.9164 - recall_3: 0.8038 - val_loss: 2.9182 - val_recall_3: 0.8356\n",
      "Epoch 58/104\n",
      "42/42 [==============================] - 0s 3ms/step - loss: 2.9115 - recall_3: 0.8035 - val_loss: 2.9133 - val_recall_3: 0.8356\n",
      "Epoch 59/104\n",
      "42/42 [==============================] - 0s 3ms/step - loss: 2.9068 - recall_3: 0.8035 - val_loss: 2.9085 - val_recall_3: 0.8356\n",
      "Epoch 60/104\n",
      "42/42 [==============================] - 0s 3ms/step - loss: 2.9020 - recall_3: 0.8031 - val_loss: 2.9037 - val_recall_3: 0.8356\n",
      "Epoch 61/104\n",
      "42/42 [==============================] - 0s 3ms/step - loss: 2.8972 - recall_3: 0.8031 - val_loss: 2.8990 - val_recall_3: 0.8356\n",
      "Epoch 62/104\n",
      "42/42 [==============================] - 0s 3ms/step - loss: 2.8925 - recall_3: 0.8031 - val_loss: 2.8943 - val_recall_3: 0.8356\n",
      "Epoch 63/104\n",
      "42/42 [==============================] - 0s 3ms/step - loss: 2.8879 - recall_3: 0.8031 - val_loss: 2.8896 - val_recall_3: 0.8356\n",
      "Epoch 64/104\n",
      "42/42 [==============================] - 0s 3ms/step - loss: 2.8832 - recall_3: 0.8028 - val_loss: 2.8849 - val_recall_3: 0.8356\n",
      "Epoch 65/104\n",
      "42/42 [==============================] - 0s 3ms/step - loss: 2.8786 - recall_3: 0.8035 - val_loss: 2.8803 - val_recall_3: 0.8366\n",
      "Epoch 66/104\n",
      "42/42 [==============================] - 0s 3ms/step - loss: 2.8740 - recall_3: 0.8035 - val_loss: 2.8757 - val_recall_3: 0.8377\n",
      "Epoch 67/104\n",
      "42/42 [==============================] - 0s 3ms/step - loss: 2.8694 - recall_3: 0.8038 - val_loss: 2.8711 - val_recall_3: 0.8377\n",
      "Epoch 68/104\n",
      "42/42 [==============================] - 0s 3ms/step - loss: 2.8649 - recall_3: 0.8035 - val_loss: 2.8666 - val_recall_3: 0.8377\n",
      "Epoch 69/104\n",
      "42/42 [==============================] - 0s 3ms/step - loss: 2.8604 - recall_3: 0.8035 - val_loss: 2.8620 - val_recall_3: 0.8387\n",
      "Epoch 70/104\n",
      "42/42 [==============================] - 0s 3ms/step - loss: 2.8559 - recall_3: 0.8031 - val_loss: 2.8575 - val_recall_3: 0.8387\n",
      "Epoch 71/104\n",
      "42/42 [==============================] - 0s 3ms/step - loss: 2.8514 - recall_3: 0.8028 - val_loss: 2.8531 - val_recall_3: 0.8387\n",
      "Epoch 72/104\n",
      "42/42 [==============================] - 0s 3ms/step - loss: 2.8470 - recall_3: 0.8028 - val_loss: 2.8486 - val_recall_3: 0.8387\n",
      "Epoch 73/104\n",
      "42/42 [==============================] - 0s 3ms/step - loss: 2.8426 - recall_3: 0.8031 - val_loss: 2.8441 - val_recall_3: 0.8387\n",
      "Epoch 74/104\n",
      "42/42 [==============================] - 0s 3ms/step - loss: 2.8381 - recall_3: 0.8028 - val_loss: 2.8397 - val_recall_3: 0.8387\n",
      "Epoch 75/104\n",
      "42/42 [==============================] - 0s 3ms/step - loss: 2.8338 - recall_3: 0.8031 - val_loss: 2.8353 - val_recall_3: 0.8398\n",
      "Epoch 76/104\n",
      "42/42 [==============================] - 0s 3ms/step - loss: 2.8294 - recall_3: 0.8031 - val_loss: 2.8310 - val_recall_3: 0.8398\n",
      "Epoch 77/104\n",
      "42/42 [==============================] - 0s 3ms/step - loss: 2.8250 - recall_3: 0.8031 - val_loss: 2.8266 - val_recall_3: 0.8398\n",
      "Epoch 78/104\n",
      "42/42 [==============================] - 0s 3ms/step - loss: 2.8207 - recall_3: 0.8031 - val_loss: 2.8223 - val_recall_3: 0.8398\n",
      "Epoch 79/104\n",
      "42/42 [==============================] - 0s 3ms/step - loss: 2.8164 - recall_3: 0.8031 - val_loss: 2.8180 - val_recall_3: 0.8387\n",
      "Epoch 80/104\n",
      "42/42 [==============================] - 0s 3ms/step - loss: 2.8121 - recall_3: 0.8035 - val_loss: 2.8137 - val_recall_3: 0.8387\n",
      "Epoch 81/104\n",
      "42/42 [==============================] - 0s 3ms/step - loss: 2.8078 - recall_3: 0.8035 - val_loss: 2.8094 - val_recall_3: 0.8387\n",
      "Epoch 82/104\n",
      "42/42 [==============================] - 0s 3ms/step - loss: 2.8036 - recall_3: 0.8035 - val_loss: 2.8051 - val_recall_3: 0.8387\n",
      "Epoch 83/104\n",
      "42/42 [==============================] - 0s 3ms/step - loss: 2.7993 - recall_3: 0.8038 - val_loss: 2.8009 - val_recall_3: 0.8387\n",
      "Epoch 84/104\n",
      "42/42 [==============================] - 0s 3ms/step - loss: 2.7951 - recall_3: 0.8042 - val_loss: 2.7966 - val_recall_3: 0.8387\n",
      "Epoch 85/104\n",
      "42/42 [==============================] - 0s 3ms/step - loss: 2.7909 - recall_3: 0.8049 - val_loss: 2.7924 - val_recall_3: 0.8387\n",
      "Epoch 86/104\n",
      "42/42 [==============================] - 0s 3ms/step - loss: 2.7867 - recall_3: 0.8049 - val_loss: 2.7882 - val_recall_3: 0.8387\n",
      "Epoch 87/104\n",
      "42/42 [==============================] - 0s 3ms/step - loss: 2.7825 - recall_3: 0.8038 - val_loss: 2.7840 - val_recall_3: 0.8398\n",
      "Epoch 88/104\n",
      "42/42 [==============================] - 0s 3ms/step - loss: 2.7783 - recall_3: 0.8035 - val_loss: 2.7799 - val_recall_3: 0.8387\n",
      "Epoch 89/104\n",
      "42/42 [==============================] - 0s 3ms/step - loss: 2.7741 - recall_3: 0.8035 - val_loss: 2.7757 - val_recall_3: 0.8366\n",
      "Epoch 90/104\n",
      "42/42 [==============================] - 0s 3ms/step - loss: 2.7700 - recall_3: 0.8035 - val_loss: 2.7716 - val_recall_3: 0.8366\n",
      "Epoch 91/104\n",
      "42/42 [==============================] - 0s 3ms/step - loss: 2.7658 - recall_3: 0.8038 - val_loss: 2.7674 - val_recall_3: 0.8377\n",
      "Epoch 92/104\n",
      "42/42 [==============================] - 0s 3ms/step - loss: 2.7617 - recall_3: 0.8042 - val_loss: 2.7633 - val_recall_3: 0.8377\n",
      "Epoch 93/104\n",
      "42/42 [==============================] - 0s 3ms/step - loss: 2.7576 - recall_3: 0.8038 - val_loss: 2.7592 - val_recall_3: 0.8377\n",
      "Epoch 94/104\n",
      "42/42 [==============================] - 0s 3ms/step - loss: 2.7535 - recall_3: 0.8035 - val_loss: 2.7551 - val_recall_3: 0.8387\n",
      "Epoch 95/104\n",
      "42/42 [==============================] - 0s 3ms/step - loss: 2.7494 - recall_3: 0.8031 - val_loss: 2.7511 - val_recall_3: 0.8387\n",
      "Epoch 96/104\n",
      "42/42 [==============================] - 0s 3ms/step - loss: 2.7454 - recall_3: 0.8031 - val_loss: 2.7470 - val_recall_3: 0.8387\n",
      "Epoch 97/104\n",
      "42/42 [==============================] - 0s 3ms/step - loss: 2.7413 - recall_3: 0.8035 - val_loss: 2.7429 - val_recall_3: 0.8387\n",
      "Epoch 98/104\n",
      "42/42 [==============================] - 0s 3ms/step - loss: 2.7373 - recall_3: 0.8035 - val_loss: 2.7389 - val_recall_3: 0.8387\n",
      "Epoch 99/104\n",
      "42/42 [==============================] - 0s 3ms/step - loss: 2.7332 - recall_3: 0.8031 - val_loss: 2.7349 - val_recall_3: 0.8387\n",
      "Epoch 100/104\n",
      "42/42 [==============================] - 0s 3ms/step - loss: 2.7292 - recall_3: 0.8028 - val_loss: 2.7309 - val_recall_3: 0.8387\n",
      "Epoch 101/104\n",
      "42/42 [==============================] - 0s 3ms/step - loss: 2.7252 - recall_3: 0.8038 - val_loss: 2.7269 - val_recall_3: 0.8398\n",
      "Epoch 102/104\n",
      "42/42 [==============================] - 0s 3ms/step - loss: 2.7212 - recall_3: 0.8045 - val_loss: 2.7229 - val_recall_3: 0.8398\n",
      "Epoch 103/104\n",
      "42/42 [==============================] - 0s 3ms/step - loss: 2.7172 - recall_3: 0.8049 - val_loss: 2.7189 - val_recall_3: 0.8398\n",
      "Epoch 104/104\n",
      "42/42 [==============================] - 0s 3ms/step - loss: 2.7132 - recall_3: 0.8049 - val_loss: 2.7150 - val_recall_3: 0.8398\n"
     ]
    }
   ],
   "source": [
    "history_fn_imp = model_func_imp.fit(train_final, epochs=104,\n",
    "                    validation_data=val_final,\n",
    "                    callbacks=[early_stopping_cb])"
   ]
  },
  {
   "cell_type": "code",
   "execution_count": null,
   "metadata": {},
   "outputs": [
    {
     "data": {
      "text/plain": [
       "Text(0.5, 1.0, 'Improved Model')"
      ]
     },
     "execution_count": 60,
     "metadata": {},
     "output_type": "execute_result"
    },
    {
     "data": {
      "image/png": "[encoded data removed]",
      "text/plain": [
       "<Figure size 1440x576 with 2 Axes>"
      ]
     },
     "metadata": {
      "needs_background": "light"
     },
     "output_type": "display_data"
    }
   ],
   "source": [
    "fig,ax = plt.subplots(ncols= 2,figsize=(20,8))\n",
    "\n",
    "sns.lineplot(data=pd.DataFrame(history_fn.history),ax=ax[0])\n",
    "ax[0].set_title(\"Base Model\",fontsize= 16)\n",
    "\n",
    "sns.lineplot(data=pd.DataFrame(history_fn_imp.history),ax=ax[1])\n",
    "ax[1].set_title(\"Improved Model\",fontsize= 16)"
   ]
  },
  {
   "cell_type": "markdown",
   "metadata": {},
   "source": [
    "**Improved model with functional API**  has difficulty to reduce loss score, because the step is very slow to reduce loss score.\n",
    "\n",
    "but for **base model** has better performance to reduce loss rather than the improved one."
   ]
  },
  {
   "cell_type": "markdown",
   "metadata": {},
   "source": [
    "# VIII. Model Evaluation"
   ]
  },
  {
   "cell_type": "markdown",
   "metadata": {},
   "source": [
    "Evaluation will use **Recall on Customer not Churn**. because of customer that will churn on Telco companies will treat differently, like giving more promotion on telco entertainment service\n",
    "false negative on Customer not Churn will gave promotion to wrong customer."
   ]
  },
  {
   "cell_type": "markdown",
   "metadata": {},
   "source": [
    "## Choose Best from the result"
   ]
  },
  {
   "cell_type": "markdown",
   "metadata": {},
   "source": [
    "- evaluate recall and loss for base sequential api model"
   ]
  },
  {
   "cell_type": "code",
   "execution_count": null,
   "metadata": {},
   "outputs": [
    {
     "name": "stdout",
     "output_type": "stream",
     "text": [
      "13/13 [==============================] - 0s 2ms/step - loss: 0.4947 - recall: 0.8245\n"
     ]
    },
    {
     "data": {
      "text/plain": [
       "[0.49473515152931213, 0.8245242834091187]"
      ]
     },
     "execution_count": 61,
     "metadata": {},
     "output_type": "execute_result"
    }
   ],
   "source": [
    "model_sq.evaluate(test_final) "
   ]
  },
  {
   "cell_type": "markdown",
   "metadata": {},
   "source": [
    "- evaluate recall and loss for improvement sequential api model"
   ]
  },
  {
   "cell_type": "code",
   "execution_count": null,
   "metadata": {},
   "outputs": [
    {
     "name": "stdout",
     "output_type": "stream",
     "text": [
      "13/13 [==============================] - 0s 2ms/step - loss: 0.5817 - recall_4: 0.9006\n"
     ]
    },
    {
     "data": {
      "text/plain": [
       "[0.5816934108734131, 0.900634229183197]"
      ]
     },
     "execution_count": 295,
     "metadata": {},
     "output_type": "execute_result"
    }
   ],
   "source": [
    "model_sq_imp.evaluate(test_final) "
   ]
  },
  {
   "cell_type": "markdown",
   "metadata": {},
   "source": [
    "- evaluate recall and loss on base functional api model"
   ]
  },
  {
   "cell_type": "code",
   "execution_count": null,
   "metadata": {},
   "outputs": [
    {
     "name": "stdout",
     "output_type": "stream",
     "text": [
      "13/13 [==============================] - 0s 2ms/step - loss: 0.5247 - recall_2: 0.8309\n"
     ]
    },
    {
     "data": {
      "text/plain": [
       "[0.5247477889060974, 0.830866813659668]"
      ]
     },
     "execution_count": 63,
     "metadata": {},
     "output_type": "execute_result"
    }
   ],
   "source": [
    "model_func.evaluate(test_final)"
   ]
  },
  {
   "cell_type": "markdown",
   "metadata": {},
   "source": [
    "- evaluate recall and loss on Improvement functional api model"
   ]
  },
  {
   "cell_type": "code",
   "execution_count": null,
   "metadata": {},
   "outputs": [
    {
     "name": "stdout",
     "output_type": "stream",
     "text": [
      "13/13 [==============================] - 0s 2ms/step - loss: 2.7530 - recall_3: 0.8118\n"
     ]
    },
    {
     "data": {
      "text/plain": [
       "[2.752950668334961, 0.8118393421173096]"
      ]
     },
     "execution_count": 64,
     "metadata": {},
     "output_type": "execute_result"
    }
   ],
   "source": [
    "model_func_imp.evaluate(test_final) "
   ]
  },
  {
   "cell_type": "markdown",
   "metadata": {},
   "source": [
    "**model sequence experiment** or `model_sq_imp` has best result with Recall score and and good amount of loss error (at this moment before it got rerun and ANN decide to change the result)"
   ]
  },
  {
   "cell_type": "markdown",
   "metadata": {},
   "source": [
    "## Confusion Matrix And Report"
   ]
  },
  {
   "cell_type": "markdown",
   "metadata": {},
   "source": [
    "Do a prediction from the best model with test data before display confusion matrix"
   ]
  },
  {
   "cell_type": "code",
   "execution_count": null,
   "metadata": {},
   "outputs": [
    {
     "name": "stdout",
     "output_type": "stream",
     "text": [
      "55/55 [==============================] - 0s 2ms/step\n"
     ]
    }
   ],
   "source": [
    "y_pred_proba = model_sq_imp.predict(x_test_trans)"
   ]
  },
  {
   "cell_type": "markdown",
   "metadata": {},
   "source": [
    "use **treshold** **above .73** to classified as 1 or **customer churn**"
   ]
  },
  {
   "cell_type": "code",
   "execution_count": null,
   "metadata": {},
   "outputs": [],
   "source": [
    "y_pred_result = np.where(y_pred_proba > 0.8, 1, 0)"
   ]
  },
  {
   "cell_type": "markdown",
   "metadata": {},
   "source": [
    "### confusion matrix"
   ]
  },
  {
   "cell_type": "code",
   "execution_count": null,
   "metadata": {},
   "outputs": [
    {
     "data": {
      "image/png": "[encoded data removed]",
      "text/plain": [
       "<Figure size 432x432 with 2 Axes>"
      ]
     },
     "metadata": {
      "needs_background": "light"
     },
     "output_type": "display_data"
    }
   ],
   "source": [
    "cm = confusion_matrix(y_test_final,y_pred_result, labels=[0,1])\n",
    "disp = ConfusionMatrixDisplay(confusion_matrix=cm)\n",
    "fig, ax = plt.subplots(figsize=(6,6))\n",
    "disp.plot(ax=ax)\n",
    "plt.show()"
   ]
  },
  {
   "cell_type": "code",
   "execution_count": null,
   "metadata": {},
   "outputs": [
    {
     "name": "stdout",
     "output_type": "stream",
     "text": [
      "              precision    recall  f1-score   support\n",
      "\n",
      "         0.0       0.85      0.88      0.86      1286\n",
      "         1.0       0.63      0.57      0.60       473\n",
      "\n",
      "    accuracy                           0.79      1759\n",
      "   macro avg       0.74      0.72      0.73      1759\n",
      "weighted avg       0.79      0.79      0.79      1759\n",
      "\n"
     ]
    }
   ],
   "source": [
    "print(classification_report(y_test_final,y_pred_result))"
   ]
  },
  {
   "cell_type": "markdown",
   "metadata": {},
   "source": [
    "Thanks to the **right amount of treshold**, on probability. the result is quite **good with Recall and accuracy**"
   ]
  },
  {
   "cell_type": "markdown",
   "metadata": {},
   "source": [
    "# IX. Model Save"
   ]
  },
  {
   "cell_type": "markdown",
   "metadata": {},
   "source": [
    "save the **Data Preprocessor** Pipeline"
   ]
  },
  {
   "cell_type": "code",
   "execution_count": null,
   "metadata": {},
   "outputs": [],
   "source": [
    "with open(\"preprocess_data.pkl\", \"wb\") as preprocess_pipe:\n",
    "  pickle.dump(data_pipeline, preprocess_pipe)"
   ]
  },
  {
   "cell_type": "markdown",
   "metadata": {},
   "source": [
    "Save Model"
   ]
  },
  {
   "cell_type": "code",
   "execution_count": null,
   "metadata": {},
   "outputs": [
    {
     "name": "stderr",
     "output_type": "stream",
     "text": [
      "WARNING:absl:Function `_wrapped_model` contains input name(s) Input_input with unsupported characters which will be renamed to input_input in the SavedModel.\n"
     ]
    },
    {
     "name": "stdout",
     "output_type": "stream",
     "text": [
      "INFO:tensorflow:Assets written to: telco_churn_model\\assets\n"
     ]
    },
    {
     "name": "stderr",
     "output_type": "stream",
     "text": [
      "INFO:tensorflow:Assets written to: telco_churn_model\\assets\n"
     ]
    }
   ],
   "source": [
    "model_sq_imp.save(\"telco_churn_model\")"
   ]
  },
  {
   "cell_type": "markdown",
   "metadata": {},
   "source": [
    "# X Model Inference"
   ]
  },
  {
   "cell_type": "markdown",
   "metadata": {},
   "source": [
    "reset index inference"
   ]
  },
  {
   "cell_type": "code",
   "execution_count": null,
   "metadata": {},
   "outputs": [],
   "source": [
    "pickup_inf.reset_index(drop=True,inplace=True)"
   ]
  },
  {
   "cell_type": "markdown",
   "metadata": {},
   "source": [
    "selected features"
   ]
  },
  {
   "cell_type": "code",
   "execution_count": null,
   "metadata": {},
   "outputs": [],
   "source": [
    "inf_select=drop_list\n",
    "inf_select.append('churn')"
   ]
  },
  {
   "cell_type": "code",
   "execution_count": null,
   "metadata": {},
   "outputs": [],
   "source": [
    "pickup_inf_selected = pickup_inf.drop(drop_list,axis=1)"
   ]
  },
  {
   "cell_type": "markdown",
   "metadata": {},
   "source": [
    "Scale data Inference using preprocessor pipeline "
   ]
  },
  {
   "cell_type": "code",
   "execution_count": null,
   "metadata": {},
   "outputs": [],
   "source": [
    "inf_trans = data_pipeline.transform(pickup_inf_selected)"
   ]
  },
  {
   "cell_type": "code",
   "execution_count": null,
   "metadata": {},
   "outputs": [
    {
     "name": "stdout",
     "output_type": "stream",
     "text": [
      "1/1 [==============================] - 0s 20ms/step\n"
     ]
    }
   ],
   "source": [
    "inf_proba = model_sq_imp.predict(inf_trans)"
   ]
  },
  {
   "cell_type": "markdown",
   "metadata": {},
   "source": [
    "predict with treshold above 0.73"
   ]
  },
  {
   "cell_type": "code",
   "execution_count": null,
   "metadata": {},
   "outputs": [],
   "source": [
    "inf_pred = np.where(inf_proba > 0.73, \"Yes\", \"No\")"
   ]
  },
  {
   "cell_type": "code",
   "execution_count": null,
   "metadata": {},
   "outputs": [],
   "source": [
    "inf_pred_df = pd.DataFrame(inf_pred,columns=['prediction_churn'])"
   ]
  },
  {
   "cell_type": "markdown",
   "metadata": {},
   "source": [
    "Compare Dataframe"
   ]
  },
  {
   "cell_type": "code",
   "execution_count": null,
   "metadata": {},
   "outputs": [
    {
     "data": {
      "text/html": [
       "<div>\n",
       "<style scoped>\n",
       "    .dataframe tbody tr th:only-of-type {\n",
       "        vertical-align: middle;\n",
       "    }\n",
       "\n",
       "    .dataframe tbody tr th {\n",
       "        vertical-align: top;\n",
       "    }\n",
       "\n",
       "    .dataframe thead th {\n",
       "        text-align: right;\n",
       "    }\n",
       "</style>\n",
       "<table border=\"1\" class=\"dataframe\">\n",
       "  <thead>\n",
       "    <tr style=\"text-align: right;\">\n",
       "      <th></th>\n",
       "      <th>prediction_churn</th>\n",
       "    </tr>\n",
       "  </thead>\n",
       "  <tbody>\n",
       "    <tr>\n",
       "      <th>0</th>\n",
       "      <td>No</td>\n",
       "    </tr>\n",
       "    <tr>\n",
       "      <th>1</th>\n",
       "      <td>Yes</td>\n",
       "    </tr>\n",
       "    <tr>\n",
       "      <th>2</th>\n",
       "      <td>No</td>\n",
       "    </tr>\n",
       "    <tr>\n",
       "      <th>3</th>\n",
       "      <td>Yes</td>\n",
       "    </tr>\n",
       "    <tr>\n",
       "      <th>4</th>\n",
       "      <td>No</td>\n",
       "    </tr>\n",
       "    <tr>\n",
       "      <th>5</th>\n",
       "      <td>No</td>\n",
       "    </tr>\n",
       "    <tr>\n",
       "      <th>6</th>\n",
       "      <td>No</td>\n",
       "    </tr>\n",
       "    <tr>\n",
       "      <th>7</th>\n",
       "      <td>No</td>\n",
       "    </tr>\n",
       "    <tr>\n",
       "      <th>8</th>\n",
       "      <td>No</td>\n",
       "    </tr>\n",
       "    <tr>\n",
       "      <th>9</th>\n",
       "      <td>Yes</td>\n",
       "    </tr>\n",
       "  </tbody>\n",
       "</table>\n",
       "</div>"
      ],
      "text/plain": [
       "  prediction_churn\n",
       "0               No\n",
       "1              Yes\n",
       "2               No\n",
       "3              Yes\n",
       "4               No\n",
       "5               No\n",
       "6               No\n",
       "7               No\n",
       "8               No\n",
       "9              Yes"
      ]
     },
     "execution_count": 78,
     "metadata": {},
     "output_type": "execute_result"
    }
   ],
   "source": [
    "inf_pred_df"
   ]
  },
  {
   "cell_type": "code",
   "execution_count": null,
   "metadata": {},
   "outputs": [],
   "source": [
    "def convert (y):\n",
    "    if y == 1:\n",
    "        return \"Yes\"\n",
    "    else:\n",
    "        return 'No'\n",
    "\n",
    "final_df = pd.concat([pickup_inf,inf_pred_df],axis=1)"
   ]
  },
  {
   "cell_type": "code",
   "execution_count": null,
   "metadata": {},
   "outputs": [],
   "source": [
    "final_df['prediction_churn'] = final_df['prediction_churn'].apply(convert)"
   ]
  },
  {
   "cell_type": "code",
   "execution_count": null,
   "metadata": {},
   "outputs": [
    {
     "data": {
      "text/html": [
       "<div>\n",
       "<style scoped>\n",
       "    .dataframe tbody tr th:only-of-type {\n",
       "        vertical-align: middle;\n",
       "    }\n",
       "\n",
       "    .dataframe tbody tr th {\n",
       "        vertical-align: top;\n",
       "    }\n",
       "\n",
       "    .dataframe thead th {\n",
       "        text-align: right;\n",
       "    }\n",
       "</style>\n",
       "<table border=\"1\" class=\"dataframe\">\n",
       "  <thead>\n",
       "    <tr style=\"text-align: right;\">\n",
       "      <th></th>\n",
       "      <th>customerid</th>\n",
       "      <th>gender</th>\n",
       "      <th>seniorcitizen</th>\n",
       "      <th>partner</th>\n",
       "      <th>dependents</th>\n",
       "      <th>tenure</th>\n",
       "      <th>phoneservice</th>\n",
       "      <th>multiplelines</th>\n",
       "      <th>internetservice</th>\n",
       "      <th>onlinesecurity</th>\n",
       "      <th>onlinebackup</th>\n",
       "      <th>deviceprotection</th>\n",
       "      <th>techsupport</th>\n",
       "      <th>streamingtv</th>\n",
       "      <th>streamingmovies</th>\n",
       "      <th>contract</th>\n",
       "      <th>paperlessbilling</th>\n",
       "      <th>paymentmethod</th>\n",
       "      <th>monthlycharges</th>\n",
       "      <th>totalcharges</th>\n",
       "      <th>churn</th>\n",
       "      <th>prediction_churn</th>\n",
       "    </tr>\n",
       "  </thead>\n",
       "  <tbody>\n",
       "    <tr>\n",
       "      <th>0</th>\n",
       "      <td>5180-UCIIQ</td>\n",
       "      <td>Male</td>\n",
       "      <td>1</td>\n",
       "      <td>Yes</td>\n",
       "      <td>Yes</td>\n",
       "      <td>22</td>\n",
       "      <td>No</td>\n",
       "      <td>No phone service</td>\n",
       "      <td>DSL</td>\n",
       "      <td>Yes</td>\n",
       "      <td>No</td>\n",
       "      <td>No</td>\n",
       "      <td>No</td>\n",
       "      <td>No</td>\n",
       "      <td>Yes</td>\n",
       "      <td>Month-to-month</td>\n",
       "      <td>No</td>\n",
       "      <td>Mailed check</td>\n",
       "      <td>40.05</td>\n",
       "      <td>880.20</td>\n",
       "      <td>Yes</td>\n",
       "      <td>No</td>\n",
       "    </tr>\n",
       "    <tr>\n",
       "      <th>1</th>\n",
       "      <td>8868-WOZGU</td>\n",
       "      <td>Male</td>\n",
       "      <td>0</td>\n",
       "      <td>No</td>\n",
       "      <td>No</td>\n",
       "      <td>28</td>\n",
       "      <td>Yes</td>\n",
       "      <td>Yes</td>\n",
       "      <td>Fiber optic</td>\n",
       "      <td>No</td>\n",
       "      <td>Yes</td>\n",
       "      <td>Yes</td>\n",
       "      <td>No</td>\n",
       "      <td>Yes</td>\n",
       "      <td>Yes</td>\n",
       "      <td>Month-to-month</td>\n",
       "      <td>Yes</td>\n",
       "      <td>Electronic check</td>\n",
       "      <td>105.70</td>\n",
       "      <td>2979.50</td>\n",
       "      <td>Yes</td>\n",
       "      <td>No</td>\n",
       "    </tr>\n",
       "    <tr>\n",
       "      <th>2</th>\n",
       "      <td>5012-YSPJJ</td>\n",
       "      <td>Male</td>\n",
       "      <td>0</td>\n",
       "      <td>Yes</td>\n",
       "      <td>Yes</td>\n",
       "      <td>31</td>\n",
       "      <td>Yes</td>\n",
       "      <td>No</td>\n",
       "      <td>DSL</td>\n",
       "      <td>No</td>\n",
       "      <td>No</td>\n",
       "      <td>Yes</td>\n",
       "      <td>Yes</td>\n",
       "      <td>No</td>\n",
       "      <td>No</td>\n",
       "      <td>Month-to-month</td>\n",
       "      <td>No</td>\n",
       "      <td>Mailed check</td>\n",
       "      <td>54.35</td>\n",
       "      <td>1647.00</td>\n",
       "      <td>No</td>\n",
       "      <td>No</td>\n",
       "    </tr>\n",
       "    <tr>\n",
       "      <th>3</th>\n",
       "      <td>7225-CBZPL</td>\n",
       "      <td>Male</td>\n",
       "      <td>1</td>\n",
       "      <td>Yes</td>\n",
       "      <td>No</td>\n",
       "      <td>17</td>\n",
       "      <td>Yes</td>\n",
       "      <td>Yes</td>\n",
       "      <td>Fiber optic</td>\n",
       "      <td>No</td>\n",
       "      <td>No</td>\n",
       "      <td>No</td>\n",
       "      <td>No</td>\n",
       "      <td>Yes</td>\n",
       "      <td>Yes</td>\n",
       "      <td>Month-to-month</td>\n",
       "      <td>Yes</td>\n",
       "      <td>Electronic check</td>\n",
       "      <td>94.80</td>\n",
       "      <td>1563.90</td>\n",
       "      <td>No</td>\n",
       "      <td>No</td>\n",
       "    </tr>\n",
       "    <tr>\n",
       "      <th>4</th>\n",
       "      <td>0334-ZFJSR</td>\n",
       "      <td>Female</td>\n",
       "      <td>0</td>\n",
       "      <td>Yes</td>\n",
       "      <td>No</td>\n",
       "      <td>55</td>\n",
       "      <td>Yes</td>\n",
       "      <td>Yes</td>\n",
       "      <td>DSL</td>\n",
       "      <td>Yes</td>\n",
       "      <td>Yes</td>\n",
       "      <td>No</td>\n",
       "      <td>Yes</td>\n",
       "      <td>No</td>\n",
       "      <td>No</td>\n",
       "      <td>One year</td>\n",
       "      <td>Yes</td>\n",
       "      <td>Credit card (automatic)</td>\n",
       "      <td>66.05</td>\n",
       "      <td>3462.10</td>\n",
       "      <td>No</td>\n",
       "      <td>No</td>\n",
       "    </tr>\n",
       "    <tr>\n",
       "      <th>5</th>\n",
       "      <td>2585-KTFRE</td>\n",
       "      <td>Male</td>\n",
       "      <td>0</td>\n",
       "      <td>No</td>\n",
       "      <td>Yes</td>\n",
       "      <td>1</td>\n",
       "      <td>Yes</td>\n",
       "      <td>No</td>\n",
       "      <td>DSL</td>\n",
       "      <td>Yes</td>\n",
       "      <td>Yes</td>\n",
       "      <td>No</td>\n",
       "      <td>Yes</td>\n",
       "      <td>No</td>\n",
       "      <td>Yes</td>\n",
       "      <td>Month-to-month</td>\n",
       "      <td>Yes</td>\n",
       "      <td>Bank transfer (automatic)</td>\n",
       "      <td>70.45</td>\n",
       "      <td>70.45</td>\n",
       "      <td>No</td>\n",
       "      <td>No</td>\n",
       "    </tr>\n",
       "    <tr>\n",
       "      <th>6</th>\n",
       "      <td>8148-NLEGT</td>\n",
       "      <td>Female</td>\n",
       "      <td>0</td>\n",
       "      <td>Yes</td>\n",
       "      <td>Yes</td>\n",
       "      <td>42</td>\n",
       "      <td>Yes</td>\n",
       "      <td>Yes</td>\n",
       "      <td>No</td>\n",
       "      <td>No internet service</td>\n",
       "      <td>No internet service</td>\n",
       "      <td>No internet service</td>\n",
       "      <td>No internet service</td>\n",
       "      <td>No internet service</td>\n",
       "      <td>No internet service</td>\n",
       "      <td>Two year</td>\n",
       "      <td>No</td>\n",
       "      <td>Electronic check</td>\n",
       "      <td>22.95</td>\n",
       "      <td>1014.25</td>\n",
       "      <td>No</td>\n",
       "      <td>No</td>\n",
       "    </tr>\n",
       "    <tr>\n",
       "      <th>7</th>\n",
       "      <td>4795-UXVCJ</td>\n",
       "      <td>Male</td>\n",
       "      <td>0</td>\n",
       "      <td>No</td>\n",
       "      <td>No</td>\n",
       "      <td>26</td>\n",
       "      <td>Yes</td>\n",
       "      <td>No</td>\n",
       "      <td>No</td>\n",
       "      <td>No internet service</td>\n",
       "      <td>No internet service</td>\n",
       "      <td>No internet service</td>\n",
       "      <td>No internet service</td>\n",
       "      <td>No internet service</td>\n",
       "      <td>No internet service</td>\n",
       "      <td>One year</td>\n",
       "      <td>No</td>\n",
       "      <td>Credit card (automatic)</td>\n",
       "      <td>19.80</td>\n",
       "      <td>457.30</td>\n",
       "      <td>No</td>\n",
       "      <td>No</td>\n",
       "    </tr>\n",
       "    <tr>\n",
       "      <th>8</th>\n",
       "      <td>3429-IFLEM</td>\n",
       "      <td>Female</td>\n",
       "      <td>0</td>\n",
       "      <td>No</td>\n",
       "      <td>No</td>\n",
       "      <td>71</td>\n",
       "      <td>Yes</td>\n",
       "      <td>No</td>\n",
       "      <td>DSL</td>\n",
       "      <td>Yes</td>\n",
       "      <td>Yes</td>\n",
       "      <td>Yes</td>\n",
       "      <td>Yes</td>\n",
       "      <td>Yes</td>\n",
       "      <td>No</td>\n",
       "      <td>Two year</td>\n",
       "      <td>No</td>\n",
       "      <td>Credit card (automatic)</td>\n",
       "      <td>77.35</td>\n",
       "      <td>5550.10</td>\n",
       "      <td>No</td>\n",
       "      <td>No</td>\n",
       "    </tr>\n",
       "    <tr>\n",
       "      <th>9</th>\n",
       "      <td>2720-WGKHP</td>\n",
       "      <td>Male</td>\n",
       "      <td>1</td>\n",
       "      <td>No</td>\n",
       "      <td>No</td>\n",
       "      <td>2</td>\n",
       "      <td>Yes</td>\n",
       "      <td>Yes</td>\n",
       "      <td>Fiber optic</td>\n",
       "      <td>No</td>\n",
       "      <td>No</td>\n",
       "      <td>No</td>\n",
       "      <td>No</td>\n",
       "      <td>Yes</td>\n",
       "      <td>Yes</td>\n",
       "      <td>Month-to-month</td>\n",
       "      <td>Yes</td>\n",
       "      <td>Electronic check</td>\n",
       "      <td>94.00</td>\n",
       "      <td>181.70</td>\n",
       "      <td>Yes</td>\n",
       "      <td>No</td>\n",
       "    </tr>\n",
       "  </tbody>\n",
       "</table>\n",
       "</div>"
      ],
      "text/plain": [
       "   customerid  gender  seniorcitizen partner dependents  tenure phoneservice  \\\n",
       "0  5180-UCIIQ    Male              1     Yes        Yes      22           No   \n",
       "1  8868-WOZGU    Male              0      No         No      28          Yes   \n",
       "2  5012-YSPJJ    Male              0     Yes        Yes      31          Yes   \n",
       "3  7225-CBZPL    Male              1     Yes         No      17          Yes   \n",
       "4  0334-ZFJSR  Female              0     Yes         No      55          Yes   \n",
       "5  2585-KTFRE    Male              0      No        Yes       1          Yes   \n",
       "6  8148-NLEGT  Female              0     Yes        Yes      42          Yes   \n",
       "7  4795-UXVCJ    Male              0      No         No      26          Yes   \n",
       "8  3429-IFLEM  Female              0      No         No      71          Yes   \n",
       "9  2720-WGKHP    Male              1      No         No       2          Yes   \n",
       "\n",
       "      multiplelines internetservice       onlinesecurity         onlinebackup  \\\n",
       "0  No phone service             DSL                  Yes                   No   \n",
       "1               Yes     Fiber optic                   No                  Yes   \n",
       "2                No             DSL                   No                   No   \n",
       "3               Yes     Fiber optic                   No                   No   \n",
       "4               Yes             DSL                  Yes                  Yes   \n",
       "5                No             DSL                  Yes                  Yes   \n",
       "6               Yes              No  No internet service  No internet service   \n",
       "7                No              No  No internet service  No internet service   \n",
       "8                No             DSL                  Yes                  Yes   \n",
       "9               Yes     Fiber optic                   No                   No   \n",
       "\n",
       "      deviceprotection          techsupport          streamingtv  \\\n",
       "0                   No                   No                   No   \n",
       "1                  Yes                   No                  Yes   \n",
       "2                  Yes                  Yes                   No   \n",
       "3                   No                   No                  Yes   \n",
       "4                   No                  Yes                   No   \n",
       "5                   No                  Yes                   No   \n",
       "6  No internet service  No internet service  No internet service   \n",
       "7  No internet service  No internet service  No internet service   \n",
       "8                  Yes                  Yes                  Yes   \n",
       "9                   No                   No                  Yes   \n",
       "\n",
       "       streamingmovies        contract paperlessbilling  \\\n",
       "0                  Yes  Month-to-month               No   \n",
       "1                  Yes  Month-to-month              Yes   \n",
       "2                   No  Month-to-month               No   \n",
       "3                  Yes  Month-to-month              Yes   \n",
       "4                   No        One year              Yes   \n",
       "5                  Yes  Month-to-month              Yes   \n",
       "6  No internet service        Two year               No   \n",
       "7  No internet service        One year               No   \n",
       "8                   No        Two year               No   \n",
       "9                  Yes  Month-to-month              Yes   \n",
       "\n",
       "               paymentmethod  monthlycharges  totalcharges churn  \\\n",
       "0               Mailed check           40.05        880.20   Yes   \n",
       "1           Electronic check          105.70       2979.50   Yes   \n",
       "2               Mailed check           54.35       1647.00    No   \n",
       "3           Electronic check           94.80       1563.90    No   \n",
       "4    Credit card (automatic)           66.05       3462.10    No   \n",
       "5  Bank transfer (automatic)           70.45         70.45    No   \n",
       "6           Electronic check           22.95       1014.25    No   \n",
       "7    Credit card (automatic)           19.80        457.30    No   \n",
       "8    Credit card (automatic)           77.35       5550.10    No   \n",
       "9           Electronic check           94.00        181.70   Yes   \n",
       "\n",
       "  prediction_churn  \n",
       "0               No  \n",
       "1               No  \n",
       "2               No  \n",
       "3               No  \n",
       "4               No  \n",
       "5               No  \n",
       "6               No  \n",
       "7               No  \n",
       "8               No  \n",
       "9               No  "
      ]
     },
     "execution_count": 81,
     "metadata": {},
     "output_type": "execute_result"
    }
   ],
   "source": [
    "final_df"
   ]
  },
  {
   "cell_type": "markdown",
   "metadata": {},
   "source": [
    "## Live server Inference"
   ]
  },
  {
   "cell_type": "markdown",
   "metadata": {},
   "source": [
    "test out the live server backend at http://milestone-telco-churn-backend.herokuapp.com/"
   ]
  },
  {
   "cell_type": "code",
   "execution_count": null,
   "metadata": {},
   "outputs": [],
   "source": [
    "# new sample data with dataframe format\n",
    "new_data = {'partner': 'Yes',\n",
    "         'dependents': 'No',\n",
    "         'tenure' : 6,\n",
    "         'multiplelines' :\"Yes\",\n",
    "         'internetservice' : \"Fiber optic\",\n",
    "         'onlinesecurity' : \"No\",\n",
    "         'onlinebackup': \"No\",\n",
    "         'deviceprotection': 'Yes',\n",
    "         'techsupport' : \"No\",\n",
    "         'streamingtv' :\"Yes\",\n",
    "         'streamingmovies' : \"No\",\n",
    "         'contract' : \"Month-to-month\",\n",
    "         'paymentmethod' : \"Electronic check\",\n",
    "         'monthlycharges' : 105.70\n",
    "         }\n",
    "new_data = pd.DataFrame([new_data])\n",
    "new_data_trans = data_pipeline.transform(new_data)\n",
    "new_data_list = new_data_trans.tolist()"
   ]
  },
  {
   "cell_type": "code",
   "execution_count": 4,
   "metadata": {},
   "outputs": [
    {
     "ename": "NameError",
     "evalue": "name 'new_data_list' is not defined",
     "output_type": "error",
     "traceback": [
      "\u001b[1;31m---------------------------------------------------------------------------\u001b[0m",
      "\u001b[1;31mNameError\u001b[0m                                 Traceback (most recent call last)",
      "\u001b[1;32mc:\\Users\\ajies\\OneDrive\\Documents\\Bootcamp\\Programming_Python\\Assignment\\phase_2\\p2---ftds014---m1-wirawanSetio\\h8dsft_Milestone1P2_wirawan_setio_aji.ipynb Cell 228\u001b[0m in \u001b[0;36m<cell line: 1>\u001b[1;34m()\u001b[0m\n\u001b[1;32m----> <a href='vscode-notebook-cell:/c%3A/Users/ajies/OneDrive/Documents/Bootcamp/Programming_Python/Assignment/phase_2/p2---ftds014---m1-wirawanSetio/h8dsft_Milestone1P2_wirawan_setio_aji.ipynb#Y443sZmlsZQ%3D%3D?line=0'>1</a>\u001b[0m new_data_list\u001b[39m.\u001b[39mtype\n",
      "\u001b[1;31mNameError\u001b[0m: name 'new_data_list' is not defined"
     ]
    }
   ],
   "source": [
    "new_data_list"
   ]
  },
  {
   "cell_type": "code",
   "execution_count": null,
   "metadata": {},
   "outputs": [],
   "source": [
    "# setup send data to server\n",
    "input_data_json = json.dumps({\n",
    "    \"signature_name\": \"serving_default\",\n",
    "    \"instances\": new_data_list\n",
    "})"
   ]
  },
  {
   "cell_type": "code",
   "execution_count": null,
   "metadata": {},
   "outputs": [
    {
     "data": {
      "text/plain": [
       "'Yes'"
      ]
     },
     "execution_count": 85,
     "metadata": {},
     "output_type": "execute_result"
    }
   ],
   "source": [
    "# send request to server\n",
    "URL = \"http://milestone-telco-churn-backend.herokuapp.com/v1/models/telco_churn_model:predict\"\n",
    "r = requests.post(URL, data=input_data_json)\n",
    "res = r.json()\n",
    "# convert answer\n",
    "final_res = (\"Yes\" if res['predictions'][0][0] else \"No\")\n",
    "final_res"
   ]
  },
  {
   "cell_type": "markdown",
   "metadata": {},
   "source": [
    "the result is success and it is **Yes it is a customer Churn**"
   ]
  },
  {
   "cell_type": "markdown",
   "metadata": {},
   "source": [
    "# XI Conclusion"
   ]
  },
  {
   "cell_type": "markdown",
   "metadata": {},
   "source": [
    "In this project that has an objective to make a **prediction** of customer churn status, or customer that stop using the Telco' servis product using ANN Deep Learning.\n",
    "\n",
    "From the data itself there are some factor that will impact why customer stop using the service. for example **price per-month** that became more expensive. And also most of customer who stop using the service are those **only using Fiber Optic line Internet Service** and some of them also liked to subscribe the entertainment service like streaming TV and Movies service. And also from the social status of the customer, gender seems having the same count whether itis a male or female.\n",
    "\n",
    "Before we talk about the modeling ,I have to gave an additional information that this data is **un-balance**, from the ratio of customer status `churn` or **the target**. that is why I use **SMOTENC** to bring back the balance of the data, because it it **an resampling algorithm** and sacraficing or removing the current data.\n",
    "\n",
    "After **Experiment and Train the several model** using **I choose only one** tobe the final model that will **performing the prediction for data inference**. that one model that has the lowest loss score and **best recall score**. but why using Recall score. it is because that predicted customer  that is churn will be treated more special on the one who wanted to churn the service and hopefully they will stay.\n",
    "\n",
    "from the model evaluation, having above 85 recall on the **customer nt churn** is a good indicator that the model if performed well, and could be improved in the future.\n",
    "\n",
    "Overall the modelling ANN is suffering on consistency on every run, because each run give different result. but for now Sequential is best for simplicity to experiment on improving model than functional api."
   ]
  },
  {
   "cell_type": "markdown",
   "metadata": {},
   "source": []
  }
 ],
 "metadata": {
  "kernelspec": {
   "display_name": "Python 3.9.12 ('base')",
   "language": "python",
   "name": "python3"
  },
  "language_info": {
   "codemirror_mode": {
    "name": "ipython",
    "version": 3
   },
   "file_extension": ".py",
   "mimetype": "text/x-python",
   "name": "python",
   "nbconvert_exporter": "python",
   "pygments_lexer": "ipython3",
   "version": "3.9.12"
  },
  "orig_nbformat": 4,
  "vscode": {
   "interpreter": {
    "hash": "3c49ca66e5c8d57ef998acbc4445fda8afa39543d611cccca4a6c099a23fcb0b"
   }
  }
 },
 "nbformat": 4,
 "nbformat_minor": 2
}
