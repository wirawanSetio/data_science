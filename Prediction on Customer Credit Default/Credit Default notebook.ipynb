{
 "cells": [
  {
   "cell_type": "markdown",
   "metadata": {},
   "source": [
    "# I. Perkenalan\n"
   ]
  },
  {
   "cell_type": "markdown",
   "metadata": {},
   "source": [
    "**Identity**\n",
    "\n",
    "Wirawan Setio Aji <br>\n",
    "BATCH-14 "
   ]
  },
  {
   "cell_type": "markdown",
   "metadata": {},
   "source": [
    "**Dataset**\n",
    "\n",
    "Dataset ini memiliki informasi tentang demografi pembayaran pinjaman credit. dimana melibatkan status **Debitur** dinyatakan gagal / berhasil membayar hutang dalam 1 semester terakhir<br>\n",
    "data retrieved from BigQuery : [source](https://console.cloud.google.com/bigquery?p=bigquery-public-data&d=ml_datasets&t=credit_card_default_next_moth&page=table)\n",
    "\n",
    "```SELECT limit_balance, sex, education_level, marital_status, age, pay_0, pay_2, pay_3, pay_4, pay_5, pay_6, bill_amt_1, bill_amt_2, bill_amt_3, bill_amt_4, bill_amt_5, bill_amt_6, pay_amt_1, pay_amt_2, pay_amt_3, pay_amt_4, pay_amt_5, pay_amt_6, default_payment_next_month ```\n",
    "\n",
    "``` FROM `bigquery-public-data.ml_datasets.credit_card_default` ```\n",
    "\n",
    "`LIMIT 27916`\n"
   ]
  },
  {
   "cell_type": "markdown",
   "metadata": {},
   "source": [
    "**Objective**<br>\n",
    "membuat prediksi dengan target adalah `default_payment_next_month`  "
   ]
  },
  {
   "cell_type": "markdown",
   "metadata": {},
   "source": [
    "**Conceptual Questions**\n",
    "1. Apakah fungsi parameter `criterion` pada Decision Tree? Jelaskan salah satu criterion yang kalian pahami!\n",
    "2. Apakah fungsi dari `pruning` pada Tree model?\n",
    "3. Bagaimana cara memilih `K` yang optimal pada KNN?\n",
    "4. Jelaskan apa yang kalian ketahui tentang `Cross Validation`!\n",
    "5. Jelaskan apa yang kalian ketahui tentang `Accuracy, Precision, Recall, F1 Score`!\n"
   ]
  },
  {
   "cell_type": "markdown",
   "metadata": {},
   "source": [
    "# II. Import Libraries\n",
    "\n",
    "library yang digunakan saat mengerjakan project,\n",
    "\n",
    "juga terdapat module **bikinan sendiri** untuk membantu handling outliers pada `outliermod`"
   ]
  },
  {
   "cell_type": "code",
   "execution_count": 1,
   "metadata": {},
   "outputs": [],
   "source": [
    "import pandas as pd # Data flow\n",
    "pd.set_option(\"display.max.columns\",None) # display all columns\n",
    "import numpy as np # algebra linear\n",
    "%load_ext autoreload\n",
    "\n",
    "%autoreload 2\n",
    "# Data Visual\n",
    "import seaborn as sns\n",
    "import matplotlib.pyplot as plt\n",
    "from matplotlib import rcParams\n",
    "\n",
    "#Preprocessing\n",
    "from sklearn.model_selection import train_test_split# split train test and train set\n",
    "from sklearn.preprocessing import OrdinalEncoder  # feature encoding using ordinal encoder\n",
    "from sklearn.preprocessing import MinMaxScaler # feature scalling MinMaxScaler\n",
    "\n",
    "# Math Modelling\n",
    "from sklearn.linear_model import LogisticRegression # Training Logistic Regression\n",
    "from sklearn.svm import SVC # Training SVM classification\n",
    "from sklearn.tree import DecisionTreeClassifier # Decision tree\n",
    "from sklearn.neighbors import KNeighborsClassifier\n",
    "from sklearn.naive_bayes import GaussianNB # Naive Bayes model\n",
    "from sklearn.ensemble import RandomForestClassifier # Random forest module\n",
    "# !pip install xgboost \n",
    "from xgboost import XGBClassifier #xgboost Module use pip install above to install xgboost\n",
    "# Evaluation Model \n",
    "from sklearn.metrics import accuracy_score,classification_report,ConfusionMatrixDisplay,confusion_matrix # model evaluation using absolute error\n",
    "from sklearn.model_selection import GridSearchCV,cross_val_score\n",
    " # outliers sencoring\n",
    "from feature_engine.outliers import Winsorizer\n",
    "\n",
    "from outliermod import skewness,outliersCheck,outlier_graph,censoring_outliers\n",
    "\n",
    "from sklearn.pipeline import make_pipeline\n",
    "from sklearn.impute import SimpleImputer\n",
    "from sklearn.compose import ColumnTransformer\n",
    "from sklearn.model_selection import RepeatedStratifiedKFold\n"
   ]
  },
  {
   "cell_type": "markdown",
   "metadata": {},
   "source": [
    "# III. Data Loading\n",
    "Sebelum Melakukan **Data Explore**, muat data pada dataframe dan **mempelajari** secara umum tentang **tipe data**, **konteks setiap kolom** pada data yang diperoleh"
   ]
  },
  {
   "cell_type": "code",
   "execution_count": 2,
   "metadata": {},
   "outputs": [
    {
     "data": {
      "text/html": [
       "<div>\n",
       "<style scoped>\n",
       "    .dataframe tbody tr th:only-of-type {\n",
       "        vertical-align: middle;\n",
       "    }\n",
       "\n",
       "    .dataframe tbody tr th {\n",
       "        vertical-align: top;\n",
       "    }\n",
       "\n",
       "    .dataframe thead th {\n",
       "        text-align: right;\n",
       "    }\n",
       "</style>\n",
       "<table border=\"1\" class=\"dataframe\">\n",
       "  <thead>\n",
       "    <tr style=\"text-align: right;\">\n",
       "      <th></th>\n",
       "      <th>limit_balance</th>\n",
       "      <th>sex</th>\n",
       "      <th>education_level</th>\n",
       "      <th>marital_status</th>\n",
       "      <th>age</th>\n",
       "      <th>pay_0</th>\n",
       "      <th>pay_2</th>\n",
       "      <th>pay_3</th>\n",
       "      <th>pay_4</th>\n",
       "      <th>pay_5</th>\n",
       "      <th>pay_6</th>\n",
       "      <th>bill_amt_1</th>\n",
       "      <th>bill_amt_2</th>\n",
       "      <th>bill_amt_3</th>\n",
       "      <th>bill_amt_4</th>\n",
       "      <th>bill_amt_5</th>\n",
       "      <th>bill_amt_6</th>\n",
       "      <th>pay_amt_1</th>\n",
       "      <th>pay_amt_2</th>\n",
       "      <th>pay_amt_3</th>\n",
       "      <th>pay_amt_4</th>\n",
       "      <th>pay_amt_5</th>\n",
       "      <th>pay_amt_6</th>\n",
       "      <th>default_payment_next_month</th>\n",
       "    </tr>\n",
       "  </thead>\n",
       "  <tbody>\n",
       "    <tr>\n",
       "      <th>0</th>\n",
       "      <td>50000.0</td>\n",
       "      <td>1</td>\n",
       "      <td>1</td>\n",
       "      <td>2</td>\n",
       "      <td>39.0</td>\n",
       "      <td>0.0</td>\n",
       "      <td>0.0</td>\n",
       "      <td>0.0</td>\n",
       "      <td>0.0</td>\n",
       "      <td>0</td>\n",
       "      <td>0</td>\n",
       "      <td>47174.0</td>\n",
       "      <td>47974.0</td>\n",
       "      <td>48630.0</td>\n",
       "      <td>50803.0</td>\n",
       "      <td>30789.0</td>\n",
       "      <td>15874.0</td>\n",
       "      <td>1800.0</td>\n",
       "      <td>2000.0</td>\n",
       "      <td>3000.0</td>\n",
       "      <td>2000.0</td>\n",
       "      <td>2000.0</td>\n",
       "      <td>2000.0</td>\n",
       "      <td>0</td>\n",
       "    </tr>\n",
       "    <tr>\n",
       "      <th>1</th>\n",
       "      <td>110000.0</td>\n",
       "      <td>2</td>\n",
       "      <td>1</td>\n",
       "      <td>2</td>\n",
       "      <td>29.0</td>\n",
       "      <td>0.0</td>\n",
       "      <td>0.0</td>\n",
       "      <td>0.0</td>\n",
       "      <td>0.0</td>\n",
       "      <td>0</td>\n",
       "      <td>0</td>\n",
       "      <td>48088.0</td>\n",
       "      <td>45980.0</td>\n",
       "      <td>44231.0</td>\n",
       "      <td>32489.0</td>\n",
       "      <td>26354.0</td>\n",
       "      <td>20221.0</td>\n",
       "      <td>2000.0</td>\n",
       "      <td>2010.0</td>\n",
       "      <td>3000.0</td>\n",
       "      <td>3000.0</td>\n",
       "      <td>3000.0</td>\n",
       "      <td>1000.0</td>\n",
       "      <td>0</td>\n",
       "    </tr>\n",
       "    <tr>\n",
       "      <th>2</th>\n",
       "      <td>270000.0</td>\n",
       "      <td>1</td>\n",
       "      <td>1</td>\n",
       "      <td>2</td>\n",
       "      <td>36.0</td>\n",
       "      <td>0.0</td>\n",
       "      <td>0.0</td>\n",
       "      <td>0.0</td>\n",
       "      <td>2.0</td>\n",
       "      <td>0</td>\n",
       "      <td>0</td>\n",
       "      <td>78630.0</td>\n",
       "      <td>68921.0</td>\n",
       "      <td>46512.0</td>\n",
       "      <td>40335.0</td>\n",
       "      <td>37165.0</td>\n",
       "      <td>22156.0</td>\n",
       "      <td>10076.0</td>\n",
       "      <td>4018.0</td>\n",
       "      <td>14.0</td>\n",
       "      <td>2051.0</td>\n",
       "      <td>2000.0</td>\n",
       "      <td>0.0</td>\n",
       "      <td>0</td>\n",
       "    </tr>\n",
       "    <tr>\n",
       "      <th>3</th>\n",
       "      <td>130000.0</td>\n",
       "      <td>1</td>\n",
       "      <td>1</td>\n",
       "      <td>1</td>\n",
       "      <td>45.0</td>\n",
       "      <td>0.0</td>\n",
       "      <td>0.0</td>\n",
       "      <td>0.0</td>\n",
       "      <td>0.0</td>\n",
       "      <td>0</td>\n",
       "      <td>0</td>\n",
       "      <td>58180.0</td>\n",
       "      <td>59134.0</td>\n",
       "      <td>61156.0</td>\n",
       "      <td>62377.0</td>\n",
       "      <td>63832.0</td>\n",
       "      <td>65099.0</td>\n",
       "      <td>2886.0</td>\n",
       "      <td>2908.0</td>\n",
       "      <td>2129.0</td>\n",
       "      <td>2354.0</td>\n",
       "      <td>2366.0</td>\n",
       "      <td>2291.0</td>\n",
       "      <td>0</td>\n",
       "    </tr>\n",
       "    <tr>\n",
       "      <th>4</th>\n",
       "      <td>50000.0</td>\n",
       "      <td>1</td>\n",
       "      <td>1</td>\n",
       "      <td>2</td>\n",
       "      <td>24.0</td>\n",
       "      <td>0.0</td>\n",
       "      <td>0.0</td>\n",
       "      <td>0.0</td>\n",
       "      <td>0.0</td>\n",
       "      <td>0</td>\n",
       "      <td>0</td>\n",
       "      <td>42058.0</td>\n",
       "      <td>35340.0</td>\n",
       "      <td>22110.0</td>\n",
       "      <td>19837.0</td>\n",
       "      <td>19855.0</td>\n",
       "      <td>20151.0</td>\n",
       "      <td>1367.0</td>\n",
       "      <td>1606.0</td>\n",
       "      <td>692.0</td>\n",
       "      <td>709.0</td>\n",
       "      <td>721.0</td>\n",
       "      <td>692.0</td>\n",
       "      <td>0</td>\n",
       "    </tr>\n",
       "    <tr>\n",
       "      <th>...</th>\n",
       "      <td>...</td>\n",
       "      <td>...</td>\n",
       "      <td>...</td>\n",
       "      <td>...</td>\n",
       "      <td>...</td>\n",
       "      <td>...</td>\n",
       "      <td>...</td>\n",
       "      <td>...</td>\n",
       "      <td>...</td>\n",
       "      <td>...</td>\n",
       "      <td>...</td>\n",
       "      <td>...</td>\n",
       "      <td>...</td>\n",
       "      <td>...</td>\n",
       "      <td>...</td>\n",
       "      <td>...</td>\n",
       "      <td>...</td>\n",
       "      <td>...</td>\n",
       "      <td>...</td>\n",
       "      <td>...</td>\n",
       "      <td>...</td>\n",
       "      <td>...</td>\n",
       "      <td>...</td>\n",
       "      <td>...</td>\n",
       "    </tr>\n",
       "    <tr>\n",
       "      <th>2960</th>\n",
       "      <td>210000.0</td>\n",
       "      <td>2</td>\n",
       "      <td>2</td>\n",
       "      <td>1</td>\n",
       "      <td>39.0</td>\n",
       "      <td>-1.0</td>\n",
       "      <td>-1.0</td>\n",
       "      <td>-1.0</td>\n",
       "      <td>-1.0</td>\n",
       "      <td>-2</td>\n",
       "      <td>-1</td>\n",
       "      <td>44100.0</td>\n",
       "      <td>0.0</td>\n",
       "      <td>28428.0</td>\n",
       "      <td>0.0</td>\n",
       "      <td>0.0</td>\n",
       "      <td>12000.0</td>\n",
       "      <td>0.0</td>\n",
       "      <td>28428.0</td>\n",
       "      <td>0.0</td>\n",
       "      <td>0.0</td>\n",
       "      <td>12000.0</td>\n",
       "      <td>33664.0</td>\n",
       "      <td>0</td>\n",
       "    </tr>\n",
       "    <tr>\n",
       "      <th>2961</th>\n",
       "      <td>280000.0</td>\n",
       "      <td>2</td>\n",
       "      <td>1</td>\n",
       "      <td>1</td>\n",
       "      <td>41.0</td>\n",
       "      <td>2.0</td>\n",
       "      <td>-1.0</td>\n",
       "      <td>-1.0</td>\n",
       "      <td>-1.0</td>\n",
       "      <td>-2</td>\n",
       "      <td>-1</td>\n",
       "      <td>280.0</td>\n",
       "      <td>6852.0</td>\n",
       "      <td>486.0</td>\n",
       "      <td>0.0</td>\n",
       "      <td>0.0</td>\n",
       "      <td>244.0</td>\n",
       "      <td>6859.0</td>\n",
       "      <td>486.0</td>\n",
       "      <td>0.0</td>\n",
       "      <td>0.0</td>\n",
       "      <td>244.0</td>\n",
       "      <td>0.0</td>\n",
       "      <td>0</td>\n",
       "    </tr>\n",
       "    <tr>\n",
       "      <th>2962</th>\n",
       "      <td>80000.0</td>\n",
       "      <td>1</td>\n",
       "      <td>1</td>\n",
       "      <td>2</td>\n",
       "      <td>28.0</td>\n",
       "      <td>1.0</td>\n",
       "      <td>-1.0</td>\n",
       "      <td>-1.0</td>\n",
       "      <td>-1.0</td>\n",
       "      <td>-2</td>\n",
       "      <td>-2</td>\n",
       "      <td>0.0</td>\n",
       "      <td>47.0</td>\n",
       "      <td>207.0</td>\n",
       "      <td>0.0</td>\n",
       "      <td>0.0</td>\n",
       "      <td>0.0</td>\n",
       "      <td>47.0</td>\n",
       "      <td>207.0</td>\n",
       "      <td>0.0</td>\n",
       "      <td>0.0</td>\n",
       "      <td>0.0</td>\n",
       "      <td>0.0</td>\n",
       "      <td>0</td>\n",
       "    </tr>\n",
       "    <tr>\n",
       "      <th>2963</th>\n",
       "      <td>200000.0</td>\n",
       "      <td>1</td>\n",
       "      <td>2</td>\n",
       "      <td>1</td>\n",
       "      <td>53.0</td>\n",
       "      <td>1.0</td>\n",
       "      <td>-1.0</td>\n",
       "      <td>-1.0</td>\n",
       "      <td>-2.0</td>\n",
       "      <td>-2</td>\n",
       "      <td>-1</td>\n",
       "      <td>0.0</td>\n",
       "      <td>2920.0</td>\n",
       "      <td>0.0</td>\n",
       "      <td>0.0</td>\n",
       "      <td>0.0</td>\n",
       "      <td>6753.0</td>\n",
       "      <td>2920.0</td>\n",
       "      <td>0.0</td>\n",
       "      <td>0.0</td>\n",
       "      <td>0.0</td>\n",
       "      <td>6753.0</td>\n",
       "      <td>0.0</td>\n",
       "      <td>1</td>\n",
       "    </tr>\n",
       "    <tr>\n",
       "      <th>2964</th>\n",
       "      <td>20000.0</td>\n",
       "      <td>2</td>\n",
       "      <td>1</td>\n",
       "      <td>2</td>\n",
       "      <td>24.0</td>\n",
       "      <td>-1.0</td>\n",
       "      <td>-1.0</td>\n",
       "      <td>-2.0</td>\n",
       "      <td>-2.0</td>\n",
       "      <td>-2</td>\n",
       "      <td>-2</td>\n",
       "      <td>379.0</td>\n",
       "      <td>0.0</td>\n",
       "      <td>0.0</td>\n",
       "      <td>0.0</td>\n",
       "      <td>0.0</td>\n",
       "      <td>0.0</td>\n",
       "      <td>0.0</td>\n",
       "      <td>0.0</td>\n",
       "      <td>0.0</td>\n",
       "      <td>0.0</td>\n",
       "      <td>0.0</td>\n",
       "      <td>0.0</td>\n",
       "      <td>0</td>\n",
       "    </tr>\n",
       "  </tbody>\n",
       "</table>\n",
       "<p>2965 rows × 24 columns</p>\n",
       "</div>"
      ],
      "text/plain": [
       "      limit_balance  sex  education_level  marital_status   age  pay_0  pay_2  \\\n",
       "0           50000.0    1                1               2  39.0    0.0    0.0   \n",
       "1          110000.0    2                1               2  29.0    0.0    0.0   \n",
       "2          270000.0    1                1               2  36.0    0.0    0.0   \n",
       "3          130000.0    1                1               1  45.0    0.0    0.0   \n",
       "4           50000.0    1                1               2  24.0    0.0    0.0   \n",
       "...             ...  ...              ...             ...   ...    ...    ...   \n",
       "2960       210000.0    2                2               1  39.0   -1.0   -1.0   \n",
       "2961       280000.0    2                1               1  41.0    2.0   -1.0   \n",
       "2962        80000.0    1                1               2  28.0    1.0   -1.0   \n",
       "2963       200000.0    1                2               1  53.0    1.0   -1.0   \n",
       "2964        20000.0    2                1               2  24.0   -1.0   -1.0   \n",
       "\n",
       "      pay_3  pay_4  pay_5  pay_6  bill_amt_1  bill_amt_2  bill_amt_3  \\\n",
       "0       0.0    0.0      0      0     47174.0     47974.0     48630.0   \n",
       "1       0.0    0.0      0      0     48088.0     45980.0     44231.0   \n",
       "2       0.0    2.0      0      0     78630.0     68921.0     46512.0   \n",
       "3       0.0    0.0      0      0     58180.0     59134.0     61156.0   \n",
       "4       0.0    0.0      0      0     42058.0     35340.0     22110.0   \n",
       "...     ...    ...    ...    ...         ...         ...         ...   \n",
       "2960   -1.0   -1.0     -2     -1     44100.0         0.0     28428.0   \n",
       "2961   -1.0   -1.0     -2     -1       280.0      6852.0       486.0   \n",
       "2962   -1.0   -1.0     -2     -2         0.0        47.0       207.0   \n",
       "2963   -1.0   -2.0     -2     -1         0.0      2920.0         0.0   \n",
       "2964   -2.0   -2.0     -2     -2       379.0         0.0         0.0   \n",
       "\n",
       "      bill_amt_4  bill_amt_5  bill_amt_6  pay_amt_1  pay_amt_2  pay_amt_3  \\\n",
       "0        50803.0     30789.0     15874.0     1800.0     2000.0     3000.0   \n",
       "1        32489.0     26354.0     20221.0     2000.0     2010.0     3000.0   \n",
       "2        40335.0     37165.0     22156.0    10076.0     4018.0       14.0   \n",
       "3        62377.0     63832.0     65099.0     2886.0     2908.0     2129.0   \n",
       "4        19837.0     19855.0     20151.0     1367.0     1606.0      692.0   \n",
       "...          ...         ...         ...        ...        ...        ...   \n",
       "2960         0.0         0.0     12000.0        0.0    28428.0        0.0   \n",
       "2961         0.0         0.0       244.0     6859.0      486.0        0.0   \n",
       "2962         0.0         0.0         0.0       47.0      207.0        0.0   \n",
       "2963         0.0         0.0      6753.0     2920.0        0.0        0.0   \n",
       "2964         0.0         0.0         0.0        0.0        0.0        0.0   \n",
       "\n",
       "      pay_amt_4  pay_amt_5  pay_amt_6  default_payment_next_month  \n",
       "0        2000.0     2000.0     2000.0                           0  \n",
       "1        3000.0     3000.0     1000.0                           0  \n",
       "2        2051.0     2000.0        0.0                           0  \n",
       "3        2354.0     2366.0     2291.0                           0  \n",
       "4         709.0      721.0      692.0                           0  \n",
       "...         ...        ...        ...                         ...  \n",
       "2960        0.0    12000.0    33664.0                           0  \n",
       "2961        0.0      244.0        0.0                           0  \n",
       "2962        0.0        0.0        0.0                           0  \n",
       "2963        0.0     6753.0        0.0                           1  \n",
       "2964        0.0        0.0        0.0                           0  \n",
       "\n",
       "[2965 rows x 24 columns]"
      ]
     },
     "execution_count": 2,
     "metadata": {},
     "output_type": "execute_result"
    }
   ],
   "source": [
    "# load Uber and lyft data into 'data' \n",
    "df_credit = pd.read_csv('./h8dsft_P1M1_wirawan_setio_aji.csv') # ,na_values=[' ?','?']\n",
    "df_credit"
   ]
  },
  {
   "cell_type": "code",
   "execution_count": 3,
   "metadata": {},
   "outputs": [],
   "source": [
    "# make copy backup\n",
    "bak_income = df_credit.copy()\n"
   ]
  },
  {
   "cell_type": "markdown",
   "metadata": {},
   "source": [
    "## Dataframe Info"
   ]
  },
  {
   "cell_type": "markdown",
   "metadata": {},
   "source": [
    "jumlah baris,kolom dan tipe data"
   ]
  },
  {
   "cell_type": "code",
   "execution_count": 4,
   "metadata": {},
   "outputs": [
    {
     "data": {
      "text/plain": [
       "(2965, 24)"
      ]
     },
     "execution_count": 4,
     "metadata": {},
     "output_type": "execute_result"
    }
   ],
   "source": [
    "# shape of the dataframe\n",
    "df_credit.shape"
   ]
  },
  {
   "cell_type": "markdown",
   "metadata": {},
   "source": [
    "**Dataframe Shape** <br>\n",
    "Data memiliki 2965 baris dan 24 kolom"
   ]
  },
  {
   "cell_type": "markdown",
   "metadata": {},
   "source": [
    "- data hanya memiliki jenis data angka saja\n",
    "- belum terlihat missing value sejauh ini"
   ]
  },
  {
   "cell_type": "code",
   "execution_count": 5,
   "metadata": {},
   "outputs": [
    {
     "name": "stdout",
     "output_type": "stream",
     "text": [
      "<class 'pandas.core.frame.DataFrame'>\n",
      "RangeIndex: 2965 entries, 0 to 2964\n",
      "Data columns (total 24 columns):\n",
      " #   Column                      Non-Null Count  Dtype  \n",
      "---  ------                      --------------  -----  \n",
      " 0   limit_balance               2965 non-null   float64\n",
      " 1   sex                         2965 non-null   int64  \n",
      " 2   education_level             2965 non-null   int64  \n",
      " 3   marital_status              2965 non-null   int64  \n",
      " 4   age                         2965 non-null   float64\n",
      " 5   pay_0                       2965 non-null   float64\n",
      " 6   pay_2                       2965 non-null   float64\n",
      " 7   pay_3                       2965 non-null   float64\n",
      " 8   pay_4                       2965 non-null   float64\n",
      " 9   pay_5                       2965 non-null   int64  \n",
      " 10  pay_6                       2965 non-null   int64  \n",
      " 11  bill_amt_1                  2965 non-null   float64\n",
      " 12  bill_amt_2                  2965 non-null   float64\n",
      " 13  bill_amt_3                  2965 non-null   float64\n",
      " 14  bill_amt_4                  2965 non-null   float64\n",
      " 15  bill_amt_5                  2965 non-null   float64\n",
      " 16  bill_amt_6                  2965 non-null   float64\n",
      " 17  pay_amt_1                   2965 non-null   float64\n",
      " 18  pay_amt_2                   2965 non-null   float64\n",
      " 19  pay_amt_3                   2965 non-null   float64\n",
      " 20  pay_amt_4                   2965 non-null   float64\n",
      " 21  pay_amt_5                   2965 non-null   float64\n",
      " 22  pay_amt_6                   2965 non-null   float64\n",
      " 23  default_payment_next_month  2965 non-null   int64  \n",
      "dtypes: float64(18), int64(6)\n",
      "memory usage: 556.1 KB\n"
     ]
    }
   ],
   "source": [
    "df_credit.info()"
   ]
  },
  {
   "cell_type": "markdown",
   "metadata": {},
   "source": [
    "## Melihat lebih dalam tentang data Numerik dan Kategori"
   ]
  },
  {
   "cell_type": "markdown",
   "metadata": {},
   "source": [
    "untuk mencari mana data yang sesungguhnya memiliki sifat **kategori** dengan melihat **rasio** antara jumlah ***unique value*** dan jumlah **barisnya**"
   ]
  },
  {
   "cell_type": "code",
   "execution_count": 6,
   "metadata": {},
   "outputs": [
    {
     "name": "stdout",
     "output_type": "stream",
     "text": [
      "unique ratio limit_balance : 0.019898819561551432\n",
      "unique ratio sex : 0.0006745362563237774\n",
      "unique ratio education_level : 0.002360876897133221\n",
      "unique ratio marital_status : 0.0013490725126475548\n",
      "unique ratio age : 0.016526138279932545\n",
      "unique ratio pay_0 : 0.003709949409780776\n",
      "unique ratio pay_2 : 0.003372681281618887\n",
      "unique ratio pay_3 : 0.0030354131534569982\n",
      "unique ratio pay_4 : 0.003372681281618887\n",
      "unique ratio pay_5 : 0.0030354131534569982\n",
      "unique ratio pay_6 : 0.0026981450252951096\n",
      "unique ratio bill_amt_1 : 0.8913996627318719\n",
      "unique ratio bill_amt_2 : 0.8741989881956155\n",
      "unique ratio bill_amt_3 : 0.8596964586846543\n",
      "unique ratio bill_amt_4 : 0.8445193929173693\n",
      "unique ratio bill_amt_5 : 0.8370994940978077\n",
      "unique ratio bill_amt_6 : 0.8300168634064081\n",
      "unique ratio pay_amt_1 : 0.4772344013490725\n",
      "unique ratio pay_amt_2 : 0.4627318718381113\n",
      "unique ratio pay_amt_3 : 0.4391231028667791\n",
      "unique ratio pay_amt_4 : 0.4094435075885329\n",
      "unique ratio pay_amt_5 : 0.4026981450252951\n",
      "unique ratio pay_amt_6 : 0.4010118043844857\n",
      "unique ratio default_payment_next_month : 0.0006745362563237774\n"
     ]
    }
   ],
   "source": [
    "length = len(df_credit)\n",
    "list_col = list(df_credit.columns)\n",
    "list_disc = []\n",
    "def unique_ratio(df,col,length):\n",
    "    return len(df[col].unique()) / length\n",
    "\n",
    "for col in list_col:\n",
    "    rate = unique_ratio(df_credit,col,length)\n",
    "    if rate < 0.01:\n",
    "        list_disc.append(col)\n",
    "    print(\"unique ratio \" + col +\" :\",rate)\n",
    "    "
   ]
  },
  {
   "cell_type": "code",
   "execution_count": 7,
   "metadata": {},
   "outputs": [
    {
     "data": {
      "text/plain": [
       "['sex',\n",
       " 'education_level',\n",
       " 'marital_status',\n",
       " 'pay_0',\n",
       " 'pay_2',\n",
       " 'pay_3',\n",
       " 'pay_4',\n",
       " 'pay_5',\n",
       " 'pay_6',\n",
       " 'default_payment_next_month']"
      ]
     },
     "execution_count": 7,
     "metadata": {},
     "output_type": "execute_result"
    }
   ],
   "source": [
    "list_disc"
   ]
  },
  {
   "cell_type": "code",
   "execution_count": 8,
   "metadata": {},
   "outputs": [],
   "source": [
    "list_limit = list(df_credit['limit_balance'].unique())"
   ]
  },
  {
   "cell_type": "markdown",
   "metadata": {},
   "source": [
    "Setelah melihat masing-masing rasio ***Unique Value*** pada setiap kolom, terdapat beberapa \n",
    "data numerik yang tergolong kategori yaitu pada kolom :\n",
    "\n",
    "`'sex','education_level','marital_status','pay_0','pay_2'`\n",
    "`,'pay_3','pay_4','pay_5','pay_6' 'default_payment_next_month'`"
   ]
  },
  {
   "cell_type": "code",
   "execution_count": 9,
   "metadata": {},
   "outputs": [
    {
     "name": "stdout",
     "output_type": "stream",
     "text": [
      "['sex', 'education_level', 'marital_status', 'pay_0', 'pay_2', 'pay_3', 'pay_4', 'pay_5', 'pay_6', 'default_payment_next_month']\n",
      "[1 2]\n",
      "[1 2 3 5 4 6 0]\n",
      "[2 1 3 0]\n",
      "[ 0. -1.  2.  1.  3. -2.  4.  5.  6.  7.  8.]\n",
      "[ 0.  2. -2.  3.  4.  5.  6.  7.  1. -1.]\n",
      "[ 0.  2. -1. -2.  3.  5.  6.  7.  4.]\n",
      "[ 0.  2. -1.  3.  5. -2.  4.  6.  7.  8.]\n",
      "[ 0  2  3  4 -1 -2  5  6  7]\n",
      "[ 0  2 -2 -1  3  4  6  7]\n",
      "[0 1]\n"
     ]
    }
   ],
   "source": [
    "print(list_disc)\n",
    "for col in list_disc:\n",
    "    print(df_credit[col].unique())"
   ]
  },
  {
   "cell_type": "markdown",
   "metadata": {},
   "source": [
    "### keterangan pada data katagori"
   ]
  },
  {
   "cell_type": "markdown",
   "metadata": {},
   "source": [
    "- **Sex** : Gender (1=male, 2=female)\n",
    "- **Education Level** : (1=graduate school, 2=university, 3=high school, 4=others, 5=unknown, 6=unknown)\n",
    "- **Marital status** (1=married, 2=single, 3=others)\n",
    "- pada data `pay_0,pay_1,pay_3` dst, merupakan status pelunasan setiap bulan (-1=dibayar tepat, 1=tertunda 1 bulan month, 2=tertunda 2 bulan, ... 8=tertunda 8 bulan ,dst)\n",
    "    - pay_0 bulan September\n",
    "    - pay_2 bulan Agustus\n",
    "    - pay_3 bulan Juli\n",
    "    - pay_4 bulan Juni\n",
    "    - pay_5 bulan May\n",
    "    - pay_6 bulan April\n",
    "- `'default_payment_next_month'`  merupakan target prediksi (1=yes, 0=no)"
   ]
  },
  {
   "cell_type": "markdown",
   "metadata": {},
   "source": [
    "### Keterangan pada data numerik"
   ]
  },
  {
   "cell_type": "markdown",
   "metadata": {},
   "source": [
    "- `limit_balance`  : merupakan batasan pada pelayanan kredit\n",
    "- `bill_amt_` : jumlah tagihan bulanan\n",
    "- `pay_amt_` : jumlah tagihan yang dibayar bulan lalu\n"
   ]
  },
  {
   "cell_type": "markdown",
   "metadata": {},
   "source": [
    "## Menambah kolom\n",
    "menambah kolom total untuk kolom menjumlah tiap baris pada kolom `pay_0`,`pay_2`,`pay_3`,`pay_4` ,dst\n",
    "dan `pay_amt_1`,`pay_amt_2`,`pay_amt_3`,dst."
   ]
  },
  {
   "cell_type": "markdown",
   "metadata": {},
   "source": [
    "### pay_avg"
   ]
  },
  {
   "cell_type": "code",
   "execution_count": 10,
   "metadata": {},
   "outputs": [],
   "source": [
    "df_credit['pay_avg'] = (df_credit['pay_0'] + df_credit['pay_2'] + df_credit['pay_3'] + df_credit['pay_4'] + df_credit['pay_5'] + df_credit['pay_6'])/6"
   ]
  },
  {
   "cell_type": "markdown",
   "metadata": {},
   "source": [
    "### pay_amt average"
   ]
  },
  {
   "cell_type": "code",
   "execution_count": 11,
   "metadata": {},
   "outputs": [],
   "source": [
    "df_credit['pay_amt_avg'] = (df_credit['pay_amt_1'] + df_credit['pay_amt_2'] + df_credit['pay_amt_3'] + df_credit['pay_amt_4'] + df_credit['pay_amt_5'] )/5"
   ]
  },
  {
   "cell_type": "markdown",
   "metadata": {},
   "source": [
    "### delta_bill_pay"
   ]
  },
  {
   "cell_type": "code",
   "execution_count": 12,
   "metadata": {},
   "outputs": [],
   "source": [
    "df_credit['delta_bill'] =  ((df_credit['bill_amt_1'] - df_credit['bill_amt_2']) + (df_credit['bill_amt_2'] - df_credit['bill_amt_3']) + (df_credit['bill_amt_3'] - df_credit['bill_amt_4']) + (df_credit['bill_amt_4']  - df_credit['bill_amt_5']) + (df_credit['bill_amt_5'] - df_credit['bill_amt_6']))/5"
   ]
  },
  {
   "cell_type": "code",
   "execution_count": 13,
   "metadata": {},
   "outputs": [
    {
     "data": {
      "text/html": [
       "<div>\n",
       "<style scoped>\n",
       "    .dataframe tbody tr th:only-of-type {\n",
       "        vertical-align: middle;\n",
       "    }\n",
       "\n",
       "    .dataframe tbody tr th {\n",
       "        vertical-align: top;\n",
       "    }\n",
       "\n",
       "    .dataframe thead th {\n",
       "        text-align: right;\n",
       "    }\n",
       "</style>\n",
       "<table border=\"1\" class=\"dataframe\">\n",
       "  <thead>\n",
       "    <tr style=\"text-align: right;\">\n",
       "      <th></th>\n",
       "      <th>limit_balance</th>\n",
       "      <th>sex</th>\n",
       "      <th>education_level</th>\n",
       "      <th>marital_status</th>\n",
       "      <th>age</th>\n",
       "      <th>pay_0</th>\n",
       "      <th>pay_2</th>\n",
       "      <th>pay_3</th>\n",
       "      <th>pay_4</th>\n",
       "      <th>pay_5</th>\n",
       "      <th>pay_6</th>\n",
       "      <th>bill_amt_1</th>\n",
       "      <th>bill_amt_2</th>\n",
       "      <th>bill_amt_3</th>\n",
       "      <th>bill_amt_4</th>\n",
       "      <th>bill_amt_5</th>\n",
       "      <th>bill_amt_6</th>\n",
       "      <th>pay_amt_1</th>\n",
       "      <th>pay_amt_2</th>\n",
       "      <th>pay_amt_3</th>\n",
       "      <th>pay_amt_4</th>\n",
       "      <th>pay_amt_5</th>\n",
       "      <th>pay_amt_6</th>\n",
       "      <th>default_payment_next_month</th>\n",
       "      <th>pay_avg</th>\n",
       "      <th>pay_amt_avg</th>\n",
       "      <th>delta_bill</th>\n",
       "    </tr>\n",
       "  </thead>\n",
       "  <tbody>\n",
       "    <tr>\n",
       "      <th>0</th>\n",
       "      <td>50000.0</td>\n",
       "      <td>1</td>\n",
       "      <td>1</td>\n",
       "      <td>2</td>\n",
       "      <td>39.0</td>\n",
       "      <td>0.0</td>\n",
       "      <td>0.0</td>\n",
       "      <td>0.0</td>\n",
       "      <td>0.0</td>\n",
       "      <td>0</td>\n",
       "      <td>0</td>\n",
       "      <td>47174.0</td>\n",
       "      <td>47974.0</td>\n",
       "      <td>48630.0</td>\n",
       "      <td>50803.0</td>\n",
       "      <td>30789.0</td>\n",
       "      <td>15874.0</td>\n",
       "      <td>1800.0</td>\n",
       "      <td>2000.0</td>\n",
       "      <td>3000.0</td>\n",
       "      <td>2000.0</td>\n",
       "      <td>2000.0</td>\n",
       "      <td>2000.0</td>\n",
       "      <td>0</td>\n",
       "      <td>0.000000</td>\n",
       "      <td>2160.0</td>\n",
       "      <td>6260.0</td>\n",
       "    </tr>\n",
       "    <tr>\n",
       "      <th>1</th>\n",
       "      <td>110000.0</td>\n",
       "      <td>2</td>\n",
       "      <td>1</td>\n",
       "      <td>2</td>\n",
       "      <td>29.0</td>\n",
       "      <td>0.0</td>\n",
       "      <td>0.0</td>\n",
       "      <td>0.0</td>\n",
       "      <td>0.0</td>\n",
       "      <td>0</td>\n",
       "      <td>0</td>\n",
       "      <td>48088.0</td>\n",
       "      <td>45980.0</td>\n",
       "      <td>44231.0</td>\n",
       "      <td>32489.0</td>\n",
       "      <td>26354.0</td>\n",
       "      <td>20221.0</td>\n",
       "      <td>2000.0</td>\n",
       "      <td>2010.0</td>\n",
       "      <td>3000.0</td>\n",
       "      <td>3000.0</td>\n",
       "      <td>3000.0</td>\n",
       "      <td>1000.0</td>\n",
       "      <td>0</td>\n",
       "      <td>0.000000</td>\n",
       "      <td>2602.0</td>\n",
       "      <td>5573.4</td>\n",
       "    </tr>\n",
       "    <tr>\n",
       "      <th>2</th>\n",
       "      <td>270000.0</td>\n",
       "      <td>1</td>\n",
       "      <td>1</td>\n",
       "      <td>2</td>\n",
       "      <td>36.0</td>\n",
       "      <td>0.0</td>\n",
       "      <td>0.0</td>\n",
       "      <td>0.0</td>\n",
       "      <td>2.0</td>\n",
       "      <td>0</td>\n",
       "      <td>0</td>\n",
       "      <td>78630.0</td>\n",
       "      <td>68921.0</td>\n",
       "      <td>46512.0</td>\n",
       "      <td>40335.0</td>\n",
       "      <td>37165.0</td>\n",
       "      <td>22156.0</td>\n",
       "      <td>10076.0</td>\n",
       "      <td>4018.0</td>\n",
       "      <td>14.0</td>\n",
       "      <td>2051.0</td>\n",
       "      <td>2000.0</td>\n",
       "      <td>0.0</td>\n",
       "      <td>0</td>\n",
       "      <td>0.333333</td>\n",
       "      <td>3631.8</td>\n",
       "      <td>11294.8</td>\n",
       "    </tr>\n",
       "    <tr>\n",
       "      <th>3</th>\n",
       "      <td>130000.0</td>\n",
       "      <td>1</td>\n",
       "      <td>1</td>\n",
       "      <td>1</td>\n",
       "      <td>45.0</td>\n",
       "      <td>0.0</td>\n",
       "      <td>0.0</td>\n",
       "      <td>0.0</td>\n",
       "      <td>0.0</td>\n",
       "      <td>0</td>\n",
       "      <td>0</td>\n",
       "      <td>58180.0</td>\n",
       "      <td>59134.0</td>\n",
       "      <td>61156.0</td>\n",
       "      <td>62377.0</td>\n",
       "      <td>63832.0</td>\n",
       "      <td>65099.0</td>\n",
       "      <td>2886.0</td>\n",
       "      <td>2908.0</td>\n",
       "      <td>2129.0</td>\n",
       "      <td>2354.0</td>\n",
       "      <td>2366.0</td>\n",
       "      <td>2291.0</td>\n",
       "      <td>0</td>\n",
       "      <td>0.000000</td>\n",
       "      <td>2528.6</td>\n",
       "      <td>-1383.8</td>\n",
       "    </tr>\n",
       "    <tr>\n",
       "      <th>4</th>\n",
       "      <td>50000.0</td>\n",
       "      <td>1</td>\n",
       "      <td>1</td>\n",
       "      <td>2</td>\n",
       "      <td>24.0</td>\n",
       "      <td>0.0</td>\n",
       "      <td>0.0</td>\n",
       "      <td>0.0</td>\n",
       "      <td>0.0</td>\n",
       "      <td>0</td>\n",
       "      <td>0</td>\n",
       "      <td>42058.0</td>\n",
       "      <td>35340.0</td>\n",
       "      <td>22110.0</td>\n",
       "      <td>19837.0</td>\n",
       "      <td>19855.0</td>\n",
       "      <td>20151.0</td>\n",
       "      <td>1367.0</td>\n",
       "      <td>1606.0</td>\n",
       "      <td>692.0</td>\n",
       "      <td>709.0</td>\n",
       "      <td>721.0</td>\n",
       "      <td>692.0</td>\n",
       "      <td>0</td>\n",
       "      <td>0.000000</td>\n",
       "      <td>1019.0</td>\n",
       "      <td>4381.4</td>\n",
       "    </tr>\n",
       "  </tbody>\n",
       "</table>\n",
       "</div>"
      ],
      "text/plain": [
       "   limit_balance  sex  education_level  marital_status   age  pay_0  pay_2  \\\n",
       "0        50000.0    1                1               2  39.0    0.0    0.0   \n",
       "1       110000.0    2                1               2  29.0    0.0    0.0   \n",
       "2       270000.0    1                1               2  36.0    0.0    0.0   \n",
       "3       130000.0    1                1               1  45.0    0.0    0.0   \n",
       "4        50000.0    1                1               2  24.0    0.0    0.0   \n",
       "\n",
       "   pay_3  pay_4  pay_5  pay_6  bill_amt_1  bill_amt_2  bill_amt_3  bill_amt_4  \\\n",
       "0    0.0    0.0      0      0     47174.0     47974.0     48630.0     50803.0   \n",
       "1    0.0    0.0      0      0     48088.0     45980.0     44231.0     32489.0   \n",
       "2    0.0    2.0      0      0     78630.0     68921.0     46512.0     40335.0   \n",
       "3    0.0    0.0      0      0     58180.0     59134.0     61156.0     62377.0   \n",
       "4    0.0    0.0      0      0     42058.0     35340.0     22110.0     19837.0   \n",
       "\n",
       "   bill_amt_5  bill_amt_6  pay_amt_1  pay_amt_2  pay_amt_3  pay_amt_4  \\\n",
       "0     30789.0     15874.0     1800.0     2000.0     3000.0     2000.0   \n",
       "1     26354.0     20221.0     2000.0     2010.0     3000.0     3000.0   \n",
       "2     37165.0     22156.0    10076.0     4018.0       14.0     2051.0   \n",
       "3     63832.0     65099.0     2886.0     2908.0     2129.0     2354.0   \n",
       "4     19855.0     20151.0     1367.0     1606.0      692.0      709.0   \n",
       "\n",
       "   pay_amt_5  pay_amt_6  default_payment_next_month   pay_avg  pay_amt_avg  \\\n",
       "0     2000.0     2000.0                           0  0.000000       2160.0   \n",
       "1     3000.0     1000.0                           0  0.000000       2602.0   \n",
       "2     2000.0        0.0                           0  0.333333       3631.8   \n",
       "3     2366.0     2291.0                           0  0.000000       2528.6   \n",
       "4      721.0      692.0                           0  0.000000       1019.0   \n",
       "\n",
       "   delta_bill  \n",
       "0      6260.0  \n",
       "1      5573.4  \n",
       "2     11294.8  \n",
       "3     -1383.8  \n",
       "4      4381.4  "
      ]
     },
     "execution_count": 13,
     "metadata": {},
     "output_type": "execute_result"
    }
   ],
   "source": [
    "df_credit.head()"
   ]
  },
  {
   "cell_type": "markdown",
   "metadata": {},
   "source": [
    "## Mengganti nama column"
   ]
  },
  {
   "cell_type": "markdown",
   "metadata": {},
   "source": [
    "mengganti nama kolom `pay_0` menjadi `pay_1` dan `default_payment_next_month` menjadi `default_next_month`"
   ]
  },
  {
   "cell_type": "code",
   "execution_count": 14,
   "metadata": {},
   "outputs": [],
   "source": [
    "df_credit.rename(columns={\"pay_0\":\"pay_1\",\"default_payment_next_month\":\"default_next_month\"},inplace=True)"
   ]
  },
  {
   "cell_type": "markdown",
   "metadata": {},
   "source": [
    "# IV. Exploratory Data Analysis"
   ]
  },
  {
   "cell_type": "markdown",
   "metadata": {},
   "source": [
    "**EDA** Menganalisa untuk mendapatkan insight pada data yang diperoleh"
   ]
  },
  {
   "cell_type": "markdown",
   "metadata": {},
   "source": [
    "## Data Correlation\n",
    "\n",
    "Korrelasi antar kolom data dilihat dengan *Heatmap* data visual"
   ]
  },
  {
   "cell_type": "code",
   "execution_count": 15,
   "metadata": {},
   "outputs": [
    {
     "data": {
      "image/png": "[encoded data removed]",
      "text/plain": [
       "<Figure size 1944x1800 with 2 Axes>"
      ]
     },
     "metadata": {
      "needs_background": "light"
     },
     "output_type": "display_data"
    }
   ],
   "source": [
    "corr = df_credit.corr()\n",
    "\n",
    "plt.figure(figsize=(27, 25))\n",
    "sns.heatmap(corr, annot= True, vmin=0, vmax=1)\n",
    "plt.show()"
   ]
  },
  {
   "cell_type": "markdown",
   "metadata": {},
   "source": [
    "dari tabel heatmap korelasi antar fitur, dapat terlihat banyak korelasi yang tinggi untuk kolom `pay`, `bill_amt` dan `pay_amt`, dikarenakan kolom tersebut adalah urutan yang saling berkaitan dalam pelunasan hutang setiap bulannya. \n",
    "\n",
    "`pay_1` adalah kolom yang memiliki korelasi positif paling berpengaruh dalam menentukan label **default next month**\n",
    "\n",
    "pada `pay_amt_avg` atau rata-rata pelunasan hutang dapat terlihat korelasi negatif untuk penentuan klasifikasi **default next month**"
   ]
  },
  {
   "cell_type": "markdown",
   "metadata": {},
   "source": [
    "## Perbandingan Antar Target"
   ]
  },
  {
   "cell_type": "markdown",
   "metadata": {},
   "source": [
    "dilkakukan filtering data pada kedua target"
   ]
  },
  {
   "cell_type": "code",
   "execution_count": 16,
   "metadata": {},
   "outputs": [],
   "source": [
    "# data target default 0\n",
    "dnm_0 = df_credit.query(\"default_next_month == 0\")\n",
    "# data target default 1\n",
    "dnm_1 =  df_credit.query(\"default_next_month == 1\")"
   ]
  },
  {
   "cell_type": "markdown",
   "metadata": {},
   "source": [
    "membuat **plot** dengan **perbandingan** bagaimana **kebiasaan debitur** kebanyakan sesuai dengan **nilai target** melakukan pelunasan setiap bulannya dengan "
   ]
  },
  {
   "cell_type": "code",
   "execution_count": 17,
   "metadata": {},
   "outputs": [
    {
     "name": "stderr",
     "output_type": "stream",
     "text": [
      "c:\\Users\\ajies\\anaconda3\\lib\\site-packages\\seaborn\\distributions.py:2619: FutureWarning: `distplot` is a deprecated function and will be removed in a future version. Please adapt your code to use either `displot` (a figure-level function with similar flexibility) or `kdeplot` (an axes-level function for kernel density plots).\n",
      "  warnings.warn(msg, FutureWarning)\n",
      "c:\\Users\\ajies\\anaconda3\\lib\\site-packages\\seaborn\\distributions.py:2103: FutureWarning: The `axis` variable is no longer used and will be removed. Instead, assign variables directly to `x` or `y`.\n",
      "  warnings.warn(msg, FutureWarning)\n",
      "c:\\Users\\ajies\\anaconda3\\lib\\site-packages\\seaborn\\distributions.py:2619: FutureWarning: `distplot` is a deprecated function and will be removed in a future version. Please adapt your code to use either `displot` (a figure-level function with similar flexibility) or `kdeplot` (an axes-level function for kernel density plots).\n",
      "  warnings.warn(msg, FutureWarning)\n",
      "c:\\Users\\ajies\\anaconda3\\lib\\site-packages\\seaborn\\distributions.py:2103: FutureWarning: The `axis` variable is no longer used and will be removed. Instead, assign variables directly to `x` or `y`.\n",
      "  warnings.warn(msg, FutureWarning)\n"
     ]
    },
    {
     "data": {
      "image/png": "[encoded data removed]",
      "text/plain": [
       "<Figure size 432x288 with 1 Axes>"
      ]
     },
     "metadata": {
      "needs_background": "light"
     },
     "output_type": "display_data"
    }
   ],
   "source": [
    "\n",
    "\n",
    "g = sns.distplot(dnm_0[['pay_avg']],label=\"default 0\", hist=False, rug=True)\n",
    "g = sns.distplot(dnm_1[['pay_avg']],label=\"default 1\", hist=False, rug=True)\n",
    "# plt.setp(g._legend().get_texts(), fontsize=16)\n",
    "plt.legend(fontsize='x-large', title_fontsize='40')\n",
    "plt.show()"
   ]
  },
  {
   "cell_type": "markdown",
   "metadata": {},
   "source": [
    "pada plot diatas, debitur dengan status masih mampu membayar hutang atau **default 0** kebanyakan **tepat waktu** namun **belum lunas** , sedangkan mereka yang **default 1** lebih sering terlambat membayar **1-2 bulan**"
   ]
  },
  {
   "cell_type": "markdown",
   "metadata": {},
   "source": [
    "## Categories"
   ]
  },
  {
   "cell_type": "markdown",
   "metadata": {},
   "source": [
    "data exploration on categorical data"
   ]
  },
  {
   "cell_type": "markdown",
   "metadata": {},
   "source": [
    "### Marital Status"
   ]
  },
  {
   "cell_type": "markdown",
   "metadata": {},
   "source": [
    "status pernikahan tidak terlihat ada hubungan dengan `default_next_month credit`, akan tetapi secara jumlah , pada `marital_status` **2 (sudah menikah)** paling sering melakukan pinjaman"
   ]
  },
  {
   "cell_type": "code",
   "execution_count": 18,
   "metadata": {},
   "outputs": [
    {
     "data": {
      "text/plain": [
       "<AxesSubplot:xlabel='count', ylabel='marital_status'>"
      ]
     },
     "execution_count": 18,
     "metadata": {},
     "output_type": "execute_result"
    },
    {
     "data": {
      "image/png": "[encoded data removed]",
      "text/plain": [
       "<Figure size 432x288 with 1 Axes>"
      ]
     },
     "metadata": {
      "needs_background": "light"
     },
     "output_type": "display_data"
    }
   ],
   "source": [
    "\n",
    "sns.countplot(data=df_credit,y='marital_status',hue='default_next_month')"
   ]
  },
  {
   "cell_type": "markdown",
   "metadata": {},
   "source": [
    "### Gender"
   ]
  },
  {
   "cell_type": "markdown",
   "metadata": {},
   "source": [
    "sekilas laki-laki dan wanita **tidak ada hubungannya** dengan **default_next_month kredit**, keduanya memiliki rasio gagal membayar yang hampir sama"
   ]
  },
  {
   "cell_type": "code",
   "execution_count": 19,
   "metadata": {},
   "outputs": [
    {
     "data": {
      "text/plain": [
       "<AxesSubplot:xlabel='count', ylabel='sex'>"
      ]
     },
     "execution_count": 19,
     "metadata": {},
     "output_type": "execute_result"
    },
    {
     "data": {
      "image/png": "[encoded data removed]",
      "text/plain": [
       "<Figure size 432x288 with 1 Axes>"
      ]
     },
     "metadata": {
      "needs_background": "light"
     },
     "output_type": "display_data"
    }
   ],
   "source": [
    "\n",
    "sns.countplot(data=df_credit,y='sex',hue='default_next_month')"
   ]
  },
  {
   "cell_type": "markdown",
   "metadata": {},
   "source": [
    "### Education"
   ]
  },
  {
   "cell_type": "markdown",
   "metadata": {},
   "source": [
    "jika ditinjau dari pendidikannya, frekuensi melakukan pinjaman **mulai banyak** dari pendidikan level 3 **(High school)**, \n",
    "\n",
    "dan **paling banyak** pada level 2 **(undergraduate)**\n",
    "\n",
    "akan tetapi tidak ada pola tertentu pada rasio gagal membayar pinjaman atau `default_next_month`"
   ]
  },
  {
   "cell_type": "code",
   "execution_count": 20,
   "metadata": {},
   "outputs": [
    {
     "data": {
      "text/plain": [
       "<AxesSubplot:xlabel='count', ylabel='education_level'>"
      ]
     },
     "execution_count": 20,
     "metadata": {},
     "output_type": "execute_result"
    },
    {
     "data": {
      "image/png": "[encoded data removed]",
      "text/plain": [
       "<Figure size 432x288 with 1 Axes>"
      ]
     },
     "metadata": {
      "needs_background": "light"
     },
     "output_type": "display_data"
    }
   ],
   "source": [
    "sns.countplot(data=df_credit,y='education_level',hue='default_next_month')"
   ]
  },
  {
   "cell_type": "markdown",
   "metadata": {},
   "source": [
    "### Pay (Status Pembayaran)"
   ]
  },
  {
   "cell_type": "markdown",
   "metadata": {},
   "source": [
    "Jika dilihat dari status pembayaran pinjaman, yang **tergolong** default(gagal membayar) mulai **lebih banyak** pada menunggak pembayaran **lebih dari 2 bulan**\n",
    "\n",
    "dari semua status pembayaran setiap bulan, semua nya memiliki result yang sama, hanya saja pada `pay_2` atau status pembayaran bulan agustus, tidak ada yang menunggak satu bulan, akan tetapi langsung 2 bulan"
   ]
  },
  {
   "cell_type": "code",
   "execution_count": 21,
   "metadata": {},
   "outputs": [
    {
     "data": {
      "image/png": "[encoded data removed]",
      "text/plain": [
       "<Figure size 1080x792 with 6 Axes>"
      ]
     },
     "metadata": {
      "needs_background": "light"
     },
     "output_type": "display_data"
    }
   ],
   "source": [
    "fig,ax = plt.subplots(3,2,figsize=(15,11))\n",
    "fig.suptitle(\"Pay (Tunggakan)\",fontsize=24, y=.94)\n",
    "fig.subplots_adjust(top=.88)\n",
    "fig.subplots_adjust(hspace=.6)\n",
    "\n",
    "col = 0\n",
    "row = 0\n",
    "\n",
    "for value in range(6):\n",
    "    if value != value:\n",
    "        continue\n",
    "    str_idx = str(value+1)\n",
    "\n",
    "    sns.countplot(data=df_credit,y='pay_'+str_idx,hue='default_next_month',ax=ax[row,col])\n",
    "    ax[row,col].set_title('pay_'+str_idx,fontsize= 16)\n",
    "    \n",
    "    if col > 0:\n",
    "        col = 0\n",
    "        row += 1\n",
    "    else:\n",
    "        col +=1"
   ]
  },
  {
   "cell_type": "markdown",
   "metadata": {},
   "source": [
    "## Rata-Rata pada status Pelunasan Pinjaman"
   ]
  },
  {
   "cell_type": "markdown",
   "metadata": {},
   "source": [
    "Selama ini status pelunasan tiap bulan merupakan feature yang paling ber korelasi dengan target"
   ]
  },
  {
   "cell_type": "code",
   "execution_count": 22,
   "metadata": {},
   "outputs": [
    {
     "data": {
      "text/plain": [
       "<AxesSubplot:ylabel='pay_avg'>"
      ]
     },
     "execution_count": 22,
     "metadata": {},
     "output_type": "execute_result"
    },
    {
     "data": {
      "image/png": "[encoded data removed]",
      "text/plain": [
       "<Figure size 1152x864 with 1 Axes>"
      ]
     },
     "metadata": {
      "needs_background": "light"
     },
     "output_type": "display_data"
    }
   ],
   "source": [
    "rcParams['figure.figsize'] = 16,12\n",
    "sns.scatterplot(data=df_credit,y='pay_avg',x=df_credit.index,hue='default_next_month',size='pay_amt_avg',sizes=(20,700),alpha=0.7)"
   ]
  },
  {
   "cell_type": "markdown",
   "metadata": {},
   "source": [
    "dapat terlihat kebanyakan debitur dengan status **default bulan depan** ada pada status **pelunasan** yang tinggi **(sering telat bayar)**, dan rata-rata pembayarannya lebih kecil. Sedangkan debitur dengan status **pelunasan yang rendah** lebih cenderung memiliki **status 0** pada default bulan depan."
   ]
  },
  {
   "cell_type": "markdown",
   "metadata": {},
   "source": [
    "jika dipilih pada datapoint pada rata-rata status pelunasan terlambat lebih dari 1 bulan, maka kategori target **didominasi** oleh debitur dengan status **default pada bulan depan**"
   ]
  },
  {
   "cell_type": "code",
   "execution_count": 23,
   "metadata": {},
   "outputs": [
    {
     "data": {
      "text/plain": [
       "<AxesSubplot:ylabel='pay_avg'>"
      ]
     },
     "execution_count": 23,
     "metadata": {},
     "output_type": "execute_result"
    },
    {
     "data": {
      "image/png": "[encoded data removed]",
      "text/plain": [
       "<Figure size 1152x864 with 1 Axes>"
      ]
     },
     "metadata": {
      "needs_background": "light"
     },
     "output_type": "display_data"
    }
   ],
   "source": [
    "pay_1 = df_credit.query(\"pay_avg >= 1\")\n",
    "sns.scatterplot(data=pay_1,y='pay_avg',x=pay_1.index, hue='default_next_month',alpha=0.65)"
   ]
  },
  {
   "cell_type": "markdown",
   "metadata": {},
   "source": [
    "# V. Data Preprocessing"
   ]
  },
  {
   "cell_type": "markdown",
   "metadata": {},
   "source": [
    "- pilih **inference data**\n",
    "- pilih **non inference** data untuk dijadikan data training dan test\n"
   ]
  },
  {
   "cell_type": "markdown",
   "metadata": {},
   "source": [
    "## Inference & Non-Inference"
   ]
  },
  {
   "cell_type": "markdown",
   "metadata": {},
   "source": [
    "**Set Data Inference**"
   ]
  },
  {
   "cell_type": "code",
   "execution_count": 24,
   "metadata": {},
   "outputs": [
    {
     "name": "stdout",
     "output_type": "stream",
     "text": [
      "<class 'pandas.core.frame.DataFrame'>\n",
      "Int64Index: 10 entries, 2410 to 2627\n",
      "Data columns (total 27 columns):\n",
      " #   Column              Non-Null Count  Dtype  \n",
      "---  ------              --------------  -----  \n",
      " 0   limit_balance       10 non-null     float64\n",
      " 1   sex                 10 non-null     int64  \n",
      " 2   education_level     10 non-null     int64  \n",
      " 3   marital_status      10 non-null     int64  \n",
      " 4   age                 10 non-null     float64\n",
      " 5   pay_1               10 non-null     float64\n",
      " 6   pay_2               10 non-null     float64\n",
      " 7   pay_3               10 non-null     float64\n",
      " 8   pay_4               10 non-null     float64\n",
      " 9   pay_5               10 non-null     int64  \n",
      " 10  pay_6               10 non-null     int64  \n",
      " 11  bill_amt_1          10 non-null     float64\n",
      " 12  bill_amt_2          10 non-null     float64\n",
      " 13  bill_amt_3          10 non-null     float64\n",
      " 14  bill_amt_4          10 non-null     float64\n",
      " 15  bill_amt_5          10 non-null     float64\n",
      " 16  bill_amt_6          10 non-null     float64\n",
      " 17  pay_amt_1           10 non-null     float64\n",
      " 18  pay_amt_2           10 non-null     float64\n",
      " 19  pay_amt_3           10 non-null     float64\n",
      " 20  pay_amt_4           10 non-null     float64\n",
      " 21  pay_amt_5           10 non-null     float64\n",
      " 22  pay_amt_6           10 non-null     float64\n",
      " 23  default_next_month  10 non-null     int64  \n",
      " 24  pay_avg             10 non-null     float64\n",
      " 25  pay_amt_avg         10 non-null     float64\n",
      " 26  delta_bill          10 non-null     float64\n",
      "dtypes: float64(21), int64(6)\n",
      "memory usage: 2.2 KB\n"
     ]
    }
   ],
   "source": [
    "# take 12 sample of random data\n",
    "pickup_inf = df_credit.sample(10,random_state=12)\n",
    "\n",
    "pickup_inf.info()"
   ]
  },
  {
   "cell_type": "markdown",
   "metadata": {},
   "source": [
    "**Set Non-Inference**"
   ]
  },
  {
   "cell_type": "code",
   "execution_count": 25,
   "metadata": {},
   "outputs": [
    {
     "name": "stdout",
     "output_type": "stream",
     "text": [
      "<class 'pandas.core.frame.DataFrame'>\n",
      "Int64Index: 2955 entries, 0 to 2964\n",
      "Data columns (total 27 columns):\n",
      " #   Column              Non-Null Count  Dtype  \n",
      "---  ------              --------------  -----  \n",
      " 0   limit_balance       2955 non-null   float64\n",
      " 1   sex                 2955 non-null   int64  \n",
      " 2   education_level     2955 non-null   int64  \n",
      " 3   marital_status      2955 non-null   int64  \n",
      " 4   age                 2955 non-null   float64\n",
      " 5   pay_1               2955 non-null   float64\n",
      " 6   pay_2               2955 non-null   float64\n",
      " 7   pay_3               2955 non-null   float64\n",
      " 8   pay_4               2955 non-null   float64\n",
      " 9   pay_5               2955 non-null   int64  \n",
      " 10  pay_6               2955 non-null   int64  \n",
      " 11  bill_amt_1          2955 non-null   float64\n",
      " 12  bill_amt_2          2955 non-null   float64\n",
      " 13  bill_amt_3          2955 non-null   float64\n",
      " 14  bill_amt_4          2955 non-null   float64\n",
      " 15  bill_amt_5          2955 non-null   float64\n",
      " 16  bill_amt_6          2955 non-null   float64\n",
      " 17  pay_amt_1           2955 non-null   float64\n",
      " 18  pay_amt_2           2955 non-null   float64\n",
      " 19  pay_amt_3           2955 non-null   float64\n",
      " 20  pay_amt_4           2955 non-null   float64\n",
      " 21  pay_amt_5           2955 non-null   float64\n",
      " 22  pay_amt_6           2955 non-null   float64\n",
      " 23  default_next_month  2955 non-null   int64  \n",
      " 24  pay_avg             2955 non-null   float64\n",
      " 25  pay_amt_avg         2955 non-null   float64\n",
      " 26  delta_bill          2955 non-null   float64\n",
      "dtypes: float64(21), int64(6)\n",
      "memory usage: 646.4 KB\n"
     ]
    }
   ],
   "source": [
    "# REMOVE INFERENCE SET FROM DATA SET for non inference data\n",
    "non_inference = df_credit.drop(pickup_inf.index)\n",
    "non_inference.info()\n"
   ]
  },
  {
   "cell_type": "code",
   "execution_count": 26,
   "metadata": {},
   "outputs": [],
   "source": [
    "# reset index for safety measure\n",
    "non_inference.reset_index(drop=True,inplace=True)\n"
   ]
  },
  {
   "cell_type": "markdown",
   "metadata": {},
   "source": [
    "## Feature & Target"
   ]
  },
  {
   "cell_type": "markdown",
   "metadata": {},
   "source": [
    "Pilih **X(Features)** dan **y(Target)** menggunakan tabel **Non-Inference data**"
   ]
  },
  {
   "cell_type": "markdown",
   "metadata": {},
   "source": [
    "Gunakan `train_test_split` dari library **scikitlearn**\n",
    "- 20% baris dari `non_inference` akan digunakan untuk test"
   ]
  },
  {
   "cell_type": "code",
   "execution_count": 27,
   "metadata": {},
   "outputs": [
    {
     "data": {
      "text/plain": [
       "0       0\n",
       "1       0\n",
       "2       0\n",
       "3       0\n",
       "4       0\n",
       "       ..\n",
       "2950    0\n",
       "2951    0\n",
       "2952    0\n",
       "2953    1\n",
       "2954    0\n",
       "Name: default_next_month, Length: 2955, dtype: int64"
      ]
     },
     "execution_count": 27,
     "metadata": {},
     "output_type": "execute_result"
    }
   ],
   "source": [
    "feature = non_inference.drop('default_next_month',axis=1)\n",
    "target = non_inference['default_next_month']\n",
    "target"
   ]
  },
  {
   "cell_type": "code",
   "execution_count": 28,
   "metadata": {},
   "outputs": [
    {
     "data": {
      "text/html": [
       "<div>\n",
       "<style scoped>\n",
       "    .dataframe tbody tr th:only-of-type {\n",
       "        vertical-align: middle;\n",
       "    }\n",
       "\n",
       "    .dataframe tbody tr th {\n",
       "        vertical-align: top;\n",
       "    }\n",
       "\n",
       "    .dataframe thead th {\n",
       "        text-align: right;\n",
       "    }\n",
       "</style>\n",
       "<table border=\"1\" class=\"dataframe\">\n",
       "  <thead>\n",
       "    <tr style=\"text-align: right;\">\n",
       "      <th></th>\n",
       "      <th>limit_balance</th>\n",
       "      <th>sex</th>\n",
       "      <th>education_level</th>\n",
       "      <th>marital_status</th>\n",
       "      <th>age</th>\n",
       "      <th>pay_1</th>\n",
       "      <th>pay_2</th>\n",
       "      <th>pay_3</th>\n",
       "      <th>pay_4</th>\n",
       "      <th>pay_5</th>\n",
       "      <th>pay_6</th>\n",
       "      <th>bill_amt_1</th>\n",
       "      <th>bill_amt_2</th>\n",
       "      <th>bill_amt_3</th>\n",
       "      <th>bill_amt_4</th>\n",
       "      <th>bill_amt_5</th>\n",
       "      <th>bill_amt_6</th>\n",
       "      <th>pay_amt_1</th>\n",
       "      <th>pay_amt_2</th>\n",
       "      <th>pay_amt_3</th>\n",
       "      <th>pay_amt_4</th>\n",
       "      <th>pay_amt_5</th>\n",
       "      <th>pay_amt_6</th>\n",
       "      <th>pay_avg</th>\n",
       "      <th>pay_amt_avg</th>\n",
       "      <th>delta_bill</th>\n",
       "    </tr>\n",
       "  </thead>\n",
       "  <tbody>\n",
       "    <tr>\n",
       "      <th>0</th>\n",
       "      <td>50000.0</td>\n",
       "      <td>1</td>\n",
       "      <td>1</td>\n",
       "      <td>2</td>\n",
       "      <td>39.0</td>\n",
       "      <td>0.0</td>\n",
       "      <td>0.0</td>\n",
       "      <td>0.0</td>\n",
       "      <td>0.0</td>\n",
       "      <td>0</td>\n",
       "      <td>0</td>\n",
       "      <td>47174.0</td>\n",
       "      <td>47974.0</td>\n",
       "      <td>48630.0</td>\n",
       "      <td>50803.0</td>\n",
       "      <td>30789.0</td>\n",
       "      <td>15874.0</td>\n",
       "      <td>1800.0</td>\n",
       "      <td>2000.0</td>\n",
       "      <td>3000.0</td>\n",
       "      <td>2000.0</td>\n",
       "      <td>2000.0</td>\n",
       "      <td>2000.0</td>\n",
       "      <td>0.000000</td>\n",
       "      <td>2160.0</td>\n",
       "      <td>6260.0</td>\n",
       "    </tr>\n",
       "    <tr>\n",
       "      <th>1</th>\n",
       "      <td>110000.0</td>\n",
       "      <td>2</td>\n",
       "      <td>1</td>\n",
       "      <td>2</td>\n",
       "      <td>29.0</td>\n",
       "      <td>0.0</td>\n",
       "      <td>0.0</td>\n",
       "      <td>0.0</td>\n",
       "      <td>0.0</td>\n",
       "      <td>0</td>\n",
       "      <td>0</td>\n",
       "      <td>48088.0</td>\n",
       "      <td>45980.0</td>\n",
       "      <td>44231.0</td>\n",
       "      <td>32489.0</td>\n",
       "      <td>26354.0</td>\n",
       "      <td>20221.0</td>\n",
       "      <td>2000.0</td>\n",
       "      <td>2010.0</td>\n",
       "      <td>3000.0</td>\n",
       "      <td>3000.0</td>\n",
       "      <td>3000.0</td>\n",
       "      <td>1000.0</td>\n",
       "      <td>0.000000</td>\n",
       "      <td>2602.0</td>\n",
       "      <td>5573.4</td>\n",
       "    </tr>\n",
       "    <tr>\n",
       "      <th>2</th>\n",
       "      <td>270000.0</td>\n",
       "      <td>1</td>\n",
       "      <td>1</td>\n",
       "      <td>2</td>\n",
       "      <td>36.0</td>\n",
       "      <td>0.0</td>\n",
       "      <td>0.0</td>\n",
       "      <td>0.0</td>\n",
       "      <td>2.0</td>\n",
       "      <td>0</td>\n",
       "      <td>0</td>\n",
       "      <td>78630.0</td>\n",
       "      <td>68921.0</td>\n",
       "      <td>46512.0</td>\n",
       "      <td>40335.0</td>\n",
       "      <td>37165.0</td>\n",
       "      <td>22156.0</td>\n",
       "      <td>10076.0</td>\n",
       "      <td>4018.0</td>\n",
       "      <td>14.0</td>\n",
       "      <td>2051.0</td>\n",
       "      <td>2000.0</td>\n",
       "      <td>0.0</td>\n",
       "      <td>0.333333</td>\n",
       "      <td>3631.8</td>\n",
       "      <td>11294.8</td>\n",
       "    </tr>\n",
       "    <tr>\n",
       "      <th>3</th>\n",
       "      <td>130000.0</td>\n",
       "      <td>1</td>\n",
       "      <td>1</td>\n",
       "      <td>1</td>\n",
       "      <td>45.0</td>\n",
       "      <td>0.0</td>\n",
       "      <td>0.0</td>\n",
       "      <td>0.0</td>\n",
       "      <td>0.0</td>\n",
       "      <td>0</td>\n",
       "      <td>0</td>\n",
       "      <td>58180.0</td>\n",
       "      <td>59134.0</td>\n",
       "      <td>61156.0</td>\n",
       "      <td>62377.0</td>\n",
       "      <td>63832.0</td>\n",
       "      <td>65099.0</td>\n",
       "      <td>2886.0</td>\n",
       "      <td>2908.0</td>\n",
       "      <td>2129.0</td>\n",
       "      <td>2354.0</td>\n",
       "      <td>2366.0</td>\n",
       "      <td>2291.0</td>\n",
       "      <td>0.000000</td>\n",
       "      <td>2528.6</td>\n",
       "      <td>-1383.8</td>\n",
       "    </tr>\n",
       "    <tr>\n",
       "      <th>4</th>\n",
       "      <td>50000.0</td>\n",
       "      <td>1</td>\n",
       "      <td>1</td>\n",
       "      <td>2</td>\n",
       "      <td>24.0</td>\n",
       "      <td>0.0</td>\n",
       "      <td>0.0</td>\n",
       "      <td>0.0</td>\n",
       "      <td>0.0</td>\n",
       "      <td>0</td>\n",
       "      <td>0</td>\n",
       "      <td>42058.0</td>\n",
       "      <td>35340.0</td>\n",
       "      <td>22110.0</td>\n",
       "      <td>19837.0</td>\n",
       "      <td>19855.0</td>\n",
       "      <td>20151.0</td>\n",
       "      <td>1367.0</td>\n",
       "      <td>1606.0</td>\n",
       "      <td>692.0</td>\n",
       "      <td>709.0</td>\n",
       "      <td>721.0</td>\n",
       "      <td>692.0</td>\n",
       "      <td>0.000000</td>\n",
       "      <td>1019.0</td>\n",
       "      <td>4381.4</td>\n",
       "    </tr>\n",
       "  </tbody>\n",
       "</table>\n",
       "</div>"
      ],
      "text/plain": [
       "   limit_balance  sex  education_level  marital_status   age  pay_1  pay_2  \\\n",
       "0        50000.0    1                1               2  39.0    0.0    0.0   \n",
       "1       110000.0    2                1               2  29.0    0.0    0.0   \n",
       "2       270000.0    1                1               2  36.0    0.0    0.0   \n",
       "3       130000.0    1                1               1  45.0    0.0    0.0   \n",
       "4        50000.0    1                1               2  24.0    0.0    0.0   \n",
       "\n",
       "   pay_3  pay_4  pay_5  pay_6  bill_amt_1  bill_amt_2  bill_amt_3  bill_amt_4  \\\n",
       "0    0.0    0.0      0      0     47174.0     47974.0     48630.0     50803.0   \n",
       "1    0.0    0.0      0      0     48088.0     45980.0     44231.0     32489.0   \n",
       "2    0.0    2.0      0      0     78630.0     68921.0     46512.0     40335.0   \n",
       "3    0.0    0.0      0      0     58180.0     59134.0     61156.0     62377.0   \n",
       "4    0.0    0.0      0      0     42058.0     35340.0     22110.0     19837.0   \n",
       "\n",
       "   bill_amt_5  bill_amt_6  pay_amt_1  pay_amt_2  pay_amt_3  pay_amt_4  \\\n",
       "0     30789.0     15874.0     1800.0     2000.0     3000.0     2000.0   \n",
       "1     26354.0     20221.0     2000.0     2010.0     3000.0     3000.0   \n",
       "2     37165.0     22156.0    10076.0     4018.0       14.0     2051.0   \n",
       "3     63832.0     65099.0     2886.0     2908.0     2129.0     2354.0   \n",
       "4     19855.0     20151.0     1367.0     1606.0      692.0      709.0   \n",
       "\n",
       "   pay_amt_5  pay_amt_6   pay_avg  pay_amt_avg  delta_bill  \n",
       "0     2000.0     2000.0  0.000000       2160.0      6260.0  \n",
       "1     3000.0     1000.0  0.000000       2602.0      5573.4  \n",
       "2     2000.0        0.0  0.333333       3631.8     11294.8  \n",
       "3     2366.0     2291.0  0.000000       2528.6     -1383.8  \n",
       "4      721.0      692.0  0.000000       1019.0      4381.4  "
      ]
     },
     "execution_count": 28,
     "metadata": {},
     "output_type": "execute_result"
    }
   ],
   "source": [
    "feature.head()"
   ]
  },
  {
   "cell_type": "markdown",
   "metadata": {},
   "source": [
    "## Split Train dan Test"
   ]
  },
  {
   "cell_type": "code",
   "execution_count": 29,
   "metadata": {},
   "outputs": [
    {
     "name": "stdout",
     "output_type": "stream",
     "text": [
      "x_train (2364, 26)\n",
      "y_train (2364,)\n"
     ]
    }
   ],
   "source": [
    "# set test_size=0.2 to set 20% test data\n",
    "x_train, x_test,y_train,y_test = train_test_split(feature,target,test_size=0.2,random_state=20) \n",
    "\n",
    "print(\"x_train\",x_train.shape)\n",
    "print(\"y_train\",y_train.shape)"
   ]
  },
  {
   "cell_type": "markdown",
   "metadata": {},
   "source": [
    "## Feature Selection"
   ]
  },
  {
   "cell_type": "markdown",
   "metadata": {},
   "source": [
    "**Decision Tree Classifier** untuk membantu menentukan **seleksi feature**, karena pada Tree Classifier terdapat output **Importance Value**"
   ]
  },
  {
   "cell_type": "markdown",
   "metadata": {},
   "source": [
    "### Seleksi Fitur Decision Tree"
   ]
  },
  {
   "cell_type": "code",
   "execution_count": 30,
   "metadata": {},
   "outputs": [
    {
     "data": {
      "text/plain": [
       "Index(['limit_balance', 'sex', 'education_level', 'marital_status', 'age',\n",
       "       'pay_1', 'pay_2', 'pay_3', 'pay_4', 'pay_5', 'pay_6', 'bill_amt_1',\n",
       "       'bill_amt_2', 'bill_amt_3', 'bill_amt_4', 'bill_amt_5', 'bill_amt_6',\n",
       "       'pay_amt_1', 'pay_amt_2', 'pay_amt_3', 'pay_amt_4', 'pay_amt_5',\n",
       "       'pay_amt_6', 'pay_avg', 'pay_amt_avg', 'delta_bill'],\n",
       "      dtype='object')"
      ]
     },
     "execution_count": 30,
     "metadata": {},
     "output_type": "execute_result"
    }
   ],
   "source": [
    "x_train.columns"
   ]
  },
  {
   "cell_type": "markdown",
   "metadata": {},
   "source": [
    "pilih feature numerik dan kategori"
   ]
  },
  {
   "cell_type": "code",
   "execution_count": 31,
   "metadata": {},
   "outputs": [],
   "source": [
    "selectList = ['limit_balance','age', 'bill_amt_1',\n",
    "       'bill_amt_2', 'bill_amt_3', 'bill_amt_4', 'bill_amt_5', 'bill_amt_6',\n",
    "       'pay_amt_1', 'pay_amt_2', 'pay_amt_3', 'pay_amt_4', 'pay_amt_5',\n",
    "       'pay_amt_6','pay_avg', 'pay_amt_avg',\n",
    "       'delta_bill']\n",
    "\n",
    "selectUnscale= [ 'sex', 'education_level', 'marital_status',\n",
    "                'pay_1', 'pay_2', 'pay_3', 'pay_4', 'pay_5', 'pay_6', ]"
   ]
  },
  {
   "cell_type": "code",
   "execution_count": 32,
   "metadata": {},
   "outputs": [],
   "source": [
    "scaler = MinMaxScaler() \n",
    "scaler.fit(x_train) # mesin Belajar menggunakan data train (mesin harus belajar mana xmax dan xmin tiap column)\n",
    "\n",
    "x_train_scaled = scaler.transform(x_train)\n",
    "x_test_scaled = scaler.transform(x_test)"
   ]
  },
  {
   "cell_type": "markdown",
   "metadata": {},
   "source": [
    "### Kode dijalankan jika kategori tidak ingin di scale"
   ]
  },
  {
   "cell_type": "code",
   "execution_count": 33,
   "metadata": {},
   "outputs": [],
   "source": [
    "# unscale_train = x_train[selectUnscale].to_numpy()\n",
    "# unscale_test = x_test[selectUnscale].to_numpy()\n"
   ]
  },
  {
   "cell_type": "code",
   "execution_count": 34,
   "metadata": {},
   "outputs": [],
   "source": [
    "# selection_train_final = np.concatenate([unscale_train,x_train_scaled],axis=1)\n",
    "# selection_test_final = np.concatenate([unscale_test,x_test_scaled],axis=1)"
   ]
  },
  {
   "cell_type": "markdown",
   "metadata": {},
   "source": [
    "###  **Decision Tree** model"
   ]
  },
  {
   "cell_type": "code",
   "execution_count": 35,
   "metadata": {},
   "outputs": [],
   "source": [
    "seslection_model = DecisionTreeClassifier()"
   ]
  },
  {
   "cell_type": "code",
   "execution_count": 36,
   "metadata": {},
   "outputs": [
    {
     "data": {
      "text/plain": [
       "DecisionTreeClassifier()"
      ]
     },
     "execution_count": 36,
     "metadata": {},
     "output_type": "execute_result"
    }
   ],
   "source": [
    "seslection_model.fit(x_train_scaled,y_train)"
   ]
  },
  {
   "cell_type": "code",
   "execution_count": 37,
   "metadata": {},
   "outputs": [],
   "source": [
    "selection_pred = seslection_model.predict(x_train_scaled)"
   ]
  },
  {
   "cell_type": "markdown",
   "metadata": {},
   "source": [
    "#### Pruning\n",
    "\n",
    "untuk melihat **perbedaan** yang **sebelum** prunning dan yang **sesudah** prunning"
   ]
  },
  {
   "cell_type": "markdown",
   "metadata": {},
   "source": [
    "definisikan list aplha untuk mencari prunning yang menhasilkan best fit"
   ]
  },
  {
   "cell_type": "code",
   "execution_count": 38,
   "metadata": {},
   "outputs": [
    {
     "data": {
      "text/plain": [
       "array([0.        , 0.00027922, 0.00028201, 0.00033841, 0.00033841,\n",
       "       0.00036258, 0.00036258, 0.00038071, 0.00038456, 0.0003928 ,\n",
       "       0.00039481, 0.00039481, 0.00039813, 0.00039884, 0.00039951,\n",
       "       0.00040186, 0.00040349, 0.00040378, 0.00040609, 0.00040891,\n",
       "       0.00041019, 0.00041202, 0.00041472, 0.00041729, 0.00041779,\n",
       "       0.00041809, 0.0004192 , 0.00042301, 0.00042301, 0.00042301,\n",
       "       0.00042301, 0.0004351 , 0.00044224, 0.00046042, 0.00048344,\n",
       "       0.0004883 , 0.00049177, 0.00050427, 0.00050761, 0.00052596,\n",
       "       0.00053505, 0.00054374, 0.00054387, 0.00055553, 0.00056402,\n",
       "       0.00056402, 0.00056402, 0.00056402, 0.00056402, 0.00056402,\n",
       "       0.00056402, 0.00056402, 0.00056402, 0.00056402, 0.00056402,\n",
       "       0.00061326, 0.00061332, 0.00062042, 0.00062159, 0.00063452,\n",
       "       0.00063452, 0.00063452, 0.00063452, 0.00063452, 0.00064459,\n",
       "       0.0006578 , 0.00067466, 0.00067682, 0.00067682, 0.00067682,\n",
       "       0.00067682, 0.00067682, 0.00067682, 0.00067682, 0.00068085,\n",
       "       0.00069314, 0.00069434, 0.00069673, 0.00070502, 0.00070502,\n",
       "       0.00070502, 0.00070502, 0.00070502, 0.00071491, 0.00072227,\n",
       "       0.00072516, 0.00074027, 0.00074515, 0.00074667, 0.00075202,\n",
       "       0.0007571 , 0.00076358, 0.00077937, 0.00077962, 0.00078094,\n",
       "       0.00078262, 0.00078369, 0.00078962, 0.00079202, 0.00079753,\n",
       "       0.0008015 , 0.000818  , 0.00082039, 0.00086702, 0.0008752 ,\n",
       "       0.00090227, 0.0009255 , 0.00095843, 0.00096139, 0.00096594,\n",
       "       0.00097082, 0.00097508, 0.0009882 , 0.001037  , 0.00106515,\n",
       "       0.00107241, 0.00117685, 0.001178  , 0.00118162, 0.00120637,\n",
       "       0.0012954 , 0.00131242, 0.00131784, 0.00133116, 0.00135353,\n",
       "       0.00135364, 0.00137275, 0.00142078, 0.00147048, 0.00147472,\n",
       "       0.00149861, 0.00152235, 0.00154443, 0.00165977, 0.0025458 ,\n",
       "       0.00258346, 0.0035055 , 0.01203764, 0.06944875])"
      ]
     },
     "execution_count": 38,
     "metadata": {},
     "output_type": "execute_result"
    }
   ],
   "source": [
    "path=seslection_model.cost_complexity_pruning_path(x_train_scaled,y_train)\n",
    "alphas = path['ccp_alphas']\n",
    "alphas"
   ]
  },
  {
   "cell_type": "markdown",
   "metadata": {},
   "source": [
    "nanti akan dibandingkan hasil sebelum pruning dan setelah pruning"
   ]
  },
  {
   "cell_type": "code",
   "execution_count": 39,
   "metadata": {},
   "outputs": [
    {
     "data": {
      "image/png": "[encoded data removed]",
      "text/plain": [
       "<Figure size 1008x504 with 1 Axes>"
      ]
     },
     "metadata": {},
     "output_type": "display_data"
    }
   ],
   "source": [
    "accuracy_train,accuracy_test=[],[]\n",
    "\n",
    "for i in alphas :\n",
    "    seslect_model = DecisionTreeClassifier(criterion=\"gini\",ccp_alpha=i)\n",
    "\n",
    "    seslect_model.fit(x_train_scaled,y_train)\n",
    "    y_train_pred = seslect_model.predict(x_train_scaled)\n",
    "    y_test_pred = seslect_model.predict(x_test_scaled)\n",
    "\n",
    "    accuracy_train.append(accuracy_score(y_train,y_train_pred))\n",
    "    accuracy_test.append(accuracy_score(y_test,y_test_pred))\n",
    "\n",
    "sns.set()\n",
    "plt.figure(figsize=(14,7))\n",
    "sns.lineplot(y=accuracy_train,x=alphas, label='Train Accuracy')\n",
    "sns.lineplot(y=accuracy_test,x=alphas, label='Test Accuracy')\n",
    "#plt.xticks(ticks=np.arrange(0.00,0.25,0.01))\n",
    "plt.show()"
   ]
  },
  {
   "cell_type": "markdown",
   "metadata": {},
   "source": [
    "hasil dari deretan  pruning, alpha **dipilih** salah satu antara dari 0 hingga 0.004 yaitu **0.003**"
   ]
  },
  {
   "cell_type": "code",
   "execution_count": 40,
   "metadata": {},
   "outputs": [],
   "source": [
    "seslection_model_2 = DecisionTreeClassifier(criterion=\"gini\",ccp_alpha=0.003) # digunakan alpha terpilih o.oo3\n",
    "\n",
    "seslection_model_2.fit(x_train_scaled,y_train)\n",
    "y_train_pred = seslection_model_2.predict(x_train_scaled)"
   ]
  },
  {
   "cell_type": "code",
   "execution_count": 41,
   "metadata": {},
   "outputs": [],
   "source": [
    "y_test_pred = seslection_model_2.predict(x_test_scaled)"
   ]
  },
  {
   "cell_type": "code",
   "execution_count": 42,
   "metadata": {},
   "outputs": [
    {
     "name": "stdout",
     "output_type": "stream",
     "text": [
      "test acc :  0.8206429780033841\n",
      "train acc :  0.8447546531302876\n"
     ]
    }
   ],
   "source": [
    "print(\"test acc : \",accuracy_score(y_test,y_test_pred))\n",
    "print(\"train acc : \",accuracy_score(y_train,y_train_pred))"
   ]
  },
  {
   "cell_type": "code",
   "execution_count": 43,
   "metadata": {},
   "outputs": [
    {
     "data": {
      "text/plain": [
       "array([0.06464078, 0.01237572, 0.01147792, 0.00660151, 0.07645418,\n",
       "       0.21401905, 0.0062172 , 0.00253278, 0.00106598, 0.00967147,\n",
       "       0.01483184, 0.01902334, 0.04037631, 0.04637969, 0.0268772 ,\n",
       "       0.04231382, 0.02977188, 0.0223718 , 0.04763365, 0.03157943,\n",
       "       0.03011697, 0.04060885, 0.05571486, 0.06233255, 0.04050933,\n",
       "       0.04450187])"
      ]
     },
     "execution_count": 43,
     "metadata": {},
     "output_type": "execute_result"
    }
   ],
   "source": [
    "seslection_model.feature_importances_"
   ]
  },
  {
   "cell_type": "markdown",
   "metadata": {},
   "source": [
    "buat **dataframe** untuk hasil dari fearture importance"
   ]
  },
  {
   "cell_type": "code",
   "execution_count": 44,
   "metadata": {},
   "outputs": [],
   "source": [
    "df_importance = pd.DataFrame([seslection_model.feature_importances_,seslection_model_2.feature_importances_],\n",
    "                   columns=['limit_balance', 'sex', 'education_level', 'marital_status', 'age',\n",
    "       'pay_1', 'pay_2', 'pay_3', 'pay_4', 'pay_5', 'pay_6', 'bill_amt_1',\n",
    "       'bill_amt_2', 'bill_amt_3', 'bill_amt_4', 'bill_amt_5', 'bill_amt_6',\n",
    "       'pay_amt_1', 'pay_amt_2', 'pay_amt_3', 'pay_amt_4', 'pay_amt_5',\n",
    "       'pay_amt_6', 'pay_avg', 'pay_amt_avg', 'delta_bill'])"
   ]
  },
  {
   "cell_type": "markdown",
   "metadata": {},
   "source": [
    "#### Hasil Seleksi Fitur Decision Tree"
   ]
  },
  {
   "cell_type": "code",
   "execution_count": 45,
   "metadata": {},
   "outputs": [
    {
     "data": {
      "text/html": [
       "<div>\n",
       "<style scoped>\n",
       "    .dataframe tbody tr th:only-of-type {\n",
       "        vertical-align: middle;\n",
       "    }\n",
       "\n",
       "    .dataframe tbody tr th {\n",
       "        vertical-align: top;\n",
       "    }\n",
       "\n",
       "    .dataframe thead th {\n",
       "        text-align: right;\n",
       "    }\n",
       "</style>\n",
       "<table border=\"1\" class=\"dataframe\">\n",
       "  <thead>\n",
       "    <tr style=\"text-align: right;\">\n",
       "      <th></th>\n",
       "      <th>limit_balance</th>\n",
       "      <th>sex</th>\n",
       "      <th>education_level</th>\n",
       "      <th>marital_status</th>\n",
       "      <th>age</th>\n",
       "      <th>pay_1</th>\n",
       "      <th>pay_2</th>\n",
       "      <th>pay_3</th>\n",
       "      <th>pay_4</th>\n",
       "      <th>pay_5</th>\n",
       "      <th>pay_6</th>\n",
       "      <th>bill_amt_1</th>\n",
       "      <th>bill_amt_2</th>\n",
       "      <th>bill_amt_3</th>\n",
       "      <th>bill_amt_4</th>\n",
       "      <th>bill_amt_5</th>\n",
       "      <th>bill_amt_6</th>\n",
       "      <th>pay_amt_1</th>\n",
       "      <th>pay_amt_2</th>\n",
       "      <th>pay_amt_3</th>\n",
       "      <th>pay_amt_4</th>\n",
       "      <th>pay_amt_5</th>\n",
       "      <th>pay_amt_6</th>\n",
       "      <th>pay_avg</th>\n",
       "      <th>pay_amt_avg</th>\n",
       "      <th>delta_bill</th>\n",
       "    </tr>\n",
       "  </thead>\n",
       "  <tbody>\n",
       "    <tr>\n",
       "      <th>0</th>\n",
       "      <td>0.064641</td>\n",
       "      <td>0.012376</td>\n",
       "      <td>0.011478</td>\n",
       "      <td>0.006602</td>\n",
       "      <td>0.076454</td>\n",
       "      <td>0.214019</td>\n",
       "      <td>0.006217</td>\n",
       "      <td>0.002533</td>\n",
       "      <td>0.001066</td>\n",
       "      <td>0.009671</td>\n",
       "      <td>0.014832</td>\n",
       "      <td>0.019023</td>\n",
       "      <td>0.040376</td>\n",
       "      <td>0.04638</td>\n",
       "      <td>0.026877</td>\n",
       "      <td>0.042314</td>\n",
       "      <td>0.029772</td>\n",
       "      <td>0.022372</td>\n",
       "      <td>0.047634</td>\n",
       "      <td>0.031579</td>\n",
       "      <td>0.030117</td>\n",
       "      <td>0.040609</td>\n",
       "      <td>0.055715</td>\n",
       "      <td>0.062333</td>\n",
       "      <td>0.040509</td>\n",
       "      <td>0.044502</td>\n",
       "    </tr>\n",
       "    <tr>\n",
       "      <th>1</th>\n",
       "      <td>0.000000</td>\n",
       "      <td>0.000000</td>\n",
       "      <td>0.000000</td>\n",
       "      <td>0.000000</td>\n",
       "      <td>0.000000</td>\n",
       "      <td>0.817122</td>\n",
       "      <td>0.000000</td>\n",
       "      <td>0.000000</td>\n",
       "      <td>0.000000</td>\n",
       "      <td>0.000000</td>\n",
       "      <td>0.000000</td>\n",
       "      <td>0.000000</td>\n",
       "      <td>0.000000</td>\n",
       "      <td>0.00000</td>\n",
       "      <td>0.000000</td>\n",
       "      <td>0.000000</td>\n",
       "      <td>0.000000</td>\n",
       "      <td>0.000000</td>\n",
       "      <td>0.000000</td>\n",
       "      <td>0.000000</td>\n",
       "      <td>0.000000</td>\n",
       "      <td>0.000000</td>\n",
       "      <td>0.000000</td>\n",
       "      <td>0.182878</td>\n",
       "      <td>0.000000</td>\n",
       "      <td>0.000000</td>\n",
       "    </tr>\n",
       "  </tbody>\n",
       "</table>\n",
       "</div>"
      ],
      "text/plain": [
       "   limit_balance       sex  education_level  marital_status       age  \\\n",
       "0       0.064641  0.012376         0.011478        0.006602  0.076454   \n",
       "1       0.000000  0.000000         0.000000        0.000000  0.000000   \n",
       "\n",
       "      pay_1     pay_2     pay_3     pay_4     pay_5     pay_6  bill_amt_1  \\\n",
       "0  0.214019  0.006217  0.002533  0.001066  0.009671  0.014832    0.019023   \n",
       "1  0.817122  0.000000  0.000000  0.000000  0.000000  0.000000    0.000000   \n",
       "\n",
       "   bill_amt_2  bill_amt_3  bill_amt_4  bill_amt_5  bill_amt_6  pay_amt_1  \\\n",
       "0    0.040376     0.04638    0.026877    0.042314    0.029772   0.022372   \n",
       "1    0.000000     0.00000    0.000000    0.000000    0.000000   0.000000   \n",
       "\n",
       "   pay_amt_2  pay_amt_3  pay_amt_4  pay_amt_5  pay_amt_6   pay_avg  \\\n",
       "0   0.047634   0.031579   0.030117   0.040609   0.055715  0.062333   \n",
       "1   0.000000   0.000000   0.000000   0.000000   0.000000  0.182878   \n",
       "\n",
       "   pay_amt_avg  delta_bill  \n",
       "0     0.040509    0.044502  \n",
       "1     0.000000    0.000000  "
      ]
     },
     "execution_count": 45,
     "metadata": {},
     "output_type": "execute_result"
    }
   ],
   "source": [
    "df_importance"
   ]
  },
  {
   "cell_type": "markdown",
   "metadata": {},
   "source": [
    "terlihat data pada **baris 0** adalah yang sebelum dilakukan **prunning**, sedangkan pada **baris 1** adalah yang telah di **prunning**"
   ]
  },
  {
   "cell_type": "markdown",
   "metadata": {},
   "source": [
    "### Pilih Feature"
   ]
  },
  {
   "cell_type": "markdown",
   "metadata": {},
   "source": [
    "Dari Proses **EDA** and **Decision Tree** *Importance Value*, dipilih feature : `pay_1`, `pay_avg`,`pay_amt_avg`.\n",
    "\n",
    "Pada `pay_1`, `pay_avg` memiliki nilai decision tree importance yang cukup besar.\n",
    "\n",
    "Namun pada `pay_amt_avg`, terdapat nilai yang lebih besar pada **target 0**"
   ]
  },
  {
   "cell_type": "code",
   "execution_count": 46,
   "metadata": {},
   "outputs": [],
   "source": [
    "\n",
    "selected_cols = ['pay_1', 'pay_avg','pay_amt_avg']"
   ]
  },
  {
   "cell_type": "code",
   "execution_count": 47,
   "metadata": {},
   "outputs": [],
   "source": [
    "x_train = x_train[selected_cols]"
   ]
  },
  {
   "cell_type": "code",
   "execution_count": 48,
   "metadata": {},
   "outputs": [],
   "source": [
    "x_test = x_test[selected_cols]"
   ]
  },
  {
   "cell_type": "markdown",
   "metadata": {},
   "source": [
    "## Missing Value\n",
    "**Check** jika feature memiliki **Missing Value**"
   ]
  },
  {
   "cell_type": "markdown",
   "metadata": {},
   "source": [
    "Check missing value pada **X test**"
   ]
  },
  {
   "cell_type": "code",
   "execution_count": 49,
   "metadata": {},
   "outputs": [
    {
     "data": {
      "text/plain": [
       "pay_1          0\n",
       "pay_avg        0\n",
       "pay_amt_avg    0\n",
       "dtype: int64"
      ]
     },
     "execution_count": 49,
     "metadata": {},
     "output_type": "execute_result"
    }
   ],
   "source": [
    "x_train.isnull().sum()"
   ]
  },
  {
   "cell_type": "markdown",
   "metadata": {},
   "source": [
    "Check missing value pada **X test**"
   ]
  },
  {
   "cell_type": "code",
   "execution_count": 50,
   "metadata": {},
   "outputs": [
    {
     "data": {
      "text/plain": [
       "pay_1          0\n",
       "pay_avg        0\n",
       "pay_amt_avg    0\n",
       "dtype: int64"
      ]
     },
     "execution_count": 50,
     "metadata": {},
     "output_type": "execute_result"
    }
   ],
   "source": [
    "x_test.isnull().sum()"
   ]
  },
  {
   "cell_type": "markdown",
   "metadata": {},
   "source": [
    "Check missing value pada `y_test`"
   ]
  },
  {
   "cell_type": "code",
   "execution_count": 51,
   "metadata": {},
   "outputs": [
    {
     "name": "stdout",
     "output_type": "stream",
     "text": [
      "0\n"
     ]
    }
   ],
   "source": [
    "print(y_test.isnull().sum())"
   ]
  },
  {
   "cell_type": "markdown",
   "metadata": {},
   "source": [
    "Check missing value pada `y_train`"
   ]
  },
  {
   "cell_type": "code",
   "execution_count": 52,
   "metadata": {},
   "outputs": [
    {
     "name": "stdout",
     "output_type": "stream",
     "text": [
      "0\n"
     ]
    }
   ],
   "source": [
    "print(y_train.isnull().sum())"
   ]
  },
  {
   "cell_type": "markdown",
   "metadata": {},
   "source": [
    "this selected columns has no missing value on neither training or test  data"
   ]
  },
  {
   "cell_type": "markdown",
   "metadata": {},
   "source": [
    "## Bagi Antara Numerik and Kategori"
   ]
  },
  {
   "cell_type": "markdown",
   "metadata": {},
   "source": [
    "definisikan kolom `pay_1` menjadi kategori"
   ]
  },
  {
   "cell_type": "code",
   "execution_count": 53,
   "metadata": {},
   "outputs": [],
   "source": [
    "# change numerical categories on train data\n",
    "x_train['pay_1'] = x_train['pay_1'].apply(str)\n",
    "x_test['pay_1'] = x_test['pay_1'].apply(str)"
   ]
  },
  {
   "cell_type": "code",
   "execution_count": 54,
   "metadata": {},
   "outputs": [
    {
     "name": "stdout",
     "output_type": "stream",
     "text": [
      "Numeric Columns: ['pay_avg', 'pay_amt_avg']\n",
      "Category Columns: ['pay_1']\n"
     ]
    }
   ],
   "source": [
    "# split between numeric and categorical with 'include' data type\n",
    "num_columns = x_train.select_dtypes(include=np.number).columns.tolist()\n",
    "cat_columns = x_train.select_dtypes(include=['object']).columns.tolist()\n",
    "\n",
    "print('Numeric Columns:',num_columns)\n",
    "print('Category Columns:',cat_columns)"
   ]
  },
  {
   "cell_type": "code",
   "execution_count": 55,
   "metadata": {},
   "outputs": [],
   "source": [
    "# split train_set and test_set based on col type\n",
    "\n",
    "x_train_num = x_train[num_columns]\n",
    "x_train_cat = x_train[cat_columns]\n",
    "\n",
    "x_test_num = x_test[num_columns]\n",
    "x_test_cat = x_test[cat_columns]"
   ]
  },
  {
   "cell_type": "markdown",
   "metadata": {},
   "source": [
    "## Outliers\n",
    "Handling Outliers karena akan menggunakan model **SVM ,Logistic Regression ,dan KNN**"
   ]
  },
  {
   "cell_type": "markdown",
   "metadata": {},
   "source": [
    "### Distribusi Feature"
   ]
  },
  {
   "cell_type": "code",
   "execution_count": 56,
   "metadata": {},
   "outputs": [
    {
     "data": {
      "image/png": "[encoded data removed]",
      "text/plain": [
       "<Figure size 1080x1440 with 4 Axes>"
      ]
     },
     "metadata": {},
     "output_type": "display_data"
    }
   ],
   "source": [
    "outlier_graph(x_train_num)"
   ]
  },
  {
   "cell_type": "markdown",
   "metadata": {},
   "source": [
    "pada kolom `pay_amt_avg` terdapat skewness yang terlalu extreme, kemungkinan akan menggunakan batas **IQR** 0.05,0.95 atau 0.01,0.99"
   ]
  },
  {
   "cell_type": "markdown",
   "metadata": {},
   "source": [
    "### Jumlah outlier"
   ]
  },
  {
   "cell_type": "code",
   "execution_count": 57,
   "metadata": {},
   "outputs": [],
   "source": [
    "col_skews = skewness(x_train_num)"
   ]
  },
  {
   "cell_type": "code",
   "execution_count": 58,
   "metadata": {},
   "outputs": [
    {
     "name": "stdout",
     "output_type": "stream",
     "text": [
      "feature name :  pay_avg\n",
      "outliers percentage : 8.0%\n",
      "distribution right_skew\n",
      "upper : 1.25 lower : -2.0833333333333335\n",
      "****************************************************\n",
      "feature name :  pay_amt_avg\n",
      "outliers percentage : 2.2%\n",
      "distribution right_skew_ext\n",
      "upper : 34471.559999999976 lower : -13228.949999999999\n",
      "****************************************************\n"
     ]
    }
   ],
   "source": [
    "outliers = outliersCheck(x_train_num,col_skews)\n"
   ]
  },
  {
   "cell_type": "markdown",
   "metadata": {},
   "source": [
    "- terdapat 2.2% outlier pada `pat_amt_avg`\n",
    "- 8% pada `pay_avg`"
   ]
  },
  {
   "cell_type": "markdown",
   "metadata": {},
   "source": [
    "### Censoring Nilai Outlier "
   ]
  },
  {
   "cell_type": "markdown",
   "metadata": {},
   "source": [
    "**Censor** atau **Capping** dilakukan dengan menggunakan library `Winsorizer`"
   ]
  },
  {
   "cell_type": "code",
   "execution_count": 59,
   "metadata": {},
   "outputs": [],
   "source": [
    "# outliers use quantile 0.05 and 0.95 to handle the capital gain\n",
    "x_train_clean = censoring_outliers(x_train_num,outliers,0.05)"
   ]
  },
  {
   "cell_type": "markdown",
   "metadata": {},
   "source": [
    "jika check kembali, outlier sudah hilang"
   ]
  },
  {
   "cell_type": "code",
   "execution_count": 60,
   "metadata": {},
   "outputs": [
    {
     "name": "stdout",
     "output_type": "stream",
     "text": [
      "feature name :  pay_avg\n",
      "outliers percentage : 0.0%\n",
      "distribution left_skew_ext\n",
      "upper : 2.5416666666666665 lower : -4.5\n",
      "****************************************************\n",
      "feature name :  pay_amt_avg\n",
      "outliers percentage : 0.0%\n",
      "distribution right_skew_ext\n",
      "upper : 34442.66849999996 lower : -13228.949999999999\n",
      "****************************************************\n"
     ]
    }
   ],
   "source": [
    "col_skews = skewness(x_train_clean)\n",
    "outliers = outliersCheck(x_train_clean,col_skews)"
   ]
  },
  {
   "cell_type": "markdown",
   "metadata": {},
   "source": [
    "lihat **perubahan** setelah outlier ditangani"
   ]
  },
  {
   "cell_type": "code",
   "execution_count": 61,
   "metadata": {},
   "outputs": [
    {
     "name": "stdout",
     "output_type": "stream",
     "text": [
      "              count         mean           std  min          25%     50%  \\\n",
      "pay_avg      2364.0    -0.151720      0.995753 -2.0    -0.833333     0.0   \n",
      "pay_amt_avg  2364.0  5601.995093  12424.085325  0.0  1162.250000  2465.2   \n",
      "\n",
      "                75%       max  \n",
      "pay_avg         0.0       5.5  \n",
      "pay_amt_avg  5571.9  378353.2  \n",
      "              count         mean          std  min          25%     50%  \\\n",
      "pay_avg      2364.0    -0.398354     0.623382 -2.0    -0.833333     0.0   \n",
      "pay_amt_avg  2364.0  4554.681891  5406.868408  0.0  1162.250000  2465.2   \n",
      "\n",
      "                75%           max  \n",
      "pay_avg         0.0      0.041667  \n",
      "pay_amt_avg  5571.9  21242.610000  \n"
     ]
    },
    {
     "data": {
      "text/plain": [
       "(2364, 2)"
      ]
     },
     "execution_count": 61,
     "metadata": {},
     "output_type": "execute_result"
    }
   ],
   "source": [
    "print(x_train_num.describe().T)\n",
    "print(x_train_clean.describe().T)\n",
    "x_train_clean.shape"
   ]
  },
  {
   "cell_type": "markdown",
   "metadata": {},
   "source": [
    "Nilai Maksimal pada setiap kolom berubah dan rata-rata nilai sedikit berubah"
   ]
  },
  {
   "cell_type": "code",
   "execution_count": 62,
   "metadata": {},
   "outputs": [],
   "source": [
    "\n",
    "x_train_num = x_train_clean"
   ]
  },
  {
   "cell_type": "markdown",
   "metadata": {},
   "source": [
    "## Feature Scalling\n",
    "Feature Scalling untuk Data Numerik"
   ]
  },
  {
   "cell_type": "code",
   "execution_count": 63,
   "metadata": {},
   "outputs": [],
   "source": [
    "num_pipeline = make_pipeline(SimpleImputer(strategy='median'),\n",
    "                             MinMaxScaler())"
   ]
  },
  {
   "cell_type": "markdown",
   "metadata": {},
   "source": [
    "## Feature Encoding\n",
    "\n",
    "feature encoding only for category data, later will split nominal and ordinal data for different encoding treatment "
   ]
  },
  {
   "cell_type": "code",
   "execution_count": 64,
   "metadata": {},
   "outputs": [
    {
     "data": {
      "text/plain": [
       "Index(['pay_1'], dtype='object')"
      ]
     },
     "execution_count": 64,
     "metadata": {},
     "output_type": "execute_result"
    }
   ],
   "source": [
    "x_train_cat.columns"
   ]
  },
  {
   "cell_type": "code",
   "execution_count": 65,
   "metadata": {},
   "outputs": [
    {
     "data": {
      "text/plain": [
       "['-2.0', '-1.0', '0.0', '1.0', '2.0', '3.0', '4.0', '5.0', '6.0', '7.0', '8.0']"
      ]
     },
     "execution_count": 65,
     "metadata": {},
     "output_type": "execute_result"
    }
   ],
   "source": [
    "\n",
    "# make ordered unique value of education_num\n",
    "list_ordinal_pay1 = list(x_train_cat['pay_1'].unique())\n",
    "list_ordinal_pay1.sort(key=float)\n",
    "list_ordinal_pay1\n"
   ]
  },
  {
   "cell_type": "markdown",
   "metadata": {},
   "source": [
    "karena data kategori terdapat sebuah urutan, maka menggunakan **ordinal encoder**"
   ]
  },
  {
   "cell_type": "code",
   "execution_count": 66,
   "metadata": {},
   "outputs": [],
   "source": [
    "cat_pipeline = make_pipeline(OrdinalEncoder(categories=[list_ordinal_pay1]))"
   ]
  },
  {
   "cell_type": "code",
   "execution_count": 67,
   "metadata": {},
   "outputs": [
    {
     "name": "stdout",
     "output_type": "stream",
     "text": [
      "Numeric Columns: ['pay_avg', 'pay_amt_avg']\n",
      "Category Columns: ['pay_1']\n"
     ]
    }
   ],
   "source": [
    "print('Numeric Columns:',num_columns)\n",
    "print('Category Columns:',cat_columns)"
   ]
  },
  {
   "cell_type": "markdown",
   "metadata": {},
   "source": [
    "## Gabungkan Data Numerik and Kategori"
   ]
  },
  {
   "cell_type": "code",
   "execution_count": 68,
   "metadata": {},
   "outputs": [],
   "source": [
    "preprocess_pipeline = ColumnTransformer([\n",
    "    ('pipeline_numerik', num_pipeline, num_columns),\n",
    "    ('pipeline_kategori', cat_pipeline, cat_columns)\n",
    "])"
   ]
  },
  {
   "cell_type": "markdown",
   "metadata": {},
   "source": [
    "# VI. Model Definition"
   ]
  },
  {
   "cell_type": "markdown",
   "metadata": {},
   "source": [
    "model untuk prediksi target , menggunakan pendekatan machinelearning supervised dengan 7 algoritma yang klasifikasi yang berbeda"
   ]
  },
  {
   "cell_type": "markdown",
   "metadata": {},
   "source": [
    "## Logistic Regression"
   ]
  },
  {
   "cell_type": "markdown",
   "metadata": {},
   "source": [
    "- **tanpa hyperparameter**"
   ]
  },
  {
   "cell_type": "code",
   "execution_count": 69,
   "metadata": {},
   "outputs": [],
   "source": [
    "# Training Logistic Regression\n",
    "logreg_pipe = make_pipeline(preprocess_pipeline, LogisticRegression())"
   ]
  },
  {
   "cell_type": "markdown",
   "metadata": {},
   "source": [
    "## SVM"
   ]
  },
  {
   "cell_type": "markdown",
   "metadata": {},
   "source": [
    "- **tanpa hyperparameter**"
   ]
  },
  {
   "cell_type": "code",
   "execution_count": 70,
   "metadata": {},
   "outputs": [],
   "source": [
    "# Model SVM Classivication\n",
    "svc_pipe = make_pipeline(preprocess_pipeline, SVC())"
   ]
  },
  {
   "cell_type": "markdown",
   "metadata": {},
   "source": [
    "## Decision Tree"
   ]
  },
  {
   "cell_type": "markdown",
   "metadata": {},
   "source": [
    "- **tanpa hyperparameter**"
   ]
  },
  {
   "cell_type": "code",
   "execution_count": 71,
   "metadata": {},
   "outputs": [],
   "source": [
    "tree_pipe = make_pipeline(preprocess_pipeline, DecisionTreeClassifier())"
   ]
  },
  {
   "cell_type": "markdown",
   "metadata": {},
   "source": [
    "## Random Forest"
   ]
  },
  {
   "cell_type": "markdown",
   "metadata": {},
   "source": [
    "- **tanpa hyperparameter**"
   ]
  },
  {
   "cell_type": "code",
   "execution_count": 72,
   "metadata": {},
   "outputs": [],
   "source": [
    "forest_pipe = make_pipeline(preprocess_pipeline, RandomForestClassifier())"
   ]
  },
  {
   "cell_type": "markdown",
   "metadata": {},
   "source": [
    "## KNN"
   ]
  },
  {
   "cell_type": "markdown",
   "metadata": {},
   "source": [
    "- **tanpa hyperparameter**"
   ]
  },
  {
   "cell_type": "code",
   "execution_count": 73,
   "metadata": {},
   "outputs": [],
   "source": [
    "knn_pipe = make_pipeline(preprocess_pipeline, KNeighborsClassifier())"
   ]
  },
  {
   "cell_type": "markdown",
   "metadata": {},
   "source": [
    "## Naive Bayes"
   ]
  },
  {
   "cell_type": "markdown",
   "metadata": {},
   "source": [
    "- **tanpa hyperparameter**"
   ]
  },
  {
   "cell_type": "code",
   "execution_count": 74,
   "metadata": {},
   "outputs": [],
   "source": [
    "nb_pipe = make_pipeline(preprocess_pipeline, GaussianNB())"
   ]
  },
  {
   "cell_type": "markdown",
   "metadata": {},
   "source": [
    "## XGBoost "
   ]
  },
  {
   "cell_type": "markdown",
   "metadata": {},
   "source": [
    "- **tanpa hyperparameter**"
   ]
  },
  {
   "cell_type": "code",
   "execution_count": 75,
   "metadata": {},
   "outputs": [],
   "source": [
    "xgb_pipe = make_pipeline(preprocess_pipeline, XGBClassifier())"
   ]
  },
  {
   "cell_type": "markdown",
   "metadata": {},
   "source": [
    "## Best Model"
   ]
  },
  {
   "cell_type": "code",
   "execution_count": 76,
   "metadata": {},
   "outputs": [
    {
     "data": {
      "text/html": [
       "<div>\n",
       "<style scoped>\n",
       "    .dataframe tbody tr th:only-of-type {\n",
       "        vertical-align: middle;\n",
       "    }\n",
       "\n",
       "    .dataframe tbody tr th {\n",
       "        vertical-align: top;\n",
       "    }\n",
       "\n",
       "    .dataframe thead th {\n",
       "        text-align: right;\n",
       "    }\n",
       "</style>\n",
       "<table border=\"1\" class=\"dataframe\">\n",
       "  <thead>\n",
       "    <tr style=\"text-align: right;\">\n",
       "      <th></th>\n",
       "      <th>mean</th>\n",
       "      <th>std</th>\n",
       "      <th>sum</th>\n",
       "      <th>delta</th>\n",
       "    </tr>\n",
       "  </thead>\n",
       "  <tbody>\n",
       "    <tr>\n",
       "      <th>decission_tree</th>\n",
       "      <td>0.757748</td>\n",
       "      <td>0.021238</td>\n",
       "      <td>0.778986</td>\n",
       "      <td>0.736510</td>\n",
       "    </tr>\n",
       "    <tr>\n",
       "      <th>random_forest</th>\n",
       "      <td>0.774821</td>\n",
       "      <td>0.022383</td>\n",
       "      <td>0.797204</td>\n",
       "      <td>0.752439</td>\n",
       "    </tr>\n",
       "    <tr>\n",
       "      <th>knn</th>\n",
       "      <td>0.825875</td>\n",
       "      <td>0.019432</td>\n",
       "      <td>0.845307</td>\n",
       "      <td>0.806444</td>\n",
       "    </tr>\n",
       "    <tr>\n",
       "      <th>xgboost</th>\n",
       "      <td>0.833618</td>\n",
       "      <td>0.016265</td>\n",
       "      <td>0.849882</td>\n",
       "      <td>0.817353</td>\n",
       "    </tr>\n",
       "    <tr>\n",
       "      <th>logistic_regression</th>\n",
       "      <td>0.837007</td>\n",
       "      <td>0.017786</td>\n",
       "      <td>0.854794</td>\n",
       "      <td>0.819221</td>\n",
       "    </tr>\n",
       "    <tr>\n",
       "      <th>svc</th>\n",
       "      <td>0.841807</td>\n",
       "      <td>0.018035</td>\n",
       "      <td>0.859842</td>\n",
       "      <td>0.823771</td>\n",
       "    </tr>\n",
       "  </tbody>\n",
       "</table>\n",
       "</div>"
      ],
      "text/plain": [
       "                         mean       std       sum     delta\n",
       "decission_tree       0.757748  0.021238  0.778986  0.736510\n",
       "random_forest        0.774821  0.022383  0.797204  0.752439\n",
       "knn                  0.825875  0.019432  0.845307  0.806444\n",
       "xgboost              0.833618  0.016265  0.849882  0.817353\n",
       "logistic_regression  0.837007  0.017786  0.854794  0.819221\n",
       "svc                  0.841807  0.018035  0.859842  0.823771"
      ]
     },
     "execution_count": 76,
     "metadata": {},
     "output_type": "execute_result"
    }
   ],
   "source": [
    "# Membuat data frame untuk hasil \n",
    "dict_model = {'logistic_regression':logreg_pipe,'svc':svc_pipe,'decission_tree':tree_pipe,\n",
    "              'random_forest':forest_pipe,'knn':knn_pipe,'xgboost':xgb_pipe}\n",
    "\n",
    "cv = RepeatedStratifiedKFold(n_splits=10, n_repeats=3, random_state=1)\n",
    "\n",
    "#list penampung hasil validasi silang\n",
    "list_mean = [] # untuk rata-rata hasil\n",
    "list_std = [] # untuk standard deviasi\n",
    "list_sum = [] # standard deviasi + rata-rata\n",
    "list_delta = [] # rata-rata - standard deviasi\n",
    "list_nama_model = [] # penampung untuk nama kolom\n",
    "\n",
    "for key,model in dict_model.items():\n",
    "    # validasi silang\n",
    "    scores = cross_val_score(model, x_train, y_train, cv=cv)\n",
    "\n",
    "    # masukan nilai rata rata dan standard deviasi\n",
    "    list_mean.append(scores.mean())\n",
    "    list_std.append(scores.std())\n",
    "    list_sum.append(scores.mean()+scores.std())\n",
    "    list_delta.append(scores.mean()-scores.std())\n",
    "    list_nama_model.append(key)\n",
    "    \n",
    "    # buat dataframe dari list penampung hasil validasi silang\n",
    "df_result = pd.DataFrame(np.array([list_mean, list_std, list_sum, list_delta]),\n",
    "                         columns=list_nama_model,\n",
    "                         index=['mean','std','sum','delta'])\n",
    "\n",
    "df_result.T.sort_values('delta')\n"
   ]
  },
  {
   "cell_type": "markdown",
   "metadata": {},
   "source": [
    "mungkin **SVC** secara akurasi sedikit lebih unggul dari **XGBoost**, tetapi saya akan memilih **XGBoost** karena nilai standard deviasi yang lebih kecil, karenakan juga batasan laptop yang kurang memumpuni untuk ber -eksperimen dengan hyperparameter tuning."
   ]
  },
  {
   "cell_type": "markdown",
   "metadata": {},
   "source": [
    "## XGBoost Search Grid"
   ]
  },
  {
   "cell_type": "code",
   "execution_count": 77,
   "metadata": {},
   "outputs": [],
   "source": [
    "param_test = {'xgbclassifier__nthread':[4], #when use hyperthread, xgboost may become slower\n",
    "            'xgbclassifier__n_estimators': [70,700], # kurangi untuk mengurangi dampak overfit\n",
    "            'xgbclassifier__colsample_bytree': [0.7],\n",
    "            'xgbclassifier__max_depth': [2], # untuk pruning\n",
    "            'xgbclassifier__num_leaves': [10],\n",
    "            'xgbclassifier__min_child_weight' :[100,250], # mengurangi overvitting\n",
    "            'xgbclassifier__min_split_gain': [0.3],\n",
    "            'xgbclassifier__seed': [37]} # membuat seed random number\n",
    "\n",
    "gs_xg = GridSearchCV(xgb_pipe, param_grid=param_test, cv=5, scoring=\"accuracy\")"
   ]
  },
  {
   "cell_type": "markdown",
   "metadata": {},
   "source": [
    "# VII. Model Training"
   ]
  },
  {
   "cell_type": "markdown",
   "metadata": {},
   "source": [
    "training hanya pada model terbaik yaitu **XGBoost**"
   ]
  },
  {
   "cell_type": "code",
   "execution_count": 78,
   "metadata": {},
   "outputs": [
    {
     "name": "stdout",
     "output_type": "stream",
     "text": [
      "[07:48:59] WARNING: C:/Users/Administrator/workspace/xgboost-win64_release_1.6.0/src/learner.cc:627: \n",
      "Parameters: { \"min_split_gain\", \"num_leaves\" } might not be used.\n",
      "\n",
      "  This could be a false alarm, with some parameters getting used by language bindings but\n",
      "  then being mistakenly passed down to XGBoost core, or some parameter actually being used\n",
      "  but getting flagged wrongly here. Please open an issue if you find any such cases.\n",
      "\n",
      "\n",
      "[07:48:59] WARNING: C:/Users/Administrator/workspace/xgboost-win64_release_1.6.0/src/learner.cc:627: \n",
      "Parameters: { \"min_split_gain\", \"num_leaves\" } might not be used.\n",
      "\n",
      "  This could be a false alarm, with some parameters getting used by language bindings but\n",
      "  then being mistakenly passed down to XGBoost core, or some parameter actually being used\n",
      "  but getting flagged wrongly here. Please open an issue if you find any such cases.\n",
      "\n",
      "\n",
      "[07:48:59] WARNING: C:/Users/Administrator/workspace/xgboost-win64_release_1.6.0/src/learner.cc:627: \n",
      "Parameters: { \"min_split_gain\", \"num_leaves\" } might not be used.\n",
      "\n",
      "  This could be a false alarm, with some parameters getting used by language bindings but\n",
      "  then being mistakenly passed down to XGBoost core, or some parameter actually being used\n",
      "  but getting flagged wrongly here. Please open an issue if you find any such cases.\n",
      "\n",
      "\n",
      "[07:48:59] WARNING: C:/Users/Administrator/workspace/xgboost-win64_release_1.6.0/src/learner.cc:627: \n",
      "Parameters: { \"min_split_gain\", \"num_leaves\" } might not be used.\n",
      "\n",
      "  This could be a false alarm, with some parameters getting used by language bindings but\n",
      "  then being mistakenly passed down to XGBoost core, or some parameter actually being used\n",
      "  but getting flagged wrongly here. Please open an issue if you find any such cases.\n",
      "\n",
      "\n",
      "[07:48:59] WARNING: C:/Users/Administrator/workspace/xgboost-win64_release_1.6.0/src/learner.cc:627: \n",
      "Parameters: { \"min_split_gain\", \"num_leaves\" } might not be used.\n",
      "\n",
      "  This could be a false alarm, with some parameters getting used by language bindings but\n",
      "  then being mistakenly passed down to XGBoost core, or some parameter actually being used\n",
      "  but getting flagged wrongly here. Please open an issue if you find any such cases.\n",
      "\n",
      "\n",
      "[07:48:59] WARNING: C:/Users/Administrator/workspace/xgboost-win64_release_1.6.0/src/learner.cc:627: \n",
      "Parameters: { \"min_split_gain\", \"num_leaves\" } might not be used.\n",
      "\n",
      "  This could be a false alarm, with some parameters getting used by language bindings but\n",
      "  then being mistakenly passed down to XGBoost core, or some parameter actually being used\n",
      "  but getting flagged wrongly here. Please open an issue if you find any such cases.\n",
      "\n",
      "\n",
      "[07:48:59] WARNING: C:/Users/Administrator/workspace/xgboost-win64_release_1.6.0/src/learner.cc:627: \n",
      "Parameters: { \"min_split_gain\", \"num_leaves\" } might not be used.\n",
      "\n",
      "  This could be a false alarm, with some parameters getting used by language bindings but\n",
      "  then being mistakenly passed down to XGBoost core, or some parameter actually being used\n",
      "  but getting flagged wrongly here. Please open an issue if you find any such cases.\n",
      "\n",
      "\n",
      "[07:49:00] WARNING: C:/Users/Administrator/workspace/xgboost-win64_release_1.6.0/src/learner.cc:627: \n",
      "Parameters: { \"min_split_gain\", \"num_leaves\" } might not be used.\n",
      "\n",
      "  This could be a false alarm, with some parameters getting used by language bindings but\n",
      "  then being mistakenly passed down to XGBoost core, or some parameter actually being used\n",
      "  but getting flagged wrongly here. Please open an issue if you find any such cases.\n",
      "\n",
      "\n",
      "[07:49:00] WARNING: C:/Users/Administrator/workspace/xgboost-win64_release_1.6.0/src/learner.cc:627: \n",
      "Parameters: { \"min_split_gain\", \"num_leaves\" } might not be used.\n",
      "\n",
      "  This could be a false alarm, with some parameters getting used by language bindings but\n",
      "  then being mistakenly passed down to XGBoost core, or some parameter actually being used\n",
      "  but getting flagged wrongly here. Please open an issue if you find any such cases.\n",
      "\n",
      "\n",
      "[07:49:00] WARNING: C:/Users/Administrator/workspace/xgboost-win64_release_1.6.0/src/learner.cc:627: \n",
      "Parameters: { \"min_split_gain\", \"num_leaves\" } might not be used.\n",
      "\n",
      "  This could be a false alarm, with some parameters getting used by language bindings but\n",
      "  then being mistakenly passed down to XGBoost core, or some parameter actually being used\n",
      "  but getting flagged wrongly here. Please open an issue if you find any such cases.\n",
      "\n",
      "\n",
      "[07:49:01] WARNING: C:/Users/Administrator/workspace/xgboost-win64_release_1.6.0/src/learner.cc:627: \n",
      "Parameters: { \"min_split_gain\", \"num_leaves\" } might not be used.\n",
      "\n",
      "  This could be a false alarm, with some parameters getting used by language bindings but\n",
      "  then being mistakenly passed down to XGBoost core, or some parameter actually being used\n",
      "  but getting flagged wrongly here. Please open an issue if you find any such cases.\n",
      "\n",
      "\n",
      "[07:49:01] WARNING: C:/Users/Administrator/workspace/xgboost-win64_release_1.6.0/src/learner.cc:627: \n",
      "Parameters: { \"min_split_gain\", \"num_leaves\" } might not be used.\n",
      "\n",
      "  This could be a false alarm, with some parameters getting used by language bindings but\n",
      "  then being mistakenly passed down to XGBoost core, or some parameter actually being used\n",
      "  but getting flagged wrongly here. Please open an issue if you find any such cases.\n",
      "\n",
      "\n",
      "[07:49:01] WARNING: C:/Users/Administrator/workspace/xgboost-win64_release_1.6.0/src/learner.cc:627: \n",
      "Parameters: { \"min_split_gain\", \"num_leaves\" } might not be used.\n",
      "\n",
      "  This could be a false alarm, with some parameters getting used by language bindings but\n",
      "  then being mistakenly passed down to XGBoost core, or some parameter actually being used\n",
      "  but getting flagged wrongly here. Please open an issue if you find any such cases.\n",
      "\n",
      "\n",
      "[07:49:01] WARNING: C:/Users/Administrator/workspace/xgboost-win64_release_1.6.0/src/learner.cc:627: \n",
      "Parameters: { \"min_split_gain\", \"num_leaves\" } might not be used.\n",
      "\n",
      "  This could be a false alarm, with some parameters getting used by language bindings but\n",
      "  then being mistakenly passed down to XGBoost core, or some parameter actually being used\n",
      "  but getting flagged wrongly here. Please open an issue if you find any such cases.\n",
      "\n",
      "\n",
      "[07:49:01] WARNING: C:/Users/Administrator/workspace/xgboost-win64_release_1.6.0/src/learner.cc:627: \n",
      "Parameters: { \"min_split_gain\", \"num_leaves\" } might not be used.\n",
      "\n",
      "  This could be a false alarm, with some parameters getting used by language bindings but\n",
      "  then being mistakenly passed down to XGBoost core, or some parameter actually being used\n",
      "  but getting flagged wrongly here. Please open an issue if you find any such cases.\n",
      "\n",
      "\n",
      "[07:49:01] WARNING: C:/Users/Administrator/workspace/xgboost-win64_release_1.6.0/src/learner.cc:627: \n",
      "Parameters: { \"min_split_gain\", \"num_leaves\" } might not be used.\n",
      "\n",
      "  This could be a false alarm, with some parameters getting used by language bindings but\n",
      "  then being mistakenly passed down to XGBoost core, or some parameter actually being used\n",
      "  but getting flagged wrongly here. Please open an issue if you find any such cases.\n",
      "\n",
      "\n",
      "[07:49:01] WARNING: C:/Users/Administrator/workspace/xgboost-win64_release_1.6.0/src/learner.cc:627: \n",
      "Parameters: { \"min_split_gain\", \"num_leaves\" } might not be used.\n",
      "\n",
      "  This could be a false alarm, with some parameters getting used by language bindings but\n",
      "  then being mistakenly passed down to XGBoost core, or some parameter actually being used\n",
      "  but getting flagged wrongly here. Please open an issue if you find any such cases.\n",
      "\n",
      "\n",
      "[07:49:02] WARNING: C:/Users/Administrator/workspace/xgboost-win64_release_1.6.0/src/learner.cc:627: \n",
      "Parameters: { \"min_split_gain\", \"num_leaves\" } might not be used.\n",
      "\n",
      "  This could be a false alarm, with some parameters getting used by language bindings but\n",
      "  then being mistakenly passed down to XGBoost core, or some parameter actually being used\n",
      "  but getting flagged wrongly here. Please open an issue if you find any such cases.\n",
      "\n",
      "\n",
      "[07:49:02] WARNING: C:/Users/Administrator/workspace/xgboost-win64_release_1.6.0/src/learner.cc:627: \n",
      "Parameters: { \"min_split_gain\", \"num_leaves\" } might not be used.\n",
      "\n",
      "  This could be a false alarm, with some parameters getting used by language bindings but\n",
      "  then being mistakenly passed down to XGBoost core, or some parameter actually being used\n",
      "  but getting flagged wrongly here. Please open an issue if you find any such cases.\n",
      "\n",
      "\n",
      "[07:49:02] WARNING: C:/Users/Administrator/workspace/xgboost-win64_release_1.6.0/src/learner.cc:627: \n",
      "Parameters: { \"min_split_gain\", \"num_leaves\" } might not be used.\n",
      "\n",
      "  This could be a false alarm, with some parameters getting used by language bindings but\n",
      "  then being mistakenly passed down to XGBoost core, or some parameter actually being used\n",
      "  but getting flagged wrongly here. Please open an issue if you find any such cases.\n",
      "\n",
      "\n",
      "[07:49:02] WARNING: C:/Users/Administrator/workspace/xgboost-win64_release_1.6.0/src/learner.cc:627: \n",
      "Parameters: { \"min_split_gain\", \"num_leaves\" } might not be used.\n",
      "\n",
      "  This could be a false alarm, with some parameters getting used by language bindings but\n",
      "  then being mistakenly passed down to XGBoost core, or some parameter actually being used\n",
      "  but getting flagged wrongly here. Please open an issue if you find any such cases.\n",
      "\n",
      "\n"
     ]
    },
    {
     "data": {
      "text/plain": [
       "GridSearchCV(cv=5,\n",
       "             estimator=Pipeline(steps=[('columntransformer',\n",
       "                                        ColumnTransformer(transformers=[('pipeline_numerik',\n",
       "                                                                         Pipeline(steps=[('simpleimputer',\n",
       "                                                                                          SimpleImputer(strategy='median')),\n",
       "                                                                                         ('minmaxscaler',\n",
       "                                                                                          MinMaxScaler())]),\n",
       "                                                                         ['pay_avg',\n",
       "                                                                          'pay_amt_avg']),\n",
       "                                                                        ('pipeline_kategori',\n",
       "                                                                         Pipeline(steps=[('ordinalencoder',\n",
       "                                                                                          OrdinalEncoder(categories=[['-2.0',\n",
       "                                                                                                                      '-1.0',\n",
       "                                                                                                                      '0.0',\n",
       "                                                                                                                      '1...\n",
       "                                                      random_state=0,\n",
       "                                                      reg_alpha=0, reg_lambda=1, ...))]),\n",
       "             param_grid={'xgbclassifier__colsample_bytree': [0.7],\n",
       "                         'xgbclassifier__max_depth': [2],\n",
       "                         'xgbclassifier__min_child_weight': [100, 250],\n",
       "                         'xgbclassifier__min_split_gain': [0.3],\n",
       "                         'xgbclassifier__n_estimators': [70, 700],\n",
       "                         'xgbclassifier__nthread': [4],\n",
       "                         'xgbclassifier__num_leaves': [10],\n",
       "                         'xgbclassifier__seed': [37]},\n",
       "             scoring='accuracy')"
      ]
     },
     "execution_count": 78,
     "metadata": {},
     "output_type": "execute_result"
    }
   ],
   "source": [
    "\n",
    "xgb_pipe.fit(x_train,y_train)\n",
    "gs_xg.fit(x_train,y_train)"
   ]
  },
  {
   "cell_type": "code",
   "execution_count": 79,
   "metadata": {},
   "outputs": [
    {
     "data": {
      "text/plain": [
       "Pipeline(steps=[('columntransformer',\n",
       "                 ColumnTransformer(transformers=[('pipeline_numerik',\n",
       "                                                  Pipeline(steps=[('simpleimputer',\n",
       "                                                                   SimpleImputer(strategy='median')),\n",
       "                                                                  ('minmaxscaler',\n",
       "                                                                   MinMaxScaler())]),\n",
       "                                                  ['pay_avg', 'pay_amt_avg']),\n",
       "                                                 ('pipeline_kategori',\n",
       "                                                  Pipeline(steps=[('ordinalencoder',\n",
       "                                                                   OrdinalEncoder(categories=[['-2.0',\n",
       "                                                                                               '-1.0',\n",
       "                                                                                               '0.0',\n",
       "                                                                                               '1.0',\n",
       "                                                                                               '2.0',\n",
       "                                                                                               '3.0',\n",
       "                                                                                               '4.0',\n",
       "                                                                                               '5.0',...\n",
       "                               gamma=0, gpu_id=-1, grow_policy='depthwise',\n",
       "                               importance_type=None, interaction_constraints='',\n",
       "                               learning_rate=0.300000012, max_bin=256,\n",
       "                               max_cat_to_onehot=4, max_delta_step=0,\n",
       "                               max_depth=2, max_leaves=0, min_child_weight=100,\n",
       "                               min_split_gain=0.3, missing=nan,\n",
       "                               monotone_constraints='()', n_estimators=70,\n",
       "                               n_jobs=0, nthread=4, num_leaves=10,\n",
       "                               num_parallel_tree=1, predictor='auto', ...))])"
      ]
     },
     "execution_count": 79,
     "metadata": {},
     "output_type": "execute_result"
    }
   ],
   "source": [
    "gs_xg.best_estimator_"
   ]
  },
  {
   "cell_type": "markdown",
   "metadata": {},
   "source": [
    "# VIII. Model Evaluation"
   ]
  },
  {
   "cell_type": "markdown",
   "metadata": {},
   "source": [
    "**Model Terpilih -XGBoost-**\n",
    "\n",
    "Gunakan **Confusion Matrix** dan **Classification Report**  Untuk Evaluasi Model\n",
    "\n"
   ]
  },
  {
   "cell_type": "code",
   "execution_count": 80,
   "metadata": {},
   "outputs": [],
   "source": [
    "#definisi fungsi untuk membantu menampilkan confusion matrix dan laporan klasifikasi\n",
    "def show_evaluation(y,pred,model):\n",
    "    \n",
    "    cm = confusion_matrix(y, pred, labels=model.classes_)\n",
    "    disp = ConfusionMatrixDisplay(confusion_matrix=cm, display_labels=model.classes_)\n",
    "    disp.plot()\n",
    "    plt.show()\n",
    "    print(classification_report(y,pred))"
   ]
  },
  {
   "cell_type": "markdown",
   "metadata": {},
   "source": [
    "prediksi dengan data train dan test"
   ]
  },
  {
   "cell_type": "code",
   "execution_count": 81,
   "metadata": {},
   "outputs": [],
   "source": [
    "y_train_pred_plain=xgb_pipe.predict(x_train)\n",
    "y_test_pred_plain=xgb_pipe.predict(x_test)\n",
    "\n",
    "x_train_pred_gs = gs_xg.best_estimator_.predict(x_train)\n",
    "x_test_pred_gs = gs_xg.best_estimator_.predict(x_test)"
   ]
  },
  {
   "cell_type": "markdown",
   "metadata": {},
   "source": [
    "### Tanpa Hyperparameter"
   ]
  },
  {
   "cell_type": "markdown",
   "metadata": {},
   "source": [
    "Hasil Dari base model **tanpa hyperparameter** lebih menuju **overfit** atau hasil akurasi test lebih bagus daripada test"
   ]
  },
  {
   "cell_type": "code",
   "execution_count": 82,
   "metadata": {},
   "outputs": [
    {
     "name": "stdout",
     "output_type": "stream",
     "text": [
      "Akurasi Train :  0.8976311336717429\n",
      "Akurasi Test :  0.805414551607445\n"
     ]
    }
   ],
   "source": [
    "print(\"Akurasi Train : \",accuracy_score(y_train,y_train_pred_plain))\n",
    "print(\"Akurasi Test : \",accuracy_score(y_test,y_test_pred_plain))"
   ]
  },
  {
   "cell_type": "code",
   "execution_count": 83,
   "metadata": {},
   "outputs": [
    {
     "data": {
      "image/png": "[encoded data removed]",
      "text/plain": [
       "<Figure size 1152x864 with 2 Axes>"
      ]
     },
     "metadata": {},
     "output_type": "display_data"
    },
    {
     "name": "stdout",
     "output_type": "stream",
     "text": [
      "              precision    recall  f1-score   support\n",
      "\n",
      "           0       0.84      0.94      0.88       458\n",
      "           1       0.64      0.37      0.47       133\n",
      "\n",
      "    accuracy                           0.81       591\n",
      "   macro avg       0.74      0.65      0.68       591\n",
      "weighted avg       0.79      0.81      0.79       591\n",
      "\n"
     ]
    }
   ],
   "source": [
    "show_evaluation(y_test,x_test_pred_gs,xgb_pipe)"
   ]
  },
  {
   "cell_type": "markdown",
   "metadata": {},
   "source": [
    "### Dengan Hyper Parameter"
   ]
  },
  {
   "cell_type": "markdown",
   "metadata": {},
   "source": [
    "hasil pada evaluasi dengan hyperparameter terbaik"
   ]
  },
  {
   "cell_type": "code",
   "execution_count": 84,
   "metadata": {},
   "outputs": [
    {
     "name": "stdout",
     "output_type": "stream",
     "text": [
      "Akurasi Train :  0.8341793570219966\n",
      "Akurasi Test :  0.8104906937394247\n"
     ]
    }
   ],
   "source": [
    "print(\"Akurasi Train : \",accuracy_score(y_train,x_train_pred_gs))\n",
    "print(\"Akurasi Test : \",accuracy_score(y_test,x_test_pred_gs))"
   ]
  },
  {
   "cell_type": "code",
   "execution_count": 85,
   "metadata": {},
   "outputs": [
    {
     "data": {
      "image/png": "[encoded data removed]",
      "text/plain": [
       "<Figure size 1152x864 with 2 Axes>"
      ]
     },
     "metadata": {},
     "output_type": "display_data"
    },
    {
     "name": "stdout",
     "output_type": "stream",
     "text": [
      "              precision    recall  f1-score   support\n",
      "\n",
      "           0       0.84      0.94      0.88       458\n",
      "           1       0.64      0.37      0.47       133\n",
      "\n",
      "    accuracy                           0.81       591\n",
      "   macro avg       0.74      0.65      0.68       591\n",
      "weighted avg       0.79      0.81      0.79       591\n",
      "\n"
     ]
    }
   ],
   "source": [
    "show_evaluation(y_test,x_test_pred_gs,gs_xg)"
   ]
  },
  {
   "cell_type": "markdown",
   "metadata": {},
   "source": [
    "# IX. Model Inference"
   ]
  },
  {
   "cell_type": "code",
   "execution_count": 86,
   "metadata": {},
   "outputs": [],
   "source": [
    "pickup_inf.reset_index(drop=True,inplace=True)"
   ]
  },
  {
   "cell_type": "markdown",
   "metadata": {},
   "source": [
    "## Data Preprocessing\n",
    "\n",
    "data preprocessing is cloned from the data training and test preprocessing"
   ]
  },
  {
   "cell_type": "markdown",
   "metadata": {},
   "source": [
    "### Missing Value"
   ]
  },
  {
   "cell_type": "markdown",
   "metadata": {},
   "source": [
    "data inference have no missing value"
   ]
  },
  {
   "cell_type": "code",
   "execution_count": 87,
   "metadata": {},
   "outputs": [
    {
     "name": "stdout",
     "output_type": "stream",
     "text": [
      "<class 'pandas.core.frame.DataFrame'>\n",
      "RangeIndex: 10 entries, 0 to 9\n",
      "Data columns (total 27 columns):\n",
      " #   Column              Non-Null Count  Dtype  \n",
      "---  ------              --------------  -----  \n",
      " 0   limit_balance       10 non-null     float64\n",
      " 1   sex                 10 non-null     int64  \n",
      " 2   education_level     10 non-null     int64  \n",
      " 3   marital_status      10 non-null     int64  \n",
      " 4   age                 10 non-null     float64\n",
      " 5   pay_1               10 non-null     float64\n",
      " 6   pay_2               10 non-null     float64\n",
      " 7   pay_3               10 non-null     float64\n",
      " 8   pay_4               10 non-null     float64\n",
      " 9   pay_5               10 non-null     int64  \n",
      " 10  pay_6               10 non-null     int64  \n",
      " 11  bill_amt_1          10 non-null     float64\n",
      " 12  bill_amt_2          10 non-null     float64\n",
      " 13  bill_amt_3          10 non-null     float64\n",
      " 14  bill_amt_4          10 non-null     float64\n",
      " 15  bill_amt_5          10 non-null     float64\n",
      " 16  bill_amt_6          10 non-null     float64\n",
      " 17  pay_amt_1           10 non-null     float64\n",
      " 18  pay_amt_2           10 non-null     float64\n",
      " 19  pay_amt_3           10 non-null     float64\n",
      " 20  pay_amt_4           10 non-null     float64\n",
      " 21  pay_amt_5           10 non-null     float64\n",
      " 22  pay_amt_6           10 non-null     float64\n",
      " 23  default_next_month  10 non-null     int64  \n",
      " 24  pay_avg             10 non-null     float64\n",
      " 25  pay_amt_avg         10 non-null     float64\n",
      " 26  delta_bill          10 non-null     float64\n",
      "dtypes: float64(21), int64(6)\n",
      "memory usage: 2.2 KB\n"
     ]
    }
   ],
   "source": [
    "pickup_inf.info()"
   ]
  },
  {
   "cell_type": "markdown",
   "metadata": {},
   "source": [
    "### Pilih Feature"
   ]
  },
  {
   "cell_type": "code",
   "execution_count": 88,
   "metadata": {},
   "outputs": [],
   "source": [
    "selected_inf = pickup_inf[selected_cols]"
   ]
  },
  {
   "cell_type": "markdown",
   "metadata": {},
   "source": [
    "jadikan kolom `pay_1` menjadi **string** "
   ]
  },
  {
   "cell_type": "code",
   "execution_count": 89,
   "metadata": {},
   "outputs": [
    {
     "name": "stderr",
     "output_type": "stream",
     "text": [
      "C:\\Users\\ajies\\AppData\\Local\\Temp\\ipykernel_3956\\910780140.py:1: SettingWithCopyWarning: \n",
      "A value is trying to be set on a copy of a slice from a DataFrame.\n",
      "Try using .loc[row_indexer,col_indexer] = value instead\n",
      "\n",
      "See the caveats in the documentation: https://pandas.pydata.org/pandas-docs/stable/user_guide/indexing.html#returning-a-view-versus-a-copy\n",
      "  selected_inf['pay_1'] = selected_inf['pay_1'].apply(str)\n"
     ]
    }
   ],
   "source": [
    "selected_inf['pay_1'] = selected_inf['pay_1'].apply(str)"
   ]
  },
  {
   "cell_type": "code",
   "execution_count": 90,
   "metadata": {},
   "outputs": [
    {
     "data": {
      "text/html": [
       "<div>\n",
       "<style scoped>\n",
       "    .dataframe tbody tr th:only-of-type {\n",
       "        vertical-align: middle;\n",
       "    }\n",
       "\n",
       "    .dataframe tbody tr th {\n",
       "        vertical-align: top;\n",
       "    }\n",
       "\n",
       "    .dataframe thead th {\n",
       "        text-align: right;\n",
       "    }\n",
       "</style>\n",
       "<table border=\"1\" class=\"dataframe\">\n",
       "  <thead>\n",
       "    <tr style=\"text-align: right;\">\n",
       "      <th></th>\n",
       "      <th>pay_1</th>\n",
       "      <th>pay_avg</th>\n",
       "      <th>pay_amt_avg</th>\n",
       "    </tr>\n",
       "  </thead>\n",
       "  <tbody>\n",
       "    <tr>\n",
       "      <th>0</th>\n",
       "      <td>-1.0</td>\n",
       "      <td>-0.833333</td>\n",
       "      <td>16666.0</td>\n",
       "    </tr>\n",
       "    <tr>\n",
       "      <th>1</th>\n",
       "      <td>0.0</td>\n",
       "      <td>0.000000</td>\n",
       "      <td>17186.0</td>\n",
       "    </tr>\n",
       "    <tr>\n",
       "      <th>2</th>\n",
       "      <td>-1.0</td>\n",
       "      <td>-1.000000</td>\n",
       "      <td>2263.8</td>\n",
       "    </tr>\n",
       "    <tr>\n",
       "      <th>3</th>\n",
       "      <td>-2.0</td>\n",
       "      <td>-2.000000</td>\n",
       "      <td>6991.2</td>\n",
       "    </tr>\n",
       "    <tr>\n",
       "      <th>4</th>\n",
       "      <td>0.0</td>\n",
       "      <td>0.000000</td>\n",
       "      <td>3340.0</td>\n",
       "    </tr>\n",
       "    <tr>\n",
       "      <th>5</th>\n",
       "      <td>0.0</td>\n",
       "      <td>0.000000</td>\n",
       "      <td>2975.0</td>\n",
       "    </tr>\n",
       "    <tr>\n",
       "      <th>6</th>\n",
       "      <td>0.0</td>\n",
       "      <td>0.333333</td>\n",
       "      <td>1634.0</td>\n",
       "    </tr>\n",
       "    <tr>\n",
       "      <th>7</th>\n",
       "      <td>0.0</td>\n",
       "      <td>0.000000</td>\n",
       "      <td>2000.0</td>\n",
       "    </tr>\n",
       "    <tr>\n",
       "      <th>8</th>\n",
       "      <td>-1.0</td>\n",
       "      <td>-0.833333</td>\n",
       "      <td>379.2</td>\n",
       "    </tr>\n",
       "    <tr>\n",
       "      <th>9</th>\n",
       "      <td>-1.0</td>\n",
       "      <td>-1.000000</td>\n",
       "      <td>1108.8</td>\n",
       "    </tr>\n",
       "  </tbody>\n",
       "</table>\n",
       "</div>"
      ],
      "text/plain": [
       "  pay_1   pay_avg  pay_amt_avg\n",
       "0  -1.0 -0.833333      16666.0\n",
       "1   0.0  0.000000      17186.0\n",
       "2  -1.0 -1.000000       2263.8\n",
       "3  -2.0 -2.000000       6991.2\n",
       "4   0.0  0.000000       3340.0\n",
       "5   0.0  0.000000       2975.0\n",
       "6   0.0  0.333333       1634.0\n",
       "7   0.0  0.000000       2000.0\n",
       "8  -1.0 -0.833333        379.2\n",
       "9  -1.0 -1.000000       1108.8"
      ]
     },
     "execution_count": 90,
     "metadata": {},
     "output_type": "execute_result"
    }
   ],
   "source": [
    "selected_inf"
   ]
  },
  {
   "cell_type": "markdown",
   "metadata": {},
   "source": [
    "### Prediksi Model Terbaik"
   ]
  },
  {
   "cell_type": "code",
   "execution_count": 91,
   "metadata": {},
   "outputs": [],
   "source": [
    "inf_pred_gs = gs_xg.best_estimator_.predict(selected_inf)"
   ]
  },
  {
   "cell_type": "markdown",
   "metadata": {},
   "source": [
    "## Membandingkan"
   ]
  },
  {
   "cell_type": "markdown",
   "metadata": {},
   "source": [
    "### Prediksi  XGBoost"
   ]
  },
  {
   "cell_type": "code",
   "execution_count": 92,
   "metadata": {},
   "outputs": [
    {
     "data": {
      "text/html": [
       "<div>\n",
       "<style scoped>\n",
       "    .dataframe tbody tr th:only-of-type {\n",
       "        vertical-align: middle;\n",
       "    }\n",
       "\n",
       "    .dataframe tbody tr th {\n",
       "        vertical-align: top;\n",
       "    }\n",
       "\n",
       "    .dataframe thead th {\n",
       "        text-align: right;\n",
       "    }\n",
       "</style>\n",
       "<table border=\"1\" class=\"dataframe\">\n",
       "  <thead>\n",
       "    <tr style=\"text-align: right;\">\n",
       "      <th></th>\n",
       "      <th>default_pred</th>\n",
       "    </tr>\n",
       "  </thead>\n",
       "  <tbody>\n",
       "    <tr>\n",
       "      <th>0</th>\n",
       "      <td>0</td>\n",
       "    </tr>\n",
       "    <tr>\n",
       "      <th>1</th>\n",
       "      <td>0</td>\n",
       "    </tr>\n",
       "    <tr>\n",
       "      <th>2</th>\n",
       "      <td>0</td>\n",
       "    </tr>\n",
       "    <tr>\n",
       "      <th>3</th>\n",
       "      <td>0</td>\n",
       "    </tr>\n",
       "    <tr>\n",
       "      <th>4</th>\n",
       "      <td>0</td>\n",
       "    </tr>\n",
       "    <tr>\n",
       "      <th>5</th>\n",
       "      <td>0</td>\n",
       "    </tr>\n",
       "    <tr>\n",
       "      <th>6</th>\n",
       "      <td>0</td>\n",
       "    </tr>\n",
       "    <tr>\n",
       "      <th>7</th>\n",
       "      <td>0</td>\n",
       "    </tr>\n",
       "    <tr>\n",
       "      <th>8</th>\n",
       "      <td>0</td>\n",
       "    </tr>\n",
       "    <tr>\n",
       "      <th>9</th>\n",
       "      <td>0</td>\n",
       "    </tr>\n",
       "  </tbody>\n",
       "</table>\n",
       "</div>"
      ],
      "text/plain": [
       "   default_pred\n",
       "0             0\n",
       "1             0\n",
       "2             0\n",
       "3             0\n",
       "4             0\n",
       "5             0\n",
       "6             0\n",
       "7             0\n",
       "8             0\n",
       "9             0"
      ]
     },
     "execution_count": 92,
     "metadata": {},
     "output_type": "execute_result"
    }
   ],
   "source": [
    "# dataframe for view (Tidak Wajib)\n",
    "\n",
    "pred_inf_df = pd.DataFrame(inf_pred_gs,columns=['default_pred'])\n",
    "pred_inf_df"
   ]
  },
  {
   "cell_type": "code",
   "execution_count": 93,
   "metadata": {},
   "outputs": [
    {
     "data": {
      "text/html": [
       "<div>\n",
       "<style scoped>\n",
       "    .dataframe tbody tr th:only-of-type {\n",
       "        vertical-align: middle;\n",
       "    }\n",
       "\n",
       "    .dataframe tbody tr th {\n",
       "        vertical-align: top;\n",
       "    }\n",
       "\n",
       "    .dataframe thead th {\n",
       "        text-align: right;\n",
       "    }\n",
       "</style>\n",
       "<table border=\"1\" class=\"dataframe\">\n",
       "  <thead>\n",
       "    <tr style=\"text-align: right;\">\n",
       "      <th></th>\n",
       "      <th>pay_1</th>\n",
       "      <th>pay_avg</th>\n",
       "      <th>pay_amt_avg</th>\n",
       "      <th>default_next_month</th>\n",
       "      <th>default_pred</th>\n",
       "    </tr>\n",
       "  </thead>\n",
       "  <tbody>\n",
       "    <tr>\n",
       "      <th>0</th>\n",
       "      <td>-1.0</td>\n",
       "      <td>-0.833333</td>\n",
       "      <td>16666.0</td>\n",
       "      <td>0</td>\n",
       "      <td>0</td>\n",
       "    </tr>\n",
       "    <tr>\n",
       "      <th>1</th>\n",
       "      <td>0.0</td>\n",
       "      <td>0.000000</td>\n",
       "      <td>17186.0</td>\n",
       "      <td>0</td>\n",
       "      <td>0</td>\n",
       "    </tr>\n",
       "    <tr>\n",
       "      <th>2</th>\n",
       "      <td>-1.0</td>\n",
       "      <td>-1.000000</td>\n",
       "      <td>2263.8</td>\n",
       "      <td>0</td>\n",
       "      <td>0</td>\n",
       "    </tr>\n",
       "    <tr>\n",
       "      <th>3</th>\n",
       "      <td>-2.0</td>\n",
       "      <td>-2.000000</td>\n",
       "      <td>6991.2</td>\n",
       "      <td>0</td>\n",
       "      <td>0</td>\n",
       "    </tr>\n",
       "    <tr>\n",
       "      <th>4</th>\n",
       "      <td>0.0</td>\n",
       "      <td>0.000000</td>\n",
       "      <td>3340.0</td>\n",
       "      <td>0</td>\n",
       "      <td>0</td>\n",
       "    </tr>\n",
       "    <tr>\n",
       "      <th>5</th>\n",
       "      <td>0.0</td>\n",
       "      <td>0.000000</td>\n",
       "      <td>2975.0</td>\n",
       "      <td>0</td>\n",
       "      <td>0</td>\n",
       "    </tr>\n",
       "    <tr>\n",
       "      <th>6</th>\n",
       "      <td>0.0</td>\n",
       "      <td>0.333333</td>\n",
       "      <td>1634.0</td>\n",
       "      <td>0</td>\n",
       "      <td>0</td>\n",
       "    </tr>\n",
       "    <tr>\n",
       "      <th>7</th>\n",
       "      <td>0.0</td>\n",
       "      <td>0.000000</td>\n",
       "      <td>2000.0</td>\n",
       "      <td>1</td>\n",
       "      <td>0</td>\n",
       "    </tr>\n",
       "    <tr>\n",
       "      <th>8</th>\n",
       "      <td>-1.0</td>\n",
       "      <td>-0.833333</td>\n",
       "      <td>379.2</td>\n",
       "      <td>0</td>\n",
       "      <td>0</td>\n",
       "    </tr>\n",
       "    <tr>\n",
       "      <th>9</th>\n",
       "      <td>-1.0</td>\n",
       "      <td>-1.000000</td>\n",
       "      <td>1108.8</td>\n",
       "      <td>0</td>\n",
       "      <td>0</td>\n",
       "    </tr>\n",
       "  </tbody>\n",
       "</table>\n",
       "</div>"
      ],
      "text/plain": [
       "   pay_1   pay_avg  pay_amt_avg  default_next_month  default_pred\n",
       "0   -1.0 -0.833333      16666.0                   0             0\n",
       "1    0.0  0.000000      17186.0                   0             0\n",
       "2   -1.0 -1.000000       2263.8                   0             0\n",
       "3   -2.0 -2.000000       6991.2                   0             0\n",
       "4    0.0  0.000000       3340.0                   0             0\n",
       "5    0.0  0.000000       2975.0                   0             0\n",
       "6    0.0  0.333333       1634.0                   0             0\n",
       "7    0.0  0.000000       2000.0                   1             0\n",
       "8   -1.0 -0.833333        379.2                   0             0\n",
       "9   -1.0 -1.000000       1108.8                   0             0"
      ]
     },
     "execution_count": 93,
     "metadata": {},
     "output_type": "execute_result"
    }
   ],
   "source": [
    "# concate between inference set and\n",
    "selected = selected_cols + ['default_next_month']\n",
    "\n",
    "pred_df = pd.concat([pickup_inf[selected],pred_inf_df],axis=1)\n",
    "\n",
    "pred_df"
   ]
  },
  {
   "cell_type": "markdown",
   "metadata": {},
   "source": [
    "# X. Kesimpulan"
   ]
  },
  {
   "cell_type": "markdown",
   "metadata": {},
   "source": [
    "Dalam Project Milestone Pertama pada fase 1 ini, terdapat masalah , yaitu dari banya algoritma supervised learning klasifikasi, mana dari mereka cocok untuk jadi model prediksi untuk objektif pada milestone 1 ini, dimana objektifnya adalah membuat prediksi defaul_next_month atau status gagal bayar pada servis pinjaman.\n",
    "\n",
    "untuk seleksi fitur sendiri telah dilakukan beberapa **EDA** dan seleksi fitur dari ***Decision Tree*** importance feature value.\n",
    "\n",
    "hasil dari **EDA** terbagi dari bebrapa point, untuk menunjang pemilihan fitur yaitu \n",
    "- **pendidikan** , **gender**, dan **umur** **tidak berpengaruh** terhadap status target `(default_next_month)`.\n",
    "- semakin **banyak menunggak** maka kemungkinan mendapat status **target 1**.\n",
    "- kebanyakan debitur dengan status **target 0** membayar hutang mereka dengan **jumlah yang besar**.\n",
    "\n",
    "memilih fitur dengan **decision tree** model. salah satu atribut output pada decision tree adalah feature importance, dimana dalam decision tree dapat mempertimbangkan fitur mana saja yang dipakai <br>\n",
    "untuk memprediksi target, metode ini dipilih karena dalam presentasi [PyData DC 2016 Dimensionality Reduction Techniques](https://www.youtube.com/watch?v=ioXKxulmwVQ) nilai dari feature importance dapat menjadi pertimbangan memilih feature.\n",
    "\n",
    "dari process **EDA** dan **Decision Tree** terpilihlah fitur yang akan digunakan yaitu `pay_1`, `pay_avg`, dan `pay_amt_avg`.\n",
    "\n",
    "setelah dilakukan prerpocessing maka dilakukanlah pemodelan, dengan **beberapa model** yang nantinya **dipilih satu** yang **terbaik** menggunakan **cross validation** dan terpilihlah model **XGBoost** dengan akurasi 0.83 dan standart deviasi yang paling kecil\n",
    "\n",
    "**XGBoost** kepanjangannya adalah *Extreme Gradient Boosting* dimana didalam gradient boost terdapat sekumpulan decision tree **sederhana** (Weak Learners) yang saling berhubungan dan menjadikannya **Strong Learner** <br>\n",
    "lalu kenapa bernama **Gradient Boost** , jawabnya karena didalamnya terdapat algoritma **gradient descent** menurut [wikipedia](https://en.wikipedia.org/wiki/Gradient_boosting)\n",
    "\n",
    "setelah **dievaluasi** XGBoost masih memiliki kecenderungan **overfitting**, kecenderungan ini karena DNA dari **Decision Tree** di dalam XGBoost itu sendiri, meskipun begitu pada **hyperparameter** ada beberapa **argumen** <br>\n",
    "yang di design oleh developer nya untuk **mengurangi** dampak overfitting pada algoritma tersebut.\n",
    "\n",
    "untuk masalah overfitting disini saya mencoba tuning beberapa parameter yaitu `min_child_weight`(tinnggi angka mengurangi overfit), `n_estimators`(semakin kecil angka mengurangi overfit tapi mengurangi akurasi), `max_depth` (semakin kecil semakin kurang akurasi tapi mengurangi dampak overfit) sesuait dengan panduan dokumnetasi [dokumentasi XGBoost](https://docs.getml.com/latest/api/getml.predictors.XGBoostClassifier.html)\n"
   ]
  },
  {
   "cell_type": "markdown",
   "metadata": {},
   "source": [
    "# Pertanyaan Konseptual "
   ]
  },
  {
   "cell_type": "markdown",
   "metadata": {},
   "source": [
    "1. Apakah fungsi parameter `criterion` pada Decision Tree? Jelaskan salah satu criterion yang kalian pahami!\n",
    "    -  Criterion adalah parameter dimana berfungsi untuk mengukur nilai pemisahan atribut pada decision tree\n",
    "    dan terdapat 3 fungsi untuk mengukur nilai tersebut adalah `gini`, `entrophy`, dan `log_loss`\n",
    "2. Apakah fungsi dari `pruning` pada Tree model?\n",
    "    - **pruning** merupakan metode untuk **mengatasi overfitting** pada decision tree dengan cara **memotong** ranting atau **cabang** **atribut** pada decision tree, **dampaknya** dapat **menghilangkan nilai feature importance yang tidak signifikan** \n",
    "3. Bagaimana cara memilih `K` yang optimal pada KNN?\n",
    "    - K merupakan jumlah tetangga terdekat, dimana algoritma model akan memilih data point sebagai acuan tetangga terdekat, banyak data point tersebut tergantung dengan jumlah nilai `K` \n",
    "    - untuk menghindari pemisahan klasifikasi yang 50:50 kita harus melihat berapa banyak jumlah klasifikasi pada target jika jumlah klasifikasi genap, masukan nilai `K` ganjil, jika klasifikasi berjumlah ganjil maka masukan nilai `K` genap\n",
    "4. Jelaskan apa yang kalian ketahui tentang `Cross Validation`!\n",
    "    - Cross Validation adalah metode evaluasi model machine learning dengan sampling train dan test yang merata sesuai dengan nilai lipatan atau `fold` dan partisi atau nilai `k`, atau pada library scikit-learn `cv`<br>\n",
    "    apa yang dimaksud dengan merata? merata arti nya hampir semua baris data akan menjadi train dan test\n",
    "5. Jelaskan apa yang kalian ketahui tentang `Accuracy, Precision, Recall, F1 Score`!\n",
    "    - Accuracy adalah rasio dari keseluruhan ***true positif*** dan ***true negative*** dibandingkan jumlah baris data\n",
    "    - Precision refrensi evaluasi jika ingin melihat banyak ***false positive*** diantara ***true positive***\n",
    "    - Recall adalah refrensi  untuk melihat ***false negative*** diantara ***true positive***, biasa dipanggil dengan **TPR** atau *True Positive Rate*\n",
    "    - F1 Score, adalah **rata-rata** pada nilai **presisi dan recall** dengan dihitung dengan **aritmatika harmonic**"
   ]
  },
  {
   "cell_type": "markdown",
   "metadata": {},
   "source": []
  }
 ],
 "metadata": {
  "kernelspec": {
   "display_name": "Python 3.9.12 ('base')",
   "language": "python",
   "name": "python3"
  },
  "language_info": {
   "codemirror_mode": {
    "name": "ipython",
    "version": 3
   },
   "file_extension": ".py",
   "mimetype": "text/x-python",
   "name": "python",
   "nbconvert_exporter": "python",
   "pygments_lexer": "ipython3",
   "version": "3.9.12"
  },
  "orig_nbformat": 4,
  "vscode": {
   "interpreter": {
    "hash": "3c49ca66e5c8d57ef998acbc4445fda8afa39543d611cccca4a6c099a23fcb0b"
   }
  }
 },
 "nbformat": 4,
 "nbformat_minor": 2
}
