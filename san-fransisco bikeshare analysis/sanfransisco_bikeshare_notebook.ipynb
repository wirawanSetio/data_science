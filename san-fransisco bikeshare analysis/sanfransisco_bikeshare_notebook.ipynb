{
 "cells": [
  {
   "cell_type": "markdown",
   "metadata": {},
   "source": [
    "# Graded Challenge 2\n",
    "\n",
    "By Wirawan Setio Aji <br>\n",
    "Batch 014"
   ]
  },
  {
   "cell_type": "markdown",
   "metadata": {},
   "source": [
    "## Description\n",
    "\n",
    "&nbsp; Pada graded challenge ke-2 ini terdapat 2 masalah dengan narasi yang sama, yaitu menjadi datascientist pada San Francisco Smart City dan bertugas mencari stasiun awal mana yang paling favorit di antara stasiun-stasiun lainnya.\n",
    "\n",
    "### Objective\n",
    "\n",
    "Dari Narasi tersebut terdapat objective berupa **Pengambilan**, **2 Role Problem** dan **6 Pertanyaan konseptual** pada setiap Problemnyayang harus di selesaikan.\n",
    "\n",
    "1. Dari Dataset `san_francisco_bikeshare` Dapatkan sebuah tabel sesuai dengan kriteria berikut : \n",
    "    - Pilih **HANYA** kolom `trip_id`, `start_date`, `start_station_name`, `end_station_name`, `start_station_latitude`, `start_station_longitude`, `end_station_latitude`, `end_station_longitude` pada tabel `san_francisco_bikeshare.bikeshare_trips`, dan `region_id` pada tabel `bigquery-public-data.san_francisco_bikeshare.bikeshare_station_info`.\n",
    "\n",
    "    - Nilai `start_station_name` tidak boleh sama dengan `end_station_name`\n",
    "\n",
    "    - Kolom `start_station_latitude`, `start_station_longitude`, `end_station_latitude`, dan `end_station_longitude` tidak boleh ada nilai `null`\n",
    "\n",
    "    - Pilih `start_date` dengan rentang tanggal lahir kamu di tahun 2017 sampai 5 bulan berikutnya. \n",
    "\n",
    "2. **Role problem 1** :  mencari stasiun awal mana yang paling favorit di antara stasiun-stasiun lainnya dengan menghitung **PageRank** menggunakan *Eigendecomposition*. dengan pertanyaan konseptual sebagai berikut :\n",
    "\n",
    "    - Mengapa dalam kasus ini kita menerapkan konsep *Eigendecomposition*?\n",
    "\n",
    "    - Dari pengamatanmu, mengapa pada akhirnya kita menggunakan dataframe `df_matrix_square` dibandingkan `df_matrix` untuk dilakukan proses *Eigendecomposition*? Berikan alasan yang logis sesuai dengan konsep *Eigendecomposition*.\n",
    "\n",
    "    - Jika dilihat dari PageRanknya, dimana nilai PageRank paling besar merupakan stasiun yang paling favorit. Apa insight yang akan kamu berikan?\n",
    "\n",
    "3. **Role Problem 2** hitung luas area lingkup stasiun awal sepeda di kota San Francisco. dengan pertanyaan konseptual sebagai berikut :\n",
    "    - Terdapat 2 jenis integral yaitu definite dan indefinite. Jenis integral apa yang kamu gunakan untuk kasus ini? Berikan alasanmu!\n",
    "\n",
    "    - Terdapat dua metode dalam perhitungan integral yaitu simbolik dan numerik. Mana yang kamu gunakan untuk kasus ini dan mengapa?\n",
    "\n",
    "    - Apakah diperlukan mendefinisikan fungsi matematis ( seperti `f(x) = x^2+2` ) pada kasus ini? Berikan penjelasan dan alasanmu!\n"
   ]
  },
  {
   "cell_type": "markdown",
   "metadata": {},
   "source": [
    "## Working Area\n"
   ]
  },
  {
   "cell_type": "markdown",
   "metadata": {},
   "source": [
    "### Data Retrieve\n",
    "\n",
    "berikut merupakan **query SQL** yang digunakan untuk mengambil data\n",
    "```\n",
    "SELECT trips.trip_id,trips.start_date, trips.start_station_name, trips.end_station_name, trips.start_station_latitude, trips.start_station_longitude, trips.end_station_latitude,trips.end_station_longitude, stations.region_id\n",
    "FROM `bigquery-public-data.san_francisco_bikeshare.bikeshare_trips` AS trips\n",
    "join `bigquery-public-data.san_francisco_bikeshare.bikeshare_station_info` AS stations\n",
    "ON trips.start_station_name = stations.name\n",
    "where trips.start_station_id != trips.end_station_id and trips.end_station_latitude is not null and trips.end_station_longitude is not null and trips.start_station_latitude is not null and trips.start_station_longitude is not null and trips.start_date between '2017-10-30' and '2018-3-30'"
   ]
  },
  {
   "cell_type": "markdown",
   "metadata": {},
   "source": [
    "### Import Library dan Load Data"
   ]
  },
  {
   "cell_type": "markdown",
   "metadata": {},
   "source": [
    "**Import Libraries**"
   ]
  },
  {
   "cell_type": "code",
   "execution_count": 24,
   "metadata": {},
   "outputs": [],
   "source": [
    "import pandas as pd # untuk dataframes\n",
    "from scipy.integrate import trapz # menghitung kalkulus numerik\n",
    "import sympy as sy # sympy untuk symbol untuk deg^2\n",
    "import numpy as np # untuk membentuk array matrix dan vector\n",
    "import matplotlib.pyplot as plt # untuk data visual"
   ]
  },
  {
   "cell_type": "markdown",
   "metadata": {},
   "source": [
    "**Load Data**"
   ]
  },
  {
   "cell_type": "code",
   "execution_count": 25,
   "metadata": {},
   "outputs": [
    {
     "name": "stdout",
     "output_type": "stream",
     "text": [
      "<class 'pandas.core.frame.DataFrame'>\n",
      "RangeIndex: 38356 entries, 0 to 38355\n",
      "Data columns (total 9 columns):\n",
      " #   Column                   Non-Null Count  Dtype  \n",
      "---  ------                   --------------  -----  \n",
      " 0   trip_id                  38356 non-null  object \n",
      " 1   start_date               38356 non-null  object \n",
      " 2   start_station_name       38356 non-null  object \n",
      " 3   end_station_name         38356 non-null  object \n",
      " 4   start_station_latitude   38356 non-null  float64\n",
      " 5   start_station_longitude  38356 non-null  float64\n",
      " 6   end_station_latitude     38356 non-null  float64\n",
      " 7   end_station_longitude    38356 non-null  float64\n",
      " 8   region_id                33804 non-null  float64\n",
      "dtypes: float64(5), object(4)\n",
      "memory usage: 2.6+ MB\n"
     ]
    }
   ],
   "source": [
    "# path local data\n",
    "path = './data/h8dsft_P0GC2_Set_1_wirawan_setio_aji.csv'\n",
    "dataset = pd.read_csv(path)\n",
    "\n",
    "# check data\n",
    "dataset.info()\n",
    "\n",
    "# melihat semua columns\n",
    "pd.set_option('display.max_columns', None)"
   ]
  },
  {
   "cell_type": "markdown",
   "metadata": {},
   "source": [
    "Tidak terdapat **missing value** pada dataframe"
   ]
  },
  {
   "cell_type": "markdown",
   "metadata": {},
   "source": [
    "Tampilan data dari **.head()**"
   ]
  },
  {
   "cell_type": "code",
   "execution_count": 26,
   "metadata": {},
   "outputs": [
    {
     "data": {
      "text/html": [
       "<div>\n",
       "<style scoped>\n",
       "    .dataframe tbody tr th:only-of-type {\n",
       "        vertical-align: middle;\n",
       "    }\n",
       "\n",
       "    .dataframe tbody tr th {\n",
       "        vertical-align: top;\n",
       "    }\n",
       "\n",
       "    .dataframe thead th {\n",
       "        text-align: right;\n",
       "    }\n",
       "</style>\n",
       "<table border=\"1\" class=\"dataframe\">\n",
       "  <thead>\n",
       "    <tr style=\"text-align: right;\">\n",
       "      <th></th>\n",
       "      <th>trip_id</th>\n",
       "      <th>start_date</th>\n",
       "      <th>start_station_name</th>\n",
       "      <th>end_station_name</th>\n",
       "      <th>start_station_latitude</th>\n",
       "      <th>start_station_longitude</th>\n",
       "      <th>end_station_latitude</th>\n",
       "      <th>end_station_longitude</th>\n",
       "      <th>region_id</th>\n",
       "    </tr>\n",
       "  </thead>\n",
       "  <tbody>\n",
       "    <tr>\n",
       "      <th>0</th>\n",
       "      <td>2512018021317150200</td>\n",
       "      <td>2018-02-13T17:15:02Z</td>\n",
       "      <td>Bushrod Park</td>\n",
       "      <td>Snow Park</td>\n",
       "      <td>37.846516</td>\n",
       "      <td>-122.265304</td>\n",
       "      <td>37.807813</td>\n",
       "      <td>-122.264496</td>\n",
       "      <td>12.0</td>\n",
       "    </tr>\n",
       "    <tr>\n",
       "      <th>1</th>\n",
       "      <td>1822018032712462300</td>\n",
       "      <td>2018-03-27T12:46:23Z</td>\n",
       "      <td>Mosswood Park</td>\n",
       "      <td>Snow Park</td>\n",
       "      <td>37.824931</td>\n",
       "      <td>-122.260479</td>\n",
       "      <td>37.807813</td>\n",
       "      <td>-122.264496</td>\n",
       "      <td>12.0</td>\n",
       "    </tr>\n",
       "    <tr>\n",
       "      <th>2</th>\n",
       "      <td>11202017121808201100</td>\n",
       "      <td>2017-12-18T08:20:11Z</td>\n",
       "      <td>Mosswood Park</td>\n",
       "      <td>Snow Park</td>\n",
       "      <td>37.824931</td>\n",
       "      <td>-122.260479</td>\n",
       "      <td>37.807813</td>\n",
       "      <td>-122.264496</td>\n",
       "      <td>12.0</td>\n",
       "    </tr>\n",
       "    <tr>\n",
       "      <th>3</th>\n",
       "      <td>4042018013111583100</td>\n",
       "      <td>2018-01-31T11:58:31Z</td>\n",
       "      <td>Mosswood Park</td>\n",
       "      <td>Snow Park</td>\n",
       "      <td>37.824931</td>\n",
       "      <td>-122.260479</td>\n",
       "      <td>37.807813</td>\n",
       "      <td>-122.264496</td>\n",
       "      <td>12.0</td>\n",
       "    </tr>\n",
       "    <tr>\n",
       "      <th>4</th>\n",
       "      <td>20742017111513002900</td>\n",
       "      <td>2017-11-15T13:00:29Z</td>\n",
       "      <td>Mosswood Park</td>\n",
       "      <td>Snow Park</td>\n",
       "      <td>37.824931</td>\n",
       "      <td>-122.260479</td>\n",
       "      <td>37.807813</td>\n",
       "      <td>-122.264496</td>\n",
       "      <td>12.0</td>\n",
       "    </tr>\n",
       "  </tbody>\n",
       "</table>\n",
       "</div>"
      ],
      "text/plain": [
       "                trip_id            start_date start_station_name  \\\n",
       "0   2512018021317150200  2018-02-13T17:15:02Z       Bushrod Park   \n",
       "1   1822018032712462300  2018-03-27T12:46:23Z      Mosswood Park   \n",
       "2  11202017121808201100  2017-12-18T08:20:11Z      Mosswood Park   \n",
       "3   4042018013111583100  2018-01-31T11:58:31Z      Mosswood Park   \n",
       "4  20742017111513002900  2017-11-15T13:00:29Z      Mosswood Park   \n",
       "\n",
       "  end_station_name  start_station_latitude  start_station_longitude  \\\n",
       "0        Snow Park               37.846516              -122.265304   \n",
       "1        Snow Park               37.824931              -122.260479   \n",
       "2        Snow Park               37.824931              -122.260479   \n",
       "3        Snow Park               37.824931              -122.260479   \n",
       "4        Snow Park               37.824931              -122.260479   \n",
       "\n",
       "   end_station_latitude  end_station_longitude  region_id  \n",
       "0             37.807813            -122.264496       12.0  \n",
       "1             37.807813            -122.264496       12.0  \n",
       "2             37.807813            -122.264496       12.0  \n",
       "3             37.807813            -122.264496       12.0  \n",
       "4             37.807813            -122.264496       12.0  "
      ]
     },
     "execution_count": 26,
     "metadata": {},
     "output_type": "execute_result"
    }
   ],
   "source": [
    "dataset.head()"
   ]
  },
  {
   "cell_type": "markdown",
   "metadata": {},
   "source": [
    "Tampilan data dari **.tail()**"
   ]
  },
  {
   "cell_type": "code",
   "execution_count": 27,
   "metadata": {},
   "outputs": [
    {
     "data": {
      "text/html": [
       "<div>\n",
       "<style scoped>\n",
       "    .dataframe tbody tr th:only-of-type {\n",
       "        vertical-align: middle;\n",
       "    }\n",
       "\n",
       "    .dataframe tbody tr th {\n",
       "        vertical-align: top;\n",
       "    }\n",
       "\n",
       "    .dataframe thead th {\n",
       "        text-align: right;\n",
       "    }\n",
       "</style>\n",
       "<table border=\"1\" class=\"dataframe\">\n",
       "  <thead>\n",
       "    <tr style=\"text-align: right;\">\n",
       "      <th></th>\n",
       "      <th>trip_id</th>\n",
       "      <th>start_date</th>\n",
       "      <th>start_station_name</th>\n",
       "      <th>end_station_name</th>\n",
       "      <th>start_station_latitude</th>\n",
       "      <th>start_station_longitude</th>\n",
       "      <th>end_station_latitude</th>\n",
       "      <th>end_station_longitude</th>\n",
       "      <th>region_id</th>\n",
       "    </tr>\n",
       "  </thead>\n",
       "  <tbody>\n",
       "    <tr>\n",
       "      <th>38351</th>\n",
       "      <td>21982017110908112800</td>\n",
       "      <td>2017-11-09T08:11:28Z</td>\n",
       "      <td>San Antonio Park</td>\n",
       "      <td>Market St at 8th St</td>\n",
       "      <td>37.79014</td>\n",
       "      <td>-122.242373</td>\n",
       "      <td>37.803686</td>\n",
       "      <td>-122.282497</td>\n",
       "      <td>12.0</td>\n",
       "    </tr>\n",
       "    <tr>\n",
       "      <th>38352</th>\n",
       "      <td>34702018011607590800</td>\n",
       "      <td>2018-01-16T07:59:08Z</td>\n",
       "      <td>San Antonio Park</td>\n",
       "      <td>Market St at 8th St</td>\n",
       "      <td>37.79014</td>\n",
       "      <td>-122.242373</td>\n",
       "      <td>37.803686</td>\n",
       "      <td>-122.282497</td>\n",
       "      <td>12.0</td>\n",
       "    </tr>\n",
       "    <tr>\n",
       "      <th>38353</th>\n",
       "      <td>19532017121908115700</td>\n",
       "      <td>2017-12-19T08:11:57Z</td>\n",
       "      <td>San Antonio Park</td>\n",
       "      <td>Market St at 8th St</td>\n",
       "      <td>37.79014</td>\n",
       "      <td>-122.242373</td>\n",
       "      <td>37.803686</td>\n",
       "      <td>-122.282497</td>\n",
       "      <td>12.0</td>\n",
       "    </tr>\n",
       "    <tr>\n",
       "      <th>38354</th>\n",
       "      <td>362017112108043100</td>\n",
       "      <td>2017-11-21T08:04:31Z</td>\n",
       "      <td>San Antonio Park</td>\n",
       "      <td>Market St at 8th St</td>\n",
       "      <td>37.79014</td>\n",
       "      <td>-122.242373</td>\n",
       "      <td>37.803686</td>\n",
       "      <td>-122.282497</td>\n",
       "      <td>12.0</td>\n",
       "    </tr>\n",
       "    <tr>\n",
       "      <th>38355</th>\n",
       "      <td>17892017111707171900</td>\n",
       "      <td>2017-11-17T07:17:19Z</td>\n",
       "      <td>San Antonio Park</td>\n",
       "      <td>Market St at 8th St</td>\n",
       "      <td>37.79014</td>\n",
       "      <td>-122.242373</td>\n",
       "      <td>37.803686</td>\n",
       "      <td>-122.282497</td>\n",
       "      <td>12.0</td>\n",
       "    </tr>\n",
       "  </tbody>\n",
       "</table>\n",
       "</div>"
      ],
      "text/plain": [
       "                    trip_id            start_date start_station_name  \\\n",
       "38351  21982017110908112800  2017-11-09T08:11:28Z   San Antonio Park   \n",
       "38352  34702018011607590800  2018-01-16T07:59:08Z   San Antonio Park   \n",
       "38353  19532017121908115700  2017-12-19T08:11:57Z   San Antonio Park   \n",
       "38354    362017112108043100  2017-11-21T08:04:31Z   San Antonio Park   \n",
       "38355  17892017111707171900  2017-11-17T07:17:19Z   San Antonio Park   \n",
       "\n",
       "          end_station_name  start_station_latitude  start_station_longitude  \\\n",
       "38351  Market St at 8th St                37.79014              -122.242373   \n",
       "38352  Market St at 8th St                37.79014              -122.242373   \n",
       "38353  Market St at 8th St                37.79014              -122.242373   \n",
       "38354  Market St at 8th St                37.79014              -122.242373   \n",
       "38355  Market St at 8th St                37.79014              -122.242373   \n",
       "\n",
       "       end_station_latitude  end_station_longitude  region_id  \n",
       "38351             37.803686            -122.282497       12.0  \n",
       "38352             37.803686            -122.282497       12.0  \n",
       "38353             37.803686            -122.282497       12.0  \n",
       "38354             37.803686            -122.282497       12.0  \n",
       "38355             37.803686            -122.282497       12.0  "
      ]
     },
     "execution_count": 27,
     "metadata": {},
     "output_type": "execute_result"
    }
   ],
   "source": [
    "dataset.tail()"
   ]
  },
  {
   "cell_type": "markdown",
   "metadata": {},
   "source": [
    "### Role Problems 1"
   ]
  },
  {
   "cell_type": "markdown",
   "metadata": {},
   "source": [
    " mencari stasiun awal mana yang paling favorit di antara stasiun-stasiun lainnya dengan menghitung **PageRank** menggunakan *Eigendecomposition*."
   ]
  },
  {
   "cell_type": "markdown",
   "metadata": {},
   "source": [
    "#### Solusi Koding"
   ]
  },
  {
   "cell_type": "markdown",
   "metadata": {},
   "source": [
    "- langkah 1 hingga 9 merupakan process ***Data Preprocessing***"
   ]
  },
  {
   "cell_type": "markdown",
   "metadata": {},
   "source": [
    "1. variable `start_stations` dan `end_stations` yang masing-masing berisikan list nama stasiun awal dan stasiun akhir.\n",
    " Pastikan tidak ada nama stasiun yang duplikat di masing-masing variable."
   ]
  },
  {
   "cell_type": "code",
   "execution_count": 28,
   "metadata": {},
   "outputs": [
    {
     "data": {
      "text/plain": [
       "282"
      ]
     },
     "execution_count": 28,
     "metadata": {},
     "output_type": "execute_result"
    }
   ],
   "source": [
    "# using group by to make unique value out of each data set query\n",
    "# end_stations = list(dataset.groupby(['end_station_name']).groups.keys())\n",
    "# start_stations = list(dataset.groupby(['start_station_name']).groups.keys())\n",
    "\n",
    "# using drop_duplicates to make unique value out of each data set query\n",
    "end_stations = dataset['end_station_name'].drop_duplicates()\n",
    "start_stations = dataset['start_station_name'].drop_duplicates()\n",
    "len(start_stations)"
   ]
  },
  {
   "cell_type": "markdown",
   "metadata": {},
   "source": [
    "2. Deteksi stasiun-stasiun yang hanya terdapat di salah satu variable dan tidak di keduanya (exclusive-or/xor) menggunakan `np.setxor1d(array1,array2)`. Outputnya akan berupa numpy array dan masukkan output tersebut ke dalam variable bernama `exclusive_stations`"
   ]
  },
  {
   "cell_type": "code",
   "execution_count": 29,
   "metadata": {},
   "outputs": [],
   "source": [
    "# exclusive_station  \n",
    "exclusive_stations = np.setxor1d(start_stations,end_stations)"
   ]
  },
  {
   "cell_type": "markdown",
   "metadata": {},
   "source": [
    "3. Buat dataframe yang berisikan cross-tabulation antara `start_stations` dan `end_stations` menggunakan `pd.crosstab(pd.Series1,pd.Series2)`"
   ]
  },
  {
   "cell_type": "code",
   "execution_count": 30,
   "metadata": {},
   "outputs": [
    {
     "data": {
      "text/html": [
       "<div>\n",
       "<style scoped>\n",
       "    .dataframe tbody tr th:only-of-type {\n",
       "        vertical-align: middle;\n",
       "    }\n",
       "\n",
       "    .dataframe tbody tr th {\n",
       "        vertical-align: top;\n",
       "    }\n",
       "\n",
       "    .dataframe thead th {\n",
       "        text-align: right;\n",
       "    }\n",
       "</style>\n",
       "<table border=\"1\" class=\"dataframe\">\n",
       "  <thead>\n",
       "    <tr style=\"text-align: right;\">\n",
       "      <th>end_station_name</th>\n",
       "      <th>Cahill Park</th>\n",
       "      <th>Duboce Park</th>\n",
       "      <th>Mosswood Park</th>\n",
       "      <th>Precita Park</th>\n",
       "      <th>SAP Center</th>\n",
       "      <th>Snow Park</th>\n",
       "    </tr>\n",
       "    <tr>\n",
       "      <th>start_station_name</th>\n",
       "      <th></th>\n",
       "      <th></th>\n",
       "      <th></th>\n",
       "      <th></th>\n",
       "      <th></th>\n",
       "      <th></th>\n",
       "    </tr>\n",
       "  </thead>\n",
       "  <tbody>\n",
       "    <tr>\n",
       "      <th>Bushrod Park</th>\n",
       "      <td>0</td>\n",
       "      <td>0</td>\n",
       "      <td>0</td>\n",
       "      <td>0</td>\n",
       "      <td>0</td>\n",
       "      <td>1</td>\n",
       "    </tr>\n",
       "    <tr>\n",
       "      <th>Cahill Park</th>\n",
       "      <td>0</td>\n",
       "      <td>0</td>\n",
       "      <td>0</td>\n",
       "      <td>0</td>\n",
       "      <td>1</td>\n",
       "      <td>0</td>\n",
       "    </tr>\n",
       "    <tr>\n",
       "      <th>Duboce Park</th>\n",
       "      <td>0</td>\n",
       "      <td>0</td>\n",
       "      <td>0</td>\n",
       "      <td>1</td>\n",
       "      <td>0</td>\n",
       "      <td>0</td>\n",
       "    </tr>\n",
       "    <tr>\n",
       "      <th>Precita Park</th>\n",
       "      <td>0</td>\n",
       "      <td>1</td>\n",
       "      <td>0</td>\n",
       "      <td>0</td>\n",
       "      <td>0</td>\n",
       "      <td>0</td>\n",
       "    </tr>\n",
       "    <tr>\n",
       "      <th>SAP Center</th>\n",
       "      <td>1</td>\n",
       "      <td>0</td>\n",
       "      <td>0</td>\n",
       "      <td>0</td>\n",
       "      <td>0</td>\n",
       "      <td>0</td>\n",
       "    </tr>\n",
       "    <tr>\n",
       "      <th>Snow Park</th>\n",
       "      <td>0</td>\n",
       "      <td>0</td>\n",
       "      <td>1</td>\n",
       "      <td>0</td>\n",
       "      <td>0</td>\n",
       "      <td>0</td>\n",
       "    </tr>\n",
       "  </tbody>\n",
       "</table>\n",
       "</div>"
      ],
      "text/plain": [
       "end_station_name    Cahill Park  Duboce Park  Mosswood Park  Precita Park  \\\n",
       "start_station_name                                                          \n",
       "Bushrod Park                  0            0              0             0   \n",
       "Cahill Park                   0            0              0             0   \n",
       "Duboce Park                   0            0              0             1   \n",
       "Precita Park                  0            1              0             0   \n",
       "SAP Center                    1            0              0             0   \n",
       "Snow Park                     0            0              1             0   \n",
       "\n",
       "end_station_name    SAP Center  Snow Park  \n",
       "start_station_name                         \n",
       "Bushrod Park                 0          1  \n",
       "Cahill Park                  1          0  \n",
       "Duboce Park                  0          0  \n",
       "Precita Park                 0          0  \n",
       "SAP Center                   0          0  \n",
       "Snow Park                    0          0  "
      ]
     },
     "execution_count": 30,
     "metadata": {},
     "output_type": "execute_result"
    }
   ],
   "source": [
    "# start_station dan end_station dirubah menjadi data series dengan pd.Series() dahulu\n",
    "df_matrix = pd.crosstab(pd.Series(start_stations),pd.Series(end_stations))\n",
    "df_matrix"
   ]
  },
  {
   "cell_type": "markdown",
   "metadata": {},
   "source": [
    "dalam `df_matrix` **index** dan **kolom** tidak sama, sehingga tidak dapat menghitung koneksi antar **station** "
   ]
  },
  {
   "cell_type": "markdown",
   "metadata": {},
   "source": [
    "4. Backup Data original `dataset` pada variable `df_copy`"
   ]
  },
  {
   "cell_type": "code",
   "execution_count": 31,
   "metadata": {},
   "outputs": [],
   "source": [
    "df_copy = dataset.copy()"
   ]
  },
  {
   "cell_type": "markdown",
   "metadata": {},
   "source": [
    "5. dari `df_copy` cari data `start_station_name` dan `end_station_name` yang termasuk dalam list `exclusive_stations`."
   ]
  },
  {
   "cell_type": "code",
   "execution_count": 32,
   "metadata": {},
   "outputs": [
    {
     "data": {
      "text/plain": [
       "(54,)"
      ]
     },
     "execution_count": 32,
     "metadata": {},
     "output_type": "execute_result"
    }
   ],
   "source": [
    "# menggunakan df.query()\n",
    "# df_copy = df_copy.query(\"start_station_name not in @exclusive_stations and \\\n",
    "#     end_station_name not in @exclusive_stations\")\n",
    "\n",
    "# filter menggunakan query .isin()\n",
    "df_copy = df_copy[(~df_copy['start_station_name'].isin(exclusive_stations)) & \n",
    "        (~df_copy['end_station_name'].isin(exclusive_stations))]\n",
    "    \n",
    "df_copy['start_station_name'].unique().shape"
   ]
  },
  {
   "cell_type": "markdown",
   "metadata": {},
   "source": [
    "6. `df_copy` yang sudah difilter jadikan *crosstabulation* menggunakan `pd.crosstab(pd.Series1,pd.Series2)`,dan pastikan matrix berbentuk square matrix"
   ]
  },
  {
   "cell_type": "code",
   "execution_count": 33,
   "metadata": {},
   "outputs": [
    {
     "data": {
      "text/plain": [
       "(54, 54)"
      ]
     },
     "execution_count": 33,
     "metadata": {},
     "output_type": "execute_result"
    }
   ],
   "source": [
    "df_matrix_square = pd.crosstab(df_copy['start_station_name'],df_copy['end_station_name'])\n",
    "df_matrix_square.shape # check jika sudah menjadi Square Matrix\n",
    "\n",
    "# adanya latency untuk gagal mencapai square matrix\n",
    "df_matrix_square.shape"
   ]
  },
  {
   "cell_type": "markdown",
   "metadata": {},
   "source": [
    "pada shape `df_matrix_square` sudah berupa **square matrix**, dan **index** dan **kolom** sudah sama, sehingga dapat digunakan untuk **Pembobotan Nilai**"
   ]
  },
  {
   "cell_type": "markdown",
   "metadata": {},
   "source": [
    "7. Jumlahkan nilai kolom masing-masing rows pada `df_matrix_square` menggunakan method `sum(axis=1)` dan simpan ke dalam variable bernama `total_trips`."
   ]
  },
  {
   "cell_type": "code",
   "execution_count": 34,
   "metadata": {},
   "outputs": [
    {
     "data": {
      "text/plain": [
       "start_station_name\n",
       "12th St at 4th Ave      34\n",
       "12th St at 6th Ave       6\n",
       "18th St at Noe St       90\n",
       "1st St at Folsom St    167\n",
       "2nd St at Folsom St    230\n",
       "dtype: int64"
      ]
     },
     "execution_count": 34,
     "metadata": {},
     "output_type": "execute_result"
    }
   ],
   "source": [
    "total_trips = df_matrix_square.sum(axis=1) # axis = 1 untuk menjumlah setiap column\n",
    "total_trips.head()"
   ]
  },
  {
   "cell_type": "markdown",
   "metadata": {},
   "source": [
    "8. Cari nilai **Pembobotan** pada setiap banyak koneksi start-end bike station dengan `total_trips`. Masukkan hasilnya ke variable `weighted_matrix_df`."
   ]
  },
  {
   "cell_type": "code",
   "execution_count": 35,
   "metadata": {},
   "outputs": [],
   "source": [
    "# cari hasil terhadap row\n",
    "weighted_matrix_df = df_matrix_square.div(total_trips,axis='rows')"
   ]
  },
  {
   "cell_type": "markdown",
   "metadata": {},
   "source": [
    "9. Konversikan `weighted_matrix_df` ke numpy array"
   ]
  },
  {
   "cell_type": "code",
   "execution_count": 36,
   "metadata": {},
   "outputs": [
    {
     "data": {
      "text/plain": [
       "(54, 54)"
      ]
     },
     "execution_count": 36,
     "metadata": {},
     "output_type": "execute_result"
    }
   ],
   "source": [
    "weighted_matrix_df = np.array(weighted_matrix_df)\n",
    "weighted_matrix_df.shape"
   ]
  },
  {
   "cell_type": "markdown",
   "metadata": {},
   "source": [
    "- Dari sini ***Data Process*** telah berakhir dan akan dilakukan penerapan ***Eigendecomposition*** pada langkah selanjutnya"
   ]
  },
  {
   "cell_type": "markdown",
   "metadata": {},
   "source": [
    "10. Hitung ***eigen value*** dan ***eigen vector*** menggunakan library `numpy`."
   ]
  },
  {
   "cell_type": "code",
   "execution_count": 37,
   "metadata": {},
   "outputs": [],
   "source": [
    "# simpan eigen value dan eigen vector pada variable\n",
    "e_value,e_vector = np.linalg.eig(weighted_matrix_df)\n"
   ]
  },
  {
   "cell_type": "markdown",
   "metadata": {},
   "source": [
    "hasil **eigen vector** tersimpan pada variable `e_vector` sedangkan **eigen value** pada `e_value`"
   ]
  },
  {
   "cell_type": "code",
   "execution_count": 38,
   "metadata": {},
   "outputs": [
    {
     "name": "stdout",
     "output_type": "stream",
     "text": [
      "Nilai Eigenvalue tertinggi : index 7 , value : 1.0000000000000018\n"
     ]
    }
   ],
   "source": [
    "# cari index eigenvalue tertinggi \n",
    "idx_max_value = np.argmax(e_value)\n",
    "print(f\"Nilai Eigenvalue tertinggi : index {idx_max_value} , value : {e_value[idx_max_value].real}\")\n"
   ]
  },
  {
   "cell_type": "markdown",
   "metadata": {},
   "source": [
    "Diperoleh Nilai Eigenvalue tertinggi pada **index 7**, dan **nilainya adalah  1.0000000000000018**"
   ]
  },
  {
   "cell_type": "markdown",
   "metadata": {},
   "source": [
    "11. Score ***PageRank*** terdapat pada **eigen vector** yang mamiliki **eigen value** paling tinggi. Simpan eigen vector tersebut ke dalam variable bernama `PR_Scores`."
   ]
  },
  {
   "cell_type": "code",
   "execution_count": 39,
   "metadata": {},
   "outputs": [
    {
     "data": {
      "text/plain": [
       "array([8.25691981e-02, 6.75584122e-03, 9.28436532e-02, 9.28436532e-02,\n",
       "       3.04858049e-02, 3.04858049e-02, 1.00066327e-01, 2.23606798e-01,\n",
       "       1.15808293e-01, 3.76020355e-03, 1.92895647e-16, 2.83556036e-16,\n",
       "       2.46896981e-16, 1.98927311e-15, 1.88878113e-16, 1.88878113e-16,\n",
       "       8.89375203e-02, 4.77948580e-16, 2.00708590e-01, 2.00708590e-01,\n",
       "       1.24291932e-01, 1.24291932e-01, 2.74433362e-15, 5.49779796e-17,\n",
       "       2.49299890e-15, 1.37199903e-01, 1.37199903e-01, 3.68305279e-01,\n",
       "       1.23785951e-15, 1.23785951e-15, 9.86535739e-16, 9.86535739e-16,\n",
       "       1.54445379e-16, 1.54445379e-16, 2.46510912e-15, 1.79013140e-14,\n",
       "       3.82715748e-02, 2.77949318e-01, 2.77949318e-01, 6.09698983e-16,\n",
       "       6.09698983e-16, 4.34237628e-01, 8.18143020e-15, 9.03604233e-16,\n",
       "       7.49852620e-16, 7.49852620e-16, 2.79981669e-17, 1.42989451e-16,\n",
       "       2.74885468e-18, 3.20413722e-15, 5.67403749e-16, 9.51526028e-15,\n",
       "       4.57508853e-15, 1.63917119e-14])"
      ]
     },
     "execution_count": 39,
     "metadata": {},
     "output_type": "execute_result"
    }
   ],
   "source": [
    "PR_Scores = np.abs(e_vector[idx_max_value])\n",
    "PR_Scores"
   ]
  },
  {
   "cell_type": "markdown",
   "metadata": {},
   "source": [
    "12. Buat dataframe baru bernama PageRank_df dengan kolom `start_station` yang berisikan value variable `start_stations` dan kolom   `score` yang berisikan value variable `PR_Scores`"
   ]
  },
  {
   "cell_type": "code",
   "execution_count": 40,
   "metadata": {},
   "outputs": [],
   "source": [
    "# dictionary untuk membuat dataframe dan column\n",
    "dicts_score = {\"start_station\": list(df_matrix_square.index),\"score\":list(PR_Scores.real)}\n",
    "\n",
    "PageRank_df = pd.DataFrame(data=dicts_score)\n"
   ]
  },
  {
   "cell_type": "markdown",
   "metadata": {},
   "source": [
    "13. Tampilkan **head** dari dataframe `PageRank_df`!"
   ]
  },
  {
   "cell_type": "code",
   "execution_count": 41,
   "metadata": {},
   "outputs": [
    {
     "data": {
      "text/html": [
       "<div>\n",
       "<style scoped>\n",
       "    .dataframe tbody tr th:only-of-type {\n",
       "        vertical-align: middle;\n",
       "    }\n",
       "\n",
       "    .dataframe tbody tr th {\n",
       "        vertical-align: top;\n",
       "    }\n",
       "\n",
       "    .dataframe thead th {\n",
       "        text-align: right;\n",
       "    }\n",
       "</style>\n",
       "<table border=\"1\" class=\"dataframe\">\n",
       "  <thead>\n",
       "    <tr style=\"text-align: right;\">\n",
       "      <th></th>\n",
       "      <th>start_station</th>\n",
       "      <th>score</th>\n",
       "    </tr>\n",
       "  </thead>\n",
       "  <tbody>\n",
       "    <tr>\n",
       "      <th>0</th>\n",
       "      <td>12th St at 4th Ave</td>\n",
       "      <td>0.082569</td>\n",
       "    </tr>\n",
       "    <tr>\n",
       "      <th>1</th>\n",
       "      <td>12th St at 6th Ave</td>\n",
       "      <td>0.006756</td>\n",
       "    </tr>\n",
       "    <tr>\n",
       "      <th>2</th>\n",
       "      <td>18th St at Noe St</td>\n",
       "      <td>0.092844</td>\n",
       "    </tr>\n",
       "    <tr>\n",
       "      <th>3</th>\n",
       "      <td>1st St at Folsom St</td>\n",
       "      <td>0.092844</td>\n",
       "    </tr>\n",
       "    <tr>\n",
       "      <th>4</th>\n",
       "      <td>2nd St at Folsom St</td>\n",
       "      <td>0.030486</td>\n",
       "    </tr>\n",
       "  </tbody>\n",
       "</table>\n",
       "</div>"
      ],
      "text/plain": [
       "         start_station     score\n",
       "0   12th St at 4th Ave  0.082569\n",
       "1   12th St at 6th Ave  0.006756\n",
       "2    18th St at Noe St  0.092844\n",
       "3  1st St at Folsom St  0.092844\n",
       "4  2nd St at Folsom St  0.030486"
      ]
     },
     "execution_count": 41,
     "metadata": {},
     "output_type": "execute_result"
    }
   ],
   "source": [
    "PageRank_df.head()\n",
    "\n"
   ]
  },
  {
   "cell_type": "markdown",
   "metadata": {},
   "source": [
    "#### Pertanyaan Konseptual\n",
    "\n",
    "1. Mengapa dalam kasus ini kita menerapkan konsep Eigendecomposition? \n",
    "    - jawab : karena dalam masalah ini kita mencari kualitas hubungan dan pengaruh pada setiap setasiun bikeshare. dan mencari dari antara stasiun yang berhubungan mana yang paling berpengaruh. pada kasus ini `start_station` dan `end_station` saling berhimpunan dan membentuk irisan antara kedua list, banyak hubungan dari irisan tersebut dapat dibuat sebuah ***Adjacency Matrix*** yang nantinya dapat dilakukan perhitungan eigen decomposition yang menghasilkan ***eigenvector*** dan ***eigenvalue***, dan dapat dicari mana station yang paling berpengaruh dengan menganalisa nilai ***eigenvector*** dan ***eigenvalue***\n",
    "\n",
    "\n",
    "2. Dari pengamatanmu, mengapa pada akhirnya kita menggunakan dataframe `df_matrix_square` dibandingkan `df_matrix` untuk dilakukan proses Eigendecomposition?<br>\n",
    "    - jawab: Dikarenakan pada `df_matrix` memiliki ***cross-tabulation*** dimana belum memisahkan `start_station` dan `end_station` yang saling berhubungan dengan yang tidak berhubungan,sedang `df_matrix_square` telah dipilih mana station yang saling berhubungan dengan membandingkan mana yang tak termasuk dalam `exclusive_station` sehingga  terdapat himpunan irisan di dalam `df_matrix_square` antara  `start_station` dan `end_station` yang saling berhubungan\n",
    "\n",
    "3.  Jika dilihat dari PageRanknya dimana nilai PageRank paling besar merupakan stasiun yang paling favorit.<br>\n",
    "    - jawab : skor terbesar ada pada stasiun **Market St at 8th St** dengan skor :\t**0.434238**<br>\n",
    "    - fakta singkat : Market street adalah salah satu jalan raya pusat kota yang dikelilingi oleh Theater district, pusat berjualan ,China Town Tertua di Amerika Utara,alun-alun UNION SQUARE.<br>\n",
    " \n",
    "    ![station of bikeshare](image\\bikeshare_station.jpg)\n",
    "    <br> gambar bikeshare station pada **Market St at 8th St**<br>\n",
    "    \n",
    "      ![road condition](image\\keadaan_jalan.jpg)\n",
    "    <br> keadaan jalan **Market St at 8th St** di dominasi dengan kendaraan umum ,pesepeda dan pejalan kaki. Juga tersedia fasilitas jalur sepeda"
   ]
  },
  {
   "cell_type": "code",
   "execution_count": 42,
   "metadata": {},
   "outputs": [
    {
     "data": {
      "text/html": [
       "<div>\n",
       "<style scoped>\n",
       "    .dataframe tbody tr th:only-of-type {\n",
       "        vertical-align: middle;\n",
       "    }\n",
       "\n",
       "    .dataframe tbody tr th {\n",
       "        vertical-align: top;\n",
       "    }\n",
       "\n",
       "    .dataframe thead th {\n",
       "        text-align: right;\n",
       "    }\n",
       "</style>\n",
       "<table border=\"1\" class=\"dataframe\">\n",
       "  <thead>\n",
       "    <tr style=\"text-align: right;\">\n",
       "      <th></th>\n",
       "      <th>start_station</th>\n",
       "      <th>score</th>\n",
       "    </tr>\n",
       "  </thead>\n",
       "  <tbody>\n",
       "    <tr>\n",
       "      <th>41</th>\n",
       "      <td>Market St at 8th St</td>\n",
       "      <td>0.434238</td>\n",
       "    </tr>\n",
       "    <tr>\n",
       "      <th>27</th>\n",
       "      <td>Esprit Park</td>\n",
       "      <td>0.368305</td>\n",
       "    </tr>\n",
       "    <tr>\n",
       "      <th>38</th>\n",
       "      <td>Jackson Playground</td>\n",
       "      <td>0.277949</td>\n",
       "    </tr>\n",
       "    <tr>\n",
       "      <th>37</th>\n",
       "      <td>Jack London Square</td>\n",
       "      <td>0.277949</td>\n",
       "    </tr>\n",
       "    <tr>\n",
       "      <th>7</th>\n",
       "      <td>45th St at Manila</td>\n",
       "      <td>0.223607</td>\n",
       "    </tr>\n",
       "  </tbody>\n",
       "</table>\n",
       "</div>"
      ],
      "text/plain": [
       "          start_station     score\n",
       "41  Market St at 8th St  0.434238\n",
       "27          Esprit Park  0.368305\n",
       "38   Jackson Playground  0.277949\n",
       "37   Jack London Square  0.277949\n",
       "7     45th St at Manila  0.223607"
      ]
     },
     "execution_count": 42,
     "metadata": {},
     "output_type": "execute_result"
    }
   ],
   "source": [
    "PageRank_df.sort_values('score',ascending=False).head()"
   ]
  },
  {
   "cell_type": "markdown",
   "metadata": {},
   "source": []
  },
  {
   "cell_type": "markdown",
   "metadata": {},
   "source": [
    "### Role Problem 2\n",
    "menggunakan integral, hitung luas area lingkup stasiun"
   ]
  },
  {
   "cell_type": "markdown",
   "metadata": {},
   "source": [
    "#### Solusi Koding"
   ]
  },
  {
   "cell_type": "markdown",
   "metadata": {},
   "source": [
    "- pada langkah satu merupakan **data processing**\n",
    "1. Buat variable baru bernama `df_coor_stations` yang berisikan data yang sudah di-load dimana kolom `region_id = 3`. Pastikan tidak ada data yang duplikat dan hanya menyertakan kolom `start_station_name`,`start_station_latitude`, dan `start_station_longitude`. Urutkan pula dataframe tersebut berdasarkan `start_station_longitude` dari nilai terkecil hingga terbesar."
   ]
  },
  {
   "cell_type": "code",
   "execution_count": 43,
   "metadata": {},
   "outputs": [
    {
     "data": {
      "text/html": [
       "<div>\n",
       "<style scoped>\n",
       "    .dataframe tbody tr th:only-of-type {\n",
       "        vertical-align: middle;\n",
       "    }\n",
       "\n",
       "    .dataframe tbody tr th {\n",
       "        vertical-align: top;\n",
       "    }\n",
       "\n",
       "    .dataframe thead th {\n",
       "        text-align: right;\n",
       "    }\n",
       "</style>\n",
       "<table border=\"1\" class=\"dataframe\">\n",
       "  <thead>\n",
       "    <tr style=\"text-align: right;\">\n",
       "      <th></th>\n",
       "      <th>start_station_name</th>\n",
       "      <th>start_station_longitude</th>\n",
       "      <th>start_station_latitude</th>\n",
       "    </tr>\n",
       "  </thead>\n",
       "  <tbody>\n",
       "    <tr>\n",
       "      <th>0</th>\n",
       "      <td>McAllister St at Baker St</td>\n",
       "      <td>-122.441838</td>\n",
       "      <td>37.777416</td>\n",
       "    </tr>\n",
       "    <tr>\n",
       "      <th>1</th>\n",
       "      <td>O'Farrell St at Divisadero St</td>\n",
       "      <td>-122.439446</td>\n",
       "      <td>37.782405</td>\n",
       "    </tr>\n",
       "    <tr>\n",
       "      <th>2</th>\n",
       "      <td>Broderick St at Oak St</td>\n",
       "      <td>-122.439078</td>\n",
       "      <td>37.773063</td>\n",
       "    </tr>\n",
       "    <tr>\n",
       "      <th>3</th>\n",
       "      <td>Grove St at Divisadero</td>\n",
       "      <td>-122.437777</td>\n",
       "      <td>37.775946</td>\n",
       "    </tr>\n",
       "    <tr>\n",
       "      <th>4</th>\n",
       "      <td>Eureka Valley Recreation Center</td>\n",
       "      <td>-122.436943</td>\n",
       "      <td>37.759177</td>\n",
       "    </tr>\n",
       "  </tbody>\n",
       "</table>\n",
       "</div>"
      ],
      "text/plain": [
       "                start_station_name  start_station_longitude  \\\n",
       "0        McAllister St at Baker St              -122.441838   \n",
       "1    O'Farrell St at Divisadero St              -122.439446   \n",
       "2           Broderick St at Oak St              -122.439078   \n",
       "3           Grove St at Divisadero              -122.437777   \n",
       "4  Eureka Valley Recreation Center              -122.436943   \n",
       "\n",
       "   start_station_latitude  \n",
       "0               37.777416  \n",
       "1               37.782405  \n",
       "2               37.773063  \n",
       "3               37.775946  \n",
       "4               37.759177  "
      ]
     },
     "execution_count": 43,
     "metadata": {},
     "output_type": "execute_result"
    }
   ],
   "source": [
    "df_coor_stations = dataset.query(\"region_id == 3\")\n",
    "df_coor_stations = df_coor_stations[(['start_station_name','start_station_longitude','start_station_latitude'])].drop_duplicates().sort_values('start_station_longitude').reset_index(drop=True)\n",
    "df_coor_stations.head()\n"
   ]
  },
  {
   "cell_type": "markdown",
   "metadata": {},
   "source": [
    "2. Plot grafik area stasiun-stasiun di San Fransisco"
   ]
  },
  {
   "cell_type": "code",
   "execution_count": 44,
   "metadata": {},
   "outputs": [
    {
     "data": {
      "text/plain": [
       "<AxesSubplot:xlabel='start_station_longitude'>"
      ]
     },
     "execution_count": 44,
     "metadata": {},
     "output_type": "execute_result"
    },
    {
     "data": {
      "image/png": "[encoded data removed]",
      "text/plain": [
       "<Figure size 1440x576 with 1 Axes>"
      ]
     },
     "metadata": {
      "needs_background": "light"
     },
     "output_type": "display_data"
    }
   ],
   "source": [
    "# masukan setiap koordinat dalam variable x,y\n",
    "x = 'start_station_longitude'\n",
    "y = 'start_station_latitude'\n",
    "\n",
    "# plot(x='nama kolom untuk sumbu x',y='nama kolom untuk sumbu y',figsize=(20,8))\n",
    "df_coor_stations.plot(x=x,y=y,figsize=(20,8))\n",
    "\n"
   ]
  },
  {
   "cell_type": "code",
   "execution_count": 45,
   "metadata": {},
   "outputs": [
    {
     "name": "stdout",
     "output_type": "stream",
     "text": [
      " luas area yang dilingkup stasiun awal = \n"
     ]
    },
    {
     "data": {
      "text/latex": [
       "$\\displaystyle 2.02993900961816 deg^{2}$"
      ],
      "text/plain": [
       "2.02993900961816*deg**2"
      ]
     },
     "execution_count": 45,
     "metadata": {},
     "output_type": "execute_result"
    }
   ],
   "source": [
    "# mendefinisikan simbol untuk penjelasan hasil dalam unit square degree\n",
    "deg = sy.Symbol('deg');\n",
    "# penghitungan luas dengan integral menggunakan trapz\n",
    "area = trapz(df_coor_stations[y],df_coor_stations[x]) * deg ** 2\n",
    "print(' luas area yang dilingkup stasiun awal = ')\n",
    "area\n",
    "\n"
   ]
  },
  {
   "cell_type": "markdown",
   "metadata": {},
   "source": [
    "#### Pertanyaan Konseptual\n"
   ]
  },
  {
   "cell_type": "markdown",
   "metadata": {},
   "source": [
    "1. Terdapat 2 jenis integral yaitu definite dan indefinite. Jenis integral apa yang kamu gunakan untuk kasus ini? Berikan alasanmu! \n",
    "    - jawab : disini baiknya menggunakan **difinite integral**, karena angka sumbu 'x' telah diketahui dari batas atas hingga batas bawah.\n",
    "2.  Terdapat dua metode dalam perhitungan integral yaitu simbolik dan numerik. Mana yang kamu gunakan untuk kasus ini dan mengapa?\n",
    "    - jawab : disini saya menggunakan metode **numerik** , karena dalam datanya sudah diketahui nilai yang fungsi nya, dimana nilai 'x' adalah `start_station_longitude` dan nilai 'y' `adalah start_station_latitude`\n",
    "3. Apakah diperlukan mendefinisikan fungsi matematis ( seperti f(x) = x^2+2 ) pada kasus ini? Berikan penjelasan dan alasanmu!\n",
    "    - jawab: **tidak perlu**, karena tidak perlu mencari persamaan rumus fungsi, dan juga didalam library `scypy` sudah memiliki  "
   ]
  },
  {
   "cell_type": "markdown",
   "metadata": {},
   "source": [
    "## Daftar Pustaka\n",
    "\n",
    "- Semua jawaban untuk pertanyaan konseptual pada Problem 1 terinspirasi dari sebuah 2 hari pembelajaran yang ber sumber dari :\n",
    "    1. tabel probabilitas menjadi matrix adjacency, https://www.javatpoint.com/what-is-an-adjacency-matrix \n",
    "    2. memahami Bipartite Graph dalam bentuk node, https://en.wikipedia.org/wiki/Bipartite_graph\n",
    "    3. pemahaman cara merubah Bipartite Graph menjadi adjacency matrix, https://www.youtube.com/watch?v=9C2cpQZVRBA\n",
    "    4. Penjelasan Bagaimana PageRank menggunakan eigendecomposition, https://www.dhruvonmath.com/2019/03/20/pagerank/\n",
    "    5. penjelasan akan mengapa eigendecomposition digunakan pada pagerank atau algorithm lain yang menghitung qualitas hubungan dan pengaruhnya https://vitalflux.com/why-when-use-eigenvalue-eigenvector/\n",
    "    6. insight setasiun terfavorit https://en.wikipedia.org/wiki/Market_Street_(San_Francisco)\n",
    "    7. gambar setasiun terfavorit ,[Google_Maps](https://www.google.com/maps/place/Market+St+%26+8th+St,+San+Francisco,+CA+94102,+Amerika+Serikat/@37.7679719,-122.4306456,13.68z/data=!4m5!3m4!1s0x8085809b64f3768f:0x4dae635dd9a6a619!8m2!3d37.7787183!4d-122.4147847?hl=id)\n",
    "   "
   ]
  },
  {
   "cell_type": "markdown",
   "metadata": {},
   "source": []
  }
 ],
 "metadata": {
  "kernelspec": {
   "display_name": "Python 3.9.12 ('base')",
   "language": "python",
   "name": "python3"
  },
  "language_info": {
   "codemirror_mode": {
    "name": "ipython",
    "version": 3
   },
   "file_extension": ".py",
   "mimetype": "text/x-python",
   "name": "python",
   "nbconvert_exporter": "python",
   "pygments_lexer": "ipython3",
   "version": "3.9.12"
  },
  "orig_nbformat": 4,
  "vscode": {
   "interpreter": {
    "hash": "3c49ca66e5c8d57ef998acbc4445fda8afa39543d611cccca4a6c099a23fcb0b"
   }
  }
 },
 "nbformat": 4,
 "nbformat_minor": 2
}
