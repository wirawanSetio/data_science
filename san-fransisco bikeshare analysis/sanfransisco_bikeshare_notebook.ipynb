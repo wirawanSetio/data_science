{
 "cells": [
  {
   "cell_type": "markdown",
   "metadata": {},
   "source": [
    "# Graded Challenge 3\n",
    "Wirawan Setio Aji<br>\n",
    "FTDS 014"
   ]
  },
  {
   "cell_type": "markdown",
   "metadata": {},
   "source": [
    "## Graded Challenge Overview"
   ]
  },
  {
   "cell_type": "markdown",
   "metadata": {},
   "source": [
    "At this graded challenge we have **9 step** to folow, use  **descriptive statistics** and **inferential statistics** approach to analize the data.\n",
    "after analyze the data make sure to answer the all **5 Conceptual Questions !**"
   ]
  },
  {
   "cell_type": "markdown",
   "metadata": {},
   "source": [
    "## Background"
   ]
  },
  {
   "cell_type": "markdown",
   "metadata": {},
   "source": [
    "I'm a data scientist team member at Austin Smart City have some task to analyze Waste Disposal and waste processing System. as a data scientist team member, I need to use **descriptive statistics** and **inferential statistics** approach to analyze the data."
   ]
  },
  {
   "cell_type": "markdown",
   "metadata": {},
   "source": [
    "## Objective\n"
   ]
  },
  {
   "cell_type": "markdown",
   "metadata": {},
   "source": [
    "**give an insight** to Austin city's goverment to understand deeper about waste disposal and processing system condition."
   ]
  },
  {
   "cell_type": "markdown",
   "metadata": {},
   "source": [
    "## Conceptual Questions"
   ]
  },
  {
   "cell_type": "markdown",
   "metadata": {},
   "source": [
    "1. Apa perbedaan statistik deskriptif dan inferensial?\n",
    "2. Metrik pada central tendency apa yang tepat digunakan untuk menyimpulkan data yang terdistribusi normal dan tidak? Apakah sama atau berbeda?\n",
    "3. Teknik apa yang kamu pilih untuk handling outlier? jelaskan alasannya!\n",
    "4. Apa konsep dibalik central tendency sehingga kita dapat menggunakannya untuk menyelesaikan langkah pada nomor 7?\n",
    "5. Jelaskan jenis uji hipotesis apa yang kamu terapkan dan mengapa?"
   ]
  },
  {
   "cell_type": "markdown",
   "metadata": {},
   "source": [
    "## My Works"
   ]
  },
  {
   "cell_type": "markdown",
   "metadata": {},
   "source": [
    "### Import Libraries"
   ]
  },
  {
   "cell_type": "code",
   "execution_count": 25,
   "metadata": {},
   "outputs": [],
   "source": [
    "import pandas as pd\n",
    "import numpy as np\n",
    "from scipy import stats\n",
    "import matplotlib.pyplot as plt\n",
    "import seaborn as sns"
   ]
  },
  {
   "cell_type": "markdown",
   "metadata": {},
   "source": [
    "### Data Retrieval"
   ]
  },
  {
   "cell_type": "markdown",
   "metadata": {},
   "source": [
    "- Query to retrieve data from google [BigQuery](https://console.cloud.google.com/bigquery?p=bigquery-public-data&d=austin_waste&t=waste_and_diversion&page=table)\n",
    "\n",
    "    ```\n",
    "    SELECT load_time, load_type, load_weight, dropoff_site\n",
    "    FROM `bigquery-public-data.austin_waste.waste_and_diversion` LIMIT 150000\n",
    "    ```"
   ]
  },
  {
   "cell_type": "markdown",
   "metadata": {},
   "source": [
    "- import data into dataframe, show head & tail"
   ]
  },
  {
   "cell_type": "code",
   "execution_count": 26,
   "metadata": {},
   "outputs": [
    {
     "data": {
      "text/html": [
       "<div>\n",
       "<style scoped>\n",
       "    .dataframe tbody tr th:only-of-type {\n",
       "        vertical-align: middle;\n",
       "    }\n",
       "\n",
       "    .dataframe tbody tr th {\n",
       "        vertical-align: top;\n",
       "    }\n",
       "\n",
       "    .dataframe thead th {\n",
       "        text-align: right;\n",
       "    }\n",
       "</style>\n",
       "<table border=\"1\" class=\"dataframe\">\n",
       "  <thead>\n",
       "    <tr style=\"text-align: right;\">\n",
       "      <th></th>\n",
       "      <th>load_time</th>\n",
       "      <th>load_type</th>\n",
       "      <th>load_weight</th>\n",
       "      <th>dropoff_site</th>\n",
       "    </tr>\n",
       "  </thead>\n",
       "  <tbody>\n",
       "    <tr>\n",
       "      <th>0</th>\n",
       "      <td>2009-08-07T11:51:00Z</td>\n",
       "      <td>RECYCLING - SINGLE STREAM</td>\n",
       "      <td>4400.0</td>\n",
       "      <td>MRF</td>\n",
       "    </tr>\n",
       "    <tr>\n",
       "      <th>1</th>\n",
       "      <td>2008-04-11T12:31:00Z</td>\n",
       "      <td>RECYCLING - PAPER</td>\n",
       "      <td>1920.0</td>\n",
       "      <td>MRF</td>\n",
       "    </tr>\n",
       "    <tr>\n",
       "      <th>2</th>\n",
       "      <td>2009-01-16T12:58:00Z</td>\n",
       "      <td>RECYCLING - SINGLE STREAM</td>\n",
       "      <td>4140.0</td>\n",
       "      <td>MRF</td>\n",
       "    </tr>\n",
       "    <tr>\n",
       "      <th>3</th>\n",
       "      <td>2009-07-10T11:21:00Z</td>\n",
       "      <td>RECYCLING - SINGLE STREAM</td>\n",
       "      <td>4020.0</td>\n",
       "      <td>MRF</td>\n",
       "    </tr>\n",
       "    <tr>\n",
       "      <th>4</th>\n",
       "      <td>2006-02-03T12:36:00Z</td>\n",
       "      <td>RECYCLING - COMINGLE</td>\n",
       "      <td>1700.0</td>\n",
       "      <td>MRF</td>\n",
       "    </tr>\n",
       "    <tr>\n",
       "      <th>...</th>\n",
       "      <td>...</td>\n",
       "      <td>...</td>\n",
       "      <td>...</td>\n",
       "      <td>...</td>\n",
       "    </tr>\n",
       "    <tr>\n",
       "      <th>94887</th>\n",
       "      <td>2006-05-12T11:00:00Z</td>\n",
       "      <td>BRUSH</td>\n",
       "      <td>4000.0</td>\n",
       "      <td>ZILKER</td>\n",
       "    </tr>\n",
       "    <tr>\n",
       "      <th>94888</th>\n",
       "      <td>2006-05-13T08:30:00Z</td>\n",
       "      <td>BRUSH</td>\n",
       "      <td>4000.0</td>\n",
       "      <td>ZILKER</td>\n",
       "    </tr>\n",
       "    <tr>\n",
       "      <th>94889</th>\n",
       "      <td>2006-05-13T10:15:00Z</td>\n",
       "      <td>BRUSH</td>\n",
       "      <td>4000.0</td>\n",
       "      <td>ZILKER</td>\n",
       "    </tr>\n",
       "    <tr>\n",
       "      <th>94890</th>\n",
       "      <td>2006-05-13T01:00:00Z</td>\n",
       "      <td>BRUSH</td>\n",
       "      <td>4000.0</td>\n",
       "      <td>ZILKER</td>\n",
       "    </tr>\n",
       "    <tr>\n",
       "      <th>94891</th>\n",
       "      <td>2006-05-18T12:15:00Z</td>\n",
       "      <td>BRUSH</td>\n",
       "      <td>4000.0</td>\n",
       "      <td>ZILKER</td>\n",
       "    </tr>\n",
       "  </tbody>\n",
       "</table>\n",
       "<p>94892 rows × 4 columns</p>\n",
       "</div>"
      ],
      "text/plain": [
       "                  load_time                  load_type  load_weight  \\\n",
       "0      2009-08-07T11:51:00Z  RECYCLING - SINGLE STREAM       4400.0   \n",
       "1      2008-04-11T12:31:00Z          RECYCLING - PAPER       1920.0   \n",
       "2      2009-01-16T12:58:00Z  RECYCLING - SINGLE STREAM       4140.0   \n",
       "3      2009-07-10T11:21:00Z  RECYCLING - SINGLE STREAM       4020.0   \n",
       "4      2006-02-03T12:36:00Z       RECYCLING - COMINGLE       1700.0   \n",
       "...                     ...                        ...          ...   \n",
       "94887  2006-05-12T11:00:00Z                      BRUSH       4000.0   \n",
       "94888  2006-05-13T08:30:00Z                      BRUSH       4000.0   \n",
       "94889  2006-05-13T10:15:00Z                      BRUSH       4000.0   \n",
       "94890  2006-05-13T01:00:00Z                      BRUSH       4000.0   \n",
       "94891  2006-05-18T12:15:00Z                      BRUSH       4000.0   \n",
       "\n",
       "      dropoff_site  \n",
       "0              MRF  \n",
       "1              MRF  \n",
       "2              MRF  \n",
       "3              MRF  \n",
       "4              MRF  \n",
       "...            ...  \n",
       "94887       ZILKER  \n",
       "94888       ZILKER  \n",
       "94889       ZILKER  \n",
       "94890       ZILKER  \n",
       "94891       ZILKER  \n",
       "\n",
       "[94892 rows x 4 columns]"
      ]
     },
     "execution_count": 26,
     "metadata": {},
     "output_type": "execute_result"
    }
   ],
   "source": [
    "df_austin = pd.read_csv('./data/h8dsft_P0GC3_wirawan_setio_aji.csv.csv')\n",
    "df_austin"
   ]
  },
  {
   "cell_type": "markdown",
   "metadata": {},
   "source": [
    "### 1. Data Preprocessing"
   ]
  },
  {
   "cell_type": "markdown",
   "metadata": {},
   "source": [
    "- See if there is **missing value**"
   ]
  },
  {
   "cell_type": "code",
   "execution_count": 27,
   "metadata": {},
   "outputs": [
    {
     "name": "stdout",
     "output_type": "stream",
     "text": [
      "<class 'pandas.core.frame.DataFrame'>\n",
      "RangeIndex: 94892 entries, 0 to 94891\n",
      "Data columns (total 4 columns):\n",
      " #   Column        Non-Null Count  Dtype  \n",
      "---  ------        --------------  -----  \n",
      " 0   load_time     94892 non-null  object \n",
      " 1   load_type     94892 non-null  object \n",
      " 2   load_weight   90276 non-null  float64\n",
      " 3   dropoff_site  94892 non-null  object \n",
      "dtypes: float64(1), object(3)\n",
      "memory usage: 2.9+ MB\n"
     ]
    }
   ],
   "source": [
    "df_austin.info()"
   ]
  },
  {
   "cell_type": "markdown",
   "metadata": {},
   "source": [
    "- there are some `load_weight` in the dataframe, check for the rows that have Missing Values"
   ]
  },
  {
   "cell_type": "code",
   "execution_count": 28,
   "metadata": {},
   "outputs": [],
   "source": [
    "df_null = df_austin.query(\"load_weight.isnull()\")"
   ]
  },
  {
   "cell_type": "code",
   "execution_count": 29,
   "metadata": {},
   "outputs": [
    {
     "data": {
      "text/plain": [
       "load_type\n",
       "GARBAGE COLLECTIONS        4\n",
       "LITTER                     1\n",
       "RECYCLING - COMINGLE       9\n",
       "RECYCLING - PAPER          7\n",
       "SWEEPING                4590\n",
       "TIRES                      5\n",
       "Name: load_time, dtype: int64"
      ]
     },
     "execution_count": 29,
     "metadata": {},
     "output_type": "execute_result"
    }
   ],
   "source": [
    "df_austin[df_austin['load_weight'].isnull()].groupby('load_type')['load_time'].count()"
   ]
  },
  {
   "cell_type": "markdown",
   "metadata": {},
   "source": [
    "- Since there is nothing we can do for missing values, we drop all rows at `load_weight`"
   ]
  },
  {
   "cell_type": "code",
   "execution_count": 30,
   "metadata": {},
   "outputs": [],
   "source": [
    "df_austin.dropna(inplace=True)"
   ]
  },
  {
   "cell_type": "code",
   "execution_count": 31,
   "metadata": {},
   "outputs": [
    {
     "name": "stdout",
     "output_type": "stream",
     "text": [
      "<class 'pandas.core.frame.DataFrame'>\n",
      "Int64Index: 90276 entries, 0 to 94891\n",
      "Data columns (total 4 columns):\n",
      " #   Column        Non-Null Count  Dtype  \n",
      "---  ------        --------------  -----  \n",
      " 0   load_time     90276 non-null  object \n",
      " 1   load_type     90276 non-null  object \n",
      " 2   load_weight   90276 non-null  float64\n",
      " 3   dropoff_site  90276 non-null  object \n",
      "dtypes: float64(1), object(3)\n",
      "memory usage: 3.4+ MB\n"
     ]
    }
   ],
   "source": [
    "df_austin.info()"
   ]
  },
  {
   "cell_type": "markdown",
   "metadata": {},
   "source": [
    "- check if there is 0  at column `load_weight`"
   ]
  },
  {
   "cell_type": "code",
   "execution_count": 32,
   "metadata": {},
   "outputs": [
    {
     "data": {
      "text/plain": [
       "load_type\n",
       "GARBAGE COLLECTIONS           4\n",
       "RECYCLED METAL                7\n",
       "RECYCLING - COMINGLE         47\n",
       "RECYCLING - PAPER            57\n",
       "RECYCLING - SINGLE STREAM    30\n",
       "TIRES                         2\n",
       "Name: load_weight, dtype: int64"
      ]
     },
     "execution_count": 32,
     "metadata": {},
     "output_type": "execute_result"
    }
   ],
   "source": [
    "df_austin.query(\"load_weight == 0\").groupby('load_type')['load_weight'].count()"
   ]
  },
  {
   "cell_type": "markdown",
   "metadata": {},
   "source": [
    "- since 0 at every row doesn't make any sense e.g (there are no Tires in this world with 0 on its weight and so to all those rows with other `load_types`) so we **Drop** those rows"
   ]
  },
  {
   "cell_type": "code",
   "execution_count": 33,
   "metadata": {},
   "outputs": [],
   "source": [
    "df_austin = df_austin.query(\"load_weight != 0\").reset_index(drop=True)\n"
   ]
  },
  {
   "cell_type": "markdown",
   "metadata": {},
   "source": [
    "- all missing value has gone, let's change `load_time` data-type **object** into **timestamp** data type"
   ]
  },
  {
   "cell_type": "code",
   "execution_count": 34,
   "metadata": {},
   "outputs": [],
   "source": [
    "\n",
    "df_austin['load_time'] = pd.to_datetime(df_austin['load_time'])\n",
    "\n"
   ]
  },
  {
   "cell_type": "markdown",
   "metadata": {},
   "source": [
    "- Add `year` column to the table"
   ]
  },
  {
   "cell_type": "code",
   "execution_count": 35,
   "metadata": {},
   "outputs": [
    {
     "data": {
      "text/html": [
       "<div>\n",
       "<style scoped>\n",
       "    .dataframe tbody tr th:only-of-type {\n",
       "        vertical-align: middle;\n",
       "    }\n",
       "\n",
       "    .dataframe tbody tr th {\n",
       "        vertical-align: top;\n",
       "    }\n",
       "\n",
       "    .dataframe thead th {\n",
       "        text-align: right;\n",
       "    }\n",
       "</style>\n",
       "<table border=\"1\" class=\"dataframe\">\n",
       "  <thead>\n",
       "    <tr style=\"text-align: right;\">\n",
       "      <th></th>\n",
       "      <th>load_time</th>\n",
       "      <th>load_type</th>\n",
       "      <th>load_weight</th>\n",
       "      <th>dropoff_site</th>\n",
       "      <th>year</th>\n",
       "    </tr>\n",
       "  </thead>\n",
       "  <tbody>\n",
       "    <tr>\n",
       "      <th>0</th>\n",
       "      <td>2000-01-26 12:39:00+00:00</td>\n",
       "      <td>RECYCLING - PAPER</td>\n",
       "      <td>2940.0</td>\n",
       "      <td>MRF</td>\n",
       "      <td>2000</td>\n",
       "    </tr>\n",
       "    <tr>\n",
       "      <th>1</th>\n",
       "      <td>2004-08-30 01:26:00+00:00</td>\n",
       "      <td>RECYCLING - PAPER</td>\n",
       "      <td>8580.0</td>\n",
       "      <td>MRF</td>\n",
       "      <td>2004</td>\n",
       "    </tr>\n",
       "    <tr>\n",
       "      <th>2</th>\n",
       "      <td>2004-08-30 01:40:00+00:00</td>\n",
       "      <td>RECYCLING - COMINGLE</td>\n",
       "      <td>4580.0</td>\n",
       "      <td>MRF</td>\n",
       "      <td>2004</td>\n",
       "    </tr>\n",
       "    <tr>\n",
       "      <th>3</th>\n",
       "      <td>2004-10-01 01:00:00+00:00</td>\n",
       "      <td>RECYCLING - COMINGLE</td>\n",
       "      <td>3420.0</td>\n",
       "      <td>MRF</td>\n",
       "      <td>2004</td>\n",
       "    </tr>\n",
       "    <tr>\n",
       "      <th>4</th>\n",
       "      <td>2004-10-01 01:00:00+00:00</td>\n",
       "      <td>RECYCLING - PAPER</td>\n",
       "      <td>2940.0</td>\n",
       "      <td>MRF</td>\n",
       "      <td>2004</td>\n",
       "    </tr>\n",
       "    <tr>\n",
       "      <th>...</th>\n",
       "      <td>...</td>\n",
       "      <td>...</td>\n",
       "      <td>...</td>\n",
       "      <td>...</td>\n",
       "      <td>...</td>\n",
       "    </tr>\n",
       "    <tr>\n",
       "      <th>90124</th>\n",
       "      <td>2021-07-11 07:00:39+00:00</td>\n",
       "      <td>RECYCLING - COMINGLE</td>\n",
       "      <td>5280.0</td>\n",
       "      <td>MRF</td>\n",
       "      <td>2021</td>\n",
       "    </tr>\n",
       "    <tr>\n",
       "      <th>90125</th>\n",
       "      <td>2021-07-11 07:00:39+00:00</td>\n",
       "      <td>RECYCLING - COMINGLE</td>\n",
       "      <td>2700.0</td>\n",
       "      <td>MRF</td>\n",
       "      <td>2021</td>\n",
       "    </tr>\n",
       "    <tr>\n",
       "      <th>90126</th>\n",
       "      <td>2021-07-11 07:01:08+00:00</td>\n",
       "      <td>RECYCLING - COMINGLE</td>\n",
       "      <td>3500.0</td>\n",
       "      <td>MRF</td>\n",
       "      <td>2021</td>\n",
       "    </tr>\n",
       "    <tr>\n",
       "      <th>90127</th>\n",
       "      <td>2021-07-11 07:01:08+00:00</td>\n",
       "      <td>RECYCLING - COMINGLE</td>\n",
       "      <td>2900.0</td>\n",
       "      <td>MRF</td>\n",
       "      <td>2021</td>\n",
       "    </tr>\n",
       "    <tr>\n",
       "      <th>90128</th>\n",
       "      <td>2021-07-11 07:07:05+00:00</td>\n",
       "      <td>TIRES</td>\n",
       "      <td>2120.0</td>\n",
       "      <td>MRF</td>\n",
       "      <td>2021</td>\n",
       "    </tr>\n",
       "  </tbody>\n",
       "</table>\n",
       "<p>90129 rows × 5 columns</p>\n",
       "</div>"
      ],
      "text/plain": [
       "                      load_time             load_type  load_weight  \\\n",
       "0     2000-01-26 12:39:00+00:00     RECYCLING - PAPER       2940.0   \n",
       "1     2004-08-30 01:26:00+00:00     RECYCLING - PAPER       8580.0   \n",
       "2     2004-08-30 01:40:00+00:00  RECYCLING - COMINGLE       4580.0   \n",
       "3     2004-10-01 01:00:00+00:00  RECYCLING - COMINGLE       3420.0   \n",
       "4     2004-10-01 01:00:00+00:00     RECYCLING - PAPER       2940.0   \n",
       "...                         ...                   ...          ...   \n",
       "90124 2021-07-11 07:00:39+00:00  RECYCLING - COMINGLE       5280.0   \n",
       "90125 2021-07-11 07:00:39+00:00  RECYCLING - COMINGLE       2700.0   \n",
       "90126 2021-07-11 07:01:08+00:00  RECYCLING - COMINGLE       3500.0   \n",
       "90127 2021-07-11 07:01:08+00:00  RECYCLING - COMINGLE       2900.0   \n",
       "90128 2021-07-11 07:07:05+00:00                 TIRES       2120.0   \n",
       "\n",
       "      dropoff_site  year  \n",
       "0              MRF  2000  \n",
       "1              MRF  2004  \n",
       "2              MRF  2004  \n",
       "3              MRF  2004  \n",
       "4              MRF  2004  \n",
       "...            ...   ...  \n",
       "90124          MRF  2021  \n",
       "90125          MRF  2021  \n",
       "90126          MRF  2021  \n",
       "90127          MRF  2021  \n",
       "90128          MRF  2021  \n",
       "\n",
       "[90129 rows x 5 columns]"
      ]
     },
     "execution_count": 35,
     "metadata": {},
     "output_type": "execute_result"
    }
   ],
   "source": [
    "\n",
    "\n",
    "df_austin['year'] = pd.DatetimeIndex(df_austin['load_time']).year\n",
    "\n",
    "df_austin = df_austin.sort_values('load_time').reset_index(drop=True)\n",
    "df_austin"
   ]
  },
  {
   "cell_type": "markdown",
   "metadata": {},
   "source": [
    "- exclude row that have year **2000** because time skip and only have one row of data"
   ]
  },
  {
   "cell_type": "code",
   "execution_count": 36,
   "metadata": {},
   "outputs": [
    {
     "data": {
      "text/html": [
       "<div>\n",
       "<style scoped>\n",
       "    .dataframe tbody tr th:only-of-type {\n",
       "        vertical-align: middle;\n",
       "    }\n",
       "\n",
       "    .dataframe tbody tr th {\n",
       "        vertical-align: top;\n",
       "    }\n",
       "\n",
       "    .dataframe thead th {\n",
       "        text-align: right;\n",
       "    }\n",
       "</style>\n",
       "<table border=\"1\" class=\"dataframe\">\n",
       "  <thead>\n",
       "    <tr style=\"text-align: right;\">\n",
       "      <th></th>\n",
       "      <th>load_time</th>\n",
       "      <th>load_type</th>\n",
       "      <th>load_weight</th>\n",
       "      <th>dropoff_site</th>\n",
       "      <th>year</th>\n",
       "    </tr>\n",
       "  </thead>\n",
       "  <tbody>\n",
       "    <tr>\n",
       "      <th>1</th>\n",
       "      <td>2004-08-30 01:26:00+00:00</td>\n",
       "      <td>RECYCLING - PAPER</td>\n",
       "      <td>8580.0</td>\n",
       "      <td>MRF</td>\n",
       "      <td>2004</td>\n",
       "    </tr>\n",
       "    <tr>\n",
       "      <th>2</th>\n",
       "      <td>2004-08-30 01:40:00+00:00</td>\n",
       "      <td>RECYCLING - COMINGLE</td>\n",
       "      <td>4580.0</td>\n",
       "      <td>MRF</td>\n",
       "      <td>2004</td>\n",
       "    </tr>\n",
       "    <tr>\n",
       "      <th>3</th>\n",
       "      <td>2004-10-01 01:00:00+00:00</td>\n",
       "      <td>RECYCLING - COMINGLE</td>\n",
       "      <td>3420.0</td>\n",
       "      <td>MRF</td>\n",
       "      <td>2004</td>\n",
       "    </tr>\n",
       "    <tr>\n",
       "      <th>4</th>\n",
       "      <td>2004-10-01 01:00:00+00:00</td>\n",
       "      <td>RECYCLING - PAPER</td>\n",
       "      <td>2940.0</td>\n",
       "      <td>MRF</td>\n",
       "      <td>2004</td>\n",
       "    </tr>\n",
       "    <tr>\n",
       "      <th>5</th>\n",
       "      <td>2004-10-01 01:00:00+00:00</td>\n",
       "      <td>RECYCLING - PAPER</td>\n",
       "      <td>2760.0</td>\n",
       "      <td>MRF</td>\n",
       "      <td>2004</td>\n",
       "    </tr>\n",
       "    <tr>\n",
       "      <th>...</th>\n",
       "      <td>...</td>\n",
       "      <td>...</td>\n",
       "      <td>...</td>\n",
       "      <td>...</td>\n",
       "      <td>...</td>\n",
       "    </tr>\n",
       "    <tr>\n",
       "      <th>90124</th>\n",
       "      <td>2021-07-11 07:00:39+00:00</td>\n",
       "      <td>RECYCLING - COMINGLE</td>\n",
       "      <td>5280.0</td>\n",
       "      <td>MRF</td>\n",
       "      <td>2021</td>\n",
       "    </tr>\n",
       "    <tr>\n",
       "      <th>90125</th>\n",
       "      <td>2021-07-11 07:00:39+00:00</td>\n",
       "      <td>RECYCLING - COMINGLE</td>\n",
       "      <td>2700.0</td>\n",
       "      <td>MRF</td>\n",
       "      <td>2021</td>\n",
       "    </tr>\n",
       "    <tr>\n",
       "      <th>90126</th>\n",
       "      <td>2021-07-11 07:01:08+00:00</td>\n",
       "      <td>RECYCLING - COMINGLE</td>\n",
       "      <td>3500.0</td>\n",
       "      <td>MRF</td>\n",
       "      <td>2021</td>\n",
       "    </tr>\n",
       "    <tr>\n",
       "      <th>90127</th>\n",
       "      <td>2021-07-11 07:01:08+00:00</td>\n",
       "      <td>RECYCLING - COMINGLE</td>\n",
       "      <td>2900.0</td>\n",
       "      <td>MRF</td>\n",
       "      <td>2021</td>\n",
       "    </tr>\n",
       "    <tr>\n",
       "      <th>90128</th>\n",
       "      <td>2021-07-11 07:07:05+00:00</td>\n",
       "      <td>TIRES</td>\n",
       "      <td>2120.0</td>\n",
       "      <td>MRF</td>\n",
       "      <td>2021</td>\n",
       "    </tr>\n",
       "  </tbody>\n",
       "</table>\n",
       "<p>90128 rows × 5 columns</p>\n",
       "</div>"
      ],
      "text/plain": [
       "                      load_time             load_type  load_weight  \\\n",
       "1     2004-08-30 01:26:00+00:00     RECYCLING - PAPER       8580.0   \n",
       "2     2004-08-30 01:40:00+00:00  RECYCLING - COMINGLE       4580.0   \n",
       "3     2004-10-01 01:00:00+00:00  RECYCLING - COMINGLE       3420.0   \n",
       "4     2004-10-01 01:00:00+00:00     RECYCLING - PAPER       2940.0   \n",
       "5     2004-10-01 01:00:00+00:00     RECYCLING - PAPER       2760.0   \n",
       "...                         ...                   ...          ...   \n",
       "90124 2021-07-11 07:00:39+00:00  RECYCLING - COMINGLE       5280.0   \n",
       "90125 2021-07-11 07:00:39+00:00  RECYCLING - COMINGLE       2700.0   \n",
       "90126 2021-07-11 07:01:08+00:00  RECYCLING - COMINGLE       3500.0   \n",
       "90127 2021-07-11 07:01:08+00:00  RECYCLING - COMINGLE       2900.0   \n",
       "90128 2021-07-11 07:07:05+00:00                 TIRES       2120.0   \n",
       "\n",
       "      dropoff_site  year  \n",
       "1              MRF  2004  \n",
       "2              MRF  2004  \n",
       "3              MRF  2004  \n",
       "4              MRF  2004  \n",
       "5              MRF  2004  \n",
       "...            ...   ...  \n",
       "90124          MRF  2021  \n",
       "90125          MRF  2021  \n",
       "90126          MRF  2021  \n",
       "90127          MRF  2021  \n",
       "90128          MRF  2021  \n",
       "\n",
       "[90128 rows x 5 columns]"
      ]
     },
     "execution_count": 36,
     "metadata": {},
     "output_type": "execute_result"
    }
   ],
   "source": [
    "df_austin = df_austin.query(\"year != 2000\")\n",
    "df_austin"
   ]
  },
  {
   "cell_type": "markdown",
   "metadata": {},
   "source": [
    "### 2. Data Explore"
   ]
  },
  {
   "cell_type": "markdown",
   "metadata": {},
   "source": [
    "#### See how garbage collection **increase** its load weight **each year** "
   ]
  },
  {
   "cell_type": "code",
   "execution_count": 37,
   "metadata": {},
   "outputs": [
    {
     "data": {
      "text/plain": [
       "<AxesSubplot:xlabel='year'>"
      ]
     },
     "execution_count": 37,
     "metadata": {},
     "output_type": "execute_result"
    },
    {
     "data": {
      "image/png": "[encoded data removed]",
      "text/plain": [
       "<Figure size 432x288 with 1 Axes>"
      ]
     },
     "metadata": {
      "needs_background": "light"
     },
     "output_type": "display_data"
    }
   ],
   "source": [
    "df_austin.groupby([\"year\"])[['load_weight']].mean().plot(kind='bar')"
   ]
  },
  {
   "cell_type": "markdown",
   "metadata": {},
   "source": [
    "- total weight of garbage collection from 2004 untill 2011 is way too different, so we see it from 2012 instead"
   ]
  },
  {
   "cell_type": "code",
   "execution_count": 38,
   "metadata": {},
   "outputs": [
    {
     "data": {
      "text/plain": [
       "<AxesSubplot:xlabel='year'>"
      ]
     },
     "execution_count": 38,
     "metadata": {},
     "output_type": "execute_result"
    },
    {
     "data": {
      "image/png": "[encoded data removed]",
      "text/plain": [
       "<Figure size 432x288 with 1 Axes>"
      ]
     },
     "metadata": {
      "needs_background": "light"
     },
     "output_type": "display_data"
    }
   ],
   "source": [
    "df_austin.query(\"year > 2011\").groupby([\"year\"])['load_weight'].sum().plot(kind=\"bar\")"
   ]
  },
  {
   "cell_type": "markdown",
   "metadata": {},
   "source": [
    "if we compare to 1st and 2nd bar chart, this **last decade** , total load weight of waste collection **is reduced**, and **2012** the lowest point."
   ]
  },
  {
   "cell_type": "markdown",
   "metadata": {},
   "source": [
    "#### Dropoff Site "
   ]
  },
  {
   "cell_type": "markdown",
   "metadata": {},
   "source": [
    "- Dropoff site based on **total frequency** waste collection recieved. as we can see **MRF** does recieved a lot in total since 2004, it is because **MRF** is the main disposal place in Austin since 1970's [source](https://www.texasdisposal.com/about/)"
   ]
  },
  {
   "cell_type": "code",
   "execution_count": 39,
   "metadata": {},
   "outputs": [
    {
     "data": {
      "text/plain": [
       "<AxesSubplot:xlabel='dropoff_site'>"
      ]
     },
     "execution_count": 39,
     "metadata": {},
     "output_type": "execute_result"
    },
    {
     "data": {
      "image/png": "[encoded data removed]",
      "text/plain": [
       "<Figure size 432x288 with 1 Axes>"
      ]
     },
     "metadata": {
      "needs_background": "light"
     },
     "output_type": "display_data"
    }
   ],
   "source": [
    "df_austin.groupby('dropoff_site')['load_type'].count().plot(kind='bar')"
   ]
  },
  {
   "cell_type": "markdown",
   "metadata": {},
   "source": [
    "#### 4. Central Tendency \n",
    "look for central tendency on each site"
   ]
  },
  {
   "cell_type": "markdown",
   "metadata": {},
   "source": [
    "- **Mean** based on weight received by dropoff site"
   ]
  },
  {
   "cell_type": "code",
   "execution_count": 40,
   "metadata": {},
   "outputs": [
    {
     "data": {
      "text/plain": [
       "<AxesSubplot:xlabel='dropoff_site'>"
      ]
     },
     "execution_count": 40,
     "metadata": {},
     "output_type": "execute_result"
    },
    {
     "data": {
      "image/png": "[encoded data removed]",
      "text/plain": [
       "<Figure size 432x288 with 1 Axes>"
      ]
     },
     "metadata": {
      "needs_background": "light"
     },
     "output_type": "display_data"
    }
   ],
   "source": [
    "# df_austin.groupby('dropoff_site')['load_weight'].mean().plot(kind='bar')\n",
    "df_austin.groupby('dropoff_site')['load_weight'].mean().plot(kind='bar')"
   ]
  },
  {
   "cell_type": "markdown",
   "metadata": {},
   "source": [
    "- **Median** based on weight received by dropoff site"
   ]
  },
  {
   "cell_type": "code",
   "execution_count": 41,
   "metadata": {},
   "outputs": [
    {
     "data": {
      "text/plain": [
       "<AxesSubplot:xlabel='dropoff_site'>"
      ]
     },
     "execution_count": 41,
     "metadata": {},
     "output_type": "execute_result"
    },
    {
     "data": {
      "image/png": "[encoded data removed]",
      "text/plain": [
       "<Figure size 432x288 with 1 Axes>"
      ]
     },
     "metadata": {
      "needs_background": "light"
     },
     "output_type": "display_data"
    }
   ],
   "source": [
    "df_austin.groupby('dropoff_site')['load_weight'].median().plot(kind='bar')"
   ]
  },
  {
   "cell_type": "markdown",
   "metadata": {},
   "source": [
    "but based on the averages of the load weight received using **Mean** and **Median**, **MRF** did not received heavy weight garbages from Austin."
   ]
  },
  {
   "cell_type": "markdown",
   "metadata": {},
   "source": [
    "- **Mode** based on weight received by dropoff site"
   ]
  },
  {
   "cell_type": "code",
   "execution_count": 42,
   "metadata": {},
   "outputs": [
    {
     "data": {
      "text/plain": [
       "dropoff_site   \n",
       "ELMONT        0             SWEEPING\n",
       "KRAMER        0             SWEEPING\n",
       "MRF           0    RECYCLING - PAPER\n",
       "WILCAB        0             SWEEPING\n",
       "ZILKER        0        YARD TRIMMING\n",
       "Name: load_type, dtype: object"
      ]
     },
     "execution_count": 42,
     "metadata": {},
     "output_type": "execute_result"
    }
   ],
   "source": [
    "df_austin.groupby(('dropoff_site'))['load_type'].apply(pd.Series.mode)"
   ]
  },
  {
   "cell_type": "markdown",
   "metadata": {},
   "source": [
    "based on the **mode** of **load_types**, Most of MRF site been received **paper**, other than that, ELMONT, KRAMER, WILCAB have receive mostly **sweeping** and ZILKER is **Yard Triming** "
   ]
  },
  {
   "cell_type": "markdown",
   "metadata": {},
   "source": [
    "- Which Dropoff site that still active receiving garbage from austin"
   ]
  },
  {
   "cell_type": "code",
   "execution_count": 43,
   "metadata": {},
   "outputs": [
    {
     "data": {
      "text/plain": [
       "dropoff_site\n",
       "ELMONT    2014\n",
       "KRAMER    2006\n",
       "MRF       2021\n",
       "WILCAB    2016\n",
       "ZILKER    2020\n",
       "Name: year, dtype: int64"
      ]
     },
     "execution_count": 43,
     "metadata": {},
     "output_type": "execute_result"
    }
   ],
   "source": [
    "df_austin.groupby(('dropoff_site'))['year'].max()"
   ]
  },
  {
   "cell_type": "code",
   "execution_count": 44,
   "metadata": {},
   "outputs": [
    {
     "data": {
      "text/plain": [
       "year\n",
       "2006    231\n",
       "2007    328\n",
       "2008     91\n",
       "2015      2\n",
       "2016      1\n",
       "2018      2\n",
       "2020      1\n",
       "Name: year, dtype: int64"
      ]
     },
     "execution_count": 44,
     "metadata": {},
     "output_type": "execute_result"
    }
   ],
   "source": [
    "df_austin.query(\"dropoff_site == 'ZILKER'\").groupby('year')['year'].count()"
   ]
  },
  {
   "cell_type": "markdown",
   "metadata": {},
   "source": [
    "**ELMONT**, **KRAMER** and **WILCAB** hasn't been a dropoff sit for Austin for atleast more than 4 years, especially **KREAMER**, that make **MRF** and **ZILKER** is the most recent dropoff site, but **ZILKER** is rarely received dropoff at last since 2015"
   ]
  },
  {
   "cell_type": "code",
   "execution_count": 45,
   "metadata": {},
   "outputs": [
    {
     "data": {
      "text/plain": [
       "load_type\n",
       "BRUSH                          186\n",
       "GARBAGE COLLECTIONS              5\n",
       "RECYCLING - SINGLE STREAM        1\n",
       "YARD TRIMMING                  463\n",
       "YARD TRIMMING - X-MAS TREES      1\n",
       "Name: load_type, dtype: int64"
      ]
     },
     "execution_count": 45,
     "metadata": {},
     "output_type": "execute_result"
    }
   ],
   "source": [
    "df_austin.query(\"dropoff_site == 'ZILKER'\").groupby('load_type')['load_type'].count()"
   ]
  },
  {
   "cell_type": "markdown",
   "metadata": {},
   "source": [
    "**ZILKER** mostly handle **Yard Trimming** and **BRUSH**. Yard trimming and brush is related to plantation disposal [source](http://www.fitchburgwi.gov/2568/Brush-Yard-Waste)"
   ]
  },
  {
   "cell_type": "markdown",
   "metadata": {},
   "source": [
    "- **short fact** about 2 of these special drop off site :\n",
    "\n",
    "    - MRF : is an acronym for **Materials recovery facility**, MRF is more like a materials recycle facility, and one of them is at Austin Texas [source](https://en.wikipedia.org/wiki/Materials_recovery_facility)\n",
    "    - MRF is part of sub Division inside TDS (Texas Disposal System) that officialy in business at 2010 [source](https://www.texasdisposal.com/processing/recycling/)\n",
    "    - ZILKER : is a park that also a drop off point for used christmas trees, old trees, or every plantation related disposal  [source](https://www.austintexas.gov/treerecycling) "
   ]
  },
  {
   "cell_type": "markdown",
   "metadata": {},
   "source": [
    "#### 5. Let's See Inside MRF\n",
    "\n",
    "since **MRF** disposal site at Austin that have recycling facility on mixed garbage. and still run as dropoff site for Austin garbage collection recently.\n"
   ]
  },
  {
   "cell_type": "markdown",
   "metadata": {},
   "source": [
    "- let see what type of garbage at **MRF** and find out what garbage mostly been drop off there"
   ]
  },
  {
   "cell_type": "code",
   "execution_count": 46,
   "metadata": {},
   "outputs": [
    {
     "data": {
      "text/plain": [
       "<AxesSubplot:xlabel='load_type'>"
      ]
     },
     "execution_count": 46,
     "metadata": {},
     "output_type": "execute_result"
    },
    {
     "data": {
      "image/png": "[encoded data removed]",
      "text/plain": [
       "<Figure size 432x288 with 1 Axes>"
      ]
     },
     "metadata": {
      "needs_background": "light"
     },
     "output_type": "display_data"
    }
   ],
   "source": [
    "mrf = df_austin.query(\"dropoff_site =='MRF'\")\n",
    "mrf.groupby('load_type')['load_time'].count().plot(kind='bar')"
   ]
  },
  {
   "cell_type": "markdown",
   "metadata": {},
   "source": [
    "at **MRF** has received mostly **Comingle** and **Papers** and 3rd position is **single stream**"
   ]
  },
  {
   "cell_type": "markdown",
   "metadata": {},
   "source": [
    "- also check garbage type and its weight"
   ]
  },
  {
   "cell_type": "code",
   "execution_count": 47,
   "metadata": {},
   "outputs": [
    {
     "data": {
      "text/plain": [
       "<AxesSubplot:xlabel='load_type'>"
      ]
     },
     "execution_count": 47,
     "metadata": {},
     "output_type": "execute_result"
    },
    {
     "data": {
      "image/png": "[encoded data removed]",
      "text/plain": [
       "<Figure size 432x288 with 1 Axes>"
      ]
     },
     "metadata": {
      "needs_background": "light"
     },
     "output_type": "display_data"
    }
   ],
   "source": [
    "mrf.groupby('load_type')['load_weight'].sum().plot(kind='bar')"
   ]
  },
  {
   "cell_type": "markdown",
   "metadata": {},
   "source": [
    "- the load type and average on each type"
   ]
  },
  {
   "cell_type": "code",
   "execution_count": 48,
   "metadata": {},
   "outputs": [
    {
     "data": {
      "text/plain": [
       "<AxesSubplot:xlabel='load_type'>"
      ]
     },
     "execution_count": 48,
     "metadata": {},
     "output_type": "execute_result"
    },
    {
     "data": {
      "image/png": "[encoded data removed]",
      "text/plain": [
       "<Figure size 432x288 with 1 Axes>"
      ]
     },
     "metadata": {
      "needs_background": "light"
     },
     "output_type": "display_data"
    }
   ],
   "source": [
    "mrf.groupby('load_type')['load_weight'].mean().plot(kind='bar')"
   ]
  },
  {
   "cell_type": "markdown",
   "metadata": {},
   "source": [
    "**yard trimming** and **Recycled metal** is the heaviest garbage on average. but from the **total sum** single stream has been the haviest"
   ]
  },
  {
   "cell_type": "code",
   "execution_count": 49,
   "metadata": {},
   "outputs": [
    {
     "name": "stdout",
     "output_type": "stream",
     "text": [
      "total weight mean :  5313.764429042535\n",
      "total weight median :  4260.0\n"
     ]
    }
   ],
   "source": [
    "print(\"total weight mean : \",mrf['load_weight'].mean())\n",
    "print(\"total weight median : \",mrf['load_weight'].median())"
   ]
  },
  {
   "cell_type": "markdown",
   "metadata": {},
   "source": [
    "#### 5. Handling Outliers"
   ]
  },
  {
   "cell_type": "markdown",
   "metadata": {},
   "source": [
    "- before going into deeper analysis on **outliers data**, let's check on  distribution does **load weight** has"
   ]
  },
  {
   "cell_type": "code",
   "execution_count": 50,
   "metadata": {},
   "outputs": [
    {
     "name": "stdout",
     "output_type": "stream",
     "text": [
      "Load Weight skewness: 1.0031565276916947\n",
      "Load Weight kurtosis: 0.16771656203681307\n"
     ]
    }
   ],
   "source": [
    "print('Load Weight' + ' skewness: ' + str(mrf['load_weight'].skew()))\n",
    "print('Load Weight' + ' kurtosis: ' + str(mrf['load_weight'].kurt()))\n"
   ]
  },
  {
   "cell_type": "markdown",
   "metadata": {},
   "source": [
    "- **load weight** does have skewed distribution that have **1.003 skewness** so, we have to use **inter-quantile Etreme cases Analysis** to detecting outliers because the skewness > 1"
   ]
  },
  {
   "cell_type": "code",
   "execution_count": 60,
   "metadata": {},
   "outputs": [
    {
     "name": "stdout",
     "output_type": "stream",
     "text": [
      "percentage of outliers data is 0.0001453244648147113 %\n",
      "total outliers is  13\n",
      "mean load weight with outliers : 5313.764429042535\n",
      "median load weight with outliers : 4260.0\n",
      "mean load weight without outliers : 5311.062107287404\n",
      "median load weight without outliers : 4260.0\n"
     ]
    }
   ],
   "source": [
    "# look for inter quntile .25,.5,.75\n",
    "q1,q2,q3 = mrf['load_weight'].quantile([0.25, 0.5, 0.75])\n",
    "iqr = q3 - q1\n",
    "upper = q3 + (iqr *3)\n",
    "lower = q1 - (iqr *3)\n",
    "\n",
    "# filter out the outliers only\n",
    "outliers = mrf.query(\"load_weight > @upper or load_weight < @lower\")\n",
    "#count percentage\n",
    "out_percent = outliers['load_time'].count()/mrf['load_weight'].count()\n",
    "# mrf data Trimming outliers\n",
    "mrf_clean =mrf.query(\"load_weight <= @upper and load_weight >= @lower\")\n",
    "print(\"percentage of outliers data is\",out_percent,\"%\")\n",
    "print(\"total outliers is \",outliers['load_time'].count())\n",
    "\n",
    "# mean 5313.764429042535, median 4260.0 with outliers\n",
    "\n",
    "print (\"mean load weight with outliers :\",mrf['load_weight'].mean())\n",
    "print (\"median load weight with outliers :\",mrf['load_weight'].median())\n",
    "\n",
    "print (\"mean load weight without outliers :\",mrf_clean['load_weight'].mean())\n",
    "print (\"median load weight without outliers :\",mrf_clean['load_weight'].median())\n"
   ]
  },
  {
   "cell_type": "markdown",
   "metadata": {},
   "source": [
    "- the **mean** after **Trimming** the outliers is **5311.062107287404**, with outliers the mean is **5313.764429042535** not too different, only losing almost 3 point before the outliers has filtered out"
   ]
  },
  {
   "cell_type": "markdown",
   "metadata": {},
   "source": [
    "#### 6. Variance and Standard Deviation"
   ]
  },
  {
   "cell_type": "markdown",
   "metadata": {},
   "source": [
    "- See the **Variance and Standard Deviation** of **Load Weight** for **MRF** data without outliers"
   ]
  },
  {
   "cell_type": "code",
   "execution_count": 52,
   "metadata": {},
   "outputs": [
    {
     "name": "stdout",
     "output_type": "stream",
     "text": [
      "Load weight variance is 13433900.385595031\n",
      "Load weight standard deviation is 3665.2285584387546\n"
     ]
    },
    {
     "data": {
      "image/png": "[encoded data removed]",
      "text/plain": [
       "<Figure size 432x288 with 1 Axes>"
      ]
     },
     "metadata": {
      "needs_background": "light"
     },
     "output_type": "display_data"
    }
   ],
   "source": [
    "variance = mrf_clean['load_weight'].var()\n",
    "std_deviation = mrf_clean['load_weight'].std()\n",
    "\n",
    "print(\"Load weight variance is\", variance)\n",
    "print(\"Load weight standard deviation is\", std_deviation)\n",
    "\n",
    "density = stats.gaussian_kde(mrf_clean['load_weight'])\n",
    "n, x, _ = plt.hist(mrf_clean['load_weight'], histtype='step', bins=30)  \n",
    "plt.plot(x, density(x)*6)\n",
    "plt.show()\n"
   ]
  },
  {
   "cell_type": "markdown",
   "metadata": {},
   "source": [
    "from the standart deviation on column **load weight** the site  **MRF** has received ton of variation weight load "
   ]
  },
  {
   "cell_type": "markdown",
   "metadata": {},
   "source": [
    "#### 7. About New Dropoff Site\n",
    "The City Goverment of Austin will build a new dropoff site, give a sugestion for how large the capacity for this new site"
   ]
  },
  {
   "cell_type": "markdown",
   "metadata": {},
   "source": [
    "use all site to reference "
   ]
  },
  {
   "cell_type": "markdown",
   "metadata": {},
   "source": [
    "- **Confidence Interval**"
   ]
  },
  {
   "cell_type": "markdown",
   "metadata": {},
   "source": [
    "we use data only from **MRF** site, because most of them has been not receive any garbage collection from Austin for more than 4 years except for **ZILKER**, but ZILKER is a dropoff site specialize for plantation related garbages, and **MRF** mostly handle mixed daily garbage [source about zilker](https://www.austintexas.gov/treerecycling)"
   ]
  },
  {
   "cell_type": "code",
   "execution_count": 62,
   "metadata": {},
   "outputs": [
    {
     "data": {
      "text/plain": [
       "11339.826595241506"
      ]
     },
     "execution_count": 62,
     "metadata": {},
     "output_type": "execute_result"
    }
   ],
   "source": [
    "# normalize data and use 0.9 convidence to calculate the convidence interval \n",
    "ci = stats.norm.interval(0.90, mrf_clean['load_weight'].mean(), mrf_clean['load_weight'].std())\n",
    "ci[1]"
   ]
  },
  {
   "cell_type": "code",
   "execution_count": 63,
   "metadata": {},
   "outputs": [
    {
     "data": {
      "text/plain": [
       "5311.062107287404"
      ]
     },
     "execution_count": 63,
     "metadata": {},
     "output_type": "execute_result"
    }
   ],
   "source": [
    "mrf_clean['load_weight'].mean()"
   ]
  },
  {
   "cell_type": "markdown",
   "metadata": {},
   "source": [
    "we give sugestion for City Goverment of Austin to build new sit with **11339.827 capacity**"
   ]
  },
  {
   "cell_type": "markdown",
   "metadata": {},
   "source": [
    "#### 8. Hypothesis Testing\n",
    "\n",
    "I want to make hypothesis about the most frequently load_type with the it's average weight in the last 5 year at **MRF**\n"
   ]
  },
  {
   "cell_type": "code",
   "execution_count": 54,
   "metadata": {},
   "outputs": [
    {
     "data": {
      "text/plain": [
       "year   \n",
       "2016  0    TIRES\n",
       "2017  0    TIRES\n",
       "2018  0    TIRES\n",
       "2019  0    TIRES\n",
       "2020  0    TIRES\n",
       "2021  0    TIRES\n",
       "Name: load_type, dtype: object"
      ]
     },
     "execution_count": 54,
     "metadata": {},
     "output_type": "execute_result"
    }
   ],
   "source": [
    "mrf_clean.query(\"year >= 2016\").groupby('year')['load_type'].apply(pd.Series.mode)"
   ]
  },
  {
   "cell_type": "markdown",
   "metadata": {},
   "source": [
    "- Tires has been common load type at **MRF** every year but, what about it's weight?"
   ]
  },
  {
   "cell_type": "code",
   "execution_count": 55,
   "metadata": {},
   "outputs": [
    {
     "data": {
      "text/plain": [
       "2226.398839137645"
      ]
     },
     "execution_count": 55,
     "metadata": {},
     "output_type": "execute_result"
    }
   ],
   "source": [
    "mrf_clean.query(\"year >= 2016\")['load_weight'].mean()"
   ]
  },
  {
   "cell_type": "markdown",
   "metadata": {},
   "source": [
    "- **Single Sample Hypothesis Testing**<br>\n",
    "if the average `load_weight` since 2016 is **2226.398**\n",
    "    - H0 : average load type **TIRES** weight >=  2226.398\n",
    "    - H1 : Average load type **TIRES** weight < 2226.398"
   ]
  },
  {
   "cell_type": "code",
   "execution_count": 56,
   "metadata": {},
   "outputs": [
    {
     "name": "stdout",
     "output_type": "stream",
     "text": [
      "P-value: 2.624024970260154e-11\n",
      "t-statistics: -6.632120329253185\n"
     ]
    }
   ],
   "source": [
    "# define tires load_weight column last 5 years\n",
    "tires = mrf_clean.query(\"year >= 2016 & load_type == 'TIRES'\")['load_weight']\n",
    "t_stat,p_val = stats.ttest_1samp(tires, 2226.398)\n",
    "\n",
    "print('P-value:',(p_val/2).real) #The p-value divided by 2 since it's a \n",
    "print('t-statistics:',t_stat)"
   ]
  },
  {
   "cell_type": "markdown",
   "metadata": {},
   "source": [
    "use **confidence threshold** of 90% <br>\n",
    "**p-value** is 2.624024970260154e-11<br>\n",
    "and **confidence level** is 10%"
   ]
  },
  {
   "cell_type": "code",
   "execution_count": 67,
   "metadata": {},
   "outputs": [
    {
     "name": "stderr",
     "output_type": "stream",
     "text": [
      "c:\\Users\\ajies\\anaconda3\\lib\\site-packages\\seaborn\\distributions.py:2619: FutureWarning: `distplot` is a deprecated function and will be removed in a future version. Please adapt your code to use either `displot` (a figure-level function with similar flexibility) or `histplot` (an axes-level function for histograms).\n",
      "  warnings.warn(msg, FutureWarning)\n"
     ]
    },
    {
     "data": {
      "text/plain": [
       "<matplotlib.legend.Legend at 0x24c84620a00>"
      ]
     },
     "execution_count": 67,
     "metadata": {},
     "output_type": "execute_result"
    },
    {
     "data": {
      "image/png": "[encoded data removed]",
      "text/plain": [
       "<Figure size 1152x504 with 1 Axes>"
      ]
     },
     "metadata": {
      "needs_background": "light"
     },
     "output_type": "display_data"
    }
   ],
   "source": [
    "tires_pop = np.random.normal(tires.mean(), tires.std(), 10000)\n",
    "\n",
    "ci = stats.norm.interval(0.90, tires.mean(), tires.std())\n",
    "\n",
    "plt.figure(figsize=(16,7))\n",
    "sns.distplot(tires_pop, label='Load Weight (Population)', color='blue')\n",
    "plt.axvline(tires.mean(), color='red', linewidth=2, label='Load Weight (Mean)')\n",
    "plt.axvline(ci[0], color='green', linestyle='dashed', linewidth=2, label='confidence threshold of 90%')\n",
    "plt.axvline(tires_pop.mean() + t_stat*tires_pop.std(), color='black', linestyle='dashed', linewidth=2, label = 'Alternative Hypothesis')\n",
    "plt.legend()"
   ]
  },
  {
   "cell_type": "markdown",
   "metadata": {},
   "source": [
    "Literally  **H0** has been **rejected** because p-value is less than confidence level, **TIRES** truly is the most common **Load_type**, but it doesn't weight that much, or so to say it **significantly** less than the average"
   ]
  },
  {
   "cell_type": "markdown",
   "metadata": {},
   "source": [
    "- **ANOVA** Hypothesis testing\n",
    "    - ANOVA hypothesis testing for daily basis **load_weight** on **each year** from **2016 - 2020** 2021 is not included because the data is not complete(not until december)"
   ]
  },
  {
   "cell_type": "code",
   "execution_count": 58,
   "metadata": {},
   "outputs": [
    {
     "name": "stdout",
     "output_type": "stream",
     "text": [
      "Daily load weight Average for 2016 is 4159.224806201551\n",
      "Daily load weight Average for 2017 is 2439.225\n",
      "Daily load weight Average for 2018 is 2317.523076923077\n",
      "Daily load weight Average for 2019 is 1936.0825688073394\n",
      "Daily load weight Average for 2020 is 1972.4160583941605\n"
     ]
    }
   ],
   "source": [
    "avg_d = dict() \n",
    "decades = df_austin.query(\"year >= 2016 & year < 2021\")[['load_time','load_weight','year']]\n",
    "\n",
    "year_list= decades['year'].unique()\n",
    "year_list\n",
    "for year in year_list:\n",
    "    avg_d[str(year)] =  decades.query(\"year == @year\").groupby('load_time').sum()['load_weight']\n",
    "#     avg_d.get(str(year),)\n",
    "    # print( \"Average load weight at \"+ str(year)+ \" is\", decades[year])\n",
    "\n",
    "for key,val in avg_d.items():\n",
    "    print(\"Daily load weight Average for\",key,\"is\",val.mean())\n"
   ]
  },
  {
   "cell_type": "code",
   "execution_count": 59,
   "metadata": {},
   "outputs": [
    {
     "name": "stdout",
     "output_type": "stream",
     "text": [
      "P value :  2.1665160522304607e-12\n",
      "is p value less than 0.05? True\n"
     ]
    }
   ],
   "source": [
    "# list(avg_d.values())\n",
    "f_stat,p_value = stats.f_oneway(avg_d['2016'],avg_d['2017'],avg_d['2018'],avg_d['2019'],avg_d['2020'])\n",
    "\n",
    "print(\"P value : \", p_value)\n",
    "print(\"is p value less than 0.05?\" ,p_value < 0.05 )"
   ]
  },
  {
   "cell_type": "markdown",
   "metadata": {},
   "source": [
    "**P value** is less than **0.05** so the **null hypothesis** has been **rejected**, it means :\n",
    "- since 2016 until 2020 ,each year the load weight have significant different value"
   ]
  },
  {
   "cell_type": "markdown",
   "metadata": {},
   "source": [
    "### 9. Conclution"
   ]
  },
  {
   "cell_type": "markdown",
   "metadata": {},
   "source": [
    "Austin waste disposal and processing system, for waste dispossal, at Austin Texas have 5 different dropoff site, but there are only 2 that still received dropoff recently, they are **MRF** and **ZILKER**, but the **MRF** is the only waste dispossal that have recycling facilities and frequently received dropoff on daily bassist, the load weight from 2004 untill 2010 has been the heviest load weight, and it's dramatically decreased last decade with huge different, we focused on **MRF** because it is the only waste disposal that received wide Variance of load type, and only one that has recycling facility.\n",
    "\n",
    "at **MRF** their daily **load type** received are **single stream** **comingle**, **papers**, but for the last 5 years **tires** has become the most common dropoff load type at **MRF**, and **yard trimming** for the heaviest average load weight. ,**MRF** also bad wide range of **load weight variation** on daily dropoff. and \n",
    "\n",
    "for the new site that goverment wanted to build in the future, our sugestion is to put **11339.827 capacity** of disposal landfill, and also give recycling facility in it, because Austin only have one recycling facility. and from the last 10 years record, the fluctuation on load weight in whole Austin city is very significant, and couldn't predicted. so we have to prepare, other wise we will send"
   ]
  },
  {
   "cell_type": "markdown",
   "metadata": {},
   "source": [
    "### Conceptual Question"
   ]
  },
  {
   "cell_type": "markdown",
   "metadata": {},
   "source": [
    "1. what is the different between descriptive and inferential statistics?\n",
    "    - descriptive statistics is a statistic method that presenting data using graphs,numbers ,and tables\n",
    "    - inferential statistics is a statistics method that presenting data with the conclutions from the evidence of the samples retrieved from the population\n",
    "2. which central tendency metrices that appropriate for normal and not-normal distribution, what is the different?\n",
    "    - for normal distribution best to use **median or mean**\n",
    "    - for skewed distribution better use **mode or median**\n",
    "    - when the data is normaly distribute mostly it have mean = median = mode, but for skewed distribution mean != median, but the median is close to the mode rather mean to mode, but aproapriately use mode for extremely skewed distribution, and mode usually around the peak.\n",
    "3. which technique you choose for handling the outliers, explain!\n",
    "    - I choose to Trim the outliers, because it doesn't change the average much.\n",
    "4. what is the concept behind the central tendency, that we can use it for answering step no.7 ?\n",
    "    - the convidence interval value will gave the save point around the central tendency, when you choose the number around convidence interval value it gave the certainty for the future.\n",
    "5. which hypothesis testing method did you implement and explain it!\n",
    "    - I use**1 sample 1 tail**, because it has only 1 kind of data sample, and testing the which hypothesis is **greater or less** from them\n",
    "    - **ANOVA** testing , because I use **more than 2** group of samples, in this case I use data of each year from the **Load_time** "
   ]
  },
  {
   "cell_type": "markdown",
   "metadata": {},
   "source": [
    "### Reference\n",
    "- https://en.wikipedia.org/wiki/Materials_recovery_facility\n",
    "- https://www.greenmatters.com/p/what-is-commingled-recycling\n",
    "- https://www.austintexas.gov/treerecycling"
   ]
  },
  {
   "cell_type": "markdown",
   "metadata": {},
   "source": []
  }
 ],
 "metadata": {
  "kernelspec": {
   "display_name": "Python 3.9.12 ('base')",
   "language": "python",
   "name": "python3"
  },
  "language_info": {
   "codemirror_mode": {
    "name": "ipython",
    "version": 3
   },
   "file_extension": ".py",
   "mimetype": "text/x-python",
   "name": "python",
   "nbconvert_exporter": "python",
   "pygments_lexer": "ipython3",
   "version": "3.9.12"
  },
  "orig_nbformat": 4,
  "vscode": {
   "interpreter": {
    "hash": "3c49ca66e5c8d57ef998acbc4445fda8afa39543d611cccca4a6c099a23fcb0b"
   }
  }
 },
 "nbformat": 4,
 "nbformat_minor": 2
}
